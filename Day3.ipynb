{
 "cells": [
  {
   "cell_type": "markdown",
   "metadata": {},
   "source": [
    "# Imports"
   ]
  },
  {
   "cell_type": "code",
   "execution_count": 2,
   "metadata": {},
   "outputs": [],
   "source": [
    "import pandas as pd \n",
    "import polars as pl\n",
    "import numpy as np \n",
    "import time"
   ]
  },
  {
   "cell_type": "markdown",
   "metadata": {},
   "source": [
    "# Pandas Vs the World "
   ]
  },
  {
   "cell_type": "markdown",
   "metadata": {},
   "source": [
    "## Pandas Vs Polars"
   ]
  },
  {
   "cell_type": "code",
   "execution_count": 7,
   "metadata": {},
   "outputs": [
    {
     "name": "stdout",
     "output_type": "stream",
     "text": [
      "pandas: 0.17859196662902832\n",
      "polars: 0.11695313453674316\n",
      "polars is 1.5270387351005124 times faster than pandas for this operation\n"
     ]
    }
   ],
   "source": [
    "pd_df = pd.DataFrame({\n",
    "    'group' : np.random.randint(0,1000,10_000_000),\n",
    "    'value' : np.random.rand(10_000_000)\n",
    "})\n",
    "\n",
    "\n",
    "pl_df = pl.DataFrame(pd_df)\n",
    "\n",
    "start = time.time()\n",
    "pd_df.groupby('group').agg({'value':'sum'})\n",
    "pandas_time = time.time()-start\n",
    "print(f'pandas: {pandas_time}')\n",
    "\n",
    "start = time.time()\n",
    "pl_df.group_by('group').agg([pl.col('value').sum()])\n",
    "polars_time = time.time()-start\n",
    "print(f'polars: {polars_time}')\n",
    "\n",
    "print(f\"polars is {pandas_time/polars_time} times faster than pandas for this operation\")"
   ]
  },
  {
   "cell_type": "markdown",
   "metadata": {},
   "source": [
    "## Pandas Vs DuckDB (later cuz it's a db not a library)"
   ]
  },
  {
   "cell_type": "code",
   "execution_count": null,
   "metadata": {},
   "outputs": [],
   "source": []
  }
 ],
 "metadata": {
  "kernelspec": {
   "display_name": "Python 3",
   "language": "python",
   "name": "python3"
  },
  "language_info": {
   "codemirror_mode": {
    "name": "ipython",
    "version": 3
   },
   "file_extension": ".py",
   "mimetype": "text/x-python",
   "name": "python",
   "nbconvert_exporter": "python",
   "pygments_lexer": "ipython3",
   "version": "3.12.0"
  }
 },
 "nbformat": 4,
 "nbformat_minor": 2
}
