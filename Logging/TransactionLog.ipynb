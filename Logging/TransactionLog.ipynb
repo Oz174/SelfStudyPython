{
 "cells": [
  {
   "cell_type": "code",
   "execution_count": 1,
   "metadata": {},
   "outputs": [],
   "source": [
    "import logging"
   ]
  },
  {
   "cell_type": "code",
   "execution_count": 2,
   "metadata": {},
   "outputs": [
    {
     "name": "stderr",
     "output_type": "stream",
     "text": [
      "WARNING - Transaction is processing , do not exit\n",
      "CRITICAL - Transaction Sucess , commit\n",
      "CRITICAL - Transaction Failed, rollback\n",
      "WARNING - Closing transaction\n"
     ]
    }
   ],
   "source": [
    "class TransactionManager:\n",
    "    def __init__(self):\n",
    "        self.logger = logging.getLogger('TransactionManager')\n",
    "        self.logger.setLevel(logging.INFO)\n",
    "\n",
    "        # file handler \n",
    "        fh = logging.FileHandler('transaction.log')\n",
    "        fh.setLevel(logging.CRITICAL)\n",
    "\n",
    "        # console handler for warnings\n",
    "        ch = logging.StreamHandler()\n",
    "        ch.setLevel(logging.WARNING)\n",
    "\n",
    "        # formatter\n",
    "        formatter = logging.Formatter('%(levelname)s - %(message)s')\n",
    "        fh.setFormatter(formatter)\n",
    "        ch.setFormatter(formatter)\n",
    "\n",
    "        # add handlers to logger\n",
    "        self.logger.addHandler(fh)\n",
    "        self.logger.addHandler(ch)\n",
    "\n",
    "    def processing(self):\n",
    "        self.logger.warning('Transaction is processing , do not exit')\n",
    "\n",
    "    def commit(self):\n",
    "        self.logger.critical('Transaction Sucess , commit')\n",
    "\n",
    "    def rollback(self):\n",
    "        self.logger.critical('Transaction Failed, rollback')\n",
    "\n",
    "    def close(self):\n",
    "        self.logger.warning('Closing transaction')\n",
    "\n",
    "\n",
    "tm = TransactionManager()\n",
    "tm.processing()\n",
    "tm.commit()\n",
    "tm.rollback()\n",
    "tm.close()\n",
    "\n"
   ]
  },
  {
   "cell_type": "code",
   "execution_count": null,
   "metadata": {},
   "outputs": [],
   "source": []
  }
 ],
 "metadata": {
  "kernelspec": {
   "display_name": "Python 3",
   "language": "python",
   "name": "python3"
  },
  "language_info": {
   "codemirror_mode": {
    "name": "ipython",
    "version": 3
   },
   "file_extension": ".py",
   "mimetype": "text/x-python",
   "name": "python",
   "nbconvert_exporter": "python",
   "pygments_lexer": "ipython3",
   "version": "3.12.0"
  }
 },
 "nbformat": 4,
 "nbformat_minor": 2
}
