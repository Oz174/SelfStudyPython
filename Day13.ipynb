{
 "cells": [
  {
   "cell_type": "markdown",
   "metadata": {},
   "source": [
    "# Imports"
   ]
  },
  {
   "cell_type": "markdown",
   "metadata": {},
   "source": [
    "# Topics "
   ]
  },
  {
   "cell_type": "markdown",
   "metadata": {},
   "source": [
    "## send generator (advanced)"
   ]
  },
  {
   "cell_type": "markdown",
   "metadata": {},
   "source": [
    "The send() method resumes the generator execution at the point where the last yield occurred and sends a value back to the generator. The value sent to the generator becomes the result of the yield expression at which the generator was paused."
   ]
  },
  {
   "cell_type": "code",
   "execution_count": 1,
   "metadata": {},
   "outputs": [
    {
     "data": {
      "text/plain": [
       "(0, 5, 6)"
      ]
     },
     "execution_count": 1,
     "metadata": {},
     "output_type": "execute_result"
    }
   ],
   "source": [
    "def counter():\n",
    "    i = 0\n",
    "    while True:\n",
    "        received = yield i\n",
    "        if received is not None:\n",
    "            i = received\n",
    "        else:\n",
    "            i += 1\n",
    "\n",
    "# Creating a generator instance\n",
    "gen = counter()\n",
    "\n",
    "# Evaluating the output\n",
    "output1 = next(gen)  # This should output 0\n",
    "output2 = gen.send(5)  # This should output 5\n",
    "output3 = next(gen)  # This should output 6\n",
    "\n",
    "output1, output2, output3"
   ]
  },
  {
   "cell_type": "markdown",
   "metadata": {},
   "source": [
    "## throw generator (advanced)"
   ]
  },
  {
   "cell_type": "markdown",
   "metadata": {},
   "source": [
    "throw() is often used to signal unusual or error conditions to a generator from the outside. It's particularly useful in scenarios where the generator needs to handle exceptions that are dependent on external factors or events."
   ]
  },
  {
   "cell_type": "code",
   "execution_count": null,
   "metadata": {},
   "outputs": [],
   "source": [
    "import pandas as pd\n",
    "df = pd.read_csv('data.csv')"
   ]
  },
  {
   "cell_type": "code",
   "execution_count": null,
   "metadata": {},
   "outputs": [],
   "source": [
    "class FraudDetected(Exception):\n",
    "    pass\n",
    "\n",
    "def transaction_processor():\n",
    "    fraudulent_transactions = []  # List to store flagged transactions\n",
    "\n",
    "    while True:\n",
    "        try:\n",
    "            transaction = yield\n",
    "            # Process the transaction normally\n",
    "        except FraudDetected as e:\n",
    "            # Only print the fraud alert, no other output\n",
    "            print(f\"Fraud alert: {e}\")\n",
    "            fraudulent_transactions.append(transaction)  # Add to fraudulent transactions\n",
    "        except GeneratorExit:\n",
    "            return fraudulent_transactions  # Return the list when generator is closed\n",
    "\n",
    "# Create and initialize the generator\n",
    "processor = transaction_processor()\n",
    "next(processor)  # Start the generator\n",
    "\n",
    "# Process transactions and use throw() to simulate a fraud alert\n",
    "fraudulent_list = []\n",
    "try:\n",
    "    for _, row in df.iterrows():\n",
    "        transaction = row.to_dict()\n",
    "        if transaction['Amount'] > 2000:\n",
    "            # Simulate a fraud detection using throw()\n",
    "            processor.throw(FraudDetected, f\"Suspicious transaction detected: ${transaction['Amount']}\")\n",
    "        else:\n",
    "            processor.send(transaction)\n",
    "except StopIteration as e:\n",
    "    fraudulent_list = e.value  # Capture the list of fraudulent transactions\n",
    "\n",
    "# Close the generator\n",
    "processor.close()"
   ]
  },
  {
   "cell_type": "markdown",
   "metadata": {},
   "source": [
    "## close generator (advanced)"
   ]
  },
  {
   "cell_type": "markdown",
   "metadata": {},
   "source": [
    "The close() method is used to stop a generator before it has naturally exhausted all its items. When close() is called on a generator, it raises a GeneratorExit exception at the point where the generator was paused"
   ]
  },
  {
   "cell_type": "code",
   "execution_count": 2,
   "metadata": {},
   "outputs": [
    {
     "name": "stdout",
     "output_type": "stream",
     "text": [
      "Processing sensor data: {'temperature': 22, 'humidity': 45}\n",
      "Processing sensor data: {'temperature': 23, 'humidity': 50}\n",
      "Sensor monitoring stopped. Performing cleanup.\n"
     ]
    }
   ],
   "source": [
    "def sensor_data_monitor():\n",
    "    try:\n",
    "        while True:\n",
    "            sensor_data = yield\n",
    "            # Process sensor data\n",
    "            print(f\"Processing sensor data: {sensor_data}\")\n",
    "    except GeneratorExit:\n",
    "        print(\"Sensor monitoring stopped. Performing cleanup.\")\n",
    "        # Add any necessary cleanup actions here\n",
    "\n",
    "# Example Usage\n",
    "monitor = sensor_data_monitor()\n",
    "next(monitor)  # Start the generator\n",
    "\n",
    "# Simulate receiving data\n",
    "monitor.send({\"temperature\": 22, \"humidity\": 45})\n",
    "monitor.send({\"temperature\": 23, \"humidity\": 50})\n",
    "\n",
    "# Signal to stop monitoring\n",
    "monitor.close()  # Close the generator"
   ]
  }
 ],
 "metadata": {
  "kernelspec": {
   "display_name": "Python 3",
   "language": "python",
   "name": "python3"
  },
  "language_info": {
   "codemirror_mode": {
    "name": "ipython",
    "version": 3
   },
   "file_extension": ".py",
   "mimetype": "text/x-python",
   "name": "python",
   "nbconvert_exporter": "python",
   "pygments_lexer": "ipython3",
   "version": "3.12.0"
  }
 },
 "nbformat": 4,
 "nbformat_minor": 2
}
