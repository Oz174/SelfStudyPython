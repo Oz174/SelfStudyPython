{
 "cells": [
  {
   "cell_type": "markdown",
   "metadata": {},
   "source": [
    "# Imports"
   ]
  },
  {
   "cell_type": "code",
   "execution_count": 1,
   "metadata": {},
   "outputs": [],
   "source": [
    "import numpy as np"
   ]
  },
  {
   "cell_type": "markdown",
   "metadata": {},
   "source": [
    "# Topics"
   ]
  },
  {
   "cell_type": "code",
   "execution_count": 2,
   "metadata": {},
   "outputs": [
    {
     "name": "stdout",
     "output_type": "stream",
     "text": [
      "[0.5488135  0.71518937 0.60276338 0.54488318]\n",
      "[0.4236548  0.64589411 0.43758721 0.891773  ]\n",
      "[[0.96366276 0.38344152 0.79172504 0.52889492]\n",
      " [0.56804456 0.92559664 0.07103606 0.0871293 ]]\n",
      "[[0.0202184  0.83261985]\n",
      " [0.77815675 0.87001215]\n",
      " [0.97861834 0.79915856]\n",
      " [0.46147936 0.78052918]]\n"
     ]
    }
   ],
   "source": [
    "np.random.seed(0)\n",
    "a =  np.random.rand(4)\n",
    "b = np.random.rand(4)\n",
    "c = np.random.random((2,4))\n",
    "d = np.random.random((4,2))\n",
    "print(a)\n",
    "print(b)\n",
    "print(c)\n",
    "print(d)"
   ]
  },
  {
   "cell_type": "markdown",
   "metadata": {},
   "source": [
    "## np.vstack\n",
    "- Stack arrays in sequence vertically (row wise).\n",
    "- This is equivalent to concatenation along the first axis after 1-D arrays of shape (N,) have been reshaped to (1,N).\n"
   ]
  },
  {
   "cell_type": "code",
   "execution_count": 13,
   "metadata": {},
   "outputs": [
    {
     "data": {
      "text/plain": [
       "array([[0.5488135 , 0.71518937, 0.60276338, 0.54488318],\n",
       "       [0.4236548 , 0.64589411, 0.43758721, 0.891773  ]])"
      ]
     },
     "execution_count": 13,
     "metadata": {},
     "output_type": "execute_result"
    }
   ],
   "source": [
    "np.vstack((a,b))"
   ]
  },
  {
   "cell_type": "code",
   "execution_count": 25,
   "metadata": {},
   "outputs": [
    {
     "data": {
      "text/plain": [
       "array([0.5488135 , 0.71518937, 0.60276338, 0.54488318, 0.4236548 ,\n",
       "       0.64589411, 0.43758721, 0.891773  ])"
      ]
     },
     "execution_count": 25,
     "metadata": {},
     "output_type": "execute_result"
    }
   ],
   "source": [
    "np.concatenate((a,b), axis=0) # concatenate doesn't like vstack in 1D arrays"
   ]
  },
  {
   "cell_type": "code",
   "execution_count": 20,
   "metadata": {},
   "outputs": [
    {
     "data": {
      "text/plain": [
       "array([[0.96366276, 0.38344152, 0.79172504, 0.52889492],\n",
       "       [0.56804456, 0.92559664, 0.07103606, 0.0871293 ],\n",
       "       [0.0202184 , 0.77815675, 0.97861834, 0.46147936],\n",
       "       [0.83261985, 0.87001215, 0.79915856, 0.78052918]])"
      ]
     },
     "execution_count": 20,
     "metadata": {},
     "output_type": "execute_result"
    }
   ],
   "source": [
    "np.vstack((c,d.T))"
   ]
  },
  {
   "cell_type": "code",
   "execution_count": 23,
   "metadata": {},
   "outputs": [
    {
     "data": {
      "text/plain": [
       "array([[0.96366276, 0.38344152, 0.79172504, 0.52889492],\n",
       "       [0.56804456, 0.92559664, 0.07103606, 0.0871293 ],\n",
       "       [0.0202184 , 0.77815675, 0.97861834, 0.46147936],\n",
       "       [0.83261985, 0.87001215, 0.79915856, 0.78052918]])"
      ]
     },
     "execution_count": 23,
     "metadata": {},
     "output_type": "execute_result"
    }
   ],
   "source": [
    "np.concatenate((c,d.T),axis=0)"
   ]
  },
  {
   "cell_type": "code",
   "execution_count": 30,
   "metadata": {},
   "outputs": [
    {
     "data": {
      "text/plain": [
       "array([[0.96366276, 0.38344152, 0.79172504, 0.52889492],\n",
       "       [0.56804456, 0.92559664, 0.07103606, 0.0871293 ],\n",
       "       [0.5488135 , 0.71518937, 0.60276338, 0.54488318],\n",
       "       [0.4236548 , 0.64589411, 0.43758721, 0.891773  ],\n",
       "       [0.0202184 , 0.77815675, 0.97861834, 0.46147936],\n",
       "       [0.83261985, 0.87001215, 0.79915856, 0.78052918]])"
      ]
     },
     "execution_count": 30,
     "metadata": {},
     "output_type": "execute_result"
    }
   ],
   "source": [
    "np.vstack((c,a,b,d.T))"
   ]
  },
  {
   "cell_type": "markdown",
   "metadata": {},
   "source": [
    "## np.hstack\n",
    "- Stack arrays in sequence horizontally (column wise).\n",
    "- This is equivalent to concatenation along the second axis, except for 1-D arrays where it concatenates along the first axis."
   ]
  },
  {
   "cell_type": "code",
   "execution_count": 31,
   "metadata": {},
   "outputs": [
    {
     "data": {
      "text/plain": [
       "array([0.5488135 , 0.71518937, 0.60276338, 0.54488318, 0.4236548 ,\n",
       "       0.64589411, 0.43758721, 0.891773  ])"
      ]
     },
     "execution_count": 31,
     "metadata": {},
     "output_type": "execute_result"
    }
   ],
   "source": [
    "np.hstack((a,b)) # for 1-D arrays "
   ]
  },
  {
   "cell_type": "code",
   "execution_count": 32,
   "metadata": {},
   "outputs": [
    {
     "data": {
      "text/plain": [
       "array([0.5488135 , 0.71518937, 0.60276338, 0.54488318, 0.4236548 ,\n",
       "       0.64589411, 0.43758721, 0.891773  ])"
      ]
     },
     "execution_count": 32,
     "metadata": {},
     "output_type": "execute_result"
    }
   ],
   "source": [
    "np.concatenate((a,b)) #same as hstack "
   ]
  },
  {
   "cell_type": "code",
   "execution_count": 40,
   "metadata": {},
   "outputs": [
    {
     "data": {
      "text/plain": [
       "array([[0.5488135 ],\n",
       "       [0.71518937],\n",
       "       [0.60276338],\n",
       "       [0.54488318]])"
      ]
     },
     "execution_count": 40,
     "metadata": {},
     "output_type": "execute_result"
    }
   ],
   "source": [
    "a.reshape(-1,1) # convert to one column , n rows"
   ]
  },
  {
   "cell_type": "code",
   "execution_count": 35,
   "metadata": {},
   "outputs": [
    {
     "data": {
      "text/plain": [
       "array([[0.5488135 , 0.4236548 ],\n",
       "       [0.71518937, 0.64589411],\n",
       "       [0.60276338, 0.43758721],\n",
       "       [0.54488318, 0.891773  ]])"
      ]
     },
     "execution_count": 35,
     "metadata": {},
     "output_type": "execute_result"
    }
   ],
   "source": [
    "np.hstack((a.reshape(-1,1),b.reshape(-1,1)))"
   ]
  },
  {
   "cell_type": "code",
   "execution_count": 39,
   "metadata": {},
   "outputs": [
    {
     "data": {
      "text/plain": [
       "array([[0.5488135 , 0.4236548 ],\n",
       "       [0.71518937, 0.64589411],\n",
       "       [0.60276338, 0.43758721],\n",
       "       [0.54488318, 0.891773  ]])"
      ]
     },
     "execution_count": 39,
     "metadata": {},
     "output_type": "execute_result"
    }
   ],
   "source": [
    "np.concatenate((a.reshape(-1,1),b.reshape(-1,1)), axis=1)"
   ]
  },
  {
   "cell_type": "code",
   "execution_count": 38,
   "metadata": {},
   "outputs": [
    {
     "data": {
      "text/plain": [
       "array([[0.0202184 , 0.83261985, 0.96366276, 0.56804456],\n",
       "       [0.77815675, 0.87001215, 0.38344152, 0.92559664],\n",
       "       [0.97861834, 0.79915856, 0.79172504, 0.07103606],\n",
       "       [0.46147936, 0.78052918, 0.52889492, 0.0871293 ]])"
      ]
     },
     "execution_count": 38,
     "metadata": {},
     "output_type": "execute_result"
    }
   ],
   "source": [
    "np.hstack((d,c.T))"
   ]
  },
  {
   "cell_type": "markdown",
   "metadata": {},
   "source": [
    "## np.column_stack\n",
    "- Stack 1-D arrays as columns into a 2-D array.\n",
    "- Take a sequence of 1-D arrays and stack them as columns to make a single 2-D array.\n",
    "- 2-D arrays are stacked as-is, just like with hstack."
   ]
  },
  {
   "cell_type": "code",
   "execution_count": 41,
   "metadata": {},
   "outputs": [
    {
     "data": {
      "text/plain": [
       "array([[0.5488135 , 0.4236548 ],\n",
       "       [0.71518937, 0.64589411],\n",
       "       [0.60276338, 0.43758721],\n",
       "       [0.54488318, 0.891773  ]])"
      ]
     },
     "execution_count": 41,
     "metadata": {},
     "output_type": "execute_result"
    }
   ],
   "source": [
    "np.column_stack((a,b)) #=> no need for shape if they are 1D array with same length"
   ]
  },
  {
   "cell_type": "code",
   "execution_count": 55,
   "metadata": {},
   "outputs": [
    {
     "data": {
      "text/plain": [
       "array([[0.96366276, 0.56804456, 0.0202184 , 0.83261985],\n",
       "       [0.38344152, 0.92559664, 0.77815675, 0.87001215],\n",
       "       [0.79172504, 0.07103606, 0.97861834, 0.79915856],\n",
       "       [0.52889492, 0.0871293 , 0.46147936, 0.78052918]])"
      ]
     },
     "execution_count": 55,
     "metadata": {},
     "output_type": "execute_result"
    }
   ],
   "source": [
    "np.column_stack((c.T,d)) # => hstack like"
   ]
  },
  {
   "cell_type": "code",
   "execution_count": 49,
   "metadata": {},
   "outputs": [
    {
     "data": {
      "text/plain": [
       "array([[0.96366276, 0.0202184 ],\n",
       "       [0.38344152, 0.83261985],\n",
       "       [0.79172504, 0.77815675],\n",
       "       [0.52889492, 0.87001215],\n",
       "       [0.56804456, 0.97861834],\n",
       "       [0.92559664, 0.79915856],\n",
       "       [0.07103606, 0.46147936],\n",
       "       [0.0871293 , 0.78052918]])"
      ]
     },
     "execution_count": 49,
     "metadata": {},
     "output_type": "execute_result"
    }
   ],
   "source": [
    "np.column_stack((c.flatten(),d.flatten()))"
   ]
  },
  {
   "cell_type": "markdown",
   "metadata": {},
   "source": [
    "## np.vsplit\n",
    "- Split an array into multiple sub-arrays vertically (row-wise).\n",
    "- vsplit is equivalent to split with axis=0 (default), the array is always split along the first axis regardless of the array dimension.\n"
   ]
  },
  {
   "cell_type": "code",
   "execution_count": 59,
   "metadata": {},
   "outputs": [
    {
     "data": {
      "text/plain": [
       "[array([[0.96366276, 0.38344152, 0.79172504, 0.52889492],\n",
       "        [0.56804456, 0.92559664, 0.07103606, 0.0871293 ]]),\n",
       " array([[0.0202184 , 0.77815675, 0.97861834, 0.46147936],\n",
       "        [0.83261985, 0.87001215, 0.79915856, 0.78052918]]),\n",
       " array([[0.5488135 , 0.71518937, 0.60276338, 0.54488318],\n",
       "        [0.4236548 , 0.64589411, 0.43758721, 0.891773  ]])]"
      ]
     },
     "execution_count": 59,
     "metadata": {},
     "output_type": "execute_result"
    }
   ],
   "source": [
    "np.vsplit(np.vstack((c,d.T,a,b)) , 3)  #=> 3 is how many sub arrays you want to create , assert divisibility"
   ]
  },
  {
   "cell_type": "markdown",
   "metadata": {},
   "source": [
    "## np.hsplit\n",
    "- Split an array into multiple sub-arrays horizontally (column-wise).\n",
    "- hsplit is equivalent to split with axis=1, the array is always split along the second axis regardless of the array dimension."
   ]
  },
  {
   "cell_type": "code",
   "execution_count": 62,
   "metadata": {},
   "outputs": [
    {
     "data": {
      "text/plain": [
       "[array([[0.96366276],\n",
       "        [0.56804456],\n",
       "        [0.0202184 ],\n",
       "        [0.83261985],\n",
       "        [0.5488135 ],\n",
       "        [0.4236548 ]]),\n",
       " array([[0.38344152],\n",
       "        [0.92559664],\n",
       "        [0.77815675],\n",
       "        [0.87001215],\n",
       "        [0.71518937],\n",
       "        [0.64589411]]),\n",
       " array([[0.79172504],\n",
       "        [0.07103606],\n",
       "        [0.97861834],\n",
       "        [0.79915856],\n",
       "        [0.60276338],\n",
       "        [0.43758721]]),\n",
       " array([[0.52889492],\n",
       "        [0.0871293 ],\n",
       "        [0.46147936],\n",
       "        [0.78052918],\n",
       "        [0.54488318],\n",
       "        [0.891773  ]])]"
      ]
     },
     "execution_count": 62,
     "metadata": {},
     "output_type": "execute_result"
    }
   ],
   "source": [
    "np.hsplit(np.vstack((c,d.T,a,b)) , 4)  #=> 2 is how many sub arrays you want to create , assert divisibility"
   ]
  },
  {
   "cell_type": "markdown",
   "metadata": {},
   "source": [
    "## LDA vs PCA once more"
   ]
  },
  {
   "cell_type": "code",
   "execution_count": 87,
   "metadata": {},
   "outputs": [
    {
     "name": "stdout",
     "output_type": "stream",
     "text": [
      "PCA Results:\n",
      "Explained Variance Ratio: [0.89419783 0.06238309]\n",
      "PCA Components:\n",
      "[[-1.34506057e-01  8.81030751e-03 -9.90873604e-01]\n",
      " [-7.25836713e-02 -9.97361840e-01  9.84867217e-04]]\n"
     ]
    }
   ],
   "source": [
    "import numpy as np\n",
    "import pandas as pd\n",
    "from sklearn.decomposition import PCA\n",
    "from sklearn.discriminant_analysis import LinearDiscriminantAnalysis\n",
    "\n",
    "# Generate sample data\n",
    "np.random.seed(0)\n",
    "n_samples = 1000\n",
    "x = np.random.rand(n_samples)\n",
    "y = np.random.rand(n_samples)\n",
    "z = 2 * x + np.random.randn(n_samples)  # Linear relationship between x and z\n",
    "\n",
    "# Combine features into a single dataset\n",
    "data = np.column_stack((x, y, z))\n",
    "\n",
    "# Apply PCA\n",
    "pca = PCA(n_components=2)\n",
    "pca_result = pca.fit_transform(data)\n",
    "\n",
    "print(\"PCA Results:\")\n",
    "print(\"Explained Variance Ratio:\", pca.explained_variance_ratio_)\n",
    "print(\"PCA Components:\")\n",
    "print(pca.components_)\n",
    "\n",
    "# # Apply LDA\n",
    "# lda = LinearDiscriminantAnalysis(n_components=2)\n",
    "# lda_result = lda.fit_transform(data[:,:-1],data[:,-1:].ravel())  # Using x as the class labels for demonstration\n",
    " \n",
    "# print(\"\\nLDA Results:\")\n",
    "# print(\"Explained Variance Ratio:\", lda.explained_variance_ratio_)\n",
    "# print(\"LDA Components:\")\n",
    "# print(lda.scalings_)\n"
   ]
  },
  {
   "cell_type": "code",
   "execution_count": null,
   "metadata": {},
   "outputs": [],
   "source": []
  }
 ],
 "metadata": {
  "kernelspec": {
   "display_name": "Python 3",
   "language": "python",
   "name": "python3"
  },
  "language_info": {
   "codemirror_mode": {
    "name": "ipython",
    "version": 3
   },
   "file_extension": ".py",
   "mimetype": "text/x-python",
   "name": "python",
   "nbconvert_exporter": "python",
   "pygments_lexer": "ipython3",
   "version": "3.12.0"
  }
 },
 "nbformat": 4,
 "nbformat_minor": 2
}
