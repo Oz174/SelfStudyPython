{
 "cells": [
  {
   "cell_type": "markdown",
   "metadata": {},
   "source": [
    "# Import"
   ]
  },
  {
   "cell_type": "code",
   "execution_count": 1,
   "metadata": {},
   "outputs": [],
   "source": [
    "import pandas as pd"
   ]
  },
  {
   "cell_type": "markdown",
   "metadata": {},
   "source": [
    "# Topics"
   ]
  },
  {
   "cell_type": "markdown",
   "metadata": {},
   "source": [
    "## 3 ways to efficiently deal with reading large files"
   ]
  },
  {
   "cell_type": "markdown",
   "metadata": {},
   "source": [
    "### using generators "
   ]
  },
  {
   "cell_type": "code",
   "execution_count": 2,
   "metadata": {},
   "outputs": [
    {
     "name": "stdout",
     "output_type": "stream",
     "text": [
      "line1\n",
      "\n",
      "line2\n",
      "\n",
      "line3\n",
      "\n",
      "eof\n"
     ]
    }
   ],
   "source": [
    "def read_file_as_gen(file_object):\n",
    "    while True:\n",
    "        line = file_object.readline()\n",
    "        if not line:\n",
    "            break\n",
    "        yield line\n",
    "\n",
    "# testing the generator\n",
    "with open('./19- test.txt', 'r') as file:\n",
    "    gen = read_file_as_gen(file)\n",
    "    for line in gen:\n",
    "        print(line)"
   ]
  },
  {
   "cell_type": "markdown",
   "metadata": {},
   "source": [
    "### using certain chunk size (generator)"
   ]
  },
  {
   "cell_type": "code",
   "execution_count": 6,
   "metadata": {},
   "outputs": [
    {
     "name": "stdout",
     "output_type": "stream",
     "text": [
      "li\n",
      "ne\n",
      "1\n",
      "\n",
      "li\n",
      "ne\n",
      "2\n",
      "\n",
      "li\n",
      "ne\n",
      "3\n",
      "\n",
      "eo\n",
      "f\n"
     ]
    }
   ],
   "source": [
    "def read_with_chunk_size(file_object,chunk_size):\n",
    "    while True:\n",
    "        data = file_object.read(chunk_size)\n",
    "        if not data:\n",
    "            break\n",
    "        yield data\n",
    "\n",
    "# testing the generator\n",
    "with open('./19- test.txt', 'r') as file:\n",
    "    gen = read_with_chunk_size(file, 2)\n",
    "    for chunk in gen:\n",
    "        print(chunk)"
   ]
  },
  {
   "cell_type": "markdown",
   "metadata": {},
   "source": [
    "### using pandas"
   ]
  },
  {
   "cell_type": "code",
   "execution_count": null,
   "metadata": {},
   "outputs": [],
   "source": [
    "# chunk_size = 500 \n",
    "# chunks = []\n",
    "\n",
    "# for chunk in pd.read_csv('large_file.csv', chunksize=chunk_size):\n",
    "#     chunks.append(chunk)\n",
    "\n",
    "# df = pd.concat(chunks, axis=0)"
   ]
  }
 ],
 "metadata": {
  "kernelspec": {
   "display_name": "Python 3",
   "language": "python",
   "name": "python3"
  },
  "language_info": {
   "codemirror_mode": {
    "name": "ipython",
    "version": 3
   },
   "file_extension": ".py",
   "mimetype": "text/x-python",
   "name": "python",
   "nbconvert_exporter": "python",
   "pygments_lexer": "ipython3",
   "version": "3.12.0"
  }
 },
 "nbformat": 4,
 "nbformat_minor": 2
}
