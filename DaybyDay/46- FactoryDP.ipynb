{
 "cells": [
  {
   "cell_type": "code",
   "execution_count": 1,
   "metadata": {},
   "outputs": [
    {
     "name": "stdout",
     "output_type": "stream",
     "text": [
      "Reading CSV\n"
     ]
    }
   ],
   "source": [
    "from abc import ABC, abstractmethod\n",
    "import pandas as pd\n",
    "\n",
    "class FileReader(ABC):\n",
    "    @abstractmethod\n",
    "    def read(self, file_path):\n",
    "        pass\n",
    "\n",
    "class CSVReader(FileReader):\n",
    "    def read(self, file_path):\n",
    "        print(\"Reading CSV\")\n",
    "        return pd.read_csv(file_path)\n",
    "\n",
    "class JSONReader(FileReader):\n",
    "    def read(self, file_path):\n",
    "        print(\"Reading JSON\")\n",
    "        return pd.read_json(file_path)\n",
    "\n",
    "class FileReaderFactory:\n",
    "    def create_reader(self, file_extension):\n",
    "        if file_extension == '.csv':\n",
    "            return CSVReader()\n",
    "        elif file_extension == '.json':\n",
    "            return JSONReader()\n",
    "        else:\n",
    "            raise ValueError(\"Unsupported file format\")\n",
    "\n",
    "# Client usage\n",
    "factory = FileReaderFactory()\n",
    "file_path = 'Data.csv'\n",
    "reader = factory.create_reader(file_path[-4:])\n",
    "data = reader.read(file_path)"
   ]
  },
  {
   "cell_type": "markdown",
   "metadata": {},
   "source": [
    "1. Creation vs. Algorithm:\n",
    "Factory Pattern: Focuses on object creation, abstracting the process of obtaining the correct file reader instance based on file format.\n",
    "Strategy Pattern: Emphasizes interchangeable algorithms. While file reading involves algorithms, the primary concern is often object creation and management.\n",
    "2. Coupling:\n",
    "Factory Pattern: Decouples the client code from specific file reader implementations, promoting flexibility and extensibility.\n",
    "Strategy Pattern: While it can decouple algorithms, it might introduce tighter coupling between the client and the strategy interface.\n",
    "3. Contextual Considerations:\n",
    "In many cases, the file format is determined at runtime, making the Factory pattern a natural fit for dynamically creating the appropriate reader.\n",
    "If you need to frequently switch reading algorithms for the same file format based on runtime conditions, the Strategy pattern could be considered. However, this is less common in typical file reading scenarios."
   ]
  },
  {
   "cell_type": "markdown",
   "metadata": {},
   "source": [
    "When to Consider Strategy:\n",
    "If you have multiple ways to read the same file format based on different criteria (e.g., performance, memory usage), the Strategy pattern could be useful.\n",
    "If you need to dynamically change the reading algorithm without affecting the client code, the Strategy pattern offers flexibility.\n",
    "In conclusion, while the Strategy pattern is a valuable tool, the Factory pattern is generally a better fit for managing file reading in most scenarios due to its emphasis on object creation and decoupling.\n",
    "\n",
    "Would you like to explore a specific use case where you think the Strategy pattern might be more suitable?"
   ]
  },
  {
   "cell_type": "markdown",
   "metadata": {},
   "source": []
  }
 ],
 "metadata": {
  "kernelspec": {
   "display_name": "Python 3",
   "language": "python",
   "name": "python3"
  },
  "language_info": {
   "codemirror_mode": {
    "name": "ipython",
    "version": 3
   },
   "file_extension": ".py",
   "mimetype": "text/x-python",
   "name": "python",
   "nbconvert_exporter": "python",
   "pygments_lexer": "ipython3",
   "version": "3.12.0"
  }
 },
 "nbformat": 4,
 "nbformat_minor": 2
}
