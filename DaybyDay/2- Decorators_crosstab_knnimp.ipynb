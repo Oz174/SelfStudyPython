{
 "cells": [
  {
   "cell_type": "markdown",
   "metadata": {},
   "source": [
    "## Imports "
   ]
  },
  {
   "cell_type": "code",
   "execution_count": 1,
   "metadata": {},
   "outputs": [],
   "source": [
    "import time \n",
    "from functools import wraps\n",
    "import warnings"
   ]
  },
  {
   "cell_type": "markdown",
   "metadata": {},
   "source": [
    "# Topics in this notebook "
   ]
  },
  {
   "cell_type": "markdown",
   "metadata": {},
   "source": [
    "## Decorators "
   ]
  },
  {
   "cell_type": "code",
   "execution_count": 2,
   "metadata": {},
   "outputs": [],
   "source": [
    "def hello():\n",
    "    print(\"hello world\")\n",
    "\n",
    "def add(a, b):\n",
    "    return a + b\n",
    "\n",
    "def greet(name, message = \"Hello\"):\n",
    "    print(f\"{message} {name}\")\n",
    "\n",
    "def fibonaaci(n):\n",
    "    if n <= 1:\n",
    "        return n\n",
    "    return fibonaaci(n - 1) + fibonaaci(n - 2)\n",
    "\n",
    "def factorial(n):\n",
    "    if n == 0:\n",
    "        return 1\n",
    "    return n * factorial(n - 1)"
   ]
  },
  {
   "cell_type": "code",
   "execution_count": 3,
   "metadata": {},
   "outputs": [],
   "source": [
    "#basic decorator\n",
    "def measure_time(func):\n",
    "    def wrapper():\n",
    "        start = time.time()\n",
    "        func()\n",
    "        end = time.time()\n",
    "        print(\"Execution Time: \", end-start , \"seconds\")\n",
    "    return wrapper\n",
    "\n",
    "#decorator with arguments\n",
    "def timer(func):\n",
    "    @wraps(func)\n",
    "    def wrapper(*args, **kwargs):\n",
    "        start = time.time()\n",
    "        result = func(*args, **kwargs)\n",
    "        end = time.time()\n",
    "        print(f\"Execution time of {func.__name__}: {end - start} seconds\")\n",
    "        return result\n",
    "    return wrapper\n",
    "\n",
    "def debug(func):\n",
    "    @wraps(func)\n",
    "    def wrapper(*args, **kwargs):\n",
    "        print(f\"Calling {func.__name__} with args: {args} and kwargs: {kwargs}\")\n",
    "        result = func(*args, **kwargs)\n",
    "        print(f\"{func.__name__} returned: {result}\")\n",
    "        return result\n",
    "    return wrapper\n",
    "\n",
    "def memoize(func):\n",
    "    cache = {}\n",
    "    @wraps(func)\n",
    "    def wrapper(*args):\n",
    "        if args in cache:\n",
    "            return cache[args]\n",
    "        else:\n",
    "            result = func(*args)\n",
    "            cache[args] = result\n",
    "            return result\n",
    "    return wrapper\n",
    "\n",
    "\n",
    "\n",
    "def deprecated(func):\n",
    "    \"\"\"\n",
    "    A decorator that issues a warning when the decorated function is called,\n",
    "    indicating that the function is deprecated and may be removed in future versions.\n",
    "    \"\"\"\n",
    "    def wrapper(*args, **kwargs):\n",
    "        warnings.warn(f\"'{func.__name__}' is deprecated and may be removed in future releases.\", DeprecationWarning, stacklevel=2)\n",
    "        return func(*args, **kwargs)\n",
    "    return wrapper\n",
    "\n",
    "def retry(max_attempts, delay):\n",
    "    \"\"\"\n",
    "    A decorator that attempts to execute the decorated function up to a maximum number of attempts,\n",
    "    waiting for a specified delay between attempts, in case of exceptions.\n",
    "    \"\"\"\n",
    "    def decorator(func):\n",
    "        def wrapper(*args, **kwargs):\n",
    "            for attempt in range(max_attempts):\n",
    "                try:\n",
    "                    return func(*args, **kwargs)\n",
    "                except Exception as e:\n",
    "                    print(f\"Attempt {attempt + 1} of {max_attempts} failed. Retrying in {delay} seconds...\")\n",
    "                    time.sleep(delay)\n",
    "            raise Exception(f\"Failed after {max_attempts} attempts.\")\n",
    "        return wrapper\n",
    "    return decorator\n",
    "\n",
    "def valid_output(output): pass\n",
    "\n",
    "def validate_output(func):\n",
    "    \"\"\"\n",
    "    A decorator that checks the validity of a function's output. If the output does not meet\n",
    "    predefined criteria, it raises an error, ensuring that only valid results are processed further.\n",
    "    \"\"\"\n",
    "    def wrapper(*args, **kwargs):\n",
    "        output = func(*args, **kwargs)  # Execute the function\n",
    "        if valid_output(output):  # Check if the output is valid\n",
    "            return output  # Return valid output\n",
    "        else:\n",
    "            raise ValueError(\"Output validation failed. Review your function's logic.\")\n",
    "\n",
    "    return wrapper\n",
    "\n",
    "def log_results(func):\n",
    "    \"\"\"\n",
    "    A decorator that captures and logs the result of the decorated function's execution.\n",
    "    It appends the function name and its result to a log file, aiding in result tracking\n",
    "    and analysis for debugging or monitoring purposes.\n",
    "    \"\"\"\n",
    "    def wrapper(*args, **kwargs):\n",
    "        result = func(*args, **kwargs)  # Execute the function and capture the result\n",
    "        with open(\"results.log\", \"a\") as log_file:  # Open the log file in append mode\n",
    "            log_file.write(f\"Function {func.__name__} - Result: {result}\\n\")  # Log the result\n",
    "        return result  # Return the original result\n",
    "\n",
    "    return wrapper\n",
    "\n",
    "def suppress_errors(func):\n",
    "    \"\"\"\n",
    "    A decorator designed to catch and report any exceptions that occur during the execution\n",
    "    of the decorated function, preventing them from halting the program. Instead of stopping\n",
    "    execution, it logs the error and returns None.\n",
    "    \"\"\"\n",
    "    def wrapper(*args, **kwargs):\n",
    "        try:\n",
    "            return func(*args, **kwargs)\n",
    "        except Exception as error:\n",
    "            print(f\"An error occurred in {func.__name__}: {error}\")\n",
    "            return None  # Return None to indicate an error was handled\n",
    "\n",
    "    return wrapper"
   ]
  },
  {
   "cell_type": "code",
   "execution_count": 4,
   "metadata": {},
   "outputs": [],
   "source": [
    "#let's apply decorators\n",
    "\n",
    "@timer\n",
    "def hello():\n",
    "    print(\"hello world\")\n",
    "\n",
    "@debug \n",
    "def greet(name, message = \"Hello\"):\n",
    "    print(f\"{message} {name}\")\n",
    "\n",
    "@debug \n",
    "def add(a, b):\n",
    "    return a + b\n",
    "\n",
    "@timer\n",
    "def fibonaaci(n):\n",
    "    if n <= 1:\n",
    "        return n\n",
    "    return fibonaaci(n - 1) + fibonaaci(n - 2)\n",
    "\n",
    "@timer\n",
    "def factorial(n):\n",
    "    if n == 0:\n",
    "        return 1\n",
    "    return n * factorial(n - 1)\n",
    "\n",
    "\n"
   ]
  },
  {
   "cell_type": "code",
   "execution_count": 5,
   "metadata": {},
   "outputs": [
    {
     "data": {
      "text/plain": [
       "'Hello Alice!'"
      ]
     },
     "execution_count": 5,
     "metadata": {},
     "output_type": "execute_result"
    }
   ],
   "source": [
    "def add_exclamation(func):\n",
    "    @wraps(func)\n",
    "    def wrapper(*args, **kwargs):\n",
    "        result = func(*args, **kwargs)\n",
    "        return result + \"!\"\n",
    "    return wrapper\n",
    "\n",
    "@add_exclamation\n",
    "def greet(name):\n",
    "    return f\"Hello {name}\"\n",
    "\n",
    "greet(\"Alice\")"
   ]
  },
  {
   "cell_type": "code",
   "execution_count": 6,
   "metadata": {},
   "outputs": [
    {
     "name": "stdout",
     "output_type": "stream",
     "text": [
      "hello world\n",
      "Execution time of hello: 0.0 seconds\n"
     ]
    }
   ],
   "source": [
    "hello()"
   ]
  },
  {
   "cell_type": "code",
   "execution_count": 7,
   "metadata": {},
   "outputs": [
    {
     "name": "stdout",
     "output_type": "stream",
     "text": [
      "Calling add with args: (2, 3) and kwargs: {}\n",
      "add returned: 5\n"
     ]
    },
    {
     "data": {
      "text/plain": [
       "5"
      ]
     },
     "execution_count": 7,
     "metadata": {},
     "output_type": "execute_result"
    }
   ],
   "source": [
    "greet('Alice')\n",
    "add(2, 3)"
   ]
  },
  {
   "cell_type": "code",
   "execution_count": 8,
   "metadata": {},
   "outputs": [],
   "source": [
    "@memoize\n",
    "def fibonaaci(n):\n",
    "    if n <= 1:\n",
    "        return n\n",
    "    return fibonaaci(n - 1) + fibonaaci(n - 2)"
   ]
  },
  {
   "cell_type": "code",
   "execution_count": 9,
   "metadata": {},
   "outputs": [
    {
     "name": "stdout",
     "output_type": "stream",
     "text": [
      "CPU times: total: 0 ns\n",
      "Wall time: 0 ns\n"
     ]
    },
    {
     "data": {
      "text/plain": [
       "55"
      ]
     },
     "execution_count": 9,
     "metadata": {},
     "output_type": "execute_result"
    }
   ],
   "source": [
    "%%time\n",
    "fibonaaci(10)"
   ]
  },
  {
   "cell_type": "code",
   "execution_count": 10,
   "metadata": {},
   "outputs": [
    {
     "data": {
      "text/plain": [
       "'Hello Alice'"
      ]
     },
     "execution_count": 10,
     "metadata": {},
     "output_type": "execute_result"
    }
   ],
   "source": [
    "# reverse decorator , we can remove the decorator from the function using __wrapped__ attribute\n",
    "greet.__wrapped__('Alice')"
   ]
  },
  {
   "cell_type": "markdown",
   "metadata": {},
   "source": [
    "## Property decorator\n",
    "\n",
    "property decorator allows us to define a method but we can access it like an attribute.\n"
   ]
  },
  {
   "cell_type": "code",
   "execution_count": 1,
   "metadata": {},
   "outputs": [
    {
     "name": "stdout",
     "output_type": "stream",
     "text": [
      "John\n",
      "Jane\n",
      "Name must be a string.\n"
     ]
    }
   ],
   "source": [
    "class Person:\n",
    "    def __init__(self, name):\n",
    "        self._name = name\n",
    "\n",
    "    @property\n",
    "    def name(self):\n",
    "        return self._name\n",
    "\n",
    "    @name.setter\n",
    "    def name(self, value):\n",
    "        if not isinstance(value, str):\n",
    "            raise TypeError('Name must be a string.')\n",
    "        self._name = value\n",
    "\n",
    "p = Person('John')\n",
    "print(p.name)  # Output: John\n",
    "\n",
    "p.name = 'Jane'  # This will call the setter method\n",
    "print(p.name)  # Output: Jane\n",
    "\n",
    "try:\n",
    "    p.name = 123  # This will raise a TypeError\n",
    "except TypeError as e:\n",
    "    print(e)  # Output: Name must be a string."
   ]
  },
  {
   "cell_type": "code",
   "execution_count": 2,
   "metadata": {},
   "outputs": [
    {
     "name": "stdout",
     "output_type": "stream",
     "text": [
      "Deleting..\n"
     ]
    },
    {
     "ename": "AttributeError",
     "evalue": "'Student' object has no attribute '_Student__name'",
     "output_type": "error",
     "traceback": [
      "\u001b[1;31m---------------------------------------------------------------------------\u001b[0m",
      "\u001b[1;31mAttributeError\u001b[0m                            Traceback (most recent call last)",
      "Cell \u001b[1;32mIn[2], line 20\u001b[0m\n\u001b[0;32m     18\u001b[0m std \u001b[38;5;241m=\u001b[39m Student(\u001b[38;5;124m'\u001b[39m\u001b[38;5;124mSteve\u001b[39m\u001b[38;5;124m'\u001b[39m)\n\u001b[0;32m     19\u001b[0m \u001b[38;5;28;01mdel\u001b[39;00m std\u001b[38;5;241m.\u001b[39mname\n\u001b[1;32m---> 20\u001b[0m \u001b[38;5;28mprint\u001b[39m(\u001b[43mstd\u001b[49m\u001b[38;5;241;43m.\u001b[39;49m\u001b[43mname\u001b[49m)  \u001b[38;5;66;03m#AttributeError\u001b[39;00m\n",
      "Cell \u001b[1;32mIn[2], line 7\u001b[0m, in \u001b[0;36mStudent.name\u001b[1;34m(self)\u001b[0m\n\u001b[0;32m      5\u001b[0m \u001b[38;5;129m@property\u001b[39m\n\u001b[0;32m      6\u001b[0m \u001b[38;5;28;01mdef\u001b[39;00m \u001b[38;5;21mname\u001b[39m(\u001b[38;5;28mself\u001b[39m):\n\u001b[1;32m----> 7\u001b[0m     \u001b[38;5;28;01mreturn\u001b[39;00m \u001b[38;5;28;43mself\u001b[39;49m\u001b[38;5;241;43m.\u001b[39;49m\u001b[43m__name\u001b[49m\n",
      "\u001b[1;31mAttributeError\u001b[0m: 'Student' object has no attribute '_Student__name'"
     ]
    }
   ],
   "source": [
    "class Student:\n",
    "    def __init__(self, name):\n",
    "        self.__name = name\n",
    "\n",
    "    @property\n",
    "    def name(self):\n",
    "        return self.__name\n",
    "    \n",
    "    @name.setter\n",
    "    def name(self, value):\n",
    "        self.__name=value\n",
    "    \n",
    "    @name.deleter   #property-name.deleter decorator\n",
    "    def name(self):\n",
    "        print('Deleting..')\n",
    "        del self.__name\n",
    "\n",
    "std = Student('Steve')\n",
    "del std.name\n",
    "print(std.name)  #AttributeError"
   ]
  },
  {
   "cell_type": "markdown",
   "metadata": {},
   "source": [
    "## at Vs loc in Pandas"
   ]
  },
  {
   "cell_type": "code",
   "execution_count": 7,
   "metadata": {},
   "outputs": [
    {
     "data": {
      "text/html": [
       "<div>\n",
       "<style scoped>\n",
       "    .dataframe tbody tr th:only-of-type {\n",
       "        vertical-align: middle;\n",
       "    }\n",
       "\n",
       "    .dataframe tbody tr th {\n",
       "        vertical-align: top;\n",
       "    }\n",
       "\n",
       "    .dataframe thead th {\n",
       "        text-align: right;\n",
       "    }\n",
       "</style>\n",
       "<table border=\"1\" class=\"dataframe\">\n",
       "  <thead>\n",
       "    <tr style=\"text-align: right;\">\n",
       "      <th></th>\n",
       "      <th>a</th>\n",
       "      <th>b</th>\n",
       "    </tr>\n",
       "  </thead>\n",
       "  <tbody>\n",
       "    <tr>\n",
       "      <th>0</th>\n",
       "      <td>1</td>\n",
       "      <td>8</td>\n",
       "    </tr>\n",
       "    <tr>\n",
       "      <th>1</th>\n",
       "      <td>9</td>\n",
       "      <td>2</td>\n",
       "    </tr>\n",
       "    <tr>\n",
       "      <th>2</th>\n",
       "      <td>4</td>\n",
       "      <td>9</td>\n",
       "    </tr>\n",
       "    <tr>\n",
       "      <th>3</th>\n",
       "      <td>2</td>\n",
       "      <td>2</td>\n",
       "    </tr>\n",
       "    <tr>\n",
       "      <th>4</th>\n",
       "      <td>2</td>\n",
       "      <td>7</td>\n",
       "    </tr>\n",
       "  </tbody>\n",
       "</table>\n",
       "</div>"
      ],
      "text/plain": [
       "   a  b\n",
       "0  1  8\n",
       "1  9  2\n",
       "2  4  9\n",
       "3  2  2\n",
       "4  2  7"
      ]
     },
     "execution_count": 7,
     "metadata": {},
     "output_type": "execute_result"
    }
   ],
   "source": [
    "import pandas as pd\n",
    "import numpy as np\n",
    "\n",
    "# generate an array of size 5 of ints\n",
    "df = pd.DataFrame(np.random.randint(0, 10, size=(10**4, 2)), columns=list('ab'))\n",
    "df.head()"
   ]
  },
  {
   "cell_type": "code",
   "execution_count": 6,
   "metadata": {},
   "outputs": [
    {
     "name": "stdout",
     "output_type": "stream",
     "text": [
      "CPU times: total: 0 ns\n",
      "Wall time: 631 µs\n"
     ]
    }
   ],
   "source": [
    "%%time\n",
    "df['c'] = df['a'] + df['b']"
   ]
  },
  {
   "cell_type": "code",
   "execution_count": 8,
   "metadata": {},
   "outputs": [
    {
     "name": "stdout",
     "output_type": "stream",
     "text": [
      "160 µs ± 27.4 µs per loop (mean ± std. dev. of 7 runs, 1,000 loops each)\n"
     ]
    }
   ],
   "source": [
    "%%timeit\n",
    "df['c'] = df['a'] + df['b']"
   ]
  },
  {
   "cell_type": "markdown",
   "metadata": {},
   "source": [
    "- *at , iat for scalar access and assignment*\n",
    "- *loc, iloc for slicing and indexing*"
   ]
  },
  {
   "cell_type": "code",
   "execution_count": 12,
   "metadata": {},
   "outputs": [
    {
     "name": "stdout",
     "output_type": "stream",
     "text": [
      "2\n",
      "2\n",
      "Not valid Operation\n"
     ]
    },
    {
     "data": {
      "text/plain": [
       "0    2\n",
       "1    9\n",
       "2    8\n",
       "3    4\n",
       "Name: a, dtype: int32"
      ]
     },
     "execution_count": 12,
     "metadata": {},
     "output_type": "execute_result"
    }
   ],
   "source": [
    "print(df.at[0, 'a'])\n",
    "print(df.iat[0,0])\n",
    "\n",
    "try:\n",
    "    df.at[:3,'a']\n",
    "except Exception as e:\n",
    "    print(\"Not valid Operation\")\n",
    "\n",
    "df.loc[0:3, 'a']"
   ]
  },
  {
   "cell_type": "code",
   "execution_count": 9,
   "metadata": {},
   "outputs": [
    {
     "name": "stdout",
     "output_type": "stream",
     "text": [
      "CPU times: total: 328 ms\n",
      "Wall time: 581 ms\n"
     ]
    }
   ],
   "source": [
    "%%time\n",
    "for index , row in df.iterrows():\n",
    "    df.at[index, 'd'] = row['a'] + row['b']"
   ]
  },
  {
   "cell_type": "code",
   "execution_count": 10,
   "metadata": {},
   "outputs": [
    {
     "name": "stdout",
     "output_type": "stream",
     "text": [
      "1.66 s ± 74.7 ms per loop (mean ± std. dev. of 7 runs, 1 loop each)\n"
     ]
    }
   ],
   "source": [
    "%%timeit\n",
    "for index , row in df.iterrows():\n",
    "    df.loc[index, 'e'] = row['a'] - row['b']"
   ]
  },
  {
   "cell_type": "markdown",
   "metadata": {},
   "source": [
    "## Using pipe from toolz"
   ]
  },
  {
   "cell_type": "code",
   "execution_count": 16,
   "metadata": {},
   "outputs": [
    {
     "name": "stdout",
     "output_type": "stream",
     "text": [
      "32.5\n"
     ]
    }
   ],
   "source": [
    "numbers = [1, 2, 3, 4, 5, 6, 7, 8, 9, 10]\n",
    "# 1. filter out odd numbers \n",
    "# 2. multiply each number by 10\n",
    "# 3. add 5 to each number\n",
    "# 4. calculate the average\n",
    "average = sum(map(lambda n: n + 5, map(lambda n: n * 10, filter(lambda n: n % 2 == 0, numbers)))) / len(numbers)\n",
    "print(average)"
   ]
  },
  {
   "cell_type": "code",
   "execution_count": 11,
   "metadata": {},
   "outputs": [],
   "source": [
    "from toolz import pipe\n",
    "from numpy import random"
   ]
  },
  {
   "cell_type": "code",
   "execution_count": 12,
   "metadata": {},
   "outputs": [
    {
     "name": "stdout",
     "output_type": "stream",
     "text": [
      "32.5\n"
     ]
    }
   ],
   "source": [
    "numbers = [1, 2, 3, 4, 5, 6, 7, 8, 9, 10]\n",
    "\n",
    "## wrong code\n",
    "# average = pipe(numbers, \n",
    "               #filter(lambda n: n % 2 == 0), \n",
    "               #map(lambda n: n * 10), \n",
    "               #map(lambda n: n + 5), \n",
    "               #lambda x: sum(x) / len(x))\n",
    "#print(average)\n",
    "\n",
    "average = pipe(numbers,\n",
    "                lambda x: filter(lambda n: n % 2 == 0, x),\n",
    "                lambda x: map(lambda n: n * 10, x),\n",
    "                lambda x: map(lambda n: n + 5, x),\n",
    "                lambda x: sum(x) / len(numbers))\n",
    "print(average)"
   ]
  },
  {
   "cell_type": "code",
   "execution_count": 20,
   "metadata": {},
   "outputs": [
    {
     "data": {
      "text/plain": [
       "[90, 60, 30]"
      ]
     },
     "execution_count": 20,
     "metadata": {},
     "output_type": "execute_result"
    }
   ],
   "source": [
    "numbers = [1, 2, 3, 4, 5, 6, 7, 8, 9, 10]\n",
    "my_pipe = pipe(numbers,\n",
    "               lambda x: filter(lambda n : n%3==0, x),\n",
    "               lambda x: map(lambda n : n*10, x),\n",
    "                lambda x: reversed(list(x)),\n",
    ")\n",
    "\n",
    "list(my_pipe)"
   ]
  },
  {
   "cell_type": "code",
   "execution_count": 25,
   "metadata": {},
   "outputs": [],
   "source": [
    "city_list = [\"New York\", \"Manchester\", \"California\", \"Munich\", \"Bombay\", \n",
    "             \"Sydeny\", \"London\", \"Moscow\", \"Dubai\", \"Tokyo\"]\n",
    "\n",
    "job_list = [\"Software Development Engineer\", \"Research Engineer\", \n",
    "            \"Test Engineer\", \"Software Development Engineer-II\", \n",
    "            \"Python Developer\", \"Back End Developer\", \n",
    "            \"Front End Developer\", \"Data Scientist\", \n",
    "            \"IOS Developer\", \"Android Developer\"]\n",
    "\n",
    "cmp_list = [\"Amazon\", \"Google\", \"Infosys\", \"Mastercard\", \"Microsoft\", \n",
    "            \"Uber\", \"IBM\", \"Apple\", \"Wipro\", \"Cognizant\"]\n",
    "\n",
    "data = []\n",
    "for i in range(1000):\n",
    "  \n",
    "    company = random.choice(cmp_list)\n",
    "    job = random.choice(job_list)\n",
    "    city = random.choice(city_list)\n",
    "    salary = int(round(np.random.rand(), 3)*10**6)\n",
    "    employment = random.choices([\"Full Time\", \"Intern\"], weights=(80, 20))[0]\n",
    "    rating = round((np.random.rand()*5), 1)\n",
    "    \n",
    "    data.append([company, job, city, salary, employment, rating])\n",
    "    \n",
    "data = pd.DataFrame(data, columns=[\"Company Name\", \"Employee Job Title\",\n",
    "                                   \"Employee Work Location\",  \"Employee Salary\", \n",
    "                                   \"Employment Status\", \"Employee Rating\"])"
   ]
  },
  {
   "cell_type": "markdown",
   "metadata": {},
   "source": [
    "## One-liners in Pandas"
   ]
  },
  {
   "cell_type": "markdown",
   "metadata": {},
   "source": [
    "#### nlargest and nsmallest\n",
    "*When duplicate values exist, we need to specify which particular row(s) we want in the final output. This is done using the keep argument that can take the following values:*\n",
    "\n",
    "- keep = \"first\": prioritizes the first occurrence.\n",
    "- keep = \"last\": prioritizes the last occurrence.\n",
    "- keep = \"all\": Does not drop any duplicates, even if it means selecting more than n items (like in the image above)."
   ]
  },
  {
   "cell_type": "code",
   "execution_count": 28,
   "metadata": {},
   "outputs": [
    {
     "data": {
      "text/html": [
       "<div>\n",
       "<style scoped>\n",
       "    .dataframe tbody tr th:only-of-type {\n",
       "        vertical-align: middle;\n",
       "    }\n",
       "\n",
       "    .dataframe tbody tr th {\n",
       "        vertical-align: top;\n",
       "    }\n",
       "\n",
       "    .dataframe thead th {\n",
       "        text-align: right;\n",
       "    }\n",
       "</style>\n",
       "<table border=\"1\" class=\"dataframe\">\n",
       "  <thead>\n",
       "    <tr style=\"text-align: right;\">\n",
       "      <th></th>\n",
       "      <th>Company Name</th>\n",
       "      <th>Employee Job Title</th>\n",
       "      <th>Employee Work Location</th>\n",
       "      <th>Employee Salary</th>\n",
       "      <th>Employment Status</th>\n",
       "      <th>Employee Rating</th>\n",
       "    </tr>\n",
       "  </thead>\n",
       "  <tbody>\n",
       "    <tr>\n",
       "      <th>763</th>\n",
       "      <td>Apple</td>\n",
       "      <td>Research Engineer</td>\n",
       "      <td>Bombay</td>\n",
       "      <td>999000</td>\n",
       "      <td>Full Time</td>\n",
       "      <td>0.3</td>\n",
       "    </tr>\n",
       "    <tr>\n",
       "      <th>831</th>\n",
       "      <td>Wipro</td>\n",
       "      <td>Test Engineer</td>\n",
       "      <td>Tokyo</td>\n",
       "      <td>997000</td>\n",
       "      <td>Intern</td>\n",
       "      <td>1.7</td>\n",
       "    </tr>\n",
       "    <tr>\n",
       "      <th>141</th>\n",
       "      <td>Cognizant</td>\n",
       "      <td>Data Scientist</td>\n",
       "      <td>Moscow</td>\n",
       "      <td>996000</td>\n",
       "      <td>Intern</td>\n",
       "      <td>0.9</td>\n",
       "    </tr>\n",
       "    <tr>\n",
       "      <th>42</th>\n",
       "      <td>Wipro</td>\n",
       "      <td>Test Engineer</td>\n",
       "      <td>Moscow</td>\n",
       "      <td>995000</td>\n",
       "      <td>Intern</td>\n",
       "      <td>0.3</td>\n",
       "    </tr>\n",
       "    <tr>\n",
       "      <th>493</th>\n",
       "      <td>Google</td>\n",
       "      <td>Data Scientist</td>\n",
       "      <td>Tokyo</td>\n",
       "      <td>995000</td>\n",
       "      <td>Full Time</td>\n",
       "      <td>1.0</td>\n",
       "    </tr>\n",
       "    <tr>\n",
       "      <th>244</th>\n",
       "      <td>Infosys</td>\n",
       "      <td>Test Engineer</td>\n",
       "      <td>Tokyo</td>\n",
       "      <td>994000</td>\n",
       "      <td>Intern</td>\n",
       "      <td>0.9</td>\n",
       "    </tr>\n",
       "    <tr>\n",
       "      <th>539</th>\n",
       "      <td>Mastercard</td>\n",
       "      <td>Back End Developer</td>\n",
       "      <td>California</td>\n",
       "      <td>994000</td>\n",
       "      <td>Intern</td>\n",
       "      <td>2.1</td>\n",
       "    </tr>\n",
       "    <tr>\n",
       "      <th>473</th>\n",
       "      <td>Wipro</td>\n",
       "      <td>Data Scientist</td>\n",
       "      <td>Manchester</td>\n",
       "      <td>992000</td>\n",
       "      <td>Full Time</td>\n",
       "      <td>4.8</td>\n",
       "    </tr>\n",
       "    <tr>\n",
       "      <th>262</th>\n",
       "      <td>Microsoft</td>\n",
       "      <td>Research Engineer</td>\n",
       "      <td>Dubai</td>\n",
       "      <td>987000</td>\n",
       "      <td>Full Time</td>\n",
       "      <td>5.0</td>\n",
       "    </tr>\n",
       "    <tr>\n",
       "      <th>927</th>\n",
       "      <td>Microsoft</td>\n",
       "      <td>Test Engineer</td>\n",
       "      <td>Dubai</td>\n",
       "      <td>987000</td>\n",
       "      <td>Full Time</td>\n",
       "      <td>2.9</td>\n",
       "    </tr>\n",
       "  </tbody>\n",
       "</table>\n",
       "</div>"
      ],
      "text/plain": [
       "    Company Name  Employee Job Title Employee Work Location  Employee Salary  \\\n",
       "763        Apple   Research Engineer                 Bombay           999000   \n",
       "831        Wipro       Test Engineer                  Tokyo           997000   \n",
       "141    Cognizant      Data Scientist                 Moscow           996000   \n",
       "42         Wipro       Test Engineer                 Moscow           995000   \n",
       "493       Google      Data Scientist                  Tokyo           995000   \n",
       "244      Infosys       Test Engineer                  Tokyo           994000   \n",
       "539   Mastercard  Back End Developer             California           994000   \n",
       "473        Wipro      Data Scientist             Manchester           992000   \n",
       "262    Microsoft   Research Engineer                  Dubai           987000   \n",
       "927    Microsoft       Test Engineer                  Dubai           987000   \n",
       "\n",
       "    Employment Status  Employee Rating  \n",
       "763         Full Time              0.3  \n",
       "831            Intern              1.7  \n",
       "141            Intern              0.9  \n",
       "42             Intern              0.3  \n",
       "493         Full Time              1.0  \n",
       "244            Intern              0.9  \n",
       "539            Intern              2.1  \n",
       "473         Full Time              4.8  \n",
       "262         Full Time              5.0  \n",
       "927         Full Time              2.9  "
      ]
     },
     "execution_count": 28,
     "metadata": {},
     "output_type": "execute_result"
    }
   ],
   "source": [
    "# nlargest\n",
    "data.nlargest(10, \"Employee Salary\" , keep='first')\n",
    "#=> nlargest(n, column_name , keep='first')"
   ]
  },
  {
   "cell_type": "markdown",
   "metadata": {},
   "source": [
    "### Cross-Tabulation\n",
    "*Crosstab allows you to compute a cross-tabulation of two (or more) columns/series and returns a frequency of each combination by default*\n",
    "*Co-occurence of two columns*\n",
    "\n"
   ]
  },
  {
   "cell_type": "code",
   "execution_count": 30,
   "metadata": {},
   "outputs": [],
   "source": [
    "import seaborn as sns\n",
    "import matplotlib.pyplot as plt"
   ]
  },
  {
   "cell_type": "code",
   "execution_count": 31,
   "metadata": {},
   "outputs": [
    {
     "data": {
      "text/plain": [
       "<Axes: xlabel='Employee Work Location', ylabel='Company Name'>"
      ]
     },
     "execution_count": 31,
     "metadata": {},
     "output_type": "execute_result"
    },
    {
     "data": {
      "image/png": "[encoded data removed]",
      "text/plain": [
       "<Figure size 640x480 with 2 Axes>"
      ]
     },
     "metadata": {},
     "output_type": "display_data"
    }
   ],
   "source": [
    "result = pd.crosstab(data[\"Company Name\"], data[\"Employee Work Location\"])\n",
    "sns.heatmap(result, annot=True, fmt=\"d\", cmap=\"YlGnBu\")"
   ]
  },
  {
   "cell_type": "code",
   "execution_count": 32,
   "metadata": {},
   "outputs": [
    {
     "name": "stderr",
     "output_type": "stream",
     "text": [
      "C:\\Users\\Oreo\\AppData\\Local\\Temp\\ipykernel_172\\2660699675.py:1: FutureWarning: The provided callable <function mean at 0x0000014DF52CFEC0> is currently using DataFrameGroupBy.mean. In a future version of pandas, the provided callable will be used directly. To keep current behavior pass the string \"mean\" instead.\n",
      "  result_crosstab = pd.crosstab(index = data[\"Company Name\"],\n"
     ]
    },
    {
     "data": {
      "text/plain": [
       "<Axes: xlabel='Employment Status', ylabel='Company Name'>"
      ]
     },
     "execution_count": 32,
     "metadata": {},
     "output_type": "execute_result"
    },
    {
     "data": {
      "image/png": "[encoded data removed]",
      "text/plain": [
       "<Figure size 640x480 with 2 Axes>"
      ]
     },
     "metadata": {},
     "output_type": "display_data"
    }
   ],
   "source": [
    "result_crosstab = pd.crosstab(index = data[\"Company Name\"], \n",
    "                              columns=data[\"Employment Status\"], \n",
    "                              values = data[\"Employee Salary\"], \n",
    "                              aggfunc=np.mean)\n",
    "                              \n",
    "sns.heatmap(result_crosstab, annot = True, fmt = 'g')\n",
    "# q: what is fmt ? \n",
    "# a: fmt is the string formatting code to use when adding annotations.\n",
    "# q: what is annot ? \n",
    "# a: annot is a boolean value that controls whether to annotate the heatmap or not.\n",
    "# q : what do you mean by annotate ? \n",
    "# a : annotate means to add textual annotations to the heatmap."
   ]
  },
  {
   "cell_type": "code",
   "execution_count": 33,
   "metadata": {},
   "outputs": [
    {
     "data": {
      "text/plain": [
       "0"
      ]
     },
     "execution_count": 33,
     "metadata": {},
     "output_type": "execute_result"
    }
   ],
   "source": [
    "data.duplicated().sum() #duplicatied rows"
   ]
  },
  {
   "cell_type": "code",
   "execution_count": 34,
   "metadata": {},
   "outputs": [
    {
     "data": {
      "text/plain": [
       "900"
      ]
     },
     "execution_count": 34,
     "metadata": {},
     "output_type": "execute_result"
    }
   ],
   "source": [
    "data.duplicated(subset=[\"Company Name\", \"Employee Job Title\"]).sum() #dupicated columns subsets "
   ]
  },
  {
   "cell_type": "markdown",
   "metadata": {},
   "source": [
    "## Function Overloading in python"
   ]
  },
  {
   "cell_type": "code",
   "execution_count": 35,
   "metadata": {},
   "outputs": [
    {
     "data": {
      "text/plain": [
       "3"
      ]
     },
     "execution_count": 35,
     "metadata": {},
     "output_type": "execute_result"
    }
   ],
   "source": [
    "from multipledispatch import dispatch \n",
    "\n",
    "@dispatch(int, int)\n",
    "def add(a, b):\n",
    "    return a + b\n",
    "\n",
    "@dispatch(str, str)\n",
    "def add(a, b):\n",
    "    return a + b\n",
    "\n",
    "@dispatch(float, float)\n",
    "def add(a, b):\n",
    "    return a + b\n",
    "\n",
    "add(1, 2)\n",
    "\n"
   ]
  },
  {
   "cell_type": "markdown",
   "metadata": {},
   "source": [
    "## KNN Imputator "
   ]
  },
  {
   "cell_type": "code",
   "execution_count": 1,
   "metadata": {},
   "outputs": [],
   "source": [
    "from sklearn.datasets import load_iris\n",
    "import numpy as np "
   ]
  },
  {
   "cell_type": "code",
   "execution_count": 4,
   "metadata": {},
   "outputs": [
    {
     "name": "stdout",
     "output_type": "stream",
     "text": [
      "Corrupting data at index 94 and column 1 :  [5.6 nan 4.2 1.3]\n",
      "Corrupting data at index 43 and column 1 :  [5.  nan 1.6 0.6]\n",
      "Corrupting data at index 37 and column 2 :  [4.9 3.6 nan 0.1]\n",
      "Corrupting data at index 117 and column 2 :  [7.7 3.8 nan 2.2]\n",
      "Corrupting data at index 0 and column 0 :  [nan 3.5 1.4 0.2]\n",
      "Corrupting data at index 120 and column 0 :  [nan 3.2 5.7 2.3]\n",
      "Corrupting data at index 135 and column 1 :  [7.7 nan 6.1 2.3]\n",
      "Corrupting data at index 0 and column 3 :  [nan 3.5 1.4 nan]\n",
      "Corrupting data at index 22 and column 1 :  [4.6 nan 1.  0.2]\n",
      "Corrupting data at index 111 and column 2 :  [6.4 2.7 nan 1.9]\n"
     ]
    }
   ],
   "source": [
    "data = load_iris().data\n",
    "\n",
    "pos = []\n",
    "\n",
    "for _ in range(10):\n",
    "    i = np.random.randint(0, 150)\n",
    "    j = np.random.randint(0, 4)\n",
    "    print(f\"Corrupting data at index {i} and column {j} : \" , end = ' ')\n",
    "    data[i, j] = np.nan\n",
    "    print(data[i])\n",
    "    pos.append((i,j))\n",
    "   "
   ]
  },
  {
   "cell_type": "code",
   "execution_count": 5,
   "metadata": {},
   "outputs": [],
   "source": [
    "from sklearn.impute import KNNImputer\n",
    "\n",
    "imputer = KNNImputer(n_neighbors=5)\n",
    "data_imputed = imputer.fit_transform(data)"
   ]
  },
  {
   "cell_type": "code",
   "execution_count": 6,
   "metadata": {},
   "outputs": [
    {
     "name": "stdout",
     "output_type": "stream",
     "text": [
      "Original data at index 94 column 1 :  [5.6 2.7 4.2 1.3]\n",
      "Imputed data at index 94 column 1 :  [5.6 2.8 4.2 1.3]\n",
      "Original data at index 43 column 1 :  [5.  3.5 1.6 0.6]\n",
      "Imputed data at index 43 column 1 :  [5.   3.54 1.6  0.6 ]\n",
      "Original data at index 37 column 2 :  [4.9 3.6 1.4 0.1]\n",
      "Imputed data at index 37 column 2 :  [4.9 3.6 1.5 0.1]\n",
      "Original data at index 117 column 2 :  [7.7 3.8 6.7 2.2]\n",
      "Imputed data at index 117 column 2 :  [7.7  3.8  5.14 2.2 ]\n",
      "Original data at index 0 column 0 :  [5.1 3.5 1.4 0.2]\n",
      "Imputed data at index 0 column 0 :  [5.02 3.5  1.4  0.26]\n",
      "Original data at index 120 column 0 :  [6.9 3.2 5.7 2.3]\n",
      "Imputed data at index 120 column 0 :  [6.68 3.2  5.7  2.3 ]\n",
      "Original data at index 135 column 1 :  [7.7 3.  6.1 2.3]\n",
      "Imputed data at index 135 column 1 :  [7.7  3.44 6.1  2.3 ]\n",
      "Original data at index 0 column 3 :  [5.1 3.5 1.4 0.2]\n",
      "Imputed data at index 0 column 3 :  [5.02 3.5  1.4  0.26]\n",
      "Original data at index 22 column 1 :  [4.6 3.6 1.  0.2]\n",
      "Imputed data at index 22 column 1 :  [4.6  2.94 1.   0.2 ]\n",
      "Original data at index 111 column 2 :  [6.4 2.7 5.3 1.9]\n",
      "Imputed data at index 111 column 2 :  [6.4  2.7  5.18 1.9 ]\n"
     ]
    }
   ],
   "source": [
    "data = load_iris().data\n",
    "\n",
    "for i , j  in pos: \n",
    "    print(f\"Original data at index {i} column {j} : \", data[i])\n",
    "    print(f\"Imputed data at index {i} column {j} : \", data_imputed[i])\n"
   ]
  },
  {
   "cell_type": "code",
   "execution_count": 7,
   "metadata": {},
   "outputs": [],
   "source": [
    "from sklearn.impute import SimpleImputer\n",
    "\n",
    "imputer = SimpleImputer(strategy='mean')\n",
    "data_imputed = imputer.fit_transform(data)\n",
    "\n"
   ]
  },
  {
   "cell_type": "code",
   "execution_count": 8,
   "metadata": {},
   "outputs": [
    {
     "name": "stdout",
     "output_type": "stream",
     "text": [
      "Original data at index 94 column 1 :  [5.6 2.7 4.2 1.3]\n",
      "Imputed data at index 94 column 1 :  [5.6 2.7 4.2 1.3]\n",
      "Original data at index 43 column 1 :  [5.  3.5 1.6 0.6]\n",
      "Imputed data at index 43 column 1 :  [5.  3.5 1.6 0.6]\n",
      "Original data at index 37 column 2 :  [4.9 3.6 1.4 0.1]\n",
      "Imputed data at index 37 column 2 :  [4.9 3.6 1.4 0.1]\n",
      "Original data at index 117 column 2 :  [7.7 3.8 6.7 2.2]\n",
      "Imputed data at index 117 column 2 :  [7.7 3.8 6.7 2.2]\n",
      "Original data at index 0 column 0 :  [5.1 3.5 1.4 0.2]\n",
      "Imputed data at index 0 column 0 :  [5.1 3.5 1.4 0.2]\n",
      "Original data at index 120 column 0 :  [6.9 3.2 5.7 2.3]\n",
      "Imputed data at index 120 column 0 :  [6.9 3.2 5.7 2.3]\n",
      "Original data at index 135 column 1 :  [7.7 3.  6.1 2.3]\n",
      "Imputed data at index 135 column 1 :  [7.7 3.  6.1 2.3]\n",
      "Original data at index 0 column 3 :  [5.1 3.5 1.4 0.2]\n",
      "Imputed data at index 0 column 3 :  [5.1 3.5 1.4 0.2]\n",
      "Original data at index 22 column 1 :  [4.6 3.6 1.  0.2]\n",
      "Imputed data at index 22 column 1 :  [4.6 3.6 1.  0.2]\n",
      "Original data at index 111 column 2 :  [6.4 2.7 5.3 1.9]\n",
      "Imputed data at index 111 column 2 :  [6.4 2.7 5.3 1.9]\n"
     ]
    }
   ],
   "source": [
    "data = load_iris().data\n",
    "\n",
    "for i , j  in pos: \n",
    "    print(f\"Original data at index {i} column {j} : \", data[i])\n",
    "    print(f\"Imputed data at index {i} column {j} : \", data_imputed[i])\n"
   ]
  },
  {
   "cell_type": "code",
   "execution_count": null,
   "metadata": {},
   "outputs": [],
   "source": []
  }
 ],
 "metadata": {
  "kernelspec": {
   "display_name": "Python 3",
   "language": "python",
   "name": "python3"
  },
  "language_info": {
   "codemirror_mode": {
    "name": "ipython",
    "version": 3
   },
   "file_extension": ".py",
   "mimetype": "text/x-python",
   "name": "python",
   "nbconvert_exporter": "python",
   "pygments_lexer": "ipython3",
   "version": "3.12.0"
  }
 },
 "nbformat": 4,
 "nbformat_minor": 2
}
