{
 "cells": [
  {
   "cell_type": "markdown",
   "metadata": {},
   "source": [
    "# Imports"
   ]
  },
  {
   "cell_type": "code",
   "execution_count": 7,
   "metadata": {},
   "outputs": [],
   "source": [
    "from typing import TypeAlias , Literal"
   ]
  },
  {
   "cell_type": "markdown",
   "metadata": {},
   "source": [
    "# Topics"
   ]
  },
  {
   "cell_type": "markdown",
   "metadata": {},
   "source": [
    "## More about Type Hints"
   ]
  },
  {
   "cell_type": "markdown",
   "metadata": {},
   "source": [
    "### Type Aliases\n",
    "They are used when the type hint is too complex or too long."
   ]
  },
  {
   "cell_type": "code",
   "execution_count": 8,
   "metadata": {},
   "outputs": [],
   "source": [
    "PostType : TypeAlias = dict[int,str]"
   ]
  },
  {
   "cell_type": "code",
   "execution_count": 9,
   "metadata": {},
   "outputs": [],
   "source": [
    "new_post : PostType = {1:'This is post one' , 2:'This is post two'}\n",
    "old_post : PostType = {3:'This is post three' , 4:'This is post four'}"
   ]
  },
  {
   "cell_type": "markdown",
   "metadata": {},
   "source": [
    "### Literals \n",
    "They are used when the type hint is a specific value."
   ]
  },
  {
   "cell_type": "code",
   "execution_count": 10,
   "metadata": {},
   "outputs": [],
   "source": [
    "weekends : Literal[\"S\",\"M\"]\n",
    "\n",
    "weekends = \"S\" # OK\n",
    "\n",
    "weekends = \"M\" # OK\n",
    "\n",
    "weekends = \"T\" # Error (not an actual error)"
   ]
  },
  {
   "cell_type": "markdown",
   "metadata": {},
   "source": [
    "### Try-Except-Else-Finally"
   ]
  },
  {
   "cell_type": "code",
   "execution_count": 13,
   "metadata": {},
   "outputs": [
    {
     "name": "stdout",
     "output_type": "stream",
     "text": [
      "I am else , I appear when there is no exception to handle\n",
      "I am finally , I will run no matter what\n"
     ]
    }
   ],
   "source": [
    "try:\n",
    "    assert 1==1\n",
    "except AssertionError:\n",
    "    print(\"I am except , I appear when there is an exception to handle\")\n",
    "else:\n",
    "    print(\"I am else , I appear when there is no exception to handle\")\n",
    "finally:\n",
    "    print(\"I am finally , I will run no matter what\")"
   ]
  },
  {
   "cell_type": "code",
   "execution_count": 14,
   "metadata": {},
   "outputs": [
    {
     "name": "stdout",
     "output_type": "stream",
     "text": [
      "I am except , I appear when there is an exception to handle\n",
      "I am finally , I will run no matter what\n"
     ]
    }
   ],
   "source": [
    "try:\n",
    "    assert 1==12\n",
    "except AssertionError:\n",
    "    print(\"I am except , I appear when there is an exception to handle\")\n",
    "else:\n",
    "    print(\"I am else , I appear when there is no exception to handle\")\n",
    "finally:\n",
    "    print(\"I am finally , I will run no matter what\")"
   ]
  },
  {
   "cell_type": "markdown",
   "metadata": {},
   "source": [
    "To run a python script ignoring the assertion error , just use this command in windows \n",
    "\n",
    "```cmd\n",
    "python -O script.py\n",
    "```\n",
    "\n",
    "O must be capital"
   ]
  },
  {
   "cell_type": "markdown",
   "metadata": {},
   "source": [
    "## Exception Hierarchies"
   ]
  },
  {
   "cell_type": "code",
   "execution_count": 16,
   "metadata": {},
   "outputs": [
    {
     "name": "stdout",
     "output_type": "stream",
     "text": [
      "(<class 'ArithmeticError'>,)\n",
      "(<class 'Exception'>,)\n",
      "(<class 'BaseException'>,)\n",
      "(<class 'object'>,)\n",
      "(<class 'Exception'>,)\n",
      "(<class 'Exception'>,)\n",
      "(<class 'BaseException'>,)\n",
      "(<class 'Exception'>,)\n",
      "(<class 'Exception'>,)\n",
      "(<class 'SyntaxError'>,)\n",
      "(<class 'Exception'>,)\n"
     ]
    }
   ],
   "source": [
    "print(ZeroDivisionError.__bases__) # child of ArithmeticError\n",
    "\n",
    "print(ArithmeticError.__bases__) # child of Exception\n",
    "\n",
    "print(Exception.__bases__) # child of BaseException\n",
    "\n",
    "print(BaseException.__bases__) # child of object\n",
    "\n",
    "print(ValueError.__bases__) # child of Exception\n",
    "\n",
    "print(TypeError.__bases__) # child of Exception\n",
    "\n",
    "print(KeyboardInterrupt.__bases__) # child of BaseException\n",
    "\n",
    "print(StopIteration.__bases__) # child of Exception\n",
    "\n",
    "print(ImportError.__bases__) # child of Exception\n",
    "\n",
    "print(IndentationError.__bases__) # child of SyntaxError\n",
    "\n",
    "print(SyntaxError.__bases__) # child of Exception\n"
   ]
  },
  {
   "cell_type": "code",
   "execution_count": 20,
   "metadata": {},
   "outputs": [
    {
     "data": {
      "text/plain": [
       "[ArithmeticError,\n",
       " AssertionError,\n",
       " AttributeError,\n",
       " BufferError,\n",
       " EOFError,\n",
       " ImportError,\n",
       " LookupError,\n",
       " MemoryError,\n",
       " NameError,\n",
       " OSError,\n",
       " ReferenceError,\n",
       " RuntimeError,\n",
       " StopAsyncIteration,\n",
       " StopIteration,\n",
       " SyntaxError,\n",
       " SystemError,\n",
       " TypeError,\n",
       " ValueError,\n",
       " Warning,\n",
       " ExceptionGroup,\n",
       " warnings._OptionError,\n",
       " runpy._Error,\n",
       " re.error,\n",
       " locale.Error,\n",
       " subprocess.SubprocessError,\n",
       " zmq.error.ZMQBaseError,\n",
       " copy.Error,\n",
       " struct.error,\n",
       " _pickle.PickleError,\n",
       " pickle._Stop,\n",
       " tokenize.TokenError,\n",
       " tokenize.StopTokenizing,\n",
       " concurrent.futures._base.Error,\n",
       " socket._GiveupOnSendfile,\n",
       " binascii.Incomplete,\n",
       " inspect.ClassFoundException,\n",
       " inspect.EndOfBlock,\n",
       " asyncio.exceptions.InvalidStateError,\n",
       " asyncio.exceptions.LimitOverrunError,\n",
       " asyncio.queues.QueueEmpty,\n",
       " asyncio.queues.QueueFull,\n",
       " zlib.error,\n",
       " _lzma.LZMAError,\n",
       " shutil.RegistryError,\n",
       " shutil._GiveupOnFastCopy,\n",
       " traitlets.traitlets.TraitError,\n",
       " _queue.Empty,\n",
       " queue.Full,\n",
       " ctypes.ArgumentError,\n",
       " _ctypes.COMError,\n",
       " tornado.concurrent.ReturnValueIgnoredError,\n",
       " argparse.ArgumentError,\n",
       " argparse.ArgumentTypeError,\n",
       " traitlets.config.loader.ConfigError,\n",
       " traitlets.config.configurable.ConfigurableError,\n",
       " traitlets.config.application.ApplicationError,\n",
       " jupyter_client.channels.InvalidPortNumber,\n",
       " jupyter_client.localinterfaces.NoIPAddresses,\n",
       " _csv.Error,\n",
       " zipfile.BadZipFile,\n",
       " zipfile.LargeZipFile,\n",
       " email.errors.MessageError,\n",
       " importlib.resources.abc.TraversalError,\n",
       " jupyter_client.multikernelmanager.DuplicateKernelError,\n",
       " pydoc.ErrorDuringImport,\n",
       " executing.executing.NotOneValueFound,\n",
       " executing._exceptions.KnownIssue,\n",
       " executing._exceptions.VerifierFailure,\n",
       " pure_eval.utils.CannotEval,\n",
       " pygments.util.OptionError,\n",
       " bdb.BdbQuit,\n",
       " pdb.Restart,\n",
       " IPython.utils.process.FindCmdError,\n",
       " IPython.utils.path.HomeDirError,\n",
       " IPython.core.profiledir.ProfileDirError,\n",
       " IPython.core.error.IPythonCoreError,\n",
       " IPython.core.error.InputRejected,\n",
       " getopt.GetoptError,\n",
       " pygments.filters.ErrorToken,\n",
       " IPython.core.prefilter.PrefilterError,\n",
       " IPython.core.alias.AliasError,\n",
       " sqlite3.Error,\n",
       " sqlite3.Warning,\n",
       " IPython.core.interactiveshell.SpaceInInput,\n",
       " xml.dom.DOMException,\n",
       " prompt_toolkit.validation.ValidationError,\n",
       " prompt_toolkit.buffer.EditReadOnlyBuffer,\n",
       " prompt_toolkit.buffer._Retry,\n",
       " prompt_toolkit.layout.layout.InvalidLayoutError,\n",
       " prompt_toolkit.renderer.HeightIsUnknownError,\n",
       " IPython.core.guarded_eval.GuardRejection,\n",
       " parso.parser.ParserSyntaxError,\n",
       " parso.parser.InternalParseError,\n",
       " parso.python.diff._PositionUpdatingFinished,\n",
       " jedi.inference.helpers.SimpleGetItemNotFound,\n",
       " jedi.inference.utils.UncaughtAttributeError,\n",
       " jedi.inference.base_value.HasNoContext,\n",
       " jedi.inference.arguments.ParamIssue,\n",
       " jedi.api.exceptions._JediError,\n",
       " jedi.api.helpers.OnErrorLeaf,\n",
       " jedi.api.environment.InvalidPythonEnvironment,\n",
       " http.client.HTTPException,\n",
       " IPython.core.magics.code.InteractivelyDefined,\n",
       " IPython.terminal.embed.KillEmbedded,\n",
       " psutil.Error,\n",
       " _psutil_windows.Error,\n",
       " _psutil_windows.TimeoutExpired,\n",
       " _psutil_windows.TimeoutAbandoned,\n",
       " tornado.gen.KeyReuseError,\n",
       " tornado.gen.UnknownKeyError,\n",
       " tornado.gen.LeakedCallbackError,\n",
       " tornado.gen.BadYieldError,\n",
       " tornado.gen.ReturnValueIgnoredError,\n",
       " tornado.gen.Return,\n",
       " tornado.queues.QueueEmpty,\n",
       " tornado.queues.QueueFull,\n",
       " _pydev_bundle._pydev_saved_modules.DebuggerInitializationError,\n",
       " xml.parsers.expat.ExpatError,\n",
       " xmlrpc.client.Error,\n",
       " _pydevd_bundle.pydevd_runpy._Error,\n",
       " _pydevd_bundle.pydevd_resolver.UnableToResolveVariableException,\n",
       " _pydev_bundle.pydev_monkey.InvalidTypeInArgsException]"
      ]
     },
     "execution_count": 20,
     "metadata": {},
     "output_type": "execute_result"
    }
   ],
   "source": [
    "Exception.__subclasses__()"
   ]
  },
  {
   "cell_type": "markdown",
   "metadata": {},
   "source": [
    "## Raise Exception from another Exception"
   ]
  },
  {
   "cell_type": "code",
   "execution_count": 21,
   "metadata": {},
   "outputs": [
    {
     "ename": "ArithmeticError",
     "evalue": "",
     "output_type": "error",
     "traceback": [
      "\u001b[1;31m---------------------------------------------------------------------------\u001b[0m",
      "\u001b[1;31mZeroDivisionError\u001b[0m                         Traceback (most recent call last)",
      "\u001b[1;31mZeroDivisionError\u001b[0m: ",
      "\nThe above exception was the direct cause of the following exception:\n",
      "\u001b[1;31mArithmeticError\u001b[0m                           Traceback (most recent call last)",
      "Cell \u001b[1;32mIn[21], line 1\u001b[0m\n\u001b[1;32m----> 1\u001b[0m \u001b[38;5;28;01mraise\u001b[39;00m \u001b[38;5;167;01mArithmeticError\u001b[39;00m() \u001b[38;5;28;01mfrom\u001b[39;00m \u001b[38;5;21;01mZeroDivisionError\u001b[39;00m()\n",
      "\u001b[1;31mArithmeticError\u001b[0m: "
     ]
    }
   ],
   "source": [
    "raise ArithmeticError() from ZeroDivisionError()"
   ]
  }
 ],
 "metadata": {
  "kernelspec": {
   "display_name": "Python 3",
   "language": "python",
   "name": "python3"
  },
  "language_info": {
   "codemirror_mode": {
    "name": "ipython",
    "version": 3
   },
   "file_extension": ".py",
   "mimetype": "text/x-python",
   "name": "python",
   "nbconvert_exporter": "python",
   "pygments_lexer": "ipython3",
   "version": "3.12.0"
  }
 },
 "nbformat": 4,
 "nbformat_minor": 2
}
