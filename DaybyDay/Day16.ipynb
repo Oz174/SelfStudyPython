{
 "cells": [
  {
   "cell_type": "markdown",
   "metadata": {},
   "source": [
    "# Imports"
   ]
  },
  {
   "cell_type": "code",
   "execution_count": 2,
   "metadata": {},
   "outputs": [],
   "source": [
    "import time"
   ]
  },
  {
   "cell_type": "markdown",
   "metadata": {},
   "source": [
    "# Topics"
   ]
  },
  {
   "cell_type": "markdown",
   "metadata": {},
   "source": [
    "## Unprinting (Technically Overwritting the buffer)"
   ]
  },
  {
   "cell_type": "code",
   "execution_count": 23,
   "metadata": {},
   "outputs": [],
   "source": [
    "_last_print_len = 0 \n",
    "def reprint(msg, finish=False): \n",
    "    global _last_print_len \n",
    "     \n",
    "    print(' '*_last_print_len, end='\\r') \n",
    "     \n",
    "    if finish: \n",
    "        end = '\\n' \n",
    "        _last_print_len = 0 \n",
    "    else: \n",
    "        end = '\\r' \n",
    "        _last_print_len = len(msg) \n",
    "    print(msg, end=end)"
   ]
  },
  {
   "cell_type": "code",
   "execution_count": 24,
   "metadata": {},
   "outputs": [
    {
     "name": "stdout",
     "output_type": "stream",
     "text": [
      "Loading...\r"
     ]
    }
   ],
   "source": [
    "for i in range(3): \n",
    "    reprint('Loading.') \n",
    "    time.sleep(0.5) \n",
    "    reprint('Loading..') \n",
    "    time.sleep(0.5) \n",
    "    reprint('Loading...') \n",
    "    time.sleep(0.5) "
   ]
  },
  {
   "cell_type": "code",
   "execution_count": 9,
   "metadata": {},
   "outputs": [
    {
     "name": "stdout",
     "output_type": "stream",
     "text": [
      "Loading...\n",
      "Loading...\n",
      "Loading...\n"
     ]
    }
   ],
   "source": [
    "for i in range(3): \n",
    "    reprint('Loading.') \n",
    "    time.sleep(0.5) \n",
    "    reprint('Loading..') \n",
    "    time.sleep(0.5) \n",
    "    reprint('Loading...', finish=True) \n",
    "    time.sleep(0.5) "
   ]
  },
  {
   "cell_type": "code",
   "execution_count": null,
   "metadata": {},
   "outputs": [],
   "source": []
  }
 ],
 "metadata": {
  "kernelspec": {
   "display_name": "Python 3",
   "language": "python",
   "name": "python3"
  },
  "language_info": {
   "codemirror_mode": {
    "name": "ipython",
    "version": 3
   },
   "file_extension": ".py",
   "mimetype": "text/x-python",
   "name": "python",
   "nbconvert_exporter": "python",
   "pygments_lexer": "ipython3",
   "version": "3.12.0"
  }
 },
 "nbformat": 4,
 "nbformat_minor": 2
}
