{
 "cells": [
  {
   "cell_type": "markdown",
   "metadata": {},
   "source": [
    "# Imports"
   ]
  },
  {
   "cell_type": "code",
   "execution_count": 2,
   "metadata": {},
   "outputs": [],
   "source": [
    "import time"
   ]
  },
  {
   "cell_type": "markdown",
   "metadata": {},
   "source": [
    "# Topics"
   ]
  },
  {
   "cell_type": "markdown",
   "metadata": {},
   "source": [
    "## Unprinting (Technically Overwritting the buffer)"
   ]
  },
  {
   "cell_type": "code",
   "execution_count": 23,
   "metadata": {},
   "outputs": [],
   "source": [
    "_last_print_len = 0 \n",
    "def reprint(msg, finish=False): \n",
    "    global _last_print_len \n",
    "     \n",
    "    print(' '*_last_print_len, end='\\r') \n",
    "     \n",
    "    if finish: \n",
    "        end = '\\n' \n",
    "        _last_print_len = 0 \n",
    "    else: \n",
    "        end = '\\r' \n",
    "        _last_print_len = len(msg) \n",
    "    print(msg, end=end)"
   ]
  },
  {
   "cell_type": "code",
   "execution_count": 24,
   "metadata": {},
   "outputs": [
    {
     "name": "stdout",
     "output_type": "stream",
     "text": [
      "Loading...\r"
     ]
    }
   ],
   "source": [
    "for i in range(3): \n",
    "    reprint('Loading.') \n",
    "    time.sleep(0.5) \n",
    "    reprint('Loading..') \n",
    "    time.sleep(0.5) \n",
    "    reprint('Loading...') \n",
    "    time.sleep(0.5) "
   ]
  },
  {
   "cell_type": "code",
   "execution_count": 9,
   "metadata": {},
   "outputs": [
    {
     "name": "stdout",
     "output_type": "stream",
     "text": [
      "Loading...\n",
      "Loading...\n",
      "Loading...\n"
     ]
    }
   ],
   "source": [
    "for i in range(3): \n",
    "    reprint('Loading.') \n",
    "    time.sleep(0.5) \n",
    "    reprint('Loading..') \n",
    "    time.sleep(0.5) \n",
    "    reprint('Loading...', finish=True) \n",
    "    time.sleep(0.5) "
   ]
  },
  {
   "cell_type": "markdown",
   "metadata": {},
   "source": [
    "## 3 Info About Dicts"
   ]
  },
  {
   "cell_type": "code",
   "execution_count": 26,
   "metadata": {},
   "outputs": [
    {
     "name": "stdout",
     "output_type": "stream",
     "text": [
      "{'apple': 0, 'banana': 0, 'cherry': 0}\n"
     ]
    }
   ],
   "source": [
    "# 1- fromkeys \n",
    "# Create a new dictionary with keys from seq and values set to values\n",
    "fruits = ['apple', 'banana', 'cherry']\n",
    "print(dict.fromkeys(fruits, 0))"
   ]
  },
  {
   "cell_type": "code",
   "execution_count": 27,
   "metadata": {},
   "outputs": [
    {
     "name": "stdout",
     "output_type": "stream",
     "text": [
      "{'apple': 0, 'banana': 0, 'cherry': 0}\n"
     ]
    }
   ],
   "source": [
    "# 2- we can initiliaze a dictionary like that \n",
    "fruits = dict(apple=0, banana=0, cherry=0)\n",
    "print(fruits)"
   ]
  },
  {
   "cell_type": "code",
   "execution_count": null,
   "metadata": {},
   "outputs": [],
   "source": []
  }
 ],
 "metadata": {
  "kernelspec": {
   "display_name": "Python 3",
   "language": "python",
   "name": "python3"
  },
  "language_info": {
   "codemirror_mode": {
    "name": "ipython",
    "version": 3
   },
   "file_extension": ".py",
   "mimetype": "text/x-python",
   "name": "python",
   "nbconvert_exporter": "python",
   "pygments_lexer": "ipython3",
   "version": "3.12.0"
  }
 },
 "nbformat": 4,
 "nbformat_minor": 2
}
