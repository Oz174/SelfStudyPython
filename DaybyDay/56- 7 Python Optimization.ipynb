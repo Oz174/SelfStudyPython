{
 "cells": [
  {
   "cell_type": "markdown",
   "metadata": {},
   "source": [
    "# Imports"
   ]
  },
  {
   "cell_type": "code",
   "execution_count": 15,
   "metadata": {},
   "outputs": [],
   "source": [
    "import struct\n",
    "import mmap \n",
    "import gc \n",
    "import numpy as np\n",
    "import array"
   ]
  },
  {
   "cell_type": "markdown",
   "metadata": {},
   "source": [
    "# Topics"
   ]
  },
  {
   "cell_type": "markdown",
   "metadata": {},
   "source": [
    "## Variables packing with struct\n",
    "\n",
    "In this example, using the ```struct``` module packs integers into a compact binary format, making data processing more efficient"
   ]
  },
  {
   "cell_type": "code",
   "execution_count": 20,
   "metadata": {},
   "outputs": [],
   "source": [
    "\n",
    "\n",
    "# Packing two integers into a binary format\n",
    "packed_data = struct.pack('ii', 10, 20)\n",
    "\n",
    "# Unpacking the packed binary data\n",
    "a, b = struct.unpack('ii', packed_data)"
   ]
  },
  {
   "cell_type": "code",
   "execution_count": 22,
   "metadata": {},
   "outputs": [
    {
     "data": {
      "text/plain": [
       "(10, 20)"
      ]
     },
     "execution_count": 22,
     "metadata": {},
     "output_type": "execute_result"
    }
   ],
   "source": [
    "a , b"
   ]
  },
  {
   "cell_type": "markdown",
   "metadata": {},
   "source": [
    "## Faster I/O operations with mmap \n",
    "\n",
    "Memory-mapped files allow you to treat disk storage as if it were memory, speeding up access times for large files"
   ]
  },
  {
   "cell_type": "code",
   "execution_count": 23,
   "metadata": {},
   "outputs": [
    {
     "name": "stdout",
     "output_type": "stream",
     "text": [
      "b'line1\\r\\nline2\\r\\nline3\\r\\neof'\n"
     ]
    }
   ],
   "source": [
    "# Memory-mapping a file\n",
    "with open(\"19- test.txt\", \"r+b\") as f:\n",
    "    mmapped_file = mmap.mmap(f.fileno(), 0)\n",
    "    print(mmapped_file.read())\n",
    "    mmapped_file.close()"
   ]
  },
  {
   "cell_type": "markdown",
   "metadata": {},
   "source": [
    "## Fixed Vs Variable Size Arrays "
   ]
  },
  {
   "cell_type": "code",
   "execution_count": 12,
   "metadata": {},
   "outputs": [],
   "source": [
    "# Using fixed-length array for performance\n",
    "fixed_array = array.array('i', [1, 2, 3, 4, 5])\n",
    "\n",
    "# Dynamic list (variable-length)\n",
    "dynamic_list = [1, 2, 3, 4, 5]"
   ]
  },
  {
   "cell_type": "markdown",
   "metadata": {},
   "source": [
    "## Loops Optmization through Vectorization"
   ]
  },
  {
   "cell_type": "code",
   "execution_count": 17,
   "metadata": {},
   "outputs": [
    {
     "data": {
      "text/plain": [
       "array([ 2,  4,  6,  8, 10])"
      ]
     },
     "execution_count": 17,
     "metadata": {},
     "output_type": "execute_result"
    }
   ],
   "source": [
    "arr = np.array([1, 2, 3, 4, 5], dtype=np.int32)\n",
    "\n",
    "result = arr * 2\n",
    "result"
   ]
  },
  {
   "cell_type": "markdown",
   "metadata": {},
   "source": [
    "## Short Circuit Conditions"
   ]
  },
  {
   "cell_type": "code",
   "execution_count": 10,
   "metadata": {},
   "outputs": [
    {
     "data": {
      "text/plain": [
       "False"
      ]
     },
     "execution_count": 10,
     "metadata": {},
     "output_type": "execute_result"
    }
   ],
   "source": [
    "def complex_condition(x, y):\n",
    "    return x != 0 and y / x > 2  # Stops evaluation if x is 0\n",
    "\n",
    "complex_condition(0, 1000000000)  # No division by zero error\n"
   ]
  },
  {
   "cell_type": "markdown",
   "metadata": {},
   "source": [
    "## Free Up Memory with Garbage Collection"
   ]
  },
  {
   "cell_type": "code",
   "execution_count": 9,
   "metadata": {},
   "outputs": [
    {
     "data": {
      "text/plain": [
       "0"
      ]
     },
     "execution_count": 9,
     "metadata": {},
     "output_type": "execute_result"
    }
   ],
   "source": [
    "# Manual garbage collection to free up memory\n",
    "large_data = [i for i in range(1_000_000)]\n",
    "del large_data\n",
    "gc.collect()  # Forces garbage collection"
   ]
  },
  {
   "cell_type": "markdown",
   "metadata": {},
   "source": [
    "## Internal Vs Public Functions\n",
    "\n",
    "Internal functions are those intended to be used only within the module where they are defined, often optimised for speed and efficiency. Public functions are exposed for external use and may include additional error handling or logging, making them slightly less efficient."
   ]
  },
  {
   "cell_type": "code",
   "execution_count": 8,
   "metadata": {},
   "outputs": [
    {
     "name": "stdout",
     "output_type": "stream",
     "text": [
      "25\n",
      "Input must be an integer\n"
     ]
    }
   ],
   "source": [
    "def _private_function(data):\n",
    "    # Optimized for internal use, with minimal error handling\n",
    "    return data ** 2\n",
    "\n",
    "def public_function(data):\n",
    "    # Includes additional checks for external use\n",
    "    if isinstance(data, int):\n",
    "        return _private_function(data)\n",
    "    raise ValueError(\"Input must be an integer\")\n",
    "\n",
    "# Example of using the public function\n",
    "try:\n",
    "    print(public_function(5))\n",
    "    print(public_function('a'))\n",
    "except Exception as e:\n",
    "    print(e)\n",
    "    "
   ]
  },
  {
   "cell_type": "markdown",
   "metadata": {},
   "source": []
  }
 ],
 "metadata": {
  "kernelspec": {
   "display_name": "Python 3",
   "language": "python",
   "name": "python3"
  },
  "language_info": {
   "codemirror_mode": {
    "name": "ipython",
    "version": 3
   },
   "file_extension": ".py",
   "mimetype": "text/x-python",
   "name": "python",
   "nbconvert_exporter": "python",
   "pygments_lexer": "ipython3",
   "version": "3.12.0"
  }
 },
 "nbformat": 4,
 "nbformat_minor": 2
}
