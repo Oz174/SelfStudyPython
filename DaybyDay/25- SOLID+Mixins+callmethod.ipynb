{
 "cells": [
  {
   "cell_type": "markdown",
   "metadata": {},
   "source": [
    "# Imports"
   ]
  },
  {
   "cell_type": "code",
   "execution_count": 1,
   "metadata": {},
   "outputs": [],
   "source": [
    "# No needed imports"
   ]
  },
  {
   "cell_type": "markdown",
   "metadata": {},
   "source": [
    "# Topics "
   ]
  },
  {
   "cell_type": "markdown",
   "metadata": {},
   "source": [
    "## SOLID "
   ]
  },
  {
   "cell_type": "markdown",
   "metadata": {},
   "source": [
    "### S - Single Responsibility Principle\n",
    "each class should perform his own task. "
   ]
  },
  {
   "cell_type": "code",
   "execution_count": 2,
   "metadata": {},
   "outputs": [],
   "source": [
    "# wrong implementation\n",
    "class Person:\n",
    "    def __init__(self, name, age):\n",
    "        self.name = name\n",
    "        self.age = age\n",
    "  \n",
    "    def send_email(self, message):\n",
    "        # Code to send an email to the person\n",
    "        print(f\"Sending email to {self.name}: {message}\")\n",
    "\n",
    "    def calculate_tax(self):\n",
    "        # Code to calculate tax for the person\n",
    "        tax = self.age * 100\n",
    "        print(f\"{self.name}'s tax: {tax}\")"
   ]
  },
  {
   "cell_type": "code",
   "execution_count": 3,
   "metadata": {},
   "outputs": [],
   "source": [
    "# Correct Implementation \n",
    "\n",
    "class Person_S:\n",
    "    def __init__(self, name, age):\n",
    "        self.name = name\n",
    "        self.age = age\n",
    "class EmailSender:\n",
    "    def send_email(self, person, message):\n",
    "        # Code to send an email to the person\n",
    "        print(f\"Sending email to {person.name}: {message}\")\n",
    "\n",
    "class TaxCalculator:\n",
    "    def calculate_tax(self, person):\n",
    "        # Code to calculate tax for the person\n",
    "        tax = person.age * 100\n",
    "        print(f\"{person.name}'s tax: {tax}\")"
   ]
  },
  {
   "cell_type": "markdown",
   "metadata": {},
   "source": [
    "### O - Open/Closed Principle\n",
    "we can add features to a class without modifying it."
   ]
  },
  {
   "cell_type": "code",
   "execution_count": 4,
   "metadata": {},
   "outputs": [],
   "source": [
    "# wrong implementation \n",
    "class Shape:\n",
    "    def __init__(self,shape,length,width):\n",
    "        self.shape = shape\n",
    "        self.length = length\n",
    "        self.width = width\n",
    "    def calculate_area(self):\n",
    "        if self.shape == \"rectangle\":\n",
    "            area = self.length * self.width\n",
    "            print(f\"Area of the rectangle: {area}\")\n",
    "        elif self.shape == \"circle\":\n",
    "            area = 3.14 * self.length * self.length\n",
    "            print(f\"Area of the circle: {area}\")"
   ]
  },
  {
   "cell_type": "code",
   "execution_count": 5,
   "metadata": {},
   "outputs": [],
   "source": [
    "# Correct Implementation\n",
    "class Shape_S:\n",
    "    def __init__(self,length,width):\n",
    "        self.length = length\n",
    "        self.width = width\n",
    "    \n",
    "    def calculate_area(self):\n",
    "        pass\n",
    "\n",
    "class Rectangle(Shape):\n",
    "    def calculate_area(self):\n",
    "        return self.length * self.width\n",
    "    \n",
    "class Circle(Shape):\n",
    "    def calculate_area(self):\n",
    "        return 3.14 * self.length * self.length\n",
    "    \n",
    "class Triangle(Shape):\n",
    "    def calculate_area(self):\n",
    "        return 0.5 * self.length * self.width\n"
   ]
  },
  {
   "cell_type": "markdown",
   "metadata": {},
   "source": [
    "### L - Liskov Substitution Principle\n",
    "objects of a superclass should be replaceable with objects of its subclasses without affecting the functionality of the program."
   ]
  },
  {
   "cell_type": "code",
   "execution_count": 6,
   "metadata": {},
   "outputs": [],
   "source": [
    "# wrong implementation\n",
    "class Vehicle:\n",
    "    def start_engine(self):\n",
    "        pass\n",
    "\n",
    "class Car(Vehicle):\n",
    "    def start_engine(self):\n",
    "        # Start the car engine\n",
    "        print(\"Car engine started.\")\n",
    "\n",
    "class Motorcycle(Vehicle):\n",
    "    def start_engine(self):\n",
    "        # Start the motorcycle engine\n",
    "        print(\"Motorcycle engine started.\")\n",
    "\n",
    "class Bicycle(Vehicle): \n",
    "    def start_engine(self):\n",
    "        # Bicycle has no engine\n",
    "        raise NotImplementedError(\"Bicycle has no engine.\")\n",
    "    \n",
    "    def ride(self):\n",
    "        print(\"Riding the bicycle.\")"
   ]
  },
  {
   "cell_type": "code",
   "execution_count": 7,
   "metadata": {},
   "outputs": [
    {
     "name": "stdout",
     "output_type": "stream",
     "text": [
      "Bicycle has no engine.\n"
     ]
    }
   ],
   "source": [
    "class Client:\n",
    "    def __init__(self, vehicle:\"Vehicle\"):\n",
    "        self.vehicle = vehicle\n",
    "    \n",
    "    def start_journey(self):\n",
    "        self.vehicle.start_engine()\n",
    "\n",
    "try :\n",
    "    bicycle = Bicycle()\n",
    "    client = Client(bicycle)\n",
    "    client.start_journey()\n",
    "except NotImplementedError as e:\n",
    "    print(e)"
   ]
  },
  {
   "cell_type": "code",
   "execution_count": 8,
   "metadata": {},
   "outputs": [],
   "source": [
    "# correct implementation\n",
    "class Vechile_S:\n",
    "    def start_engine(self):\n",
    "        pass\n",
    "\n",
    "class Car_S(Vechile_S):\n",
    "    def start_engine(self):\n",
    "        # Start the car engine\n",
    "        print(\"Car engine started.\")\n",
    "\n",
    "class Motorcycle_S(Vechile_S):\n",
    "    def start_engine(self):\n",
    "        # Start the motorcycle engine\n",
    "        print(\"Motorcycle engine started.\")\n",
    "\n",
    "class Bicycle_S:\n",
    "    def ride(self):\n",
    "        print(\"Riding the bicycle.\")\n",
    "\n",
    "# OR \n",
    "\n",
    "# two classes , vehicle with engines  and vehicle without engines\n",
    "class Vechile_E:\n",
    "    def start_engine(self):\n",
    "        pass\n",
    "\n",
    "class Vehicle_NE:\n",
    "    def ride(self):\n",
    "        pass\n",
    "\n",
    "class Car_E(Vechile_E):\n",
    "    def start_engine(self):\n",
    "        # Start the car engine\n",
    "        print(\"Car engine started.\")\n",
    "\n",
    "class Motorcycle_E(Vechile_E):\n",
    "    def start_engine(self):\n",
    "        # Start the motorcycle engine\n",
    "        print(\"Motorcycle engine started.\")\n",
    "\n",
    "class Bicycle_NE(Vehicle_NE):\n",
    "    def ride(self):\n",
    "        print(\"Riding the bicycle.\")\n"
   ]
  },
  {
   "cell_type": "markdown",
   "metadata": {},
   "source": [
    "## I - Interface Segregation Principle\n",
    "a client should never be forced to implement an interface that it doesn't use or clients shouldn't be forced to depend on methods they do not use."
   ]
  },
  {
   "cell_type": "code",
   "execution_count": 9,
   "metadata": {},
   "outputs": [],
   "source": [
    "# wrong Implementation \n",
    "\n",
    "class Animal:\n",
    "    def swim():\n",
    "        pass\n",
    "    def walk():\n",
    "        pass\n",
    "    def fly():\n",
    "        pass\n",
    "\n",
    "class Bird(Animal):\n",
    "    def swim():\n",
    "        raise NotImplementedError(\"Bird cannot swim.\")\n",
    "    def walk():\n",
    "        print(\"Bird is walking.\")\n",
    "    def fly():\n",
    "        print(\"Bird is flying.\")\n",
    "\n",
    "class Fish(Animal):\n",
    "    def swim():\n",
    "        print(\"Fish is swimming.\")\n",
    "    def walk():\n",
    "        raise NotImplementedError(\"Fish cannot walk.\")\n",
    "    def fly():\n",
    "        raise NotImplementedError(\"Fish cannot fly.\")\n",
    "    \n",
    "class Dog(Animal):\n",
    "    def swim():\n",
    "        raise NotImplementedError(\"Dog cannot swim.\")\n",
    "    def walk():\n",
    "        print(\"Dog is walking.\")\n",
    "    def fly():\n",
    "        raise NotImplementedError(\"Dog cannot fly.\")"
   ]
  },
  {
   "cell_type": "code",
   "execution_count": 10,
   "metadata": {},
   "outputs": [],
   "source": [
    "# Correct Implementation\n",
    "class Walkable:\n",
    "    def walk(self):\n",
    "        pass\n",
    "class Swimmable:\n",
    "    def swim(self):\n",
    "        pass\n",
    "class Flyable:\n",
    "    def fly(self):\n",
    "        pass\n",
    "\n",
    "class Bird_WF(Walkable, Flyable):\n",
    "    def walk(self):\n",
    "        print(\"Bird is walking.\")\n",
    "    def fly(self):\n",
    "        print(\"Bird is flying.\")\n",
    "\n",
    "class Fish_S(Swimmable):\n",
    "    def swim(self):\n",
    "        print(\"Fish is swimming.\")\n",
    "\n",
    "class Dog_W(Walkable):\n",
    "    def walk(self):\n",
    "        print(\"Dog is walking.\")\n",
    "\n",
    "# No class is obliged to implement all the methods of the parent class."
   ]
  },
  {
   "cell_type": "markdown",
   "metadata": {},
   "source": [
    "## D - Dependency Inversion Principle\n",
    "One should depend on abstractions, not on concretions.\n",
    "Instead of using child/subclass objects, we should use parent/superclass objects."
   ]
  },
  {
   "cell_type": "code",
   "execution_count": 11,
   "metadata": {},
   "outputs": [],
   "source": [
    "# wrong implementation \n",
    "class SQLDatabase:\n",
    "    def fetch_data(self):\n",
    "        # Fetch data from a SQL database\n",
    "        print(\"Fetching data from SQL database...\")\n",
    "\n",
    "class ReportGenerator:\n",
    "    def __init__(self, database: SQLDatabase):\n",
    "        self.database = database\n",
    "\n",
    "    def generate_report(self):\n",
    "        data = self.database.fetch_data()\n",
    "        # Generate report using the fetched data\n",
    "        print(f\"Generating report...{data}\")\n",
    "# what if the database changed ?? \n"
   ]
  },
  {
   "cell_type": "code",
   "execution_count": 12,
   "metadata": {},
   "outputs": [],
   "source": [
    "# correct implementation\n",
    "class Database:\n",
    "    def fetch_data(self):\n",
    "        pass\n",
    "\n",
    "class SQLDatabase(Database):\n",
    "    def fetch_data(self):\n",
    "        # Fetch data from a SQL database\n",
    "        print(\"Fetching data from SQL database...\")\n",
    "        return \"data\"\n",
    "\n",
    "class MongoDB(Database):\n",
    "    def fetch_data(self):\n",
    "        # Fetch data from a MongoDB database\n",
    "        print(\"Fetching data from MongoDB database...\")\n",
    "        return \"data\"\n",
    "    \n",
    "class ReportGenerator_S:\n",
    "    def __init__(self, database: Database):\n",
    "        self.database = database\n",
    "\n",
    "    def generate_report(self):\n",
    "        data = self.database.fetch_data()\n",
    "        # Generate report using the fetched data\n",
    "        print(f\"Generating report...{data}\")"
   ]
  },
  {
   "cell_type": "code",
   "execution_count": 13,
   "metadata": {},
   "outputs": [
    {
     "name": "stdout",
     "output_type": "stream",
     "text": [
      "Fetching data from SQL database...\n",
      "Generating report...data\n"
     ]
    }
   ],
   "source": [
    "rgen = ReportGenerator_S(SQLDatabase()) #both sql and mongo will be passed as Database class\n",
    "rgen.generate_report()"
   ]
  },
  {
   "cell_type": "markdown",
   "metadata": {},
   "source": [
    "## Mixins\n",
    "\n",
    "Mixins are a way to share functionality between classes. They are a way to allow classes to inherit methods from multiple classes.\n",
    "\n",
    "If you have some functionality that:\n",
    "\n",
    "is small and modular\n",
    "is needed by a decent number of classes\n",
    "needs to be mixed and matched\n",
    "You might want to consider using the mixins pattern. Hope this was clear and easy to understand."
   ]
  },
  {
   "cell_type": "code",
   "execution_count": 18,
   "metadata": {},
   "outputs": [
    {
     "name": "stdout",
     "output_type": "stream",
     "text": [
      "Meow !\n"
     ]
    }
   ],
   "source": [
    "class BarkMixin():\n",
    "    def bark(self):\n",
    "        print(\"Woof !\")\n",
    "\n",
    "class MeowMixin():\n",
    "    def meow(self):\n",
    "        print(\"Meow !\")\n",
    "\n",
    "class SqueakMixin():\n",
    "    def squeak(self):\n",
    "        print(\"Squeak !\")\n",
    "\n",
    "\n",
    "# suppose we have 5 monster classes , each monster can do one or more of the mixins above \n",
    "# implementing this modular functions for each monster class will be a nightmare\n",
    "# so , we do the following \n",
    "\n",
    "class Monster(BarkMixin, MeowMixin, SqueakMixin): pass\n",
    "class Monster2(BarkMixin, MeowMixin): pass\n",
    "class Monster3(BarkMixin): pass\n",
    "class Monster4(MeowMixin): pass\n",
    "class Monster5(SqueakMixin): pass\n",
    "\n",
    "try:\n",
    "    m = Monster2()\n",
    "    m.meow()\n",
    "except AttributeError as e:\n",
    "    print(e)\n"
   ]
  },
  {
   "cell_type": "markdown",
   "metadata": {},
   "source": [
    "## The \"__ call __\" method "
   ]
  },
  {
   "cell_type": "code",
   "execution_count": null,
   "metadata": {},
   "outputs": [],
   "source": [
    "# let's say you have a class you wanna call \n",
    "\n",
    "class A:\n",
    "    def __init__(self):\n",
    "        print(\"A\")\n",
    "    def __call__(self):\n",
    "        print(\"Calling A\")\n",
    "\n",
    "a = A()\n",
    "a()"
   ]
  }
 ],
 "metadata": {
  "kernelspec": {
   "display_name": "Python 3",
   "language": "python",
   "name": "python3"
  },
  "language_info": {
   "codemirror_mode": {
    "name": "ipython",
    "version": 3
   },
   "file_extension": ".py",
   "mimetype": "text/x-python",
   "name": "python",
   "nbconvert_exporter": "python",
   "pygments_lexer": "ipython3",
   "version": "3.12.0"
  }
 },
 "nbformat": 4,
 "nbformat_minor": 2
}
