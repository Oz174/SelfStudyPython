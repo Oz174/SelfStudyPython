{
 "cells": [
  {
   "cell_type": "markdown",
   "metadata": {},
   "source": [
    "# Imports"
   ]
  },
  {
   "cell_type": "code",
   "execution_count": null,
   "metadata": {},
   "outputs": [],
   "source": [
    "from functools import wraps\n",
    "import re \n",
    "import time"
   ]
  },
  {
   "cell_type": "markdown",
   "metadata": {},
   "source": [
    "# Topics"
   ]
  },
  {
   "cell_type": "markdown",
   "metadata": {},
   "source": [
    "## Extract All Names from json (or dict) object like the following "
   ]
  },
  {
   "cell_type": "code",
   "execution_count": 4,
   "metadata": {},
   "outputs": [],
   "source": [
    "data = {\n",
    "    'data': [\n",
    "        {\n",
    "            'name': 'bob',\n",
    "            'age': 60,\n",
    "            'spouse': {'name': 'mary', 'age': 60},\n",
    "            'children': [\n",
    "                {\n",
    "                    'name': 'tom', \n",
    "                    'age': 32,\n",
    "                    'spouse': {\n",
    "                        'name': 'beth',\n",
    "                        'age': 32\n",
    "                    },\n",
    "                    'children': [\n",
    "                        {'name': 'rocky', 'age':4},\n",
    "                        {'name': 'fifi', 'age':2},\n",
    "                    ]\n",
    "                },\n",
    "                {\n",
    "                    'name': 'jerry', 'age': 30,\n",
    "                    'spouse': None, 'children': None\n",
    "                },\n",
    "            ]\n",
    "        }\n",
    "    ]\n",
    "}"
   ]
  },
  {
   "cell_type": "code",
   "execution_count": 5,
   "metadata": {},
   "outputs": [],
   "source": [
    "def timeit(func):\n",
    "    @wraps(func)\n",
    "    def wrapper(*args, **kwargs):\n",
    "        start = time.perf_counter()\n",
    "        result = func(*args, **kwargs)\n",
    "        print(f'{func.__name__} took {time.perf_counter() - start} seconds')\n",
    "        return result\n",
    "    return wrapper"
   ]
  },
  {
   "cell_type": "code",
   "execution_count": 6,
   "metadata": {},
   "outputs": [
    {
     "name": "stdout",
     "output_type": "stream",
     "text": [
      "find_by_regex took 0.0001328999933321029 seconds\n"
     ]
    },
    {
     "data": {
      "text/plain": [
       "['bob', 'mary', 'tom', 'beth', 'rocky', 'fifi', 'jerry']"
      ]
     },
     "execution_count": 6,
     "metadata": {},
     "output_type": "execute_result"
    }
   ],
   "source": [
    "@timeit\n",
    "def find_by_regex(data):\n",
    "    dict_Str = str(data)\n",
    "    matches = re.findall(r\"'name': '([^']*)'\", dict_Str)\n",
    "    return matches\n",
    "\n",
    "find_by_regex(data)"
   ]
  },
  {
   "cell_type": "code",
   "execution_count": 7,
   "metadata": {},
   "outputs": [],
   "source": [
    "@timeit\n",
    "def find(data, output=[]):\n",
    "\n",
    "    if isinstance(data,dict):\n",
    "        # if data is a dictionary, first try finding 'name'\n",
    "        if 'name' in data:\n",
    "            output.append(data['name'])\n",
    "        \n",
    "        # recursively find() all values \n",
    "        for value in data.values():\n",
    "            find(value, output=output)\n",
    "    \n",
    "    if isinstance(data,list):\n",
    "        # if data is a list, recursively find() all elements\n",
    "        for value in data:\n",
    "            find(value, output=output)\n",
    "\n",
    "    return output"
   ]
  },
  {
   "cell_type": "code",
   "execution_count": 8,
   "metadata": {},
   "outputs": [
    {
     "name": "stdout",
     "output_type": "stream",
     "text": [
      "find took 2.7999922167509794e-06 seconds\n",
      "find took 1.8999999156221747e-06 seconds\n",
      "find took 1.0999938240274787e-06 seconds\n",
      "find took 1.2999953469261527e-06 seconds\n",
      "find took 1.8699996871873736e-05 seconds\n",
      "find took 8.999923011288047e-07 seconds\n",
      "find took 8.999923011288047e-07 seconds\n",
      "find took 8.999923011288047e-07 seconds\n",
      "find took 7.999915396794677e-07 seconds\n",
      "find took 1.7099999240599573e-05 seconds\n",
      "find took 1.0999938240274787e-06 seconds\n",
      "find took 8.00006091594696e-07 seconds\n",
      "find took 1.550000160932541e-05 seconds\n",
      "find took 7.999915396794677e-07 seconds\n",
      "find took 8.999923011288047e-07 seconds\n",
      "find took 1.3899989426136017e-05 seconds\n",
      "find took 4.290000651963055e-05 seconds\n",
      "find took 8.600000001024455e-05 seconds\n",
      "find took 7.00005330145359e-07 seconds\n",
      "find took 7.999915396794677e-07 seconds\n",
      "find took 2.1000014385208488e-06 seconds\n",
      "find took 8.00006091594696e-07 seconds\n",
      "find took 2.890000178012997e-05 seconds\n",
      "find took 0.00014229999214876443 seconds\n",
      "find took 0.0005042999982833862 seconds\n",
      "find took 0.0005129999917699024 seconds\n",
      "find took 0.0005232000112300739 seconds\n"
     ]
    },
    {
     "data": {
      "text/plain": [
       "['bob', 'mary', 'tom', 'beth', 'rocky', 'fifi', 'jerry']"
      ]
     },
     "execution_count": 8,
     "metadata": {},
     "output_type": "execute_result"
    }
   ],
   "source": [
    "find(data,[])"
   ]
  },
  {
   "cell_type": "code",
   "execution_count": 9,
   "metadata": {},
   "outputs": [
    {
     "name": "stdout",
     "output_type": "stream",
     "text": [
      "find2 took 3.609999839682132e-05 seconds\n"
     ]
    },
    {
     "data": {
      "text/plain": [
       "['bob', 'mary', 'tom', 'jerry', 'beth', 'rocky', 'fifi']"
      ]
     },
     "execution_count": 9,
     "metadata": {},
     "output_type": "execute_result"
    }
   ],
   "source": [
    "@timeit\n",
    "def find2(data):\n",
    "    queue = [data]\n",
    "    output = []\n",
    "    while len(queue) > 0:\n",
    "        current = queue.pop(0)\n",
    "\n",
    "        if type(current) == dict:\n",
    "            if 'name' in current:\n",
    "                output.append(current['name'])\n",
    "        \n",
    "            queue.extend(list(current.values()))\n",
    "        \n",
    "        if type(current) == list:\n",
    "            queue.extend(current)\n",
    "    \n",
    "    return output\n",
    "\n",
    "find2(data)"
   ]
  },
  {
   "cell_type": "code",
   "execution_count": null,
   "metadata": {},
   "outputs": [],
   "source": []
  }
 ],
 "metadata": {
  "kernelspec": {
   "display_name": "Python 3",
   "language": "python",
   "name": "python3"
  },
  "language_info": {
   "codemirror_mode": {
    "name": "ipython",
    "version": 3
   },
   "file_extension": ".py",
   "mimetype": "text/x-python",
   "name": "python",
   "nbconvert_exporter": "python",
   "pygments_lexer": "ipython3",
   "version": "3.12.0"
  }
 },
 "nbformat": 4,
 "nbformat_minor": 2
}
