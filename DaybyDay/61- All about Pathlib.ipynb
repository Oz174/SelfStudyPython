{
 "cells": [
  {
   "cell_type": "markdown",
   "metadata": {},
   "source": [
    "# Imports"
   ]
  },
  {
   "cell_type": "code",
   "execution_count": 2,
   "metadata": {},
   "outputs": [],
   "source": [
    "from pathlib import Path "
   ]
  },
  {
   "cell_type": "markdown",
   "metadata": {},
   "source": [
    "# Topics"
   ]
  },
  {
   "cell_type": "markdown",
   "metadata": {},
   "source": [
    "## Creating Paths"
   ]
  },
  {
   "cell_type": "code",
   "execution_count": 7,
   "metadata": {},
   "outputs": [
    {
     "name": "stdout",
     "output_type": "stream",
     "text": [
      "Test\\pathlib\\Images\n",
      "Test\\pathlib\\Images\n"
     ]
    }
   ],
   "source": [
    "# 1- Creating a path object using a path-like string \n",
    "path = Path('Test/pathlib/Images')\n",
    "print(path)\n",
    "print(path.expanduser())"
   ]
  },
  {
   "cell_type": "markdown",
   "metadata": {},
   "source": [
    "## Home and CWD"
   ]
  },
  {
   "cell_type": "code",
   "execution_count": 9,
   "metadata": {},
   "outputs": [
    {
     "name": "stdout",
     "output_type": "stream",
     "text": [
      " Home Directory : C:\\Users\\Oreo\n",
      " Current Directory : c:\\Users\\Oreo\\Documents\\lonely_steps_and_random_stuff\\My Learning Journey from Articles\\DaybyDay\n"
     ]
    }
   ],
   "source": [
    "print(f\" Home Directory : {Path.home()}\")\n",
    "print(f\" Current Directory : {Path.cwd()}\")"
   ]
  },
  {
   "cell_type": "markdown",
   "metadata": {},
   "source": [
    "## Creating Files in Subfolders from Base Folder"
   ]
  },
  {
   "cell_type": "code",
   "execution_count": 6,
   "metadata": {},
   "outputs": [
    {
     "name": "stdout",
     "output_type": "stream",
     "text": [
      "Base path: C:\\Users\\Oreo\n",
      "Subdirectory path: C:\\Users\\Oreo\\projects\\project1\n",
      "File path: C:\\Users\\Oreo\\projects\\project1\\report.txt\n"
     ]
    }
   ],
   "source": [
    "# creating a path to file from base_directory \n",
    "\n",
    "base_path = Path.home() \n",
    "\n",
    "# create new paths from the base path\n",
    "subdirectory_path = base_path / \"projects\" / \"project1\"\n",
    "file_path = subdirectory_path / \"report.txt\"\n",
    "\n",
    "# Print out the paths\n",
    "print(\"Base path:\", base_path)\n",
    "print(\"Subdirectory path:\", subdirectory_path)\n",
    "print(\"File path:\", file_path)"
   ]
  },
  {
   "cell_type": "markdown",
   "metadata": {},
   "source": [
    "## Pathlib methods : \n",
    "- exists : check if the path exists\n",
    "- is_dir : check if the path is a directory\n",
    "- is_file : check if the path is a file\n",
    "- mkdir : create a directory\n",
    "- rmdir : remove a directory\n",
    "- unlink : remove a file\n",
    "- rename : rename a file or directory\n",
    "- glob : find files or directories using wildcards\n",
    "- rglob : find files or directories recursively using wildcards\n",
    "- iterdir : iterate over the files or directories in a directory\n",
    "\n"
   ]
  },
  {
   "cell_type": "code",
   "execution_count": 9,
   "metadata": {},
   "outputs": [
    {
     "data": {
      "text/plain": [
       "False"
      ]
     },
     "execution_count": 9,
     "metadata": {},
     "output_type": "execute_result"
    }
   ],
   "source": [
    "file_path.exists()"
   ]
  },
  {
   "cell_type": "code",
   "execution_count": 13,
   "metadata": {},
   "outputs": [
    {
     "data": {
      "text/plain": [
       "(True, True, False)"
      ]
     },
     "execution_count": 13,
     "metadata": {},
     "output_type": "execute_result"
    }
   ],
   "source": [
    "file_path = Path.cwd() / \"19- test.txt\"\n",
    "file_path.exists() , file_path.is_file() , file_path.is_dir()"
   ]
  },
  {
   "cell_type": "code",
   "execution_count": 17,
   "metadata": {},
   "outputs": [
    {
     "name": "stdout",
     "output_type": "stream",
     "text": [
      "C:\\Users\\Oreo\\Downloads\\setup_files\\audacity-win-3.4.2-64bit.exe\n",
      "C:\\Users\\Oreo\\Downloads\\setup_files\\AutoClicker-3.0.exe\n",
      "C:\\Users\\Oreo\\Downloads\\setup_files\\ChromeSetup.exe\n",
      "C:\\Users\\Oreo\\Downloads\\setup_files\\DiscordSetup.exe\n",
      "C:\\Users\\Oreo\\Downloads\\setup_files\\Docker Desktop Installer.exe\n",
      "C:\\Users\\Oreo\\Downloads\\setup_files\\exodus-windows-x64-24.33.4.exe\n",
      "C:\\Users\\Oreo\\Downloads\\setup_files\\Firefox Installer.exe\n",
      "C:\\Users\\Oreo\\Downloads\\setup_files\\GeoGebra-Windows-Installer-5-2-846-0.exe\n",
      "C:\\Users\\Oreo\\Downloads\\setup_files\\ideaIC-2024.2.0.2.exe\n",
      "C:\\Users\\Oreo\\Downloads\\setup_files\\mpv.net-v7.1.1.0-setup.exe\n",
      "C:\\Users\\Oreo\\Downloads\\setup_files\\OllamaSetup.exe\n",
      "C:\\Users\\Oreo\\Downloads\\setup_files\\Postman-win64-Setup.exe\n",
      "C:\\Users\\Oreo\\Downloads\\setup_files\\RecRoomSetup.exe\n",
      "C:\\Users\\Oreo\\Downloads\\setup_files\\rustup-init.exe\n",
      "C:\\Users\\Oreo\\Downloads\\setup_files\\TableauDesktop-64bit-2023-2-1.exe\n",
      "C:\\Users\\Oreo\\Downloads\\setup_files\\TableauPrep-2023-2-1.exe\n"
     ]
    }
   ],
   "source": [
    "for item in Path(\"C:/Users/Oreo/Downloads/setup_files\").iterdir():\n",
    "    print(item)"
   ]
  },
  {
   "cell_type": "code",
   "execution_count": 19,
   "metadata": {},
   "outputs": [
    {
     "name": "stdout",
     "output_type": "stream",
     "text": [
      "22- doctest.py\n",
      "C:\\Users\\Oreo\\Documents\\lonely_steps_and_random_stuff\\My Learning Journey from Articles\\DaybyDay\\22- doctest.py\n"
     ]
    }
   ],
   "source": [
    "relative_path = Path(\"22- doctest.py\")\n",
    "print(relative_path)\n",
    "abs_path = relative_path.resolve()\n",
    "print(abs_path)"
   ]
  },
  {
   "cell_type": "code",
   "execution_count": 26,
   "metadata": {},
   "outputs": [],
   "source": [
    "## File glob and rglob \n",
    "# get the parent of the current dir \n",
    "path = Path(Path.cwd().parents[0])\n",
    "pyfiles = path.glob(\"*.py\") # searches in the same directory and not recursively\n",
    "\n",
    "for file in pyfiles:\n",
    "    print(file)"
   ]
  },
  {
   "cell_type": "code",
   "execution_count": 28,
   "metadata": {},
   "outputs": [
    {
     "name": "stdout",
     "output_type": "stream",
     "text": [
      "c:\\Users\\Oreo\\Documents\\lonely_steps_and_random_stuff\\My Learning Journey from Articles\\DaybyDay\\19- test.txt\n",
      "c:\\Users\\Oreo\\Documents\\lonely_steps_and_random_stuff\\My Learning Journey from Articles\\temp\\20 Numbers Game\\requirement.txt\n",
      "c:\\Users\\Oreo\\Documents\\lonely_steps_and_random_stuff\\My Learning Journey from Articles\\temp\\Logging App\\Loggerv1 (Default User Two checks)\\Readme.txt\n",
      "c:\\Users\\Oreo\\Documents\\lonely_steps_and_random_stuff\\My Learning Journey from Articles\\temp\\Logging App\\Loggerv2 (Interactive)\\Readme.txt\n"
     ]
    }
   ],
   "source": [
    "## File glob and rglob \n",
    "# get the parent of the current dir \n",
    "path = Path(Path.cwd().parents[0])\n",
    "pyfiles = path.rglob(\"*.txt\") # searches in the same directory recursively\n",
    "\n",
    "for file in pyfiles:\n",
    "    print(file)"
   ]
  },
  {
   "cell_type": "markdown",
   "metadata": {},
   "source": [
    "## File Organization Functions "
   ]
  },
  {
   "cell_type": "code",
   "execution_count": 5,
   "metadata": {},
   "outputs": [
    {
     "name": "stdout",
     "output_type": "stream",
     "text": [
      "Help on function expanduser in module pathlib:\n",
      "\n",
      "expanduser(self)\n",
      "    Return a new path with expanded ~ and ~user constructs\n",
      "    (as returned by os.path.expanduser)\n",
      "\n"
     ]
    }
   ],
   "source": [
    "help(Path.expanduser)"
   ]
  },
  {
   "cell_type": "code",
   "execution_count": 6,
   "metadata": {},
   "outputs": [
    {
     "name": "stdout",
     "output_type": "stream",
     "text": [
      "Resolved path: C:\\Users\\Oreo\\Videos\n",
      "The directory C:\\Users\\Oreo\\Videos exists. Proceeding with file organization...\n",
      "Found item: C:\\Users\\Oreo\\Videos\\Captures\n",
      "Skipping C:\\Users\\Oreo\\Videos\\Captures as it is not a file\n",
      "Found item: C:\\Users\\Oreo\\Videos\\desktop.ini\n",
      "Successfully moved C:\\Users\\Oreo\\Videos\\desktop.ini to C:\\Users\\Oreo\\Videos\\ini\\desktop.ini\n",
      "Found item: C:\\Users\\Oreo\\Videos\\ffmpeg.exe\n",
      "Successfully moved C:\\Users\\Oreo\\Videos\\ffmpeg.exe to C:\\Users\\Oreo\\Videos\\exe\\ffmpeg.exe\n",
      "Found item: C:\\Users\\Oreo\\Videos\\ffplay.exe\n",
      "Successfully moved C:\\Users\\Oreo\\Videos\\ffplay.exe to C:\\Users\\Oreo\\Videos\\exe\\ffplay.exe\n",
      "Found item: C:\\Users\\Oreo\\Videos\\ffprobe.exe\n",
      "Successfully moved C:\\Users\\Oreo\\Videos\\ffprobe.exe to C:\\Users\\Oreo\\Videos\\exe\\ffprobe.exe\n",
      "Found item: C:\\Users\\Oreo\\Videos\\Python Tutorial： Calling External Commands Using the Subprocess Module [2Fp1N6dof0Y].mp4\n",
      "Successfully moved C:\\Users\\Oreo\\Videos\\Python Tutorial： Calling External Commands Using the Subprocess Module [2Fp1N6dof0Y].mp4 to C:\\Users\\Oreo\\Videos\\mp4\\Python Tutorial： Calling External Commands Using the Subprocess Module [2Fp1N6dof0Y].mp4\n",
      "Found item: C:\\Users\\Oreo\\Videos\\yt-dlp.exe\n",
      "Successfully moved C:\\Users\\Oreo\\Videos\\yt-dlp.exe to C:\\Users\\Oreo\\Videos\\exe\\yt-dlp.exe\n",
      "Found item: C:\\Users\\Oreo\\Videos\\أغنية بداية بليزين تينز - سبيستون 🎵  Blazing Teens - Spacetoon [k1upRyUhXKI].m4a\n",
      "Successfully moved C:\\Users\\Oreo\\Videos\\أغنية بداية بليزين تينز - سبيستون 🎵  Blazing Teens - Spacetoon [k1upRyUhXKI].m4a to C:\\Users\\Oreo\\Videos\\m4a\\أغنية بداية بليزين تينز - سبيستون 🎵  Blazing Teens - Spacetoon [k1upRyUhXKI].m4a\n",
      "Found item: C:\\Users\\Oreo\\Videos\\ياما ليالي وانت مش معايا - سارة هيثم ⧸ ( 2024 ) [Official Music Video] [rBfCxOTpsEA].m4a\n",
      "Successfully moved C:\\Users\\Oreo\\Videos\\ياما ليالي وانت مش معايا - سارة هيثم ⧸ ( 2024 ) [Official Music Video] [rBfCxOTpsEA].m4a to C:\\Users\\Oreo\\Videos\\m4a\\ياما ليالي وانت مش معايا - سارة هيثم ⧸ ( 2024 ) [Official Music Video] [rBfCxOTpsEA].m4a\n"
     ]
    }
   ],
   "source": [
    "def organize_files_by_extension(path_to_dir):\n",
    "    path = Path(path_to_dir).expanduser().resolve()\n",
    "    print(f\"Resolved path: {path}\")\n",
    "\n",
    "    if path.exists() and path.is_dir():\n",
    "        print(f\"The directory {path} exists. Proceeding with file organization...\")\n",
    "   \t \n",
    "    for item in path.iterdir():\n",
    "        print(f\"Found item: {item}\")\n",
    "        if item.is_file():\n",
    "            extension = item.suffix.lower()\n",
    "            target_dir = path / extension[1:]  # Remove the leading dot\n",
    "\n",
    "            # Ensure the target directory exists\n",
    "            target_dir.mkdir(exist_ok=True)\n",
    "            new_path = target_dir / item.name\n",
    "\n",
    "            # Move the file\n",
    "            item.rename(new_path)\n",
    "\n",
    "            # Check if the file has been moved\n",
    "            if new_path.exists():\n",
    "                print(f\"Successfully moved {item} to {new_path}\")\n",
    "            else:\n",
    "                print(f\"Failed to move {item} to {new_path}\")\n",
    "        else:\n",
    "            print(f\"Skipping {item} as it is not a file\")\n",
    "\n",
    "organize_files_by_extension(\"C:/Users/Oreo/Videos\")"
   ]
  },
  {
   "cell_type": "code",
   "execution_count": null,
   "metadata": {},
   "outputs": [],
   "source": [
    "def search_and_process_text_files(directory):\n",
    "    path = Path(directory)\n",
    "    path = path.resolve()\n",
    "    for text_file in path.rglob('*.txt'):\n",
    "    # process text files as needed\n",
    "        print(f'Processing {text_file}...')\n",
    "        print(text_file.read_text())"
   ]
  },
  {
   "cell_type": "code",
   "execution_count": null,
   "metadata": {},
   "outputs": [],
   "source": [
    "import shutil\n",
    "def back_up_files(directory, backup_directory):\n",
    "    path = Path(directory)\n",
    "    backup_path = Path(backup_directory)\n",
    "    backup_path.mkdir(parents=True, exist_ok=True)\n",
    "\n",
    "    for important_file in path.rglob('*.py'):\n",
    "        shutil.copy(important_file, backup_path / important_file.name)\n",
    "        print(f'Backed up {important_file} to {backup_path}')"
   ]
  }
 ],
 "metadata": {
  "kernelspec": {
   "display_name": "Python 3",
   "language": "python",
   "name": "python3"
  },
  "language_info": {
   "codemirror_mode": {
    "name": "ipython",
    "version": 3
   },
   "file_extension": ".py",
   "mimetype": "text/x-python",
   "name": "python",
   "nbconvert_exporter": "python",
   "pygments_lexer": "ipython3",
   "version": "3.12.0"
  }
 },
 "nbformat": 4,
 "nbformat_minor": 2
}
