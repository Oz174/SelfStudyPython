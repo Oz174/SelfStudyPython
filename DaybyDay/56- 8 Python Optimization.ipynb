{
 "cells": [
  {
   "cell_type": "markdown",
   "metadata": {},
   "source": [
    "# Imports"
   ]
  },
  {
   "cell_type": "code",
   "execution_count": 1,
   "metadata": {},
   "outputs": [],
   "source": [
    "import struct\n",
    "import mmap \n",
    "import gc \n",
    "import numpy as np\n",
    "import array\n",
    "import sys\n",
    "from memory_profiler import memory_usage\n",
    "import time \n",
    "import pandas as pd\n",
    "import numpy as np"
   ]
  },
  {
   "cell_type": "markdown",
   "metadata": {},
   "source": [
    "# Topics"
   ]
  },
  {
   "cell_type": "markdown",
   "metadata": {},
   "source": [
    "## Variables packing with struct\n",
    "\n",
    "In this example, using the ```struct``` module packs integers into a compact binary format, making data processing more efficient"
   ]
  },
  {
   "cell_type": "code",
   "execution_count": 2,
   "metadata": {},
   "outputs": [],
   "source": [
    "\n",
    "\n",
    "# Packing two integers into a binary format\n",
    "packed_data = struct.pack('ii', 10, 20)\n",
    "\n",
    "# Unpacking the packed binary data\n",
    "a, b = struct.unpack('ii', packed_data)"
   ]
  },
  {
   "cell_type": "code",
   "execution_count": 3,
   "metadata": {},
   "outputs": [
    {
     "data": {
      "text/plain": [
       "(10, 20)"
      ]
     },
     "execution_count": 3,
     "metadata": {},
     "output_type": "execute_result"
    }
   ],
   "source": [
    "a , b"
   ]
  },
  {
   "cell_type": "markdown",
   "metadata": {},
   "source": [
    "## Faster I/O operations with mmap \n",
    "\n",
    "Memory-mapped files allow you to treat disk storage as if it were memory, speeding up access times for large files"
   ]
  },
  {
   "cell_type": "code",
   "execution_count": 4,
   "metadata": {},
   "outputs": [
    {
     "name": "stdout",
     "output_type": "stream",
     "text": [
      "b'line1\\r\\nline2\\r\\nline3\\r\\neof'\n"
     ]
    }
   ],
   "source": [
    "# Memory-mapping a file\n",
    "with open(\"19- test.txt\", \"r+b\") as f:\n",
    "    mmapped_file = mmap.mmap(f.fileno(), 0)\n",
    "    print(mmapped_file.read())\n",
    "    mmapped_file.close()"
   ]
  },
  {
   "cell_type": "markdown",
   "metadata": {},
   "source": [
    "## Fixed Vs Variable Size Arrays "
   ]
  },
  {
   "cell_type": "code",
   "execution_count": 5,
   "metadata": {},
   "outputs": [],
   "source": [
    "# Using fixed-length array for performance\n",
    "fixed_array = array.array('i', [1, 2, 3, 4, 5])\n",
    "\n",
    "# Dynamic list (variable-length)\n",
    "dynamic_list = [1, 2, 3, 4, 5]"
   ]
  },
  {
   "cell_type": "markdown",
   "metadata": {},
   "source": [
    "## Loops Optmization through Vectorization"
   ]
  },
  {
   "cell_type": "code",
   "execution_count": 6,
   "metadata": {},
   "outputs": [
    {
     "data": {
      "text/plain": [
       "array([ 2,  4,  6,  8, 10])"
      ]
     },
     "execution_count": 6,
     "metadata": {},
     "output_type": "execute_result"
    }
   ],
   "source": [
    "arr = np.array([1, 2, 3, 4, 5], dtype=np.int32)\n",
    "\n",
    "result = arr * 2\n",
    "result"
   ]
  },
  {
   "cell_type": "markdown",
   "metadata": {},
   "source": [
    "## Short Circuit Conditions"
   ]
  },
  {
   "cell_type": "code",
   "execution_count": 7,
   "metadata": {},
   "outputs": [
    {
     "data": {
      "text/plain": [
       "False"
      ]
     },
     "execution_count": 7,
     "metadata": {},
     "output_type": "execute_result"
    }
   ],
   "source": [
    "def complex_condition(x, y):\n",
    "    return x != 0 and y / x > 2  # Stops evaluation if x is 0\n",
    "\n",
    "complex_condition(0, 1000000000)  # No division by zero error\n"
   ]
  },
  {
   "cell_type": "markdown",
   "metadata": {},
   "source": [
    "## Free Up Memory with Garbage Collection"
   ]
  },
  {
   "cell_type": "code",
   "execution_count": 8,
   "metadata": {},
   "outputs": [
    {
     "data": {
      "text/plain": [
       "0"
      ]
     },
     "execution_count": 8,
     "metadata": {},
     "output_type": "execute_result"
    }
   ],
   "source": [
    "# Manual garbage collection to free up memory\n",
    "large_data = [i for i in range(1_000_000)]\n",
    "del large_data\n",
    "gc.collect()  # Forces garbage collection"
   ]
  },
  {
   "cell_type": "markdown",
   "metadata": {},
   "source": [
    "## Internal Vs Public Functions\n",
    "\n",
    "Internal functions are those intended to be used only within the module where they are defined, often optimised for speed and efficiency. Public functions are exposed for external use and may include additional error handling or logging, making them slightly less efficient."
   ]
  },
  {
   "cell_type": "code",
   "execution_count": 9,
   "metadata": {},
   "outputs": [
    {
     "name": "stdout",
     "output_type": "stream",
     "text": [
      "25\n",
      "Input must be an integer\n"
     ]
    }
   ],
   "source": [
    "def _private_function(data):\n",
    "    # Optimized for internal use, with minimal error handling\n",
    "    return data ** 2\n",
    "\n",
    "def public_function(data):\n",
    "    # Includes additional checks for external use\n",
    "    if isinstance(data, int):\n",
    "        return _private_function(data)\n",
    "    raise ValueError(\"Input must be an integer\")\n",
    "\n",
    "# Example of using the public function\n",
    "try:\n",
    "    print(public_function(5))\n",
    "    print(public_function('a'))\n",
    "except Exception as e:\n",
    "    print(e)\n",
    "    "
   ]
  },
  {
   "cell_type": "markdown",
   "metadata": {},
   "source": [
    "## Memory Optimizations "
   ]
  },
  {
   "cell_type": "markdown",
   "metadata": {},
   "source": [
    "### 2 ways to track memory consumption"
   ]
  },
  {
   "cell_type": "code",
   "execution_count": 10,
   "metadata": {},
   "outputs": [
    {
     "name": "stdout",
     "output_type": "stream",
     "text": [
      "Size of array of len 10000000 is 84.97 Mbs\n",
      "Size of generator of len 10000000 is 0.00 MBs\n",
      "Size of array of len 10000000  made from array lib is 38.15 Mbs\n",
      "Size of numpy array of len 10000000 is 38.15 MBs\n"
     ]
    }
   ],
   "source": [
    "# 1- sys.getsizeof \n",
    "size = 10**7\n",
    "some_array = [i for i in range(size)]\n",
    "some_gen = (i for i in range(size))\n",
    "\n",
    "print(f\"Size of array of len {size} is {(sys.getsizeof(some_array)/(1024*1024)):.2f} Mbs\")\n",
    "\n",
    "\n",
    "print(f\"Size of generator of len {size} is {(sys.getsizeof(some_gen)/(1024*1024)):.2f} MBs\")\n",
    "\n",
    "some_array = array.array('i',[i for i in range(size)])\n",
    "print(f\"Size of array of len {size}  made from array lib is {(sys.getsizeof(some_array)/(1024*1024)):.2f} Mbs\")\n",
    "\n",
    "some_np_array = np.array(some_array)\n",
    "print(f\"Size of numpy array of len {size} is {(sys.getsizeof(some_np_array)/(1024*1024)):.2f} MBs\")\n",
    "\n",
    "\n"
   ]
  },
  {
   "cell_type": "code",
   "execution_count": 11,
   "metadata": {},
   "outputs": [
    {
     "name": "stdout",
     "output_type": "stream",
     "text": [
      "Memory usage: 173.01171875 MB\n"
     ]
    }
   ],
   "source": [
    "# 2- memory_usage from memory profiler\n",
    "# memory profiler is more suited with functions behaviour \n",
    "\n",
    "def my_function():\n",
    "    a = 'Towards Data Science' * (10**7)\n",
    "    return a\n",
    "\n",
    "mem_usage = memory_usage((my_function,))\n",
    "print(f\"Memory usage: {max(mem_usage) - min(mem_usage)} MB\")"
   ]
  },
  {
   "cell_type": "code",
   "execution_count": 12,
   "metadata": {},
   "outputs": [],
   "source": [
    "def timer(func):\n",
    "    def wrapper(*args):\n",
    "        start = time.perf_counter()\n",
    "        result = func(*args)\n",
    "        end = time.perf_counter()\n",
    "        print(f\"Function {func.__name__} took {(end - start):.2f} seconds\")\n",
    "        return result\n",
    "    return wrapper\n",
    "\n",
    "\n",
    "@timer\n",
    "def make_list(size):\n",
    "    return sum([i for i in range(size)])\n",
    "\n",
    "@timer\n",
    "def make_gen(size):\n",
    "    return sum((i for i in range(size)))"
   ]
  },
  {
   "cell_type": "code",
   "execution_count": 13,
   "metadata": {},
   "outputs": [
    {
     "name": "stdout",
     "output_type": "stream",
     "text": [
      "Function make_list took 1.04 seconds\n"
     ]
    },
    {
     "data": {
      "text/plain": [
       "49999995000000"
      ]
     },
     "execution_count": 13,
     "metadata": {},
     "output_type": "execute_result"
    }
   ],
   "source": [
    "make_list(10**7)"
   ]
  },
  {
   "cell_type": "code",
   "execution_count": 14,
   "metadata": {},
   "outputs": [
    {
     "name": "stdout",
     "output_type": "stream",
     "text": [
      "Function make_gen took 0.97 seconds\n"
     ]
    },
    {
     "data": {
      "text/plain": [
       "49999995000000"
      ]
     },
     "execution_count": 14,
     "metadata": {},
     "output_type": "execute_result"
    }
   ],
   "source": [
    "make_gen(10**7)"
   ]
  },
  {
   "cell_type": "code",
   "execution_count": 15,
   "metadata": {},
   "outputs": [
    {
     "name": "stdout",
     "output_type": "stream",
     "text": [
      "Metrics for the list version\n",
      "Function make_list took 1.03 seconds\n",
      "Using lists:\n",
      "Memory usage: 381.46 MB\n",
      "Metrics for the generator version\n",
      "Function make_gen took 0.94 seconds\n",
      "Using generators:\n",
      "Memory usage: 0.00 MB\n"
     ]
    }
   ],
   "source": [
    "print(\"Metrics for the list version\")\n",
    "mem_usage = memory_usage((make_list, (size,)), interval=0.1)\n",
    "\n",
    "print(\"Using lists:\")\n",
    "print(f\"Memory usage: {max(mem_usage) - min(mem_usage):.2f} MB\")\n",
    "# Generator version implementation\n",
    "print(\"Metrics for the generator version\")\n",
    "\n",
    "mem_usage = memory_usage((make_gen, (size,)), interval=0.1)\n",
    "\n",
    "\n",
    "print(\"Using generators:\")\n",
    "print(f\"Memory usage: {max(mem_usage) - min(mem_usage):.2f} MB\")\n"
   ]
  },
  {
   "cell_type": "markdown",
   "metadata": {},
   "source": [
    "**NOTE** : Approximately close timing , but huge memory difference"
   ]
  },
  {
   "cell_type": "markdown",
   "metadata": {},
   "source": [
    "### Data Structure Matters"
   ]
  },
  {
   "cell_type": "code",
   "execution_count": 16,
   "metadata": {},
   "outputs": [],
   "source": [
    "@timer\n",
    "def process_with_dataframe(size):\n",
    "    data = pd.DataFrame({'numbers': range(size)})\n",
    "    result = data['numbers'].sum()\n",
    "    return result\n",
    "\n",
    "@timer\n",
    "def process_with_series(size):\n",
    "    data = pd.Series(range(size))\n",
    "    result = data.sum()\n",
    "    return result"
   ]
  },
  {
   "cell_type": "code",
   "execution_count": 17,
   "metadata": {},
   "outputs": [
    {
     "name": "stdout",
     "output_type": "stream",
     "text": [
      "Metrics for the DataFrame\n",
      "Function process_with_dataframe took 0.06 seconds\n",
      "Function process_with_dataframe took 0.05 seconds\n",
      "Using Dataframes:\n",
      "Memory usage: 98.17 MB\n",
      "Metrics for the Series \n",
      "Function process_with_series took 0.03 seconds\n",
      "Function process_with_series took 0.03 seconds\n",
      "Function process_with_series took 0.03 seconds\n",
      "Using Series:\n",
      "Memory usage: 51.41 MB\n"
     ]
    }
   ],
   "source": [
    "print(\"Metrics for the DataFrame\")\n",
    "mem_usage = memory_usage((process_with_dataframe, (size,)), interval=0.1)\n",
    "\n",
    "print(\"Using Dataframes:\")\n",
    "print(f\"Memory usage: {max(mem_usage) - min(mem_usage):.2f} MB\")\n",
    "# Generator version implementation\n",
    "print(\"Metrics for the Series \")\n",
    "\n",
    "mem_usage = memory_usage((process_with_series, (size,)), interval=0.1)\n",
    "\n",
    "\n",
    "print(\"Using Series:\")\n",
    "print(f\"Memory usage: {max(mem_usage) - min(mem_usage):.2f} MB\")\n"
   ]
  },
  {
   "cell_type": "code",
   "execution_count": 18,
   "metadata": {},
   "outputs": [
    {
     "name": "stdout",
     "output_type": "stream",
     "text": [
      "Memory usage for string type: 572.20 MB\n"
     ]
    }
   ],
   "source": [
    "# categorical data helps too instead of strings \n",
    "\n",
    "df = pd.DataFrame({\n",
    "    'A': np.random.choice(['foo', 'bar', 'baz', 'qux'], size=size),\n",
    "    'B': range(10**7)\n",
    "})\n",
    "\n",
    "mem_before = sys.getsizeof(df)\n",
    "print(f\"Memory usage for string type: {mem_before / (1024 * 1024):.2f} MB\")"
   ]
  },
  {
   "cell_type": "code",
   "execution_count": 19,
   "metadata": {},
   "outputs": [
    {
     "name": "stdout",
     "output_type": "stream",
     "text": [
      "Memory usage for categorical: 85.83 MB\n"
     ]
    }
   ],
   "source": [
    "df['A'] = df['A'].astype('category')\n",
    "\n",
    "mem_after = sys.getsizeof(df)\n",
    "print(f\"Memory usage for categorical: {mem_after / (1024 * 1024):.2f} MB\")"
   ]
  },
  {
   "cell_type": "code",
   "execution_count": 20,
   "metadata": {},
   "outputs": [
    {
     "data": {
      "text/plain": [
       "Index(['bar', 'baz', 'foo', 'qux'], dtype='object')"
      ]
     },
     "execution_count": 20,
     "metadata": {},
     "output_type": "execute_result"
    }
   ],
   "source": [
    "df['A'].cat.categories"
   ]
  },
  {
   "cell_type": "code",
   "execution_count": 21,
   "metadata": {},
   "outputs": [
    {
     "data": {
      "text/plain": [
       "0    2\n",
       "1    0\n",
       "2    0\n",
       "3    0\n",
       "4    3\n",
       "5    0\n",
       "6    2\n",
       "7    0\n",
       "8    1\n",
       "9    2\n",
       "dtype: int8"
      ]
     },
     "execution_count": 21,
     "metadata": {},
     "output_type": "execute_result"
    }
   ],
   "source": [
    "df['A'].cat.codes[:10]"
   ]
  },
  {
   "cell_type": "markdown",
   "metadata": {},
   "source": []
  }
 ],
 "metadata": {
  "kernelspec": {
   "display_name": "Python 3",
   "language": "python",
   "name": "python3"
  },
  "language_info": {
   "codemirror_mode": {
    "name": "ipython",
    "version": 3
   },
   "file_extension": ".py",
   "mimetype": "text/x-python",
   "name": "python",
   "nbconvert_exporter": "python",
   "pygments_lexer": "ipython3",
   "version": "3.12.0"
  }
 },
 "nbformat": 4,
 "nbformat_minor": 2
}
