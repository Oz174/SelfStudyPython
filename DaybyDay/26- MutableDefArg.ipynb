{
 "cells": [
  {
   "cell_type": "markdown",
   "metadata": {},
   "source": [
    "# Imports"
   ]
  },
  {
   "cell_type": "code",
   "execution_count": 1,
   "metadata": {},
   "outputs": [],
   "source": [
    "from typing import List"
   ]
  },
  {
   "cell_type": "markdown",
   "metadata": {},
   "source": [
    "# Topics"
   ]
  },
  {
   "cell_type": "markdown",
   "metadata": {},
   "source": [
    "## Using Mutable Data Structures as Default Args "
   ]
  },
  {
   "cell_type": "code",
   "execution_count": 6,
   "metadata": {},
   "outputs": [
    {
     "name": "stdout",
     "output_type": "stream",
     "text": [
      "['pie']\n",
      "['pie', 'pie']\n",
      "['pie', 'pie', 'pie']\n"
     ]
    }
   ],
   "source": [
    "def func(ls:List[str]=[]):\n",
    "    ls.append('pie')\n",
    "    return ls\n",
    "\n",
    "print(func())\n",
    "print(func())\n",
    "print(func())\n"
   ]
  },
  {
   "cell_type": "markdown",
   "metadata": {},
   "source": [
    "When the function func is defined, the Python interpreter reads the line ls: List[str] = [] only once. This means that the default value of ls is a single list object that is shared by all calls to func. This can lead to unexpected behavior if the default value is a mutable data structure like a list or dictionary."
   ]
  },
  {
   "cell_type": "code",
   "execution_count": 8,
   "metadata": {},
   "outputs": [
    {
     "name": "stdout",
     "output_type": "stream",
     "text": [
      "['pie']\n",
      "['pie']\n",
      "['pie']\n"
     ]
    }
   ],
   "source": [
    "# correction \n",
    "def func(ls:List[str]=None):\n",
    "    if ls is None:\n",
    "        ls = []\n",
    "    ls.append('pie')\n",
    "    return ls\n",
    "\n",
    "print(func())\n",
    "print(func())\n",
    "print(func())"
   ]
  },
  {
   "cell_type": "markdown",
   "metadata": {},
   "source": []
  }
 ],
 "metadata": {
  "kernelspec": {
   "display_name": "Python 3",
   "language": "python",
   "name": "python3"
  },
  "language_info": {
   "codemirror_mode": {
    "name": "ipython",
    "version": 3
   },
   "file_extension": ".py",
   "mimetype": "text/x-python",
   "name": "python",
   "nbconvert_exporter": "python",
   "pygments_lexer": "ipython3",
   "version": "3.12.0"
  }
 },
 "nbformat": 4,
 "nbformat_minor": 2
}
