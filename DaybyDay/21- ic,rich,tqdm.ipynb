{
 "cells": [
  {
   "cell_type": "markdown",
   "metadata": {},
   "source": [
    "# Imports"
   ]
  },
  {
   "cell_type": "code",
   "execution_count": 4,
   "metadata": {},
   "outputs": [],
   "source": [
    "from icecream import ic\n",
    "from rich.console import Console\n",
    "from rich.table import Table \n",
    "import polars as pl \n",
    "from tqdm import tqdm\n",
    "from functools import wraps"
   ]
  },
  {
   "cell_type": "markdown",
   "metadata": {},
   "source": [
    "# Topics"
   ]
  },
  {
   "cell_type": "markdown",
   "metadata": {},
   "source": [
    "## Icecream Library "
   ]
  },
  {
   "cell_type": "code",
   "execution_count": 2,
   "metadata": {},
   "outputs": [
    {
     "name": "stdout",
     "output_type": "stream",
     "text": [
      "456\n"
     ]
    },
    {
     "name": "stderr",
     "output_type": "stream",
     "text": [
      "ic| foo(123): 456\n"
     ]
    },
    {
     "data": {
      "text/plain": [
       "456"
      ]
     },
     "execution_count": 2,
     "metadata": {},
     "output_type": "execute_result"
    }
   ],
   "source": [
    "def foo(i):\n",
    "    return i + 333\n",
    "\n",
    "print(foo(123))     # 456\n",
    "ic(foo(123))        # ic| foo(123): 456"
   ]
  },
  {
   "cell_type": "code",
   "execution_count": 25,
   "metadata": {},
   "outputs": [],
   "source": [
    "# one can use decorator \n",
    "def debug(func):\n",
    "    @wraps(func)\n",
    "    def wrapper(*args):\n",
    "        result = func(*args)\n",
    "        print(f\"ic | {func.__name__}{args} : {result}\")\n",
    "        return result\n",
    "    return wrapper"
   ]
  },
  {
   "cell_type": "code",
   "execution_count": 26,
   "metadata": {},
   "outputs": [
    {
     "name": "stdout",
     "output_type": "stream",
     "text": [
      "ic | foo(123,) : 456\n"
     ]
    },
    {
     "data": {
      "text/plain": [
       "456"
      ]
     },
     "execution_count": 26,
     "metadata": {},
     "output_type": "execute_result"
    }
   ],
   "source": [
    "@debug\n",
    "def foo(i):\n",
    "    return i + 333\n",
    "\n",
    "foo(123)"
   ]
  },
  {
   "cell_type": "markdown",
   "metadata": {},
   "source": [
    "## Rich Library "
   ]
  },
  {
   "cell_type": "code",
   "execution_count": 5,
   "metadata": {},
   "outputs": [
    {
     "data": {
      "text/html": [
       "<pre style=\"white-space:pre;overflow-x:auto;line-height:normal;font-family:Menlo,'DejaVu Sans Mono',consolas,'Courier New',monospace\"><span style=\"font-style: italic\">                          Star Wars Movies                           </span>\n",
       "┏━━━━━━━━━━━━━━┳━━━━━━━━━━━━━━━━━━━━━━━━━━━━━━━━━━━┳━━━━━━━━━━━━━━━━┓\n",
       "┃<span style=\"font-weight: bold\">     Released </span>┃<span style=\"font-weight: bold\"> Title                             </span>┃<span style=\"font-weight: bold\">     Box Office </span>┃\n",
       "┡━━━━━━━━━━━━━━╇━━━━━━━━━━━━━━━━━━━━━━━━━━━━━━━━━━━╇━━━━━━━━━━━━━━━━┩\n",
       "│<span style=\"color: #008080; text-decoration-color: #008080\"> Dec 20, 2019 </span>│<span style=\"color: #800080; text-decoration-color: #800080\"> Star Wars: The Rise of Skywalker  </span>│<span style=\"color: #008000; text-decoration-color: #008000\">   $952,110,690 </span>│\n",
       "│<span style=\"color: #008080; text-decoration-color: #008080\"> May 25, 2018 </span>│<span style=\"color: #800080; text-decoration-color: #800080\"> Solo: A Star Wars Story           </span>│<span style=\"color: #008000; text-decoration-color: #008000\">   $393,151,347 </span>│\n",
       "│<span style=\"color: #008080; text-decoration-color: #008080\"> Dec 15, 2017 </span>│<span style=\"color: #800080; text-decoration-color: #800080\"> Star Wars Ep. V111: The Last Jedi </span>│<span style=\"color: #008000; text-decoration-color: #008000\"> $1,332,539,889 </span>│\n",
       "│<span style=\"color: #008080; text-decoration-color: #008080\"> Dec 16, 2016 </span>│<span style=\"color: #800080; text-decoration-color: #800080\"> Rogue One: A Star Wars Story      </span>│<span style=\"color: #008000; text-decoration-color: #008000\"> $1,332,439,889 </span>│\n",
       "└──────────────┴───────────────────────────────────┴────────────────┘\n",
       "</pre>\n"
      ],
      "text/plain": [
       "\u001b[3m                          Star Wars Movies                           \u001b[0m\n",
       "┏━━━━━━━━━━━━━━┳━━━━━━━━━━━━━━━━━━━━━━━━━━━━━━━━━━━┳━━━━━━━━━━━━━━━━┓\n",
       "┃\u001b[1m \u001b[0m\u001b[1m    Released\u001b[0m\u001b[1m \u001b[0m┃\u001b[1m \u001b[0m\u001b[1mTitle                            \u001b[0m\u001b[1m \u001b[0m┃\u001b[1m \u001b[0m\u001b[1m    Box Office\u001b[0m\u001b[1m \u001b[0m┃\n",
       "┡━━━━━━━━━━━━━━╇━━━━━━━━━━━━━━━━━━━━━━━━━━━━━━━━━━━╇━━━━━━━━━━━━━━━━┩\n",
       "│\u001b[36m \u001b[0m\u001b[36mDec 20, 2019\u001b[0m\u001b[36m \u001b[0m│\u001b[35m \u001b[0m\u001b[35mStar Wars: The Rise of Skywalker \u001b[0m\u001b[35m \u001b[0m│\u001b[32m \u001b[0m\u001b[32m  $952,110,690\u001b[0m\u001b[32m \u001b[0m│\n",
       "│\u001b[36m \u001b[0m\u001b[36mMay 25, 2018\u001b[0m\u001b[36m \u001b[0m│\u001b[35m \u001b[0m\u001b[35mSolo: A Star Wars Story          \u001b[0m\u001b[35m \u001b[0m│\u001b[32m \u001b[0m\u001b[32m  $393,151,347\u001b[0m\u001b[32m \u001b[0m│\n",
       "│\u001b[36m \u001b[0m\u001b[36mDec 15, 2017\u001b[0m\u001b[36m \u001b[0m│\u001b[35m \u001b[0m\u001b[35mStar Wars Ep. V111: The Last Jedi\u001b[0m\u001b[35m \u001b[0m│\u001b[32m \u001b[0m\u001b[32m$1,332,539,889\u001b[0m\u001b[32m \u001b[0m│\n",
       "│\u001b[36m \u001b[0m\u001b[36mDec 16, 2016\u001b[0m\u001b[36m \u001b[0m│\u001b[35m \u001b[0m\u001b[35mRogue One: A Star Wars Story     \u001b[0m\u001b[35m \u001b[0m│\u001b[32m \u001b[0m\u001b[32m$1,332,439,889\u001b[0m\u001b[32m \u001b[0m│\n",
       "└──────────────┴───────────────────────────────────┴────────────────┘\n"
      ]
     },
     "metadata": {},
     "output_type": "display_data"
    }
   ],
   "source": [
    "table = Table(title=\"Star Wars Movies\")\n",
    "\n",
    "table.add_column(\"Released\", justify=\"right\", style=\"cyan\", no_wrap=True)\n",
    "table.add_column(\"Title\", style=\"magenta\")\n",
    "table.add_column(\"Box Office\", justify=\"right\", style=\"green\")\n",
    "table.add_row(\"Dec 20, 2019\", \"Star Wars: The Rise of Skywalker\", \"$952,110,690\")\n",
    "table.add_row(\"May 25, 2018\", \"Solo: A Star Wars Story\", \"$393,151,347\")\n",
    "table.add_row(\"Dec 15, 2017\", \"Star Wars Ep. V111: The Last Jedi\", \"$1,332,539,889\")\n",
    "table.add_row(\"Dec 16, 2016\", \"Rogue One: A Star Wars Story\", \"$1,332,439,889\")\n",
    "console = Console()\n",
    "console.print(table)"
   ]
  },
  {
   "cell_type": "markdown",
   "metadata": {},
   "source": [
    "## Polars"
   ]
  },
  {
   "cell_type": "code",
   "execution_count": null,
   "metadata": {},
   "outputs": [],
   "source": [
    "data = {'name': ['Alice', 'Bob', 'Charlie'],\n",
    "        'age': [25, 30, 35],\n",
    "        'salary': [50000, 60000, 70000]}\n",
    "df = pl.DataFrame(data)\n",
    "result = df.lazy().filter(pl.col(\"age\") > 25).select([\"name\", \"age\", \"salary\"])\n",
    "final_df = result.collect()\n",
    "print(final_df)"
   ]
  },
  {
   "cell_type": "markdown",
   "metadata": {},
   "source": [
    "## TQDM"
   ]
  },
  {
   "cell_type": "code",
   "execution_count": 27,
   "metadata": {},
   "outputs": [
    {
     "name": "stderr",
     "output_type": "stream",
     "text": [
      "100%|██████████| 500000000/500000000 [01:27<00:00, 5730786.58it/s]\n"
     ]
    }
   ],
   "source": [
    "for i in tqdm(range(500000000)):\n",
    "    pass"
   ]
  }
 ],
 "metadata": {
  "kernelspec": {
   "display_name": "Python 3",
   "language": "python",
   "name": "python3"
  },
  "language_info": {
   "codemirror_mode": {
    "name": "ipython",
    "version": 3
   },
   "file_extension": ".py",
   "mimetype": "text/x-python",
   "name": "python",
   "nbconvert_exporter": "python",
   "pygments_lexer": "ipython3",
   "version": "3.12.0"
  }
 },
 "nbformat": 4,
 "nbformat_minor": 2
}
