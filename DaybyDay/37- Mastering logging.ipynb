{
 "cells": [
  {
   "cell_type": "markdown",
   "metadata": {},
   "source": [
    "# Imports"
   ]
  },
  {
   "cell_type": "code",
   "execution_count": 1,
   "metadata": {},
   "outputs": [],
   "source": [
    "import logging"
   ]
  },
  {
   "cell_type": "markdown",
   "metadata": {},
   "source": [
    "# Topics "
   ]
  },
  {
   "cell_type": "markdown",
   "metadata": {},
   "source": [
    "## Logging Library \n",
    "\n",
    "For detailed python files , you can find it in this directory [Logging Library](../Logging/)"
   ]
  },
  {
   "cell_type": "code",
   "execution_count": 2,
   "metadata": {},
   "outputs": [
    {
     "name": "stderr",
     "output_type": "stream",
     "text": [
      "INFO:root:This is an info message\n",
      "WARNING:root:This is a warning message\n"
     ]
    }
   ],
   "source": [
    "# Simple configuration of logging\n",
    "\n",
    "# setting basic configuration\n",
    "logging.basicConfig(level=logging.INFO)\n",
    "\n",
    "logging.info(\"This is an info message\")\n",
    "logging.warning(\"This is a warning message\")"
   ]
  },
  {
   "cell_type": "markdown",
   "metadata": {},
   "source": [
    "### Understanding Logging Levels\n",
    "Logging levels are fundamental to the logging process, allowing you to categorize the severity of log messages. Python’s built-in logging module defines several standard levels, with the following being the most commonly used:\n",
    "\n",
    "- DEBUG: Detailed information, typically of interest only when diagnosing problems.\n",
    "- INFO: Confirmation that things are working as expected.\n",
    "- WARNING: An indication that something unexpected happened, or indicative of some problem in the near future (e.g., ‘disk space low’). The software is still working as expected.\n",
    "- ERROR: Due to a more serious problem, the software has not been able to perform some function.\n",
    "- CRITICAL: A serious error, indicating that the program itself may be unable to continue running.\n",
    "\n",
    "\n",
    "\n",
    "When you configure logging, you set a level, and only messages with that level or higher will be tracked. This allows you to adjust the verbosity of your logging output depending on your current needs, such as debugging or monitoring production environments."
   ]
  },
  {
   "cell_type": "markdown",
   "metadata": {},
   "source": [
    "### Loggers , Handlers and Formatters"
   ]
  },
  {
   "cell_type": "markdown",
   "metadata": {},
   "source": [
    "- Loggers are the entry point of the logging system. Each logger is identified by its name, allowing you to categorize logs and adjust logging levels.\n",
    "- Handlers send the log records (created by loggers) to the appropriate destination, like a file, stdout, or even over the network.\n",
    "- Formatters specify the exact format of the log message."
   ]
  },
  {
   "cell_type": "code",
   "execution_count": 3,
   "metadata": {},
   "outputs": [
    {
     "name": "stderr",
     "output_type": "stream",
     "text": [
      "2024-07-26 11:38:40,720 - example_logger - INFO - This info won't appear in the file, only on console\n",
      "INFO:example_logger:This info won't appear in the file, only on console\n",
      "2024-07-26 11:38:40,720 - example_logger - ERROR - This error will appear both in the file and on the console\n",
      "ERROR:example_logger:This error will appear both in the file and on the console\n"
     ]
    }
   ],
   "source": [
    "logger = logging.getLogger('example_logger')\n",
    "logger.setLevel(logging.DEBUG)\n",
    "\n",
    "# Create a file handler\n",
    "file_handler = logging.FileHandler('example.log')\n",
    "file_handler.setLevel(logging.ERROR)\n",
    "\n",
    "# Create a console handler\n",
    "console_handler = logging.StreamHandler()\n",
    "console_handler.setLevel(logging.INFO)\n",
    "\n",
    "# Define a formatter\n",
    "formatter = logging.Formatter('%(asctime)s - %(name)s - %(levelname)s - %(message)s')\n",
    "file_handler.setFormatter(formatter)\n",
    "console_handler.setFormatter(formatter)\n",
    "\n",
    "# Add handlers to the logger\n",
    "logger.addHandler(file_handler)\n",
    "logger.addHandler(console_handler)\n",
    "\n",
    "logger.info(\"This info won't appear in the file, only on console\") # less than ERROR Level for the file handler , so that's why it won't appear in the file\n",
    "logger.error(\"This error will appear both in the file and on the console\")"
   ]
  },
  {
   "cell_type": "markdown",
   "metadata": {},
   "source": [
    "In this example, we introduce a custom filter, ContextFilter, that adds contextual information (e.g., user ID) to every log record. This can be incredibly useful for debugging issues in applications with multiple users. We also configure different handlers for writing logs to a file and the console, each with different log levels and the same formatter that includes our custom field."
   ]
  },
  {
   "cell_type": "markdown",
   "metadata": {},
   "source": [
    "### Structured Logging with ```structlog```"
   ]
  },
  {
   "cell_type": "markdown",
   "metadata": {},
   "source": [
    "As applications become more complex, structured logging becomes invaluable. It’s about logging information in a standardized format or schema, often in JSON. This makes logs easier to read by humans and machines, facilitating debugging and analysis. A popular library for structured logging in Python is ```structlog.```"
   ]
  },
  {
   "cell_type": "code",
   "execution_count": 4,
   "metadata": {},
   "outputs": [
    {
     "name": "stdout",
     "output_type": "stream",
     "text": [
      "{\"username\": \"anonymous\", \"result\": \"success\", \"event\": \"login_attempt\"}\n"
     ]
    }
   ],
   "source": [
    "import structlog\n",
    "\n",
    "structlog.configure(\n",
    "    processors=[\n",
    "        structlog.processors.JSONRenderer()\n",
    "    ]\n",
    ")\n",
    "\n",
    "logger = structlog.get_logger()\n",
    "logger.info(\"login_attempt\", username=\"anonymous\", result=\"success\")"
   ]
  },
  {
   "cell_type": "markdown",
   "metadata": {},
   "source": [
    "## Mastering Logging: Tips and Best Practices\n",
    "- Level Appropriately: Use logging levels judiciously to categorize the importance of the log messages.\n",
    "- Structured Logging: Embrace structured logging for complex applications to make logs more queryable and insightful.\n",
    "- Contextual Information: Leverage logger’s ability to capture and log contextual information, such as user ID or session ID, to make debugging easier.\n",
    "- Performance: Be mindful of logging performance. Logging excessively can slow down your application. Use appropriate log levels and consider async logging for high-volume applications.\n",
    "- Security: Never log sensitive information. Always sanitize or hash any personal or sensitive data before logging."
   ]
  }
 ],
 "metadata": {
  "kernelspec": {
   "display_name": "Python 3",
   "language": "python",
   "name": "python3"
  },
  "language_info": {
   "codemirror_mode": {
    "name": "ipython",
    "version": 3
   },
   "file_extension": ".py",
   "mimetype": "text/x-python",
   "name": "python",
   "nbconvert_exporter": "python",
   "pygments_lexer": "ipython3",
   "version": "3.12.0"
  }
 },
 "nbformat": 4,
 "nbformat_minor": 2
}
