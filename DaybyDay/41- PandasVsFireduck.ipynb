{
  "nbformat": 4,
  "nbformat_minor": 0,
  "metadata": {
    "colab": {
      "provenance": []
    },
    "kernelspec": {
      "name": "python3",
      "display_name": "Python 3"
    },
    "language_info": {
      "name": "python"
    }
  },
  "cells": [
    {
      "cell_type": "code",
      "execution_count": 1,
      "metadata": {
        "colab": {
          "base_uri": "https://localhost:8080/"
        },
        "id": "koscOx_ikQgl",
        "outputId": "4c25aabc-0980-4eed-87a6-e0c21f7e588f"
      },
      "outputs": [
        {
          "output_type": "stream",
          "name": "stdout",
          "text": [
            "Collecting fireducks\n",
            "  Downloading fireducks-0.13.0-cp310-cp310-manylinux_2_28_x86_64.whl.metadata (1.2 kB)\n",
            "Collecting firefw==0.13.0 (from fireducks)\n",
            "  Downloading firefw-0.13.0-py3-none-any.whl.metadata (768 bytes)\n",
            "Requirement already satisfied: numba in /usr/local/lib/python3.10/dist-packages (from fireducks) (0.60.0)\n",
            "Requirement already satisfied: pandas<2.3.0,>=1.5.3 in /usr/local/lib/python3.10/dist-packages (from fireducks) (2.1.4)\n",
            "Collecting pyarrow<17.1,>=17.0 (from fireducks)\n",
            "  Downloading pyarrow-17.0.0-cp310-cp310-manylinux_2_28_x86_64.whl.metadata (3.3 kB)\n",
            "Requirement already satisfied: numpy<2,>=1.22.4 in /usr/local/lib/python3.10/dist-packages (from pandas<2.3.0,>=1.5.3->fireducks) (1.26.4)\n",
            "Requirement already satisfied: python-dateutil>=2.8.2 in /usr/local/lib/python3.10/dist-packages (from pandas<2.3.0,>=1.5.3->fireducks) (2.8.2)\n",
            "Requirement already satisfied: pytz>=2020.1 in /usr/local/lib/python3.10/dist-packages (from pandas<2.3.0,>=1.5.3->fireducks) (2024.1)\n",
            "Requirement already satisfied: tzdata>=2022.1 in /usr/local/lib/python3.10/dist-packages (from pandas<2.3.0,>=1.5.3->fireducks) (2024.1)\n",
            "Requirement already satisfied: llvmlite<0.44,>=0.43.0dev0 in /usr/local/lib/python3.10/dist-packages (from numba->fireducks) (0.43.0)\n",
            "Requirement already satisfied: six>=1.5 in /usr/local/lib/python3.10/dist-packages (from python-dateutil>=2.8.2->pandas<2.3.0,>=1.5.3->fireducks) (1.16.0)\n",
            "Downloading fireducks-0.13.0-cp310-cp310-manylinux_2_28_x86_64.whl (6.6 MB)\n",
            "\u001b[2K   \u001b[90m━━━━━━━━━━━━━━━━━━━━━━━━━━━━━━━━━━━━━━━━\u001b[0m \u001b[32m6.6/6.6 MB\u001b[0m \u001b[31m14.9 MB/s\u001b[0m eta \u001b[36m0:00:00\u001b[0m\n",
            "\u001b[?25hDownloading firefw-0.13.0-py3-none-any.whl (12 kB)\n",
            "Downloading pyarrow-17.0.0-cp310-cp310-manylinux_2_28_x86_64.whl (39.9 MB)\n",
            "\u001b[2K   \u001b[90m━━━━━━━━━━━━━━━━━━━━━━━━━━━━━━━━━━━━━━━━\u001b[0m \u001b[32m39.9/39.9 MB\u001b[0m \u001b[31m14.5 MB/s\u001b[0m eta \u001b[36m0:00:00\u001b[0m\n",
            "\u001b[?25hInstalling collected packages: pyarrow, firefw, fireducks\n",
            "  Attempting uninstall: pyarrow\n",
            "    Found existing installation: pyarrow 14.0.2\n",
            "    Uninstalling pyarrow-14.0.2:\n",
            "      Successfully uninstalled pyarrow-14.0.2\n",
            "\u001b[31mERROR: pip's dependency resolver does not currently take into account all the packages that are installed. This behaviour is the source of the following dependency conflicts.\n",
            "cudf-cu12 24.4.1 requires pyarrow<15.0.0a0,>=14.0.1, but you have pyarrow 17.0.0 which is incompatible.\n",
            "ibis-framework 8.0.0 requires pyarrow<16,>=2, but you have pyarrow 17.0.0 which is incompatible.\u001b[0m\u001b[31m\n",
            "\u001b[0mSuccessfully installed fireducks-0.13.0 firefw-0.13.0 pyarrow-17.0.0\n"
          ]
        }
      ],
      "source": [
        "!pip install fireducks"
      ]
    },
    {
      "cell_type": "code",
      "source": [
        "import pandas as pd\n",
        "import numpy as np\n",
        "\n",
        "# Generating a large synthetic dataset\n",
        "np.random.seed(42)\n",
        "data = {\n",
        "    'A': np.random.rand(1000000),\n",
        "    'B': np.random.rand(1000000),\n",
        "    'C': np.random.randint(0, 100, 1000000),\n",
        "    'D': np.random.choice(['X', 'Y', 'Z'], 1000000)\n",
        "}\n",
        "df = pd.DataFrame(data)\n",
        "# Save dataset to a CSV file\n",
        "df.to_csv('Data.csv', index=False)"
      ],
      "metadata": {
        "id": "BqDdvBU7mkK0"
      },
      "execution_count": 3,
      "outputs": []
    },
    {
      "cell_type": "code",
      "source": [
        "import pandas as pd\n",
        "import time\n",
        "\n",
        "# Reading data\n",
        "start_time = time.time()\n",
        "df = pd.read_csv('Data.csv')\n",
        "read_time_pandas = time.time() - start_time\n",
        "\n",
        "# Groupby operation\n",
        "start_time = time.time()\n",
        "grouped_df = df.groupby('D').mean()\n",
        "groupby_time_pandas = time.time() - start_time\n",
        "\n",
        "# Descriptive statistics\n",
        "start_time = time.time()\n",
        "desc_stats_pandas = df.describe()\n",
        "desc_time_pandas = time.time() - start_time\n",
        "read_time_pandas, groupby_time_pandas, desc_time_pandas"
      ],
      "metadata": {
        "colab": {
          "base_uri": "https://localhost:8080/"
        },
        "id": "ZNBjnqz8kTXR",
        "outputId": "6b1e2a7f-b4db-49d6-ea16-e1ac1022d2c5"
      },
      "execution_count": 4,
      "outputs": [
        {
          "output_type": "execute_result",
          "data": {
            "text/plain": [
              "(0.6558172702789307, 0.09626984596252441, 0.15510249137878418)"
            ]
          },
          "metadata": {},
          "execution_count": 4
        }
      ]
    },
    {
      "cell_type": "code",
      "source": [
        "# FireDuck Pandas\n",
        "import fireducks.pandas as fpd\n",
        "import time\n",
        "\n",
        "# Reading data\n",
        "start_time = time.time()\n",
        "df_fd = fpd.read_csv('Data.csv')\n",
        "read_time_fireduck = time.time() - start_time\n",
        "\n",
        "# Groupby operation\n",
        "start_time = time.time()\n",
        "grouped_df_fd = df_fd.groupby('D').mean()\n",
        "groupby_time_fireduck = time.time() - start_time\n",
        "\n",
        "# Descriptive statistics\n",
        "start_time = time.time()\n",
        "desc_stats_fireduck = df_fd.describe()\n",
        "desc_time_fireduck = time.time() - start_time\n",
        "read_time_fireduck, groupby_time_fireduck, desc_time_fireduck"
      ],
      "metadata": {
        "colab": {
          "base_uri": "https://localhost:8080/"
        },
        "id": "TF28pRn7mgzH",
        "outputId": "e7d6c8b2-c0b6-45b8-df15-b6890671ed32"
      },
      "execution_count": 6,
      "outputs": [
        {
          "output_type": "execute_result",
          "data": {
            "text/plain": [
              "(0.0055522918701171875, 0.007100105285644531, 0.5540475845336914)"
            ]
          },
          "metadata": {},
          "execution_count": 6
        }
      ]
    },
    {
      "cell_type": "code",
      "source": [
        "!pip install memory_profiler"
      ],
      "metadata": {
        "colab": {
          "base_uri": "https://localhost:8080/"
        },
        "id": "dZ4A7cIWmvme",
        "outputId": "8f8c1f94-e597-4d04-8f77-be4667a88e98"
      },
      "execution_count": 8,
      "outputs": [
        {
          "output_type": "stream",
          "name": "stdout",
          "text": [
            "Collecting memory_profiler\n",
            "  Downloading memory_profiler-0.61.0-py3-none-any.whl.metadata (20 kB)\n",
            "Requirement already satisfied: psutil in /usr/local/lib/python3.10/dist-packages (from memory_profiler) (5.9.5)\n",
            "Downloading memory_profiler-0.61.0-py3-none-any.whl (31 kB)\n",
            "Installing collected packages: memory_profiler\n",
            "Successfully installed memory_profiler-0.61.0\n"
          ]
        }
      ]
    },
    {
      "cell_type": "code",
      "source": [
        "import pandas as pd\n",
        "from memory_profiler import memory_usage\n",
        "\n",
        "# Reading data\n",
        "mem_usage_pandas = memory_usage((pd.read_csv, ('Data.csv',)))\n",
        "max_mem_usage_pandas = max(mem_usage_pandas)\n",
        "\n",
        "# Groupby operation\n",
        "df = pd.read_csv('Data.csv')\n",
        "mem_usage_pandas_groupby = memory_usage((df.groupby, ('D',)))\n",
        "max_mem_usage_pandas_groupby = max(mem_usage_pandas_groupby)\n",
        "\n",
        "# Descriptive statistics\n",
        "mem_usage_pandas_desc = memory_usage((df.describe,))\n",
        "max_mem_usage_pandas_desc = max(mem_usage_pandas_desc)\n"
      ],
      "metadata": {
        "id": "_CjoppBFmq1H"
      },
      "execution_count": 9,
      "outputs": []
    },
    {
      "cell_type": "code",
      "source": [
        "# print all memory usage\n",
        "max_mem_usage_pandas , max_mem_usage_pandas_groupby , max_mem_usage_pandas_desc"
      ],
      "metadata": {
        "colab": {
          "base_uri": "https://localhost:8080/"
        },
        "id": "XPge1xQ2mtZD",
        "outputId": "cb014211-5820-455e-a716-e0834efbf501"
      },
      "execution_count": 11,
      "outputs": [
        {
          "output_type": "execute_result",
          "data": {
            "text/plain": [
              "(373.92578125, 374.09375, 374.1484375)"
            ]
          },
          "metadata": {},
          "execution_count": 11
        }
      ]
    },
    {
      "cell_type": "code",
      "source": [
        "import fireducks.pandas as fpd\n",
        "from memory_profiler import memory_usage\n",
        "\n",
        "\n",
        "# Reading data\n",
        "mem_usage_fireduck = memory_usage((fpd.read_csv, ('Data.csv',)))\n",
        "max_mem_usage_fireduck = max(mem_usage_fireduck)\n",
        "\n",
        "# Groupby operation\n",
        "df_fd = fpd.read_csv('Data.csv')\n",
        "mem_usage_fireduck_groupby = memory_usage((df_fd.groupby, ('D',)))\n",
        "max_mem_usage_fireduck_groupby = max(mem_usage_fireduck_groupby)\n",
        "\n",
        "# Descriptive statistics\n",
        "mem_usage_fireduck_desc = memory_usage((df_fd.describe,))\n",
        "max_mem_usage_fireduck_desc = max(mem_usage_fireduck_desc)"
      ],
      "metadata": {
        "id": "33O-BPpum66a"
      },
      "execution_count": 15,
      "outputs": []
    },
    {
      "cell_type": "code",
      "source": [
        "max_mem_usage_fireduck , max_mem_usage_fireduck_groupby , max_mem_usage_fireduck_desc"
      ],
      "metadata": {
        "colab": {
          "base_uri": "https://localhost:8080/"
        },
        "id": "zow1cHXHnDQk",
        "outputId": "774d1359-e8fe-440f-cb8d-fd88498becd0"
      },
      "execution_count": 16,
      "outputs": [
        {
          "output_type": "execute_result",
          "data": {
            "text/plain": [
              "(374.9609375, 374.9609375, 496.48046875)"
            ]
          },
          "metadata": {},
          "execution_count": 16
        }
      ]
    },
    {
      "cell_type": "code",
      "source": [
        "import matplotlib.pyplot as plt\n",
        "\n",
        "# Performance data\n",
        "operations = ['Read CSV', 'Groupby Mean', 'Describe']\n",
        "normal_pandas_times = [read_time_pandas, groupby_time_pandas,\n",
        "                      desc_time_pandas]\n",
        "fireduck_pandas_times = [read_time_fireduck, groupby_time_fireduck,\n",
        "                        desc_time_fireduck]\n",
        "\n",
        "# Memory usage data\n",
        "normal_pandas_mem = [max_mem_usage_pandas, max_mem_usage_pandas_groupby,\n",
        "                     max_mem_usage_pandas_desc]\n",
        "fireduck_pandas_mem = [max_mem_usage_fireduck, max_mem_usage_fireduck_groupby,\n",
        "                       max_mem_usage_fireduck_desc]\n",
        "\n",
        "# Plotting speed performance\n",
        "plt.figure(figsize=(12, 6))\n",
        "\n",
        "plt.subplot(1, 2, 1)\n",
        "plt.bar(operations, normal_pandas_times, width=0.4, label='Normal Pandas',\n",
        "        align='center')\n",
        "plt.bar(operations, fireduck_pandas_times, width=0.4, label='FireDuck Pandas',\n",
        "        align='edge')\n",
        "plt.ylabel('Time (seconds)')\n",
        "plt.title('Speed Performance Comparison')\n",
        "plt.legend()\n",
        "\n",
        "# Plotting memory usage\n",
        "plt.subplot(1, 2, 2)\n",
        "plt.bar(operations, normal_pandas_mem, width=0.4, label='Normal Pandas',\n",
        "        align='center')\n",
        "plt.bar(operations, fireduck_pandas_mem, width=0.4, label='FireDuck Pandas',\n",
        "        align='edge')\n",
        "plt.ylabel('Memory Usage (MB)')\n",
        "plt.title('Memory Usage Comparison')\n",
        "plt.legend()\n",
        "\n",
        "# Displaying the plots\n",
        "plt.tight_layout()\n",
        "plt.show()"
      ],
      "metadata": {
        "colab": {
          "base_uri": "https://localhost:8080/",
          "height": 570
        },
        "id": "Bh4t-1YEnLyy",
        "outputId": "cc745eca-5579-447d-8fb9-923038635469"
      },
      "execution_count": 17,
      "outputs": [
        {
          "output_type": "display_data",
          "data": {
            "text/plain": [
              "<Figure size 1200x600 with 2 Axes>"
            ],
            "image/png": "[encoded data removed]"
          },
          "metadata": {}
        }
      ]
    }
  ]
}