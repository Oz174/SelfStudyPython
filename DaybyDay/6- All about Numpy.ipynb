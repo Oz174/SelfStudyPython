{
 "cells": [
  {
   "cell_type": "markdown",
   "metadata": {},
   "source": [
    "# Imports"
   ]
  },
  {
   "cell_type": "code",
   "execution_count": 23,
   "metadata": {},
   "outputs": [],
   "source": [
    "import numpy as np\n",
    "import matplotlib.pyplot as plt"
   ]
  },
  {
   "cell_type": "markdown",
   "metadata": {},
   "source": [
    "# Topics"
   ]
  },
  {
   "cell_type": "markdown",
   "metadata": {},
   "source": [
    "## All Randomization in Numpy "
   ]
  },
  {
   "cell_type": "code",
   "execution_count": 2,
   "metadata": {},
   "outputs": [
    {
     "name": "stdout",
     "output_type": "stream",
     "text": [
      "[0.5488135  0.71518937 0.60276338 0.54488318]\n",
      "[0.4236548  0.64589411 0.43758721 0.891773  ]\n",
      "[[0.96366276 0.38344152 0.79172504 0.52889492]\n",
      " [0.56804456 0.92559664 0.07103606 0.0871293 ]]\n",
      "[[0.0202184  0.83261985]\n",
      " [0.77815675 0.87001215]\n",
      " [0.97861834 0.79915856]\n",
      " [0.46147936 0.78052918]]\n"
     ]
    }
   ],
   "source": [
    "np.random.seed(0)\n",
    "a =  np.random.rand(4)\n",
    "b = np.random.rand(4)\n",
    "c = np.random.random((2,4))\n",
    "d = np.random.random((4,2))\n",
    "print(a)\n",
    "print(b)\n",
    "print(c)\n",
    "print(d)"
   ]
  },
  {
   "cell_type": "code",
   "execution_count": 22,
   "metadata": {},
   "outputs": [
    {
     "name": "stdout",
     "output_type": "stream",
     "text": [
      "[[-0.15435095  0.82107448  0.70797252  0.13132897]\n",
      " [-1.41445092 -0.61581578  1.15651113 -0.78446055]\n",
      " [ 0.84222467  1.0716412  -0.50286085 -0.34394662]\n",
      " [ 0.04474308  0.21444077  0.76923064 -0.25064617]]\n",
      "0.10578972580136009 0.7203143800797281 0.5188528061496431\n",
      "[[ 0.1168847   0.47046718 -0.02304224 -0.23618817]\n",
      " [-0.91473574  0.37001373 -0.78142883  1.23924492]\n",
      " [ 0.39881348  0.7893405   0.24219495 -3.22074789]\n",
      " [ 0.09718231  1.41137576 -1.16670706  1.16823174]]\n",
      "-0.0024437902159957503 1.0997901773342198 1.2095384341608346\n",
      "-0.018403865154580326 0.9911825506539306 0.9824428487208317\n"
     ]
    },
    {
     "data": {
      "image/png": "[encoded data removed]",
      "text/plain": [
       "<Figure size 640x480 with 1 Axes>"
      ]
     },
     "metadata": {},
     "output_type": "display_data"
    }
   ],
   "source": [
    "z = np.random.randn(4,4)\n",
    "print(z)\n",
    "print(np.mean(z) , np.std(z) , np.var(z))\n",
    "\n",
    "y = np.random.standard_normal((4,4))\n",
    "print(y)\n",
    "print(np.mean(y) , np.std(y) , np.var(y))\n",
    "\n",
    "\n",
    "x = np.random.normal(0,1,1000)\n",
    "# print(x)\n",
    "print(np.mean(x) , np.std(x) , np.var(x))\n",
    "\n",
    "\n",
    "\n",
    "plt.hist(x)\n",
    "plt.show()\n"
   ]
  },
  {
   "cell_type": "markdown",
   "metadata": {},
   "source": [
    "## np.vstack\n",
    "- Stack arrays in sequence vertically (row wise).\n",
    "- This is equivalent to concatenation along the first axis after 1-D arrays of shape (N,) have been reshaped to (1,N).\n"
   ]
  },
  {
   "cell_type": "code",
   "execution_count": 13,
   "metadata": {},
   "outputs": [
    {
     "data": {
      "text/plain": [
       "array([[0.5488135 , 0.71518937, 0.60276338, 0.54488318],\n",
       "       [0.4236548 , 0.64589411, 0.43758721, 0.891773  ]])"
      ]
     },
     "execution_count": 13,
     "metadata": {},
     "output_type": "execute_result"
    }
   ],
   "source": [
    "np.vstack((a,b))"
   ]
  },
  {
   "cell_type": "code",
   "execution_count": 25,
   "metadata": {},
   "outputs": [
    {
     "data": {
      "text/plain": [
       "array([0.5488135 , 0.71518937, 0.60276338, 0.54488318, 0.4236548 ,\n",
       "       0.64589411, 0.43758721, 0.891773  ])"
      ]
     },
     "execution_count": 25,
     "metadata": {},
     "output_type": "execute_result"
    }
   ],
   "source": [
    "np.concatenate((a,b), axis=0) # concatenate doesn't like vstack in 1D arrays"
   ]
  },
  {
   "cell_type": "code",
   "execution_count": 20,
   "metadata": {},
   "outputs": [
    {
     "data": {
      "text/plain": [
       "array([[0.96366276, 0.38344152, 0.79172504, 0.52889492],\n",
       "       [0.56804456, 0.92559664, 0.07103606, 0.0871293 ],\n",
       "       [0.0202184 , 0.77815675, 0.97861834, 0.46147936],\n",
       "       [0.83261985, 0.87001215, 0.79915856, 0.78052918]])"
      ]
     },
     "execution_count": 20,
     "metadata": {},
     "output_type": "execute_result"
    }
   ],
   "source": [
    "np.vstack((c,d.T))"
   ]
  },
  {
   "cell_type": "code",
   "execution_count": 23,
   "metadata": {},
   "outputs": [
    {
     "data": {
      "text/plain": [
       "array([[0.96366276, 0.38344152, 0.79172504, 0.52889492],\n",
       "       [0.56804456, 0.92559664, 0.07103606, 0.0871293 ],\n",
       "       [0.0202184 , 0.77815675, 0.97861834, 0.46147936],\n",
       "       [0.83261985, 0.87001215, 0.79915856, 0.78052918]])"
      ]
     },
     "execution_count": 23,
     "metadata": {},
     "output_type": "execute_result"
    }
   ],
   "source": [
    "np.concatenate((c,d.T),axis=0)"
   ]
  },
  {
   "cell_type": "code",
   "execution_count": 30,
   "metadata": {},
   "outputs": [
    {
     "data": {
      "text/plain": [
       "array([[0.96366276, 0.38344152, 0.79172504, 0.52889492],\n",
       "       [0.56804456, 0.92559664, 0.07103606, 0.0871293 ],\n",
       "       [0.5488135 , 0.71518937, 0.60276338, 0.54488318],\n",
       "       [0.4236548 , 0.64589411, 0.43758721, 0.891773  ],\n",
       "       [0.0202184 , 0.77815675, 0.97861834, 0.46147936],\n",
       "       [0.83261985, 0.87001215, 0.79915856, 0.78052918]])"
      ]
     },
     "execution_count": 30,
     "metadata": {},
     "output_type": "execute_result"
    }
   ],
   "source": [
    "np.vstack((c,a,b,d.T))"
   ]
  },
  {
   "cell_type": "markdown",
   "metadata": {},
   "source": [
    "## np.hstack\n",
    "- Stack arrays in sequence horizontally (column wise).\n",
    "- This is equivalent to concatenation along the second axis, except for 1-D arrays where it concatenates along the first axis."
   ]
  },
  {
   "cell_type": "code",
   "execution_count": 31,
   "metadata": {},
   "outputs": [
    {
     "data": {
      "text/plain": [
       "array([0.5488135 , 0.71518937, 0.60276338, 0.54488318, 0.4236548 ,\n",
       "       0.64589411, 0.43758721, 0.891773  ])"
      ]
     },
     "execution_count": 31,
     "metadata": {},
     "output_type": "execute_result"
    }
   ],
   "source": [
    "np.hstack((a,b)) # for 1-D arrays "
   ]
  },
  {
   "cell_type": "code",
   "execution_count": 32,
   "metadata": {},
   "outputs": [
    {
     "data": {
      "text/plain": [
       "array([0.5488135 , 0.71518937, 0.60276338, 0.54488318, 0.4236548 ,\n",
       "       0.64589411, 0.43758721, 0.891773  ])"
      ]
     },
     "execution_count": 32,
     "metadata": {},
     "output_type": "execute_result"
    }
   ],
   "source": [
    "np.concatenate((a,b)) #same as hstack "
   ]
  },
  {
   "cell_type": "code",
   "execution_count": 40,
   "metadata": {},
   "outputs": [
    {
     "data": {
      "text/plain": [
       "array([[0.5488135 ],\n",
       "       [0.71518937],\n",
       "       [0.60276338],\n",
       "       [0.54488318]])"
      ]
     },
     "execution_count": 40,
     "metadata": {},
     "output_type": "execute_result"
    }
   ],
   "source": [
    "a.reshape(-1,1) # convert to one column , n rows"
   ]
  },
  {
   "cell_type": "code",
   "execution_count": 35,
   "metadata": {},
   "outputs": [
    {
     "data": {
      "text/plain": [
       "array([[0.5488135 , 0.4236548 ],\n",
       "       [0.71518937, 0.64589411],\n",
       "       [0.60276338, 0.43758721],\n",
       "       [0.54488318, 0.891773  ]])"
      ]
     },
     "execution_count": 35,
     "metadata": {},
     "output_type": "execute_result"
    }
   ],
   "source": [
    "np.hstack((a.reshape(-1,1),b.reshape(-1,1)))"
   ]
  },
  {
   "cell_type": "code",
   "execution_count": 39,
   "metadata": {},
   "outputs": [
    {
     "data": {
      "text/plain": [
       "array([[0.5488135 , 0.4236548 ],\n",
       "       [0.71518937, 0.64589411],\n",
       "       [0.60276338, 0.43758721],\n",
       "       [0.54488318, 0.891773  ]])"
      ]
     },
     "execution_count": 39,
     "metadata": {},
     "output_type": "execute_result"
    }
   ],
   "source": [
    "np.concatenate((a.reshape(-1,1),b.reshape(-1,1)), axis=1)"
   ]
  },
  {
   "cell_type": "code",
   "execution_count": 38,
   "metadata": {},
   "outputs": [
    {
     "data": {
      "text/plain": [
       "array([[0.0202184 , 0.83261985, 0.96366276, 0.56804456],\n",
       "       [0.77815675, 0.87001215, 0.38344152, 0.92559664],\n",
       "       [0.97861834, 0.79915856, 0.79172504, 0.07103606],\n",
       "       [0.46147936, 0.78052918, 0.52889492, 0.0871293 ]])"
      ]
     },
     "execution_count": 38,
     "metadata": {},
     "output_type": "execute_result"
    }
   ],
   "source": [
    "np.hstack((d,c.T))"
   ]
  },
  {
   "cell_type": "markdown",
   "metadata": {},
   "source": [
    "## np.column_stack\n",
    "- Stack 1-D arrays as columns into a 2-D array.\n",
    "- Take a sequence of 1-D arrays and stack them as columns to make a single 2-D array.\n",
    "- 2-D arrays are stacked as-is, just like with hstack."
   ]
  },
  {
   "cell_type": "code",
   "execution_count": 41,
   "metadata": {},
   "outputs": [
    {
     "data": {
      "text/plain": [
       "array([[0.5488135 , 0.4236548 ],\n",
       "       [0.71518937, 0.64589411],\n",
       "       [0.60276338, 0.43758721],\n",
       "       [0.54488318, 0.891773  ]])"
      ]
     },
     "execution_count": 41,
     "metadata": {},
     "output_type": "execute_result"
    }
   ],
   "source": [
    "np.column_stack((a,b)) #=> no need for shape if they are 1D array with same length"
   ]
  },
  {
   "cell_type": "code",
   "execution_count": 55,
   "metadata": {},
   "outputs": [
    {
     "data": {
      "text/plain": [
       "array([[0.96366276, 0.56804456, 0.0202184 , 0.83261985],\n",
       "       [0.38344152, 0.92559664, 0.77815675, 0.87001215],\n",
       "       [0.79172504, 0.07103606, 0.97861834, 0.79915856],\n",
       "       [0.52889492, 0.0871293 , 0.46147936, 0.78052918]])"
      ]
     },
     "execution_count": 55,
     "metadata": {},
     "output_type": "execute_result"
    }
   ],
   "source": [
    "np.column_stack((c.T,d)) # => hstack like"
   ]
  },
  {
   "cell_type": "code",
   "execution_count": 49,
   "metadata": {},
   "outputs": [
    {
     "data": {
      "text/plain": [
       "array([[0.96366276, 0.0202184 ],\n",
       "       [0.38344152, 0.83261985],\n",
       "       [0.79172504, 0.77815675],\n",
       "       [0.52889492, 0.87001215],\n",
       "       [0.56804456, 0.97861834],\n",
       "       [0.92559664, 0.79915856],\n",
       "       [0.07103606, 0.46147936],\n",
       "       [0.0871293 , 0.78052918]])"
      ]
     },
     "execution_count": 49,
     "metadata": {},
     "output_type": "execute_result"
    }
   ],
   "source": [
    "np.column_stack((c.flatten(),d.flatten()))"
   ]
  },
  {
   "cell_type": "markdown",
   "metadata": {},
   "source": [
    "## np.vsplit\n",
    "- Split an array into multiple sub-arrays vertically (row-wise).\n",
    "- vsplit is equivalent to split with axis=0 (default), the array is always split along the first axis regardless of the array dimension.\n"
   ]
  },
  {
   "cell_type": "code",
   "execution_count": 59,
   "metadata": {},
   "outputs": [
    {
     "data": {
      "text/plain": [
       "[array([[0.96366276, 0.38344152, 0.79172504, 0.52889492],\n",
       "        [0.56804456, 0.92559664, 0.07103606, 0.0871293 ]]),\n",
       " array([[0.0202184 , 0.77815675, 0.97861834, 0.46147936],\n",
       "        [0.83261985, 0.87001215, 0.79915856, 0.78052918]]),\n",
       " array([[0.5488135 , 0.71518937, 0.60276338, 0.54488318],\n",
       "        [0.4236548 , 0.64589411, 0.43758721, 0.891773  ]])]"
      ]
     },
     "execution_count": 59,
     "metadata": {},
     "output_type": "execute_result"
    }
   ],
   "source": [
    "np.vsplit(np.vstack((c,d.T,a,b)) , 3)  #=> 3 is how many sub arrays you want to create , assert divisibility"
   ]
  },
  {
   "cell_type": "markdown",
   "metadata": {},
   "source": [
    "## np.hsplit\n",
    "- Split an array into multiple sub-arrays horizontally (column-wise).\n",
    "- hsplit is equivalent to split with axis=1, the array is always split along the second axis regardless of the array dimension."
   ]
  },
  {
   "cell_type": "code",
   "execution_count": 62,
   "metadata": {},
   "outputs": [
    {
     "data": {
      "text/plain": [
       "[array([[0.96366276],\n",
       "        [0.56804456],\n",
       "        [0.0202184 ],\n",
       "        [0.83261985],\n",
       "        [0.5488135 ],\n",
       "        [0.4236548 ]]),\n",
       " array([[0.38344152],\n",
       "        [0.92559664],\n",
       "        [0.77815675],\n",
       "        [0.87001215],\n",
       "        [0.71518937],\n",
       "        [0.64589411]]),\n",
       " array([[0.79172504],\n",
       "        [0.07103606],\n",
       "        [0.97861834],\n",
       "        [0.79915856],\n",
       "        [0.60276338],\n",
       "        [0.43758721]]),\n",
       " array([[0.52889492],\n",
       "        [0.0871293 ],\n",
       "        [0.46147936],\n",
       "        [0.78052918],\n",
       "        [0.54488318],\n",
       "        [0.891773  ]])]"
      ]
     },
     "execution_count": 62,
     "metadata": {},
     "output_type": "execute_result"
    }
   ],
   "source": [
    "np.hsplit(np.vstack((c,d.T,a,b)) , 4)  #=> 2 is how many sub arrays you want to create , assert divisibility"
   ]
  },
  {
   "cell_type": "markdown",
   "metadata": {},
   "source": [
    "## Numpy Time series "
   ]
  },
  {
   "cell_type": "code",
   "execution_count": 28,
   "metadata": {},
   "outputs": [
    {
     "name": "stdout",
     "output_type": "stream",
     "text": [
      "['2019-01-01' '2019-02-01' '2019-03-01']\n",
      "['2023-01' '2023-02' '2023-03' '2023-04' '2023-05' '2023-06' '2023-07'\n",
      " '2023-08' '2023-09' '2023-10' '2023-11' '2023-12' '2024-01' '2024-02'\n",
      " '2024-03' '2024-04' '2024-05' '2024-06' '2024-07' '2024-08' '2024-09'\n",
      " '2024-10' '2024-11' '2024-12']\n"
     ]
    }
   ],
   "source": [
    "# we have to specify it's a datetime object otherwise it will be a string\n",
    "\n",
    "some_dates = np.array(['2019-01-01', '2019-02-01', '2019-03-01'], dtype='datetime64')\n",
    "print(some_dates)\n",
    "\n",
    "# datetime[D] : day\n",
    "# datetime[M] : month\n",
    "# datetime[Y] : year\n",
    "\n",
    "arranged_dates = np.arange('2019-01-01', '2019-02-01', dtype='datetime64[D]')\n",
    "# print(arranged_dates)\n",
    "\n",
    "arranged_dates = np.arange('2024-08-08','2029-08-08', dtype='datetime64[M]')\n",
    "# print(arranged_dates)\n",
    "\n",
    "arranged_dates = np.arange('2023-01-01', '2025-01-01', dtype='datetime64[M]')\n",
    "print(arranged_dates)"
   ]
  },
  {
   "cell_type": "code",
   "execution_count": 30,
   "metadata": {},
   "outputs": [
    {
     "data": {
      "text/plain": [
       "array([ 87.90017735, 108.13186983,  92.08980081, 105.96671793,\n",
       "       100.75144262, 107.44122773, 106.34632091,  80.72251277,\n",
       "       109.85080651,  96.96969171,  99.05099885, 114.1874133 ,\n",
       "       109.99997441,  87.20787084,  94.47289068, 115.15369664,\n",
       "       102.78491512, 113.08810494, 110.66205357, 106.901363  ,\n",
       "        90.73414791, 101.22952511,  85.76203348,  90.66044899])"
      ]
     },
     "execution_count": 30,
     "metadata": {},
     "output_type": "execute_result"
    }
   ],
   "source": [
    "data = np.random.randn(len(arranged_dates)) * 10 + 100\n",
    "data"
   ]
  },
  {
   "cell_type": "code",
   "execution_count": 33,
   "metadata": {},
   "outputs": [
    {
     "data": {
      "text/plain": [
       "array([100.78408169, 102.62573145, 100.88206487, 101.08065569,\n",
       "       101.84623725, 102.01569329, 102.48626639, 102.84591078,\n",
       "       105.02748163, 103.43442675, 103.78941286, 102.68199908,\n",
       "       100.72141872])"
      ]
     },
     "execution_count": 33,
     "metadata": {},
     "output_type": "execute_result"
    }
   ],
   "source": [
    "def moving_average(data, window=3):\n",
    "    weights = np.repeat(1.0, window) / window\n",
    "    return np.convolve(data, weights, 'valid')\n",
    "\n",
    "# moving average 12 months\n",
    "moving_average(data, 12)"
   ]
  },
  {
   "cell_type": "markdown",
   "metadata": {},
   "source": [
    "Speaking of patterns, we can simulate the trend data in time series with NumPy. The trend is a long-term and persistent directional movement in the data. Basically, it is the general direction of where the time series data would be."
   ]
  },
  {
   "cell_type": "markdown",
   "metadata": {},
   "source": [
    "## np.polyfit"
   ]
  },
  {
   "cell_type": "code",
   "execution_count": 34,
   "metadata": {},
   "outputs": [
    {
     "data": {
      "text/plain": [
       "array([-4.33995889e-02,  1.01251845e+02])"
      ]
     },
     "execution_count": 34,
     "metadata": {},
     "output_type": "execute_result"
    }
   ],
   "source": [
    "trend = np.polyfit(np.arange(len(data)), data, 1)\n",
    "trend\n",
    "\n"
   ]
  },
  {
   "cell_type": "markdown",
   "metadata": {},
   "source": [
    "We can also have detrended data, which are the components after we remove the trend from the time series. This data type is often used to detect fluctuation patterns in the trend data and anomalies."
   ]
  },
  {
   "cell_type": "code",
   "execution_count": 35,
   "metadata": {},
   "outputs": [
    {
     "data": {
      "text/plain": [
       "array([-13.35166813,   6.92342394,  -9.07524549,   4.84507122,\n",
       "        -0.32680451,   6.40638019,   5.35487296, -20.22553559,\n",
       "         8.94615774,  -3.89155747,  -1.76685074,  13.41296329,\n",
       "         9.268924  , -13.47977998,  -6.17136056,  14.55284499,\n",
       "         2.22746306,  12.57405247,  10.19140069,   6.47410971,\n",
       "        -9.6497058 ,   0.889071  , -14.53502105,  -9.59320594])"
      ]
     },
     "execution_count": 35,
     "metadata": {},
     "output_type": "execute_result"
    }
   ],
   "source": [
    "detrended = data - (trend[0] * np.arange(len(data)) + trend[1])\n",
    "detrended"
   ]
  },
  {
   "cell_type": "markdown",
   "metadata": {},
   "source": [
    "We can also try to analyze seasonality from the time series data we have. Seasonality is the regular and predictable patterns that occur at specific temporal intervals, such as every 3 months, every 6 months, and others. Seasonality is usually affected by external factors such as holidays, weather, events, and many others."
   ]
  },
  {
   "cell_type": "markdown",
   "metadata": {},
   "source": [
    "## np.tile\n"
   ]
  },
  {
   "cell_type": "code",
   "execution_count": 36,
   "metadata": {},
   "outputs": [],
   "source": [
    "seasonality = np.mean(data.reshape(-1, 12), axis=0)\n",
    "seasonal_component = np.tile(seasonality, len(data)//12 + 1)[:len(data)]"
   ]
  },
  {
   "cell_type": "markdown",
   "metadata": {},
   "source": [
    "In the code above, we calculate the average for each month and then extend the data to match its length. In the end, we get the average for each month in the two-year interval, and we can try to analyze the data to see if there is seasonality worth mentioning."
   ]
  },
  {
   "cell_type": "code",
   "execution_count": 45,
   "metadata": {},
   "outputs": [
    {
     "name": "stdout",
     "output_type": "stream",
     "text": [
      "[ 98.95007588  97.66987034  93.28134575 110.56020729 101.76817887\n",
      " 110.26466633 108.50418724  93.81193789 100.29247721  99.09960841\n",
      "  92.40651617 102.42393115]\n",
      "[ 98.95007588  97.66987034  93.28134575 110.56020729 101.76817887\n",
      " 110.26466633 108.50418724  93.81193789 100.29247721  99.09960841\n",
      "  92.40651617 102.42393115  98.95007588  97.66987034  93.28134575\n",
      " 110.56020729 101.76817887 110.26466633 108.50418724  93.81193789\n",
      " 100.29247721  99.09960841  92.40651617 102.42393115  98.95007588\n",
      "  97.66987034  93.28134575 110.56020729 101.76817887 110.26466633\n",
      " 108.50418724  93.81193789 100.29247721  99.09960841  92.40651617\n",
      " 102.42393115]\n"
     ]
    }
   ],
   "source": [
    "\n",
    "print(seasonality)\n",
    "\n",
    "print(np.tile(seasonality,3))\n",
    "\n",
    "\n"
   ]
  },
  {
   "cell_type": "markdown",
   "metadata": {},
   "source": [
    "## Masked Arrays in NumPy to Handle Missing Data"
   ]
  },
  {
   "cell_type": "markdown",
   "metadata": {},
   "source": [
    "A masked array is essentially a combination of two arrays:\n",
    "\n",
    "- Data Array: The primary array containing the actual data values.\n",
    "- Mask Array: A boolean array of the same shape as the data array, where each element indicates whether the corresponding data element is valid or masked (invalid/missing)."
   ]
  },
  {
   "cell_type": "code",
   "execution_count": 47,
   "metadata": {},
   "outputs": [
    {
     "name": "stdout",
     "output_type": "stream",
     "text": [
      "[ 1.  2. nan  4.  5.]\n"
     ]
    }
   ],
   "source": [
    "data = np.array([1.0, 2.0, np.nan, 4.0, 5.0])\n",
    "masked_array = np.ma.array(data) # an array with a mask to handle missing data\n",
    "print(masked_array.data)  # Output: [ 1.  2. nan  4.  5.]"
   ]
  },
  {
   "cell_type": "code",
   "execution_count": 50,
   "metadata": {},
   "outputs": [
    {
     "name": "stdout",
     "output_type": "stream",
     "text": [
      "[False False  True False False]\n",
      "[1.0 2.0 -- 4.0 5.0]\n",
      "[1.0 2.0 -- 4.0 5.0]\n"
     ]
    }
   ],
   "source": [
    "# automatic masking \n",
    "data = np.array([1.0, 2.0, np.nan, 4.0, 5.0])\n",
    "mask = np.isnan(data)  # Create a mask where NaN values are True\n",
    "masked_array = np.ma.array(data, mask=mask)\n",
    "print(masked_array.mask)\n",
    "print(np.ma.masked_invalid(data))  "
   ]
  },
  {
   "cell_type": "code",
   "execution_count": 51,
   "metadata": {},
   "outputs": [
    {
     "name": "stdout",
     "output_type": "stream",
     "text": [
      "25.0\n"
     ]
    }
   ],
   "source": [
    "# Data with some missing values represented by -999\n",
    "data = np.array([10, 20, -999, 30, -999, 40])\n",
    "\n",
    "# Create a mask where -999 is considered as missing data\n",
    "mask = (data == -999)\n",
    "\n",
    "# Create a masked array using the data and mask\n",
    "masked_array = np.ma.array(data, mask=mask)\n",
    "\n",
    "# Calculate the mean, ignoring masked values\n",
    "mean_value = masked_array.mean()\n",
    "print(mean_value)"
   ]
  },
  {
   "cell_type": "code",
   "execution_count": 54,
   "metadata": {},
   "outputs": [
    {
     "name": "stdout",
     "output_type": "stream",
     "text": [
      "[[False False  True False False]\n",
      " [False  True False False False]\n",
      " [ True False False False False]\n",
      " [False False  True False  True]\n",
      " [False False False False False]\n",
      " [ True False False  True False]\n",
      " [False False False  True False]\n",
      " [False  True False False False]\n",
      " [False False  True False False]\n",
      " [False False False  True False]]\n",
      "Day 1: Average Temperature = 22.35 °C\n",
      "Day 2: Average Temperature = 21.80 °C\n",
      "Day 3: Average Temperature = 22.35 °C\n",
      "Day 4: Average Temperature = 21.77 °C\n",
      "Day 5: Average Temperature = 22.46 °C\n",
      "Day 6: Average Temperature = 22.07 °C\n",
      "Day 7: Average Temperature = 22.60 °C\n",
      "Day 8: Average Temperature = 21.97 °C\n",
      "Day 9: Average Temperature = 22.28 °C\n",
      "Day 10: Average Temperature = 22.32 °C\n"
     ]
    }
   ],
   "source": [
    "# another example\n",
    "# Example temperature readings from 5 sensors over 10 days\n",
    "# Rows: days, Columns: sensors\n",
    "temperature_data = np.array([\n",
    "    [22.1, 21.5, np.nan, 23.0, 22.8],  # Day 1\n",
    "    [20.3, np.nan, 22.0, 21.8, 23.1],  # Day 2\n",
    "    [np.nan, 23.2, 21.7, 22.5, 22.0],  # Day 3\n",
    "    [21.8, 22.0, np.nan, 21.5, np.nan],  # Day 4\n",
    "    [22.5, 22.1, 21.9, 22.8, 23.0],  # Day 5\n",
    "    [np.nan, 21.5, 22.0, np.nan, 22.7],  # Day 6\n",
    "    [22.0, 22.5, 23.0, np.nan, 22.9],  # Day 7\n",
    "    [21.7, np.nan, 22.3, 22.1, 21.8],  # Day 8\n",
    "    [22.4, 21.9, np.nan, 22.6, 22.2],  # Day 9\n",
    "    [23.0, 22.5, 21.8, np.nan, 22.0]   # Day 10\n",
    "])\n",
    "\n",
    "# Create a mask for missing values (NaNs)\n",
    "mask = np.isnan(temperature_data)\n",
    "print(mask)\n",
    "\n",
    "# Create a masked array\n",
    "masked_data = np.ma.masked_array(temperature_data, mask=mask)\n",
    "\n",
    "# Calculate the average temperature for each day, ignoring missing values\n",
    "daily_averages = masked_data.mean(axis=1)  # Axis 1 represents days \n",
    "\n",
    "# Print the results\n",
    "for day, avg_temp in enumerate(daily_averages, start=1):\n",
    "    print(f\"Day {day}: Average Temperature = {avg_temp:.2f} °C\")"
   ]
  },
  {
   "cell_type": "code",
   "execution_count": null,
   "metadata": {},
   "outputs": [],
   "source": []
  }
 ],
 "metadata": {
  "kernelspec": {
   "display_name": "Python 3",
   "language": "python",
   "name": "python3"
  },
  "language_info": {
   "codemirror_mode": {
    "name": "ipython",
    "version": 3
   },
   "file_extension": ".py",
   "mimetype": "text/x-python",
   "name": "python",
   "nbconvert_exporter": "python",
   "pygments_lexer": "ipython3",
   "version": "3.12.0"
  }
 },
 "nbformat": 4,
 "nbformat_minor": 2
}
