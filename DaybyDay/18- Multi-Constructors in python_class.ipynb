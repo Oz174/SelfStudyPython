{
 "cells": [
  {
   "cell_type": "markdown",
   "metadata": {},
   "source": [
    "# Imports"
   ]
  },
  {
   "cell_type": "code",
   "execution_count": 3,
   "metadata": {},
   "outputs": [],
   "source": [
    "from dataclasses import dataclass\n",
    "from typing import Union , TypeAlias"
   ]
  },
  {
   "cell_type": "markdown",
   "metadata": {},
   "source": [
    "# Topics"
   ]
  },
  {
   "cell_type": "markdown",
   "metadata": {},
   "source": [
    "## Multiple Constructors for in class (using from_)"
   ]
  },
  {
   "cell_type": "markdown",
   "metadata": {},
   "source": [
    "### Problem\n",
    "\n",
    "Many people ends up complexing the class constructor readibility while trying to handle the different possible initilizations , so they do one of the following \n",
    "\n",
    "```python \n",
    "class Point:\n",
    "    def __init__(self, *args, **kwargs):\n",
    "        # handle all sorts of initializations\n",
    "```\n",
    "\n",
    "or \n",
    "\n",
    "```python\n",
    "class Point:\n",
    "    def __init__(self, x=None, y=None, array=None, _dict=None):\n",
    "        # handle all sorts of initializations\n",
    "```"
   ]
  },
  {
   "cell_type": "markdown",
   "metadata": {},
   "source": [
    "### Solution"
   ]
  },
  {
   "cell_type": "code",
   "execution_count": 4,
   "metadata": {},
   "outputs": [],
   "source": [
    "# remember our lesson in type hints ? type aliases ? let's use it \n",
    "array : TypeAlias = Union[list[int] , tuple[int,int]]"
   ]
  },
  {
   "cell_type": "code",
   "execution_count": 6,
   "metadata": {},
   "outputs": [],
   "source": [
    "@dataclass\n",
    "class Point:\n",
    "    x: int\n",
    "    y: int\n",
    "\n",
    "    @classmethod\n",
    "    def from_array(cls, array:array) -> 'Point':\n",
    "        if len(array) != 2:\n",
    "            raise ValueError(\"your array must have two elements representing x and y coordinates\")\n",
    "        return cls(*array)\n",
    "\n",
    "    @classmethod\n",
    "    def from_dict(cls, dictionary: dict[str, int]) -> 'Point':\n",
    "        return cls(**dictionary)\n",
    "    \n",
    "    def __str__(self):\n",
    "        return f\"Point({self.x},{self.y})\""
   ]
  },
  {
   "cell_type": "code",
   "execution_count": 7,
   "metadata": {},
   "outputs": [
    {
     "data": {
      "text/plain": [
       "(Point(x=1, y=2), Point(x=1, y=2), Point(x=1, y=2))"
      ]
     },
     "execution_count": 7,
     "metadata": {},
     "output_type": "execute_result"
    }
   ],
   "source": [
    "p1 = Point(1,2) # basic , using dataclass predefined data members \n",
    "p2 = Point.from_array([1,2]) # using classmethod to create object from array\n",
    "p3 = Point.from_dict({\"x\":1 , \"y\":2}) # using classmethod to create object from dictionary\n",
    "\n",
    "p1 , p2 , p3"
   ]
  },
  {
   "cell_type": "code",
   "execution_count": 9,
   "metadata": {},
   "outputs": [
    {
     "name": "stdout",
     "output_type": "stream",
     "text": [
      "your array must have two elements representing x and y coordinates\n",
      "Terminated\n"
     ]
    }
   ],
   "source": [
    "# let's tryna handle some errors :) \n",
    "\n",
    "try: \n",
    "    p4 = Point.from_array([1,2,3])\n",
    "except ValueError as e:\n",
    "    print(e)\n",
    "else:\n",
    "    print(\"p4 created successfully\")\n",
    "    print(p4)\n",
    "finally:\n",
    "    print(\"Terminated\")"
   ]
  },
  {
   "cell_type": "code",
   "execution_count": 11,
   "metadata": {},
   "outputs": [
    {
     "name": "stdout",
     "output_type": "stream",
     "text": [
      "Point.__init__() got an unexpected keyword argument 'z'\n",
      "Terminated\n"
     ]
    }
   ],
   "source": [
    "# let's tryna handle some errors :) \n",
    "\n",
    "try: \n",
    "    p4 = Point.from_dict({\"x\":1,\"z\":3})\n",
    "except TypeError as e:\n",
    "    print(e)\n",
    "else:\n",
    "    print(\"p4 created successfully\")\n",
    "    print(p4)\n",
    "finally:\n",
    "    print(\"Terminated\")"
   ]
  }
 ],
 "metadata": {
  "kernelspec": {
   "display_name": "Python 3",
   "language": "python",
   "name": "python3"
  },
  "language_info": {
   "codemirror_mode": {
    "name": "ipython",
    "version": 3
   },
   "file_extension": ".py",
   "mimetype": "text/x-python",
   "name": "python",
   "nbconvert_exporter": "python",
   "pygments_lexer": "ipython3",
   "version": "3.12.0"
  }
 },
 "nbformat": 4,
 "nbformat_minor": 2
}
