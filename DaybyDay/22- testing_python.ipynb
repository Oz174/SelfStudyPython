{
 "cells": [
  {
   "cell_type": "markdown",
   "metadata": {},
   "source": [
    "# Imports"
   ]
  },
  {
   "cell_type": "code",
   "execution_count": 2,
   "metadata": {},
   "outputs": [],
   "source": [
    "import unittest"
   ]
  },
  {
   "cell_type": "markdown",
   "metadata": {},
   "source": [
    "# Topics"
   ]
  },
  {
   "cell_type": "markdown",
   "metadata": {},
   "source": [
    "## Unittest \n",
    "\n",
    "unittest is a powerful unit testing framework that comes bundled with every standard Python installation. With unittest, you can create test cases, group related test cases into classes, and run all the tests at once using a single command."
   ]
  },
  {
   "cell_type": "code",
   "execution_count": null,
   "metadata": {},
   "outputs": [],
   "source": [
    "def add(x, y):\n",
    "    return x + y\n",
    "\n",
    "class AddTest(unittest.TestCase):\n",
    "    def test_add(self):\n",
    "        self.assertEqual(add(3, 4), 7)\n",
    "        self.assertEqual(add(-2, -3), -5)\n",
    "\n",
    "unittest.main()"
   ]
  },
  {
   "cell_type": "markdown",
   "metadata": {},
   "source": [
    "In the above example, we define a AddTest class that inherits from unittest.TestCase. Inside this class, we define a method called test_add, which contains our actual test case. The self.assertEqual assertion checks whether the result of calling add matches the expected output. Finally, we call unittest.main() to run all the tests defined in the module."
   ]
  },
  {
   "cell_type": "markdown",
   "metadata": {},
   "source": [
    "## Pytest\n",
    "\n",
    "One advantage of pytest over unittest is its ability to handle complex test scenarios more easily, such as parameterized tests, fixtures, and plugins."
   ]
  },
  {
   "cell_type": "code",
   "execution_count": null,
   "metadata": {},
   "outputs": [],
   "source": [
    "def test_add():\n",
    "    assert add(3, 4) == 7\n",
    "    assert add(-2, -3) == -5"
   ]
  },
  {
   "cell_type": "markdown",
   "metadata": {},
   "source": [
    "As you can see, there are no imports required, and the test function name starts with test_. Running this file using pytest will automatically discover and execute the test functions."
   ]
  },
  {
   "cell_type": "markdown",
   "metadata": {},
   "source": [
    "## Doctest\n",
    "\n",
    "Doctest is a module that comes with Python's standard library. It allows you to test your code by embedding test cases in the code's docstrings. Doctest is a great tool for simple test cases and is especially useful for testing code examples in documentation."
   ]
  },
  {
   "cell_type": "code",
   "execution_count": null,
   "metadata": {},
   "outputs": [],
   "source": [
    "def add_doc(x, y):\n",
    "    \"\"\"\n",
    "    Returns the sum of two numbers.\n",
    "\n",
    "    >>> add(3, 4)\n",
    "    7\n",
    "    >>> add(-2, -3)\n",
    "    -5\n",
    "    \"\"\"\n",
    "    return x + y"
   ]
  },
  {
   "cell_type": "markdown",
   "metadata": {},
   "source": [
    "```cmd\n",
    "python -m doctest <filename>\n",
    "```"
   ]
  }
 ],
 "metadata": {
  "kernelspec": {
   "display_name": "Python 3",
   "language": "python",
   "name": "python3"
  },
  "language_info": {
   "codemirror_mode": {
    "name": "ipython",
    "version": 3
   },
   "file_extension": ".py",
   "mimetype": "text/x-python",
   "name": "python",
   "nbconvert_exporter": "python",
   "pygments_lexer": "ipython3",
   "version": "3.12.0"
  }
 },
 "nbformat": 4,
 "nbformat_minor": 2
}
