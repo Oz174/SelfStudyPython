{
 "cells": [
  {
   "cell_type": "markdown",
   "metadata": {},
   "source": [
    "# Imports"
   ]
  },
  {
   "cell_type": "code",
   "execution_count": 23,
   "metadata": {},
   "outputs": [],
   "source": [
    "from functools import reduce\n",
    "from itertools import accumulate\n",
    "from collections import defaultdict"
   ]
  },
  {
   "cell_type": "markdown",
   "metadata": {},
   "source": [
    "# Topics"
   ]
  },
  {
   "cell_type": "markdown",
   "metadata": {},
   "source": [
    "## Makeing Object Immutable using set_attr"
   ]
  },
  {
   "cell_type": "code",
   "execution_count": 8,
   "metadata": {},
   "outputs": [
    {
     "name": "stdout",
     "output_type": "stream",
     "text": [
      "My dog's name is Willie.\n",
      "My dog's name is Lucy.\n"
     ]
    }
   ],
   "source": [
    "class Dog:\n",
    "    def __init__(self, name, age):\n",
    "        self.name = name\n",
    "        self.age = age\n",
    "\n",
    "my_dog = Dog('Willie', 6)\n",
    "print(f\"My dog's name is {my_dog.name}.\")\n",
    "\n",
    "my_dog.name = \"Lucy\"\n",
    "print(f\"My dog's name is {my_dog.name}.\") # mutable"
   ]
  },
  {
   "cell_type": "code",
   "execution_count": 12,
   "metadata": {},
   "outputs": [
    {
     "name": "stdout",
     "output_type": "stream",
     "text": [
      "My dog's name is Willie.\n",
      "Object is immutable\n",
      "My dog's name is still Willie.\n"
     ]
    }
   ],
   "source": [
    "class Dog:\n",
    "    def __init__(self, name, age):\n",
    "        # must do this\n",
    "        object.__setattr__(self,'name', name)\n",
    "        object.__setattr__(self,'age', age)\n",
    "        # if we only assigned this init like normal init , \n",
    "        # it will raise the error as it will call the __setattr__ method and it will raise the error\n",
    "\n",
    "    def __setattr__(self, name, value) -> None:\n",
    "        raise AttributeError(\"Object is immutable\")\n",
    "    \n",
    "\n",
    "my_dog = Dog('Willie', 6)\n",
    "\n",
    "print(f\"My dog's name is {my_dog.name}.\")\n",
    "\n",
    "try:\n",
    "    my_dog._name = \"Lucy\"\n",
    "except AttributeError as e:\n",
    "    print(e)\n",
    "finally:\n",
    "    print(f\"My dog's name is still {my_dog.name}.\")"
   ]
  },
  {
   "cell_type": "markdown",
   "metadata": {},
   "source": [
    "One should take care from this following code although __setattr__ is used to make the object immutable, but it can be easily bypassed by using object.__dict__."
   ]
  },
  {
   "cell_type": "code",
   "execution_count": 13,
   "metadata": {},
   "outputs": [
    {
     "name": "stdout",
     "output_type": "stream",
     "text": [
      "My dog's name is Lucy.\n"
     ]
    }
   ],
   "source": [
    "my_dog.__dict__['name'] = \"Lucy\"\n",
    "print(f\"My dog's name is {my_dog.name}.\") # mutable"
   ]
  },
  {
   "cell_type": "code",
   "execution_count": 17,
   "metadata": {},
   "outputs": [
    {
     "name": "stdout",
     "output_type": "stream",
     "text": [
      "rocky\n",
      "4\n",
      "Object is immutable\n",
      "rocky\n",
      "lucy\n"
     ]
    }
   ],
   "source": [
    "# to protect from this , we modify the __dict__ method \n",
    "\n",
    "class Dog:\n",
    "    def __init__(self, name, age):\n",
    "        # must do this\n",
    "        object.__setattr__(self,'name', name)\n",
    "        object.__setattr__(self,'age', age)\n",
    "        # if we only assigned this init like normal init , \n",
    "        # it will raise the error as it will call the __setattr__ method and it will raise the error\n",
    "\n",
    "    def __setattr__(self, name, value) -> None:\n",
    "        raise AttributeError(\"Object is immutable\")\n",
    "    \n",
    "    @property   \n",
    "    def __dict__(self):\n",
    "        return {}\n",
    "    \n",
    "dog = Dog('rocky', 4)\n",
    "\n",
    "print(dog.name)    # rocky\n",
    "print(dog.age)     # 4\n",
    "\n",
    "try:\n",
    "    dog.name = 'lucy'\n",
    "except AttributeError as e:\n",
    "    print(e)\n",
    "\n",
    "dog.__dict__['name'] = 'lucy'\n",
    "print(dog.name)    # rocky\n",
    "\n",
    "object.__setattr__(dog, 'name', 'lucy')\n",
    "print(dog.name)    # lucy"
   ]
  },
  {
   "cell_type": "markdown",
   "metadata": {},
   "source": [
    "#### loophole alert"
   ]
  },
  {
   "cell_type": "markdown",
   "metadata": {},
   "source": [
    "we’ve done the ```__setattr__``` thing to prevent ```dog.name = 'fifi'```\n",
    "we’ve done the ```__dict__``` thing to stop ```dog.__dict__['name'] = 'fifi'```\n",
    "but we cannot seem to prevent ```object.__setattr__(dog, 'name', 'fifi')``` as it calls ```object's __setattr__ method.```\n",
    "\n",
    "\n",
    "So if you’ve done all you can to stop your users or colleagues from mutating your objects, you kinda need to hope that they don’t know how to use the object.__setattr__(object, key, value) trick to forcefully mutate your object."
   ]
  },
  {
   "cell_type": "markdown",
   "metadata": {},
   "source": [
    "## Reduce Vs Accumulate"
   ]
  },
  {
   "cell_type": "markdown",
   "metadata": {},
   "source": [
    "Both reduce lists and iterables into single value but there is a bit difference \n",
    "\n",
    "1. Intermediate Values \n",
    "    - reduce : No intermediate values are stored\n",
    "    - accumulate : Intermediate values are stored\n",
    "\n",
    "2. Function signature\n",
    "    - reduce : reduce(function, iterable)\n",
    "    - accumulate : accumulate(iterable, func=operator.add)\n",
    "\n",
    "3. Performance\n",
    "    - reduce : reduce is faster than accumulate\n",
    "    - accumulate : accumulate is slower than reduce\n",
    "\n",
    "4. Memory\n",
    "    - reduce : reduce is memory efficient\n",
    "    - accumulate : accumulate is memory inefficient\n",
    "    "
   ]
  },
  {
   "cell_type": "code",
   "execution_count": 20,
   "metadata": {},
   "outputs": [
    {
     "data": {
      "text/plain": [
       "15"
      ]
     },
     "execution_count": 20,
     "metadata": {},
     "output_type": "execute_result"
    }
   ],
   "source": [
    "reduce(lambda x, y: x + y, [1, 2, 3, 4, 5]) # 15\n"
   ]
  },
  {
   "cell_type": "code",
   "execution_count": 22,
   "metadata": {},
   "outputs": [
    {
     "data": {
      "text/plain": [
       "[1, -1, -4, -8, -13]"
      ]
     },
     "execution_count": 22,
     "metadata": {},
     "output_type": "execute_result"
    }
   ],
   "source": [
    "list(accumulate([1, 2, 3, 4, 5],lambda x,y : x-y))"
   ]
  },
  {
   "cell_type": "markdown",
   "metadata": {},
   "source": [
    "## defaultdict"
   ]
  },
  {
   "cell_type": "code",
   "execution_count": 27,
   "metadata": {},
   "outputs": [
    {
     "name": "stdout",
     "output_type": "stream",
     "text": [
      " Error in key named 'Chris'\n"
     ]
    }
   ],
   "source": [
    "# without default dict\n",
    "\n",
    "scores = dict()\n",
    "\n",
    "scores['Alice'] = []\n",
    "scores['Alice'].append(93)\n",
    "\n",
    "scores['Bob'] = []\n",
    "scores['Bob'].append(88)\n",
    "\n",
    "try:\n",
    "    print(scores['Chris'])\n",
    "except KeyError as e:\n",
    "    print(f\" Error in key named {e}\") "
   ]
  },
  {
   "cell_type": "code",
   "execution_count": 26,
   "metadata": {},
   "outputs": [
    {
     "name": "stdout",
     "output_type": "stream",
     "text": [
      "[]\n"
     ]
    }
   ],
   "source": [
    "scores = defaultdict(list)\n",
    "\n",
    "scores['Alice'].append(93)\n",
    "scores['Bob'].append(88)\n",
    "\n",
    "print(scores['Chris'])"
   ]
  },
  {
   "cell_type": "markdown",
   "metadata": {},
   "source": [
    "## Sqrt(2) without sqrt or **0.5"
   ]
  },
  {
   "cell_type": "code",
   "execution_count": 4,
   "metadata": {},
   "outputs": [],
   "source": [
    "def sqrt(x, precision=10):\n",
    "    if x < 1: \n",
    "        raise x\n",
    "\n",
    "    l = 1\n",
    "    r = x\n",
    "    m = (l+r)/2\n",
    "\n",
    "    while True:\n",
    "\n",
    "        # find m^2\n",
    "        m2 = round(m * m, precision)\n",
    "\n",
    "        # if m^2 equals x, return it\n",
    "        if m2 == x:\n",
    "            return round(m, precision)\n",
    "\n",
    "        # if m^2 > x, answer is between l and m\n",
    "        # next, we set r's value to m, and recompute m\n",
    "        elif m2 > x:\n",
    "            r = m\n",
    "            m = (l+r)/2\n",
    "\n",
    "        # if m^2 < x, answer is between m and r\n",
    "        # next, we set l's value to m, and recompute m\n",
    "        elif m2 < x:\n",
    "            l = m\n",
    "            m = (l+r)/2"
   ]
  },
  {
   "cell_type": "code",
   "execution_count": 5,
   "metadata": {},
   "outputs": [
    {
     "name": "stdout",
     "output_type": "stream",
     "text": [
      "sqrt(2) with precision 1: 1.4\n",
      "sqrt(2) with precision 2: 1.41\n",
      "sqrt(2) with precision 3: 1.414\n",
      "sqrt(2) with precision 4: 1.4142\n",
      "sqrt(2) with precision 5: 1.41422\n",
      "sqrt(2) with precision 6: 1.414214\n",
      "sqrt(2) with precision 7: 1.4142136\n",
      "sqrt(2) with precision 8: 1.41421356\n",
      "sqrt(2) with precision 9: 1.414213562\n",
      "sqrt(2) with precision 10: 1.4142135624\n"
     ]
    }
   ],
   "source": [
    "for precision in range(1, 11):\n",
    "    print(f\"sqrt(2) with precision {precision}: {sqrt(2, precision)}\")"
   ]
  }
 ],
 "metadata": {
  "kernelspec": {
   "display_name": "Python 3",
   "language": "python",
   "name": "python3"
  },
  "language_info": {
   "codemirror_mode": {
    "name": "ipython",
    "version": 3
   },
   "file_extension": ".py",
   "mimetype": "text/x-python",
   "name": "python",
   "nbconvert_exporter": "python",
   "pygments_lexer": "ipython3",
   "version": "3.12.0"
  }
 },
 "nbformat": 4,
 "nbformat_minor": 2
}
