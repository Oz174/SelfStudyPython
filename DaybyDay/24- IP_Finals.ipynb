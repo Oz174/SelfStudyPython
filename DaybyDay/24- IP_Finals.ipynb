{
  "cells": [
    {
      "cell_type": "code",
      "execution_count": null,
      "id": "21f32d3b-118a-4d6a-95a0-bf88ebdbb0ac",
      "metadata": {
        "id": "21f32d3b-118a-4d6a-95a0-bf88ebdbb0ac"
      },
      "outputs": [],
      "source": [
        "def convolutional_layer(input_size , filter_size , n_f_maps , stride , padding):\n",
        "    wo = int(( input_size[0] - filter_size[0] + 2 * padding ) / stride) + 1\n",
        "    ho = int(( input_size[1] - filter_size[1] + 2 * padding ) / stride) + 1\n",
        "    params_no = (filter_size[0] * filter_size[1] * filter_size[2] + 1) * n_f_maps\n",
        "    print(f\"The Output Volume size is ({wo},{ho},{n_f_maps})\")\n",
        "    print(f\"Number of learnt parameters = {params_no}\")\n",
        "    return params_no , (wo,ho,n_f_maps)\n",
        "\n",
        "\n",
        "def pooling_layer(input_size , filter_size , n_f_maps , stride):\n",
        "    wo = int(( input_size[0] - filter_size[0] ) / stride) + 1\n",
        "    ho = int(( input_size[1] - filter_size[1] ) / stride) + 1\n",
        "    print(f\"The Output Volume size is ({wo},{ho},{n_f_maps})\")\n",
        "    print(\"Number of learnt parameters = 0\")\n",
        "    return (wo,ho,n_f_maps)\n"
      ]
    },
    {
      "cell_type": "code",
      "execution_count": null,
      "id": "5f29f9c2-f73d-4299-8c28-cd8d0b0e4255",
      "metadata": {
        "colab": {
          "base_uri": "https://localhost:8080/"
        },
        "id": "5f29f9c2-f73d-4299-8c28-cd8d0b0e4255",
        "outputId": "c298b502-d9e5-4b40-95dd-22e03e4ce2c9"
      },
      "outputs": [
        {
          "name": "stdout",
          "output_type": "stream",
          "text": [
            "Enter stride size: 1\n",
            "Enter zero-padding size: 0\n",
            "Enter Number of filters : 10\n",
            "Enter Input size: (39,39,3)\n",
            "Enter Filter size: (3,3,3)\n",
            "The Output Volume size is (37,37,10)\n",
            "Number of learnt parameters = 280\n",
            "Entering Pooling Layer ... \n",
            "Enter stride size: 1\n",
            "Enter Filter size: (3,3,3)\n",
            "The Output Volume size is (18,18,10)\n",
            "Number of learnt parameters = 0\n"
          ]
        }
      ],
      "source": [
        "stride = int(input(\"Enter stride size: \"))\n",
        "padding = int(input(\"Enter zero-padding size: \"))\n",
        "n_f_maps = int(input(\"Enter Number of filters : \"))\n",
        "\n",
        "\n",
        "input_size = eval(input(\"Enter Input size: \"))\n",
        "assert isinstance(input_size,tuple) == True\n",
        "filter_size = eval(input(\"Enter Filter size: \"))\n",
        "assert isinstance(filter_size,tuple) == True\n",
        "\n",
        "assert input_size[2] == filter_size[2] , \"Filter and Input channels must be the same\"\n",
        "\n",
        "\n",
        "_ , out = convolutional_layer(input_size,filter_size,n_f_maps,stride,padding)\n",
        "\n",
        "print(\"Entering Pooling Layer ... \")\n",
        "\n",
        "stride = int(input(\"Enter stride size: \"))\n",
        "filter_size = eval(input(\"Enter Filter size: \"))\n",
        "assert isinstance(filter_size,tuple) == True\n",
        "out_pool = pooling_layer(out,(3,3,3),n_f_maps,stride)\n"
      ]
    },
    {
      "cell_type": "code",
      "execution_count": null,
      "id": "40e3d436-5ca8-4dd6-9100-e38e0b7fc25f",
      "metadata": {
        "id": "40e3d436-5ca8-4dd6-9100-e38e0b7fc25f"
      },
      "outputs": [],
      "source": [
        "def hog_feature_size(image,block_size,cell_size,n_bins,stride):\n",
        "    #=> stride is by how much the block moves , the overlapping decides the number of pixels moved\n",
        "    blocks_n = (image[0] + stride - (block_size[0]*cell_size[0])) * (image[1] + stride - (block_size[1]*cell_size[1]))\n",
        "    blocks_n = blocks_n // (stride ** 2)\n",
        "    feature_size = int( blocks_n * n_bins * block_size[0] * block_size[1])\n",
        "    print(f\"The Feature size of the this Hog descriptor is : {feature_size}\")"
      ]
    },
    {
      "cell_type": "code",
      "execution_count": null,
      "id": "547b1f47-2e09-4365-819f-e1efdada23b7",
      "metadata": {
        "id": "547b1f47-2e09-4365-819f-e1efdada23b7",
        "outputId": "039b432d-5cc9-449b-b09a-a0ce053ee89a"
      },
      "outputs": [
        {
          "name": "stdout",
          "output_type": "stream",
          "text": [
            "Enter Overlapping Percentage (float between 0 and 1 ):  0.5\n",
            "Enter Input size:  (64,128)\n",
            "Enter Cell size in Pixels:  (8,8)\n",
            "Enter Block size in Cells:  (2,2)\n",
            "1- from 0 to 180 \n",
            " 2- from 0 to 360 \n",
            " 1\n"
          ]
        },
        {
          "name": "stdout",
          "output_type": "stream",
          "text": [
            "N_Bins:  9\n",
            " Total Block size in pixels is ( 16 , 16)\n",
            "stride is (how many pixels the window will move) : 8\n",
            "The Feature size of the this Hog descriptor is : 3780\n"
          ]
        }
      ],
      "source": [
        "overlap = float(input(\"Enter Overlapping Percentage (float between 0 and 1 ): \"))\n",
        "\n",
        "image = eval(input(\"Enter Input size: \"))\n",
        "assert isinstance(image,tuple) == True\n",
        "cell_size = eval(input(\"Enter Cell size in Pixels: \"))\n",
        "assert isinstance(cell_size,tuple) == True\n",
        "block_size = eval(input(\"Enter Block size in Cells: \"))\n",
        "assert isinstance(block_size,tuple) == True\n",
        "\n",
        "mul = lambda a , b : a * b\n",
        "\n",
        "n_bins = int(input(\"1- from 0 to 180 \\n 2- from 0 to 360 \\n\"))\n",
        "n_bins = 9 if n_bins==1 else 18\n",
        "\n",
        "print(\"N_Bins: \" , n_bins)\n",
        "\n",
        "block_size_in_pixels = [mul(aItem , bItem) for aItem , bItem in zip(cell_size , block_size)]\n",
        "print(f\" Total Block size in pixels is ( {block_size_in_pixels[0]} , {block_size_in_pixels[1]})\")\n",
        "\n",
        "stride = int((1-overlap) * block_size_in_pixels[0])\n",
        "print(f\"stride is (how many pixels the window will move) : {stride}\")\n",
        "\n",
        "\n",
        "hog_feature_size(image,block_size,cell_size,n_bins,stride)\n"
      ]
    },
    {
      "cell_type": "code",
      "execution_count": null,
      "id": "89924f27-666c-4278-818c-56ac27fdb657",
      "metadata": {
        "id": "89924f27-666c-4278-818c-56ac27fdb657"
      },
      "outputs": [],
      "source": []
    }
  ],
  "metadata": {
    "colab": {
      "provenance": []
    },
    "kernelspec": {
      "display_name": "Python 3 (ipykernel)",
      "language": "python",
      "name": "python3"
    },
    "language_info": {
      "codemirror_mode": {
        "name": "ipython",
        "version": 3
      },
      "file_extension": ".py",
      "mimetype": "text/x-python",
      "name": "python",
      "nbconvert_exporter": "python",
      "pygments_lexer": "ipython3",
      "version": "3.10.13"
    }
  },
  "nbformat": 4,
  "nbformat_minor": 5
}
