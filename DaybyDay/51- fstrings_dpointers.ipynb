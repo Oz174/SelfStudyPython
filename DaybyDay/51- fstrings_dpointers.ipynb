{
 "cells": [
  {
   "cell_type": "markdown",
   "metadata": {},
   "source": [
    "# Imports"
   ]
  },
  {
   "cell_type": "code",
   "execution_count": 7,
   "metadata": {},
   "outputs": [],
   "source": [
    "import datetime\n",
    "from dataclasses import dataclass"
   ]
  },
  {
   "cell_type": "markdown",
   "metadata": {},
   "source": [
    "# Topics"
   ]
  },
  {
   "cell_type": "markdown",
   "metadata": {},
   "source": [
    "## F-strings in python 3.12 "
   ]
  },
  {
   "cell_type": "markdown",
   "metadata": {},
   "source": [
    "### Debugging"
   ]
  },
  {
   "cell_type": "code",
   "execution_count": 2,
   "metadata": {},
   "outputs": [
    {
     "name": "stdout",
     "output_type": "stream",
     "text": [
      "x = 20, y = 10\n",
      "x = 20, y = 10\n",
      "x * y = 200\n"
     ]
    }
   ],
   "source": [
    "x = 20 \n",
    "y = 10 \n",
    "\n",
    "print(f\"x = {x}, y = {y}\")\n",
    "# or \n",
    "print(f\"{x = }, {y = }\")\n",
    "# or \n",
    "print(f\"{x * y = }\")"
   ]
  },
  {
   "cell_type": "markdown",
   "metadata": {},
   "source": [
    "### Numbers Formatting "
   ]
  },
  {
   "cell_type": "code",
   "execution_count": 4,
   "metadata": {},
   "outputs": [
    {
     "name": "stdout",
     "output_type": "stream",
     "text": [
      "number 2nd floating point: 4200.00\n",
      "hex: 0x1068\n",
      "binary: 1000001101000\n",
      "octal: 10150\n",
      "scientific: 4.200000e+03\n",
      "Number: 000004200\n",
      "Thousand separator: 4,200\n",
      "Percentage: 25.00%\n"
     ]
    }
   ],
   "source": [
    "number = 4200\n",
    "\n",
    "print(f\"number 2nd floating point: {number:.2f}\")\n",
    "print(f\"hex: {number:#0x}\")\n",
    "print(f\"binary: {number:b}\")\n",
    "print(f\"octal: {number:o}\")\n",
    "print(f\"scientific: {number:e}\") \n",
    "print(f\"Number: {number:09}\") # leading zeros\n",
    "print(f\"Thousand separator: {number:,}\")\n",
    "\n",
    "\n",
    "# and also for percentage \n",
    "percentage = 0.25\n",
    "print(f\"Percentage: {percentage:.2%}\")\n"
   ]
  },
  {
   "cell_type": "markdown",
   "metadata": {},
   "source": [
    "### Date Formatting"
   ]
  },
  {
   "cell_type": "code",
   "execution_count": 6,
   "metadata": {},
   "outputs": [
    {
     "name": "stdout",
     "output_type": "stream",
     "text": [
      "datetime : 2024-08-12 13:38:32.523676+00:00\n",
      "\n",
      "date time: 08/12/2024 13:38:32\n",
      "date: 08/12/2024\n",
      "time: 13:38:32.523676\n",
      "time: 13:38:32 PM\n",
      "time: 13:38\n"
     ]
    }
   ],
   "source": [
    "today = datetime.datetime.now(datetime.UTC)\n",
    "print(f\"datetime : {today}\\n\")\n",
    "\n",
    "print(f\"date time: {today:%m/%d/%Y %H:%M:%S}\")\n",
    "print(f\"date: {today:%m/%d/%Y}\")\n",
    "print(f\"time: {today:%H:%M:%S.%f}\") \n",
    "print(f\"time: {today:%H:%M:%S %p}\") \n",
    "print(f\"time: {today:%H:%M}\")"
   ]
  },
  {
   "cell_type": "markdown",
   "metadata": {},
   "source": [
    "### ```__repr__``` and ```__str__```"
   ]
  },
  {
   "cell_type": "code",
   "execution_count": 8,
   "metadata": {},
   "outputs": [
    {
     "name": "stdout",
     "output_type": "stream",
     "text": [
      "Elon Musk is 51 years old\n",
      "Person(name='Elon Musk', age=51)\n"
     ]
    }
   ],
   "source": [
    "@dataclass\n",
    "class Person:\n",
    "    name: str\n",
    "    age: int\n",
    "\n",
    "    def __str__(self) -> str:\n",
    "        return f\"{self.name} is {self.age} years old\"\n",
    "\n",
    "Elon = Person(\"Elon Musk\", 51)\n",
    "print(f\"{Elon}\") # str\n",
    "print(f\"{Elon!r}\") # repr (must have !r)"
   ]
  },
  {
   "cell_type": "markdown",
   "metadata": {},
   "source": [
    "For data classes, by default (without defining `__str__`), printing the object gives the `__repr__` output.\n",
    "\n",
    "If `__str__` is defined, you need to use `!r` to tell Python to print the `__repr__` output."
   ]
  },
  {
   "cell_type": "markdown",
   "metadata": {},
   "source": [
    "### Alignment "
   ]
  },
  {
   "cell_type": "code",
   "execution_count": 9,
   "metadata": {},
   "outputs": [
    {
     "name": "stdout",
     "output_type": "stream",
     "text": [
      "number is    4\n",
      "the number is 1\n",
      "the number is  2\n",
      "the number is   3\n",
      "the number is    4\n",
      "           left text\n",
      "    center text!    \n",
      "right text          \n",
      "left text               center text!              right text\n"
     ]
    }
   ],
   "source": [
    "number = 4\n",
    "print(f\"number is {number:4}\")  # width of 4\n",
    "\n",
    "# numbers\n",
    "for number in range(1, 5):\n",
    "    print(f\"the number is {number:{number}}\")\n",
    "\n",
    "left = \"left text\"\n",
    "center = \"center text!\"\n",
    "right = \"right text\"\n",
    "\n",
    "print(f\"{left:>20}\")  # left align\n",
    "print(f\"{center:^20}\")  # center align\n",
    "print(f\"{right:<20}\")  # right align\n",
    "\n",
    "print(f\"{left:<20}{center:^20}{right:>20}\")"
   ]
  },
  {
   "cell_type": "markdown",
   "metadata": {},
   "source": [
    "## Double Pointers"
   ]
  },
  {
   "cell_type": "markdown",
   "metadata": {},
   "source": [
    "### Finding the middle of the linked list"
   ]
  },
  {
   "cell_type": "code",
   "execution_count": 1,
   "metadata": {},
   "outputs": [
    {
     "name": "stdout",
     "output_type": "stream",
     "text": [
      "pineapple\n"
     ]
    }
   ],
   "source": [
    "class Node:\n",
    "    def __init__(self, val, next=None):\n",
    "        self.val = val\n",
    "        self.next = next\n",
    "\n",
    "# creating our linked list\n",
    "root = current = Node('apple')\n",
    "for fruit in ['orange', 'pear', 'pineapple', 'durian', 'banana', 'grapes']:\n",
    "    current.next = Node(fruit)\n",
    "    current = current.next\n",
    "# our linked list has been created\n",
    "\n",
    "p1 = p2 = root   # initializing p1 and p2 to 'root'\n",
    "\n",
    "while p1.next:\n",
    "    p1 = p1.next # move p1 by 1 step\n",
    "    p2 = p2.next # move p2 by 1 step\n",
    "    if p1.next:\n",
    "        p1 = p1.next # move p1 by second step if possible\n",
    "    else:\n",
    "        break\n",
    "\n",
    "print(p2.val) # pineapple"
   ]
  },
  {
   "cell_type": "markdown",
   "metadata": {},
   "source": [
    "### Longest substring with no repeating characters"
   ]
  },
  {
   "cell_type": "code",
   "execution_count": 2,
   "metadata": {},
   "outputs": [
    {
     "name": "stdout",
     "output_type": "stream",
     "text": [
      "cdabg\n"
     ]
    }
   ],
   "source": [
    "string = 'abcdabgax'\n",
    "s = set()\n",
    "longest = ''\n",
    "\n",
    "p1 = p2 = 0   # initializing p1 and p2 to 0\n",
    "\n",
    "for ch in string:\n",
    "    if ch in s:\n",
    "        # we take these steps if there are repeat characters\n",
    "        while True:\n",
    "            # moving p2 until repeat character is gone\n",
    "            if string[p2] != ch:\n",
    "                s.remove(string[p2])\n",
    "                p2 += 1\n",
    "            else:\n",
    "                p2 += 1\n",
    "                break\n",
    "\n",
    "    p1 += 1      # add 1 to p1\n",
    "    s.add(ch)    # add character into set\n",
    "\n",
    "    # keeping track of longest substring recorded\n",
    "    substring = string[p2:p1]\n",
    "    if len(substring) > len(longest):\n",
    "        longest = substring\n",
    "    \n",
    "print(longest) # cdabg"
   ]
  },
  {
   "cell_type": "markdown",
   "metadata": {},
   "source": [
    "### removing duplicates from a sorted array"
   ]
  },
  {
   "cell_type": "code",
   "execution_count": 4,
   "metadata": {},
   "outputs": [
    {
     "name": "stdout",
     "output_type": "stream",
     "text": [
      "[1, 2, 3, 3, 5, 5, 7, 7, 9, 10]\n",
      "[1, 2, 3, 3, 5, 5, 7, 7, 9, 10]\n",
      "[1, 2, 3, 3, 5, 5, 7, 7, 9, 10]\n",
      "[1, 2, 3, 3, 5, 5, 7, 7, 9, 10]\n",
      "[1, 2, 3, 5, 5, 5, 7, 7, 9, 10]\n",
      "[1, 2, 3, 5, 5, 5, 7, 7, 9, 10]\n",
      "[1, 2, 3, 5, 7, 5, 7, 7, 9, 10]\n",
      "[1, 2, 3, 5, 7, 5, 7, 7, 9, 10]\n",
      "[1, 2, 3, 5, 7, 9, 7, 7, 9, 10]\n",
      "[1, 2, 3, 5, 7, 9, 10, 7, 9, 10]\n",
      "[1, 2, 3, 5, 7, 9, 10]\n"
     ]
    }
   ],
   "source": [
    "arr = [1, 2, 3, 3, 5, 5, 7, 7, 9, 10]\n",
    "p0 = p1 = 0 \n",
    "\n",
    "while p1 < len(arr):\n",
    "    if arr[p0] == arr[p1]:\n",
    "        p1 += 1\n",
    "    else:\n",
    "        p0 += 1\n",
    "        arr[p0] = arr[p1]\n",
    "        p1 += 1\n",
    "\n",
    "print(arr[:p0+1])\n"
   ]
  },
  {
   "cell_type": "markdown",
   "metadata": {},
   "source": []
  }
 ],
 "metadata": {
  "kernelspec": {
   "display_name": "Python 3",
   "language": "python",
   "name": "python3"
  },
  "language_info": {
   "codemirror_mode": {
    "name": "ipython",
    "version": 3
   },
   "file_extension": ".py",
   "mimetype": "text/x-python",
   "name": "python",
   "nbconvert_exporter": "python",
   "pygments_lexer": "ipython3",
   "version": "3.12.0"
  }
 },
 "nbformat": 4,
 "nbformat_minor": 2
}
