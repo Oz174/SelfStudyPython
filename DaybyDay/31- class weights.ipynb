{
 "cells": [
  {
   "cell_type": "markdown",
   "metadata": {},
   "source": [
    "# Imports"
   ]
  },
  {
   "cell_type": "code",
   "execution_count": 2,
   "metadata": {},
   "outputs": [],
   "source": [
    "import numpy as np"
   ]
  },
  {
   "cell_type": "markdown",
   "metadata": {},
   "source": [
    "# Topics"
   ]
  },
  {
   "cell_type": "markdown",
   "metadata": {},
   "source": [
    "## Adjusting Class weights manually using the following formula \n",
    "$$ w = \\frac{N}{K \\times C} $$\n",
    "where\n",
    "$ w $ is the weight of the class <br>\n",
    "$ N $ is the total number of samples <br>\n",
    "$ K $ is the number of classes, <br>\n",
    "$ C $ is the number of samples in the class"
   ]
  },
  {
   "cell_type": "code",
   "execution_count": 4,
   "metadata": {},
   "outputs": [
    {
     "name": "stdout",
     "output_type": "stream",
     "text": [
      "samples_class_0=869199 , sample_class_1=141391\n"
     ]
    }
   ],
   "source": [
    "samples_class_0 = np.random.randint(0,1_000_000)\n",
    "sample_class_1 = np.random.randint(0,1_000_000)\n",
    "\n",
    "print(f\"{samples_class_0=} , {sample_class_1=}\")"
   ]
  },
  {
   "cell_type": "code",
   "execution_count": 5,
   "metadata": {},
   "outputs": [
    {
     "name": "stdout",
     "output_type": "stream",
     "text": [
      "1010590\n"
     ]
    }
   ],
   "source": [
    "target = np.array([0] * samples_class_0 + [1] * sample_class_1)\n",
    "print(len(target))"
   ]
  },
  {
   "cell_type": "code",
   "execution_count": 6,
   "metadata": {},
   "outputs": [],
   "source": [
    "def get_class_weights(target):\n",
    "    class_weights = {}\n",
    "    for class_ in np.unique(target):\n",
    "        class_weights[class_] = len(target) / (len(target[target == class_]) * len(np\n",
    ".unique(target)))\n",
    "    return class_weights"
   ]
  },
  {
   "cell_type": "code",
   "execution_count": 7,
   "metadata": {},
   "outputs": [
    {
     "data": {
      "text/plain": [
       "{0: 0.5813340788473066, 1: 3.573742317403512}"
      ]
     },
     "execution_count": 7,
     "metadata": {},
     "output_type": "execute_result"
    }
   ],
   "source": [
    "get_class_weights(target)"
   ]
  },
  {
   "cell_type": "markdown",
   "metadata": {},
   "source": [
    "now you can use the class weights in the model.fit() function"
   ]
  },
  {
   "cell_type": "markdown",
   "metadata": {},
   "source": []
  }
 ],
 "metadata": {
  "kernelspec": {
   "display_name": "Python 3",
   "language": "python",
   "name": "python3"
  },
  "language_info": {
   "codemirror_mode": {
    "name": "ipython",
    "version": 3
   },
   "file_extension": ".py",
   "mimetype": "text/x-python",
   "name": "python",
   "nbconvert_exporter": "python",
   "pygments_lexer": "ipython3",
   "version": "3.12.0"
  }
 },
 "nbformat": 4,
 "nbformat_minor": 2
}
