{
 "cells": [
  {
   "cell_type": "markdown",
   "metadata": {},
   "source": [
    "# Imports"
   ]
  },
  {
   "cell_type": "code",
   "execution_count": 1,
   "metadata": {},
   "outputs": [],
   "source": [
    "import os \n",
    "import time"
   ]
  },
  {
   "cell_type": "markdown",
   "metadata": {},
   "source": [
    "# Topics"
   ]
  },
  {
   "cell_type": "markdown",
   "metadata": {},
   "source": [
    "## 1. Processing new files (by mod time)"
   ]
  },
  {
   "cell_type": "code",
   "execution_count": 6,
   "metadata": {},
   "outputs": [
    {
     "name": "stdout",
     "output_type": "stream",
     "text": [
      "Processing ../temp/new.py\n"
     ]
    }
   ],
   "source": [
    "def get_file_mod_times(directory):\n",
    "    return {f: os.path.getmtime(os.path.join(directory, f)) for f in os.listdir(directory)}\n",
    "def process_file(file_path):\n",
    "    # Implement your file processing logic here\n",
    "    print(f\"Processing {file_path}\")\n",
    "directory = '../temp/'\n",
    "last_mod_times = get_file_mod_times(directory)\n",
    "while True:\n",
    "    time.sleep(60)  # Check every minute\n",
    "    # N.B : I added the new.py while the loop was running\n",
    "    current_mod_times = get_file_mod_times(directory)\n",
    "    for file, mod_time in current_mod_times.items():\n",
    "        if file not in last_mod_times or mod_time > last_mod_times[file]:\n",
    "            process_file(os.path.join(directory, file))\n",
    "            last_mod_times[file] = mod_time"
   ]
  }
 ],
 "metadata": {
  "kernelspec": {
   "display_name": "Python 3",
   "language": "python",
   "name": "python3"
  },
  "language_info": {
   "codemirror_mode": {
    "name": "ipython",
    "version": 3
   },
   "file_extension": ".py",
   "mimetype": "text/x-python",
   "name": "python",
   "nbconvert_exporter": "python",
   "pygments_lexer": "ipython3",
   "version": "3.12.0"
  }
 },
 "nbformat": 4,
 "nbformat_minor": 2
}
