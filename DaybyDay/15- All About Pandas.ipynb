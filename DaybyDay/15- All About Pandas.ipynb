{
 "cells": [
  {
   "cell_type": "markdown",
   "metadata": {},
   "source": [
    "# Imports"
   ]
  },
  {
   "cell_type": "code",
   "execution_count": 2,
   "metadata": {},
   "outputs": [],
   "source": [
    "import pandas as pd"
   ]
  },
  {
   "cell_type": "markdown",
   "metadata": {},
   "source": [
    "# Topics"
   ]
  },
  {
   "cell_type": "markdown",
   "metadata": {},
   "source": [
    "## Chaining operations in Pandas"
   ]
  },
  {
   "cell_type": "code",
   "execution_count": 2,
   "metadata": {},
   "outputs": [],
   "source": [
    "# Sample DataFrame\n",
    "data = {'Name': ['John', 'Anna', 'Peter', 'Linda'],\n",
    "        'Age': [28, 34, 45, 32],\n",
    "        'Income': [50000, 60000, 80000, 75000]}\n",
    "df = pd.DataFrame(data)\n",
    "\n",
    "# Method chaining example: Filtering and sorting data\n",
    "result = (\n",
    "    df\n",
    "    .loc[df['Age'] > 30]  # Filter rows where Age > 30\n",
    "    .sort_values(by='Income', ascending=False)  # Sort by Income in descending order\n",
    ")\n",
    "\n"
   ]
  },
  {
   "cell_type": "code",
   "execution_count": 3,
   "metadata": {},
   "outputs": [
    {
     "data": {
      "text/html": [
       "<div>\n",
       "<style scoped>\n",
       "    .dataframe tbody tr th:only-of-type {\n",
       "        vertical-align: middle;\n",
       "    }\n",
       "\n",
       "    .dataframe tbody tr th {\n",
       "        vertical-align: top;\n",
       "    }\n",
       "\n",
       "    .dataframe thead th {\n",
       "        text-align: right;\n",
       "    }\n",
       "</style>\n",
       "<table border=\"1\" class=\"dataframe\">\n",
       "  <thead>\n",
       "    <tr style=\"text-align: right;\">\n",
       "      <th></th>\n",
       "      <th>Name</th>\n",
       "      <th>Age</th>\n",
       "      <th>Income</th>\n",
       "    </tr>\n",
       "  </thead>\n",
       "  <tbody>\n",
       "    <tr>\n",
       "      <th>2</th>\n",
       "      <td>Peter</td>\n",
       "      <td>45</td>\n",
       "      <td>80000</td>\n",
       "    </tr>\n",
       "    <tr>\n",
       "      <th>3</th>\n",
       "      <td>Linda</td>\n",
       "      <td>32</td>\n",
       "      <td>75000</td>\n",
       "    </tr>\n",
       "    <tr>\n",
       "      <th>1</th>\n",
       "      <td>Anna</td>\n",
       "      <td>34</td>\n",
       "      <td>60000</td>\n",
       "    </tr>\n",
       "  </tbody>\n",
       "</table>\n",
       "</div>"
      ],
      "text/plain": [
       "    Name  Age  Income\n",
       "2  Peter   45   80000\n",
       "3  Linda   32   75000\n",
       "1   Anna   34   60000"
      ]
     },
     "execution_count": 3,
     "metadata": {},
     "output_type": "execute_result"
    }
   ],
   "source": [
    "result"
   ]
  },
  {
   "cell_type": "markdown",
   "metadata": {},
   "source": [
    "## Groupby operations in Pandas"
   ]
  },
  {
   "cell_type": "code",
   "execution_count": 4,
   "metadata": {},
   "outputs": [],
   "source": [
    "data = {'Category': ['A', 'B', 'A', 'B', 'A'],\n",
    "        'Value': [10, 20, 30, 40, 50]}\n",
    "df = pd.DataFrame(data)\n",
    "\n",
    "# Grouping data by 'Category' and calculating the sum of 'Value'\n",
    "grouped_data = df.groupby('Category').sum()"
   ]
  },
  {
   "cell_type": "code",
   "execution_count": 5,
   "metadata": {},
   "outputs": [
    {
     "data": {
      "text/html": [
       "<div>\n",
       "<style scoped>\n",
       "    .dataframe tbody tr th:only-of-type {\n",
       "        vertical-align: middle;\n",
       "    }\n",
       "\n",
       "    .dataframe tbody tr th {\n",
       "        vertical-align: top;\n",
       "    }\n",
       "\n",
       "    .dataframe thead th {\n",
       "        text-align: right;\n",
       "    }\n",
       "</style>\n",
       "<table border=\"1\" class=\"dataframe\">\n",
       "  <thead>\n",
       "    <tr style=\"text-align: right;\">\n",
       "      <th></th>\n",
       "      <th>Value</th>\n",
       "    </tr>\n",
       "    <tr>\n",
       "      <th>Category</th>\n",
       "      <th></th>\n",
       "    </tr>\n",
       "  </thead>\n",
       "  <tbody>\n",
       "    <tr>\n",
       "      <th>A</th>\n",
       "      <td>90</td>\n",
       "    </tr>\n",
       "    <tr>\n",
       "      <th>B</th>\n",
       "      <td>60</td>\n",
       "    </tr>\n",
       "  </tbody>\n",
       "</table>\n",
       "</div>"
      ],
      "text/plain": [
       "          Value\n",
       "Category       \n",
       "A            90\n",
       "B            60"
      ]
     },
     "execution_count": 5,
     "metadata": {},
     "output_type": "execute_result"
    }
   ],
   "source": [
    "grouped_data"
   ]
  },
  {
   "cell_type": "markdown",
   "metadata": {},
   "source": [
    "## Commanding Time Series Data with Finesse"
   ]
  },
  {
   "cell_type": "code",
   "execution_count": 5,
   "metadata": {},
   "outputs": [
    {
     "name": "stdout",
     "output_type": "stream",
     "text": [
      "2023-01-01    0\n",
      "2023-01-02    1\n",
      "2023-01-03    2\n",
      "2023-01-04    3\n",
      "2023-01-05    4\n",
      "Freq: D, dtype: int64\n"
     ]
    }
   ],
   "source": [
    "\n",
    "# Sample time series data\n",
    "date_range = pd.date_range(start='1/1/2023', end='12/31/2028', freq='D')\n",
    "traffic_data = pd.Series(range(len(date_range)), index=date_range)\n",
    "print(traffic_data[:5])\n"
   ]
  },
  {
   "cell_type": "code",
   "execution_count": 6,
   "metadata": {},
   "outputs": [
    {
     "name": "stdout",
     "output_type": "stream",
     "text": [
      "2023-12-31     66430\n",
      "2024-12-31    200385\n",
      "2025-12-31    333245\n",
      "2026-12-31    466470\n",
      "2027-12-31    599695\n",
      "2028-12-31    735111\n",
      "Freq: YE-DEC, dtype: int64\n"
     ]
    }
   ],
   "source": [
    "# Resampling and frequency conversion for monthly analysis\n",
    "yearly_traffic = traffic_data.resample('YE').sum()\n",
    "print(yearly_traffic)"
   ]
  },
  {
   "cell_type": "markdown",
   "metadata": {},
   "source": [
    "*we resampled the data into monthly intervals using the resample function*\n",
    "*having calculated the sum of traffic for each month*"
   ]
  },
  {
   "cell_type": "markdown",
   "metadata": {},
   "source": [
    "## Multi-level indexing in Pandas"
   ]
  },
  {
   "cell_type": "code",
   "execution_count": 7,
   "metadata": {},
   "outputs": [
    {
     "data": {
      "text/html": [
       "<div>\n",
       "<style scoped>\n",
       "    .dataframe tbody tr th:only-of-type {\n",
       "        vertical-align: middle;\n",
       "    }\n",
       "\n",
       "    .dataframe tbody tr th {\n",
       "        vertical-align: top;\n",
       "    }\n",
       "\n",
       "    .dataframe thead th {\n",
       "        text-align: right;\n",
       "    }\n",
       "</style>\n",
       "<table border=\"1\" class=\"dataframe\">\n",
       "  <thead>\n",
       "    <tr style=\"text-align: right;\">\n",
       "      <th></th>\n",
       "      <th></th>\n",
       "      <th>Value</th>\n",
       "    </tr>\n",
       "    <tr>\n",
       "      <th>Category</th>\n",
       "      <th>Number</th>\n",
       "      <th></th>\n",
       "    </tr>\n",
       "  </thead>\n",
       "  <tbody>\n",
       "    <tr>\n",
       "      <th rowspan=\"2\" valign=\"top\">A</th>\n",
       "      <th>1</th>\n",
       "      <td>10</td>\n",
       "    </tr>\n",
       "    <tr>\n",
       "      <th>2</th>\n",
       "      <td>20</td>\n",
       "    </tr>\n",
       "    <tr>\n",
       "      <th rowspan=\"2\" valign=\"top\">B</th>\n",
       "      <th>1</th>\n",
       "      <td>30</td>\n",
       "    </tr>\n",
       "    <tr>\n",
       "      <th>2</th>\n",
       "      <td>40</td>\n",
       "    </tr>\n",
       "  </tbody>\n",
       "</table>\n",
       "</div>"
      ],
      "text/plain": [
       "                 Value\n",
       "Category Number       \n",
       "A        1          10\n",
       "         2          20\n",
       "B        1          30\n",
       "         2          40"
      ]
     },
     "execution_count": 7,
     "metadata": {},
     "output_type": "execute_result"
    }
   ],
   "source": [
    "index = pd.MultiIndex.from_tuples(\n",
    "    [('A', 1), ('A', 2), ('B', 1), ('B', 2)],\n",
    "    names=['Category', 'Number']\n",
    ")\n",
    "\n",
    "df = pd.DataFrame({\n",
    "    'Value': [10, 20, 30, 40]\n",
    "}, index=index)\n",
    "\n",
    "df"
   ]
  },
  {
   "cell_type": "code",
   "execution_count": 9,
   "metadata": {},
   "outputs": [
    {
     "data": {
      "text/html": [
       "<div>\n",
       "<style scoped>\n",
       "    .dataframe tbody tr th:only-of-type {\n",
       "        vertical-align: middle;\n",
       "    }\n",
       "\n",
       "    .dataframe tbody tr th {\n",
       "        vertical-align: top;\n",
       "    }\n",
       "\n",
       "    .dataframe thead th {\n",
       "        text-align: right;\n",
       "    }\n",
       "</style>\n",
       "<table border=\"1\" class=\"dataframe\">\n",
       "  <thead>\n",
       "    <tr style=\"text-align: right;\">\n",
       "      <th></th>\n",
       "      <th></th>\n",
       "      <th>Value</th>\n",
       "    </tr>\n",
       "    <tr>\n",
       "      <th>Category</th>\n",
       "      <th>Number</th>\n",
       "      <th></th>\n",
       "    </tr>\n",
       "  </thead>\n",
       "  <tbody>\n",
       "    <tr>\n",
       "      <th rowspan=\"2\" valign=\"top\">A</th>\n",
       "      <th>1</th>\n",
       "      <td>10</td>\n",
       "    </tr>\n",
       "    <tr>\n",
       "      <th>2</th>\n",
       "      <td>20</td>\n",
       "    </tr>\n",
       "    <tr>\n",
       "      <th rowspan=\"2\" valign=\"top\">B</th>\n",
       "      <th>1</th>\n",
       "      <td>30</td>\n",
       "    </tr>\n",
       "    <tr>\n",
       "      <th>2</th>\n",
       "      <td>40</td>\n",
       "    </tr>\n",
       "  </tbody>\n",
       "</table>\n",
       "</div>"
      ],
      "text/plain": [
       "                 Value\n",
       "Category Number       \n",
       "A        1          10\n",
       "         2          20\n",
       "B        1          30\n",
       "         2          40"
      ]
     },
     "execution_count": 9,
     "metadata": {},
     "output_type": "execute_result"
    }
   ],
   "source": [
    "# or\n",
    "\n",
    "data = {\n",
    "    'Category': ['A', 'A', 'B', 'B'],\n",
    "    'Number': [1, 2, 1, 2],\n",
    "    'Value': [10, 20, 30, 40]\n",
    "}\n",
    "df = pd.DataFrame(data)\n",
    "df.set_index(['Category', 'Number'], inplace=True)\n",
    "\n",
    "df"
   ]
  },
  {
   "cell_type": "code",
   "execution_count": 10,
   "metadata": {},
   "outputs": [
    {
     "name": "stdout",
     "output_type": "stream",
     "text": [
      "                 Value\n",
      "Number Category       \n",
      "1      A            10\n",
      "2      A            20\n",
      "1      B            30\n",
      "2      B            40\n"
     ]
    }
   ],
   "source": [
    "print(df.swaplevel())"
   ]
  },
  {
   "cell_type": "code",
   "execution_count": 11,
   "metadata": {},
   "outputs": [
    {
     "name": "stdout",
     "output_type": "stream",
     "text": [
      "  Category  Number  Value\n",
      "0        A       1     10\n",
      "1        A       2     20\n",
      "2        B       1     30\n",
      "3        B       2     40\n"
     ]
    }
   ],
   "source": [
    "print(df.reset_index())"
   ]
  },
  {
   "cell_type": "code",
   "execution_count": 14,
   "metadata": {},
   "outputs": [
    {
     "name": "stdout",
     "output_type": "stream",
     "text": [
      "        Value\n",
      "Number       \n",
      "1          10\n",
      "2          20\n",
      "Value    10\n",
      "Name: (A, 1), dtype: int64\n"
     ]
    }
   ],
   "source": [
    "print(df.loc['A']) \n",
    "\n",
    "\n",
    "print(df.loc[('A', 1)])"
   ]
  },
  {
   "cell_type": "code",
   "execution_count": 13,
   "metadata": {},
   "outputs": [
    {
     "name": "stdout",
     "output_type": "stream",
     "text": [
      "          Value\n",
      "Category       \n",
      "A            30\n",
      "B            70\n"
     ]
    }
   ],
   "source": [
    "print(df.groupby(level=['Category']).sum())"
   ]
  },
  {
   "cell_type": "code",
   "execution_count": 15,
   "metadata": {},
   "outputs": [
    {
     "name": "stdout",
     "output_type": "stream",
     "text": [
      "        Value\n",
      "Number       \n",
      "1          40\n",
      "2          60\n"
     ]
    }
   ],
   "source": [
    "print(df.groupby(level=['Number']).sum())"
   ]
  },
  {
   "cell_type": "markdown",
   "metadata": {},
   "source": [
    "## Pandas to Markdown "
   ]
  },
  {
   "cell_type": "code",
   "execution_count": 3,
   "metadata": {},
   "outputs": [
    {
     "name": "stdout",
     "output_type": "stream",
     "text": [
      "|    |   a |   b |\n",
      "|---:|----:|----:|\n",
      "|  0 |   1 |   5 |\n",
      "|  1 |   2 |   6 |\n",
      "|  2 |   3 |   7 |\n",
      "|  3 |   4 |   8 |\n"
     ]
    }
   ],
   "source": [
    "df = pd.DataFrame({'a': [1, 2, 3, 4],\n",
    "                   'b': [5, 6, 7, 8]})\n",
    "\n",
    "# You can control the printing of the index column by using the flag index.\n",
    "# make sure to pip install tabulate\n",
    "print(df.to_markdown(index=True))"
   ]
  },
  {
   "cell_type": "markdown",
   "metadata": {},
   "source": [
    "How it looks like in MD \n",
    "\n",
    "|    |   a |   b |\n",
    "|---:|----:|----:|\n",
    "|  0 |   1 |   5 |\n",
    "|  1 |   2 |   6 |\n",
    "|  2 |   3 |   7 |\n",
    "|  3 |   4 |   8 |"
   ]
  },
  {
   "cell_type": "markdown",
   "metadata": {},
   "source": [
    "## Group Rows into list"
   ]
  },
  {
   "cell_type": "code",
   "execution_count": 6,
   "metadata": {},
   "outputs": [
    {
     "name": "stdout",
     "output_type": "stream",
     "text": [
      "      col1    col3\n",
      "col2              \n",
      "a      1.5  [d, e]\n",
      "b      3.5  [f, g]\n",
      "c      3.0     [h]\n"
     ]
    }
   ],
   "source": [
    "df = pd.DataFrame(\n",
    "    {\n",
    "        \"col1\": [1, 2, 3, 4, 3],\n",
    "        \"col2\": [\"a\", \"a\", \"b\", \"b\", \"c\"],\n",
    "        \"col3\": [\"d\", \"e\", \"f\", \"g\", \"h\"],\n",
    "    }\n",
    ")\n",
    "\n",
    "# Group by col2\n",
    "print(df.groupby([\"col2\"]).agg(\n",
    "    {\n",
    "        \"col1\": \"mean\",           # get mean\n",
    "        \"col3\": lambda x: list(x) # get list\n",
    "    }\n",
    "))"
   ]
  },
  {
   "cell_type": "markdown",
   "metadata": {},
   "source": [
    "## Dataframe.explode()"
   ]
  },
  {
   "cell_type": "code",
   "execution_count": 7,
   "metadata": {},
   "outputs": [
    {
     "name": "stdout",
     "output_type": "stream",
     "text": [
      "        a   b\n",
      "0  [1, 2]  11\n",
      "1  [4, 5]  13\n"
     ]
    }
   ],
   "source": [
    "df = pd.DataFrame({\"a\": [\"1,2\", \"4,5\"],\n",
    "                   \"b\": [11, 13]})\n",
    "\n",
    "# Turn strings into lists\n",
    "df.a = df.a.str.split(\",\")\n",
    "print(df)"
   ]
  },
  {
   "cell_type": "code",
   "execution_count": 8,
   "metadata": {},
   "outputs": [
    {
     "data": {
      "text/html": [
       "<div>\n",
       "<style scoped>\n",
       "    .dataframe tbody tr th:only-of-type {\n",
       "        vertical-align: middle;\n",
       "    }\n",
       "\n",
       "    .dataframe tbody tr th {\n",
       "        vertical-align: top;\n",
       "    }\n",
       "\n",
       "    .dataframe thead th {\n",
       "        text-align: right;\n",
       "    }\n",
       "</style>\n",
       "<table border=\"1\" class=\"dataframe\">\n",
       "  <thead>\n",
       "    <tr style=\"text-align: right;\">\n",
       "      <th></th>\n",
       "      <th>a</th>\n",
       "      <th>b</th>\n",
       "    </tr>\n",
       "  </thead>\n",
       "  <tbody>\n",
       "    <tr>\n",
       "      <th>0</th>\n",
       "      <td>1</td>\n",
       "      <td>11</td>\n",
       "    </tr>\n",
       "    <tr>\n",
       "      <th>0</th>\n",
       "      <td>2</td>\n",
       "      <td>11</td>\n",
       "    </tr>\n",
       "    <tr>\n",
       "      <th>1</th>\n",
       "      <td>4</td>\n",
       "      <td>13</td>\n",
       "    </tr>\n",
       "    <tr>\n",
       "      <th>1</th>\n",
       "      <td>5</td>\n",
       "      <td>13</td>\n",
       "    </tr>\n",
       "  </tbody>\n",
       "</table>\n",
       "</div>"
      ],
      "text/plain": [
       "   a   b\n",
       "0  1  11\n",
       "0  2  11\n",
       "1  4  13\n",
       "1  5  13"
      ]
     },
     "execution_count": 8,
     "metadata": {},
     "output_type": "execute_result"
    }
   ],
   "source": [
    "df.explode(\"a\", ignore_index=False)"
   ]
  },
  {
   "cell_type": "markdown",
   "metadata": {},
   "source": [
    "## Groupby().count vs Groupby( ).size"
   ]
  },
  {
   "cell_type": "code",
   "execution_count": 9,
   "metadata": {},
   "outputs": [
    {
     "data": {
      "text/html": [
       "<div>\n",
       "<style scoped>\n",
       "    .dataframe tbody tr th:only-of-type {\n",
       "        vertical-align: middle;\n",
       "    }\n",
       "\n",
       "    .dataframe tbody tr th {\n",
       "        vertical-align: top;\n",
       "    }\n",
       "\n",
       "    .dataframe thead th {\n",
       "        text-align: right;\n",
       "    }\n",
       "</style>\n",
       "<table border=\"1\" class=\"dataframe\">\n",
       "  <thead>\n",
       "    <tr style=\"text-align: right;\">\n",
       "      <th></th>\n",
       "      <th>col2</th>\n",
       "    </tr>\n",
       "    <tr>\n",
       "      <th>col1</th>\n",
       "      <th></th>\n",
       "    </tr>\n",
       "  </thead>\n",
       "  <tbody>\n",
       "    <tr>\n",
       "      <th>a</th>\n",
       "      <td>1</td>\n",
       "    </tr>\n",
       "    <tr>\n",
       "      <th>b</th>\n",
       "      <td>2</td>\n",
       "    </tr>\n",
       "    <tr>\n",
       "      <th>c</th>\n",
       "      <td>2</td>\n",
       "    </tr>\n",
       "    <tr>\n",
       "      <th>d</th>\n",
       "      <td>1</td>\n",
       "    </tr>\n",
       "  </tbody>\n",
       "</table>\n",
       "</div>"
      ],
      "text/plain": [
       "      col2\n",
       "col1      \n",
       "a        1\n",
       "b        2\n",
       "c        2\n",
       "d        1"
      ]
     },
     "execution_count": 9,
     "metadata": {},
     "output_type": "execute_result"
    }
   ],
   "source": [
    "df = pd.DataFrame(\n",
    "    {\n",
    "        \"col1\": [\"a\", \"b\", \"b\", \"c\", \"c\", \"d\"],\n",
    "        \"col2\": [\"S\", \"S\", \"M\", \"L\", \"L\", \"L\"]\n",
    "    }\n",
    ")\n",
    "\n",
    "# get the count of elements in one column\n",
    "df.groupby([\"col1\"]).count()"
   ]
  },
  {
   "cell_type": "code",
   "execution_count": 10,
   "metadata": {},
   "outputs": [
    {
     "data": {
      "text/plain": [
       "col1  col2\n",
       "a     S       1\n",
       "b     M       1\n",
       "      S       1\n",
       "c     L       2\n",
       "d     L       1\n",
       "dtype: int64"
      ]
     },
     "execution_count": 10,
     "metadata": {},
     "output_type": "execute_result"
    }
   ],
   "source": [
    "df.groupby([\"col1\", \"col2\"]).size()"
   ]
  },
  {
   "cell_type": "markdown",
   "metadata": {},
   "source": [
    "## DF.corwith()"
   ]
  },
  {
   "cell_type": "code",
   "execution_count": 11,
   "metadata": {},
   "outputs": [
    {
     "data": {
      "text/plain": [
       "a    0.94388\n",
       "b    0.68313\n",
       "dtype: float64"
      ]
     },
     "execution_count": 11,
     "metadata": {},
     "output_type": "execute_result"
    }
   ],
   "source": [
    "df1 = pd.DataFrame({\n",
    "    \"a\": [1, 2, 3, 4],\n",
    "    \"b\": [2, 3, 4, 6]\n",
    "})\n",
    "\n",
    "df2 = pd.DataFrame({\n",
    "    \"a\": [1, 2, 3, 3],\n",
    "    \"b\": [2, 2, 5, 4]\n",
    "})\n",
    "\n",
    "df1.corrwith(df2)"
   ]
  },
  {
   "cell_type": "markdown",
   "metadata": {},
   "source": [
    "## Cross Tabulation 2 "
   ]
  },
  {
   "cell_type": "code",
   "execution_count": 12,
   "metadata": {},
   "outputs": [
    {
     "data": {
      "text/html": [
       "<div>\n",
       "<style scoped>\n",
       "    .dataframe tbody tr th:only-of-type {\n",
       "        vertical-align: middle;\n",
       "    }\n",
       "\n",
       "    .dataframe tbody tr th {\n",
       "        vertical-align: top;\n",
       "    }\n",
       "\n",
       "    .dataframe thead th {\n",
       "        text-align: right;\n",
       "    }\n",
       "</style>\n",
       "<table border=\"1\" class=\"dataframe\">\n",
       "  <thead>\n",
       "    <tr style=\"text-align: right;\">\n",
       "      <th>person2</th>\n",
       "      <th>Ben</th>\n",
       "      <th>Jone</th>\n",
       "      <th>Patrick</th>\n",
       "      <th>Smith</th>\n",
       "      <th>Warren</th>\n",
       "    </tr>\n",
       "    <tr>\n",
       "      <th>person1</th>\n",
       "      <th></th>\n",
       "      <th></th>\n",
       "      <th></th>\n",
       "      <th></th>\n",
       "      <th></th>\n",
       "    </tr>\n",
       "  </thead>\n",
       "  <tbody>\n",
       "    <tr>\n",
       "      <th>Ben</th>\n",
       "      <td>0</td>\n",
       "      <td>0</td>\n",
       "      <td>1</td>\n",
       "      <td>1</td>\n",
       "      <td>0</td>\n",
       "    </tr>\n",
       "    <tr>\n",
       "      <th>Jone</th>\n",
       "      <td>0</td>\n",
       "      <td>0</td>\n",
       "      <td>0</td>\n",
       "      <td>0</td>\n",
       "      <td>1</td>\n",
       "    </tr>\n",
       "    <tr>\n",
       "      <th>Patrick</th>\n",
       "      <td>1</td>\n",
       "      <td>0</td>\n",
       "      <td>0</td>\n",
       "      <td>1</td>\n",
       "      <td>0</td>\n",
       "    </tr>\n",
       "    <tr>\n",
       "      <th>Smith</th>\n",
       "      <td>1</td>\n",
       "      <td>0</td>\n",
       "      <td>1</td>\n",
       "      <td>0</td>\n",
       "      <td>1</td>\n",
       "    </tr>\n",
       "    <tr>\n",
       "      <th>Warren</th>\n",
       "      <td>0</td>\n",
       "      <td>1</td>\n",
       "      <td>0</td>\n",
       "      <td>1</td>\n",
       "      <td>0</td>\n",
       "    </tr>\n",
       "  </tbody>\n",
       "</table>\n",
       "</div>"
      ],
      "text/plain": [
       "person2  Ben  Jone  Patrick  Smith  Warren\n",
       "person1                                   \n",
       "Ben        0     0        1      1       0\n",
       "Jone       0     0        0      0       1\n",
       "Patrick    1     0        0      1       0\n",
       "Smith      1     0        1      0       1\n",
       "Warren     0     1        0      1       0"
      ]
     },
     "execution_count": 12,
     "metadata": {},
     "output_type": "execute_result"
    }
   ],
   "source": [
    "network = [\n",
    "    (\"Ben\", \"Smith\"),\n",
    "    (\"Ben\", \"Patrick\"),\n",
    "    (\"Warren\", \"Jone\"),\n",
    "    (\"Warren\", \"Smith\"),\n",
    "    (\"Smith\", \"Patrick\"),\n",
    "]\n",
    "\n",
    "# Create a dataframe of the network\n",
    "friends1 = pd.DataFrame(\n",
    "    network, columns=[\"person1\", \"person2\"]\n",
    ")\n",
    "\n",
    "# Create the order of the columns\n",
    "friends2 = pd.DataFrame(\n",
    "    network, columns=[\"person2\", \"person1\"]\n",
    ")\n",
    "\n",
    "# Create a symmetric dataframe\n",
    "friends = pd.concat([friends1, friends2])\n",
    "\n",
    "# Create a cross tabulation\n",
    "pd.crosstab(friends.person1, friends.person2)"
   ]
  },
  {
   "cell_type": "markdown",
   "metadata": {},
   "source": [
    "## Unpivot (melt)"
   ]
  },
  {
   "cell_type": "code",
   "execution_count": 13,
   "metadata": {},
   "outputs": [
    {
     "data": {
      "text/html": [
       "<div>\n",
       "<style scoped>\n",
       "    .dataframe tbody tr th:only-of-type {\n",
       "        vertical-align: middle;\n",
       "    }\n",
       "\n",
       "    .dataframe tbody tr th {\n",
       "        vertical-align: top;\n",
       "    }\n",
       "\n",
       "    .dataframe thead th {\n",
       "        text-align: right;\n",
       "    }\n",
       "</style>\n",
       "<table border=\"1\" class=\"dataframe\">\n",
       "  <thead>\n",
       "    <tr style=\"text-align: right;\">\n",
       "      <th></th>\n",
       "      <th>fruit</th>\n",
       "      <th>Aldi</th>\n",
       "      <th>Walmart</th>\n",
       "      <th>Costco</th>\n",
       "    </tr>\n",
       "  </thead>\n",
       "  <tbody>\n",
       "    <tr>\n",
       "      <th>0</th>\n",
       "      <td>apple</td>\n",
       "      <td>4</td>\n",
       "      <td>6</td>\n",
       "      <td>1</td>\n",
       "    </tr>\n",
       "    <tr>\n",
       "      <th>1</th>\n",
       "      <td>orange</td>\n",
       "      <td>5</td>\n",
       "      <td>7</td>\n",
       "      <td>2</td>\n",
       "    </tr>\n",
       "  </tbody>\n",
       "</table>\n",
       "</div>"
      ],
      "text/plain": [
       "    fruit  Aldi  Walmart  Costco\n",
       "0   apple     4        6       1\n",
       "1  orange     5        7       2"
      ]
     },
     "execution_count": 13,
     "metadata": {},
     "output_type": "execute_result"
    }
   ],
   "source": [
    "df = pd.DataFrame({\n",
    "    \"fruit\": [\"apple\", \"orange\"],\n",
    "    \"Aldi\": [4, 5],\n",
    "    \"Walmart\": [6, 7],\n",
    "    \"Costco\": [1, 2]\n",
    "})\n",
    "\n",
    "df"
   ]
  },
  {
   "cell_type": "code",
   "execution_count": 14,
   "metadata": {},
   "outputs": [
    {
     "data": {
      "text/html": [
       "<div>\n",
       "<style scoped>\n",
       "    .dataframe tbody tr th:only-of-type {\n",
       "        vertical-align: middle;\n",
       "    }\n",
       "\n",
       "    .dataframe tbody tr th {\n",
       "        vertical-align: top;\n",
       "    }\n",
       "\n",
       "    .dataframe thead th {\n",
       "        text-align: right;\n",
       "    }\n",
       "</style>\n",
       "<table border=\"1\" class=\"dataframe\">\n",
       "  <thead>\n",
       "    <tr style=\"text-align: right;\">\n",
       "      <th></th>\n",
       "      <th>fruit</th>\n",
       "      <th>store</th>\n",
       "      <th>value</th>\n",
       "    </tr>\n",
       "  </thead>\n",
       "  <tbody>\n",
       "    <tr>\n",
       "      <th>0</th>\n",
       "      <td>apple</td>\n",
       "      <td>Aldi</td>\n",
       "      <td>4</td>\n",
       "    </tr>\n",
       "    <tr>\n",
       "      <th>1</th>\n",
       "      <td>orange</td>\n",
       "      <td>Aldi</td>\n",
       "      <td>5</td>\n",
       "    </tr>\n",
       "    <tr>\n",
       "      <th>2</th>\n",
       "      <td>apple</td>\n",
       "      <td>Walmart</td>\n",
       "      <td>6</td>\n",
       "    </tr>\n",
       "    <tr>\n",
       "      <th>3</th>\n",
       "      <td>orange</td>\n",
       "      <td>Walmart</td>\n",
       "      <td>7</td>\n",
       "    </tr>\n",
       "    <tr>\n",
       "      <th>4</th>\n",
       "      <td>apple</td>\n",
       "      <td>Costco</td>\n",
       "      <td>1</td>\n",
       "    </tr>\n",
       "    <tr>\n",
       "      <th>5</th>\n",
       "      <td>orange</td>\n",
       "      <td>Costco</td>\n",
       "      <td>2</td>\n",
       "    </tr>\n",
       "  </tbody>\n",
       "</table>\n",
       "</div>"
      ],
      "text/plain": [
       "    fruit    store  value\n",
       "0   apple     Aldi      4\n",
       "1  orange     Aldi      5\n",
       "2   apple  Walmart      6\n",
       "3  orange  Walmart      7\n",
       "4   apple   Costco      1\n",
       "5  orange   Costco      2"
      ]
     },
     "execution_count": 14,
     "metadata": {},
     "output_type": "execute_result"
    }
   ],
   "source": [
    "df.melt(id_vars=[\"fruit\"],\n",
    "        value_vars=[\"Aldi\", \"Walmart\", \"Costco\"],\n",
    "        var_name='store')"
   ]
  },
  {
   "cell_type": "markdown",
   "metadata": {},
   "source": [
    "## Rename aggregated column"
   ]
  },
  {
   "cell_type": "code",
   "execution_count": 15,
   "metadata": {},
   "outputs": [
    {
     "data": {
      "text/html": [
       "<div>\n",
       "<style scoped>\n",
       "    .dataframe tbody tr th:only-of-type {\n",
       "        vertical-align: middle;\n",
       "    }\n",
       "\n",
       "    .dataframe tbody tr th {\n",
       "        vertical-align: top;\n",
       "    }\n",
       "\n",
       "    .dataframe thead th {\n",
       "        text-align: right;\n",
       "    }\n",
       "</style>\n",
       "<table border=\"1\" class=\"dataframe\">\n",
       "  <thead>\n",
       "    <tr style=\"text-align: right;\">\n",
       "      <th></th>\n",
       "      <th>price</th>\n",
       "    </tr>\n",
       "    <tr>\n",
       "      <th>size</th>\n",
       "      <th></th>\n",
       "    </tr>\n",
       "  </thead>\n",
       "  <tbody>\n",
       "    <tr>\n",
       "      <th>L</th>\n",
       "      <td>19.000</td>\n",
       "    </tr>\n",
       "    <tr>\n",
       "      <th>M</th>\n",
       "      <td>10.000</td>\n",
       "    </tr>\n",
       "    <tr>\n",
       "      <th>S</th>\n",
       "      <td>36.995</td>\n",
       "    </tr>\n",
       "  </tbody>\n",
       "</table>\n",
       "</div>"
      ],
      "text/plain": [
       "       price\n",
       "size        \n",
       "L     19.000\n",
       "M     10.000\n",
       "S     36.995"
      ]
     },
     "execution_count": 15,
     "metadata": {},
     "output_type": "execute_result"
    }
   ],
   "source": [
    "df = pd.DataFrame({\"size\": [\"S\", \"S\", \"M\", \"L\"],\n",
    "                   \"price\": [44, 29.99, 10, 19]})\n",
    "\n",
    "df.groupby('size').agg({'price': 'mean'})"
   ]
  },
  {
   "cell_type": "markdown",
   "metadata": {},
   "source": [
    "## Normalized value counts"
   ]
  },
  {
   "cell_type": "code",
   "execution_count": 16,
   "metadata": {},
   "outputs": [
    {
     "data": {
      "text/plain": [
       "S     0.500\n",
       "M     0.250\n",
       "L     0.125\n",
       "XL    0.125\n",
       "Name: proportion, dtype: float64"
      ]
     },
     "execution_count": 16,
     "metadata": {},
     "output_type": "execute_result"
    }
   ],
   "source": [
    "size = pd.Series([\"S\", \"S\", \"M\", \"L\", \"S\", \"XL\", \"S\", \"M\",])\n",
    "\n",
    "# Get count of each value\n",
    "size.value_counts(normalize=True)"
   ]
  },
  {
   "cell_type": "markdown",
   "metadata": {},
   "source": [
    "## Fill in NULL Values"
   ]
  },
  {
   "cell_type": "code",
   "execution_count": 17,
   "metadata": {},
   "outputs": [
    {
     "data": {
      "text/html": [
       "<div>\n",
       "<style scoped>\n",
       "    .dataframe tbody tr th:only-of-type {\n",
       "        vertical-align: middle;\n",
       "    }\n",
       "\n",
       "    .dataframe tbody tr th {\n",
       "        vertical-align: top;\n",
       "    }\n",
       "\n",
       "    .dataframe thead th {\n",
       "        text-align: right;\n",
       "    }\n",
       "</style>\n",
       "<table border=\"1\" class=\"dataframe\">\n",
       "  <thead>\n",
       "    <tr style=\"text-align: right;\">\n",
       "      <th></th>\n",
       "      <th>orange</th>\n",
       "      <th>apple</th>\n",
       "    </tr>\n",
       "  </thead>\n",
       "  <tbody>\n",
       "    <tr>\n",
       "      <th>0</th>\n",
       "      <td>31.0</td>\n",
       "      <td>4.0</td>\n",
       "    </tr>\n",
       "    <tr>\n",
       "      <th>1</th>\n",
       "      <td>5.0</td>\n",
       "      <td>71.0</td>\n",
       "    </tr>\n",
       "    <tr>\n",
       "      <th>2</th>\n",
       "      <td>9.0</td>\n",
       "      <td>12.0</td>\n",
       "    </tr>\n",
       "  </tbody>\n",
       "</table>\n",
       "</div>"
      ],
      "text/plain": [
       "   orange  apple\n",
       "0    31.0    4.0\n",
       "1     5.0   71.0\n",
       "2     9.0   12.0"
      ]
     },
     "execution_count": 17,
     "metadata": {},
     "output_type": "execute_result"
    }
   ],
   "source": [
    "store1 = pd.DataFrame({\n",
    "    \"orange\": [None, 5, 9],\n",
    "    \"apple\": [4, None, 12]\n",
    "})\n",
    "\n",
    "store2 = pd.DataFrame({\n",
    "    \"orange\": [31, 52, 91],\n",
    "    \"apple\": [11, 71, 21]\n",
    "})\n",
    "\n",
    "# Fill null values of the store1 with values at the same\n",
    "# locations from store2\n",
    "store1.combine_first(store2)"
   ]
  },
  {
   "cell_type": "markdown",
   "metadata": {},
   "source": [
    "## Value_Count missing values"
   ]
  },
  {
   "cell_type": "code",
   "execution_count": 18,
   "metadata": {},
   "outputs": [
    {
     "data": {
      "text/plain": [
       "S       4\n",
       "None    2\n",
       "M       2\n",
       "L       1\n",
       "XL      1\n",
       "Name: count, dtype: int64"
      ]
     },
     "execution_count": 18,
     "metadata": {},
     "output_type": "execute_result"
    }
   ],
   "source": [
    "size = pd.Series([\"S\", \"S\", None, \"M\", \"L\", \"S\", None, \"XL\", \"S\", \"M\",])\n",
    "\n",
    "# Get count of each value, it does not count missing values\n",
    "size.value_counts()\n",
    "\n",
    "\n",
    "# pass dropna=False to get missing value count\n",
    "size.value_counts(dropna=False)"
   ]
  },
  {
   "cell_type": "markdown",
   "metadata": {},
   "source": [
    "## Filter Columns "
   ]
  },
  {
   "cell_type": "code",
   "execution_count": 20,
   "metadata": {},
   "outputs": [
    {
     "name": "stdout",
     "output_type": "stream",
     "text": [
      "   Temp  Degree\n",
      "0   Hot      35\n",
      "1  Cold       3\n",
      "2  Warm      15\n",
      "3  Cold       2\n",
      "   Degree  Temp_Cold  Temp_Hot  Temp_Warm\n",
      "0      35          0         1          0\n",
      "1       3          1         0          0\n",
      "2      15          0         0          1\n",
      "3       2          1         0          0\n",
      "   Temp_Cold  Temp_Hot  Temp_Warm\n",
      "0          0         1          0\n",
      "1          1         0          0\n",
      "2          0         0          1\n",
      "3          1         0          0\n"
     ]
    }
   ],
   "source": [
    "df = pd.DataFrame({'Temp': ['Hot', 'Cold', 'Warm', 'Cold'],\n",
    "                   'Degree': [35, 3, 15, 2]})\n",
    "print(df)\n",
    "\n",
    "df = pd.get_dummies(df, columns=['Temp'],dtype=int)\n",
    "print(df)\n",
    "\n",
    "print(df.filter(like='Temp', axis=1))\n"
   ]
  },
  {
   "cell_type": "markdown",
   "metadata": {},
   "source": [
    "## Multiple columns assign using assing"
   ]
  },
  {
   "cell_type": "code",
   "execution_count": 22,
   "metadata": {},
   "outputs": [
    {
     "name": "stdout",
     "output_type": "stream",
     "text": [
      "                                        text  text_len  word_count  weekend\n",
      "0        saturday: weekend (not working day)        35           5     True\n",
      "1          sunday: weekend (not working day)        33           5    False\n",
      "2      monday: doctor appointment at 2:45pm.        37           5    False\n",
      "3  tuesday: dentist appointment at 11:30 am.        41           6    False\n",
      "4       wednesday: basketball game at 7:00pm        36           5    False\n",
      "5           thursday: back home by 11:15 pm.        32           6    False\n",
      "6        friday: take the train at 08:10 am.        35           7     True\n"
     ]
    }
   ],
   "source": [
    "time_sentences = [\"Saturday: Weekend (Not working day)\",\n",
    "                  \"Sunday: Weekend (Not working day)\",\n",
    "                  \"Monday: Doctor appointment at 2:45pm.\",\n",
    "                  \"Tuesday: Dentist appointment at 11:30 am.\",\n",
    "                  \"Wednesday: basketball game At 7:00pm\",\n",
    "                  \"Thursday: Back home by 11:15 pm.\",\n",
    "                  \"Friday: Take the train at 08:10 am.\"]\n",
    "\n",
    "df = pd.DataFrame(time_sentences, columns=['text'])\n",
    "\n",
    "# Use Assign instead of using direct assignment \n",
    "# df['text'] = df.text.str.lower()\n",
    "# df['text_len'] = df.text.str.len()\n",
    "# df['word_count'] = df.text.str.count(\" \") + 1\n",
    "# df['weekend'] = df.text.str.contains(\"saturday|sunday\", case=False)\n",
    "print((\n",
    "    df\n",
    "    .assign(text=df.text.str.lower(),\n",
    "            text_len=df.text.str.len(),\n",
    "            word_count=df.text.str.count(\" \") + 1,\n",
    "            weekend=df.text.str.contains(\"saturday|friday\", case=False),\n",
    "           )\n",
    "))"
   ]
  },
  {
   "cell_type": "markdown",
   "metadata": {},
   "source": [
    "## Reading html tables"
   ]
  },
  {
   "cell_type": "code",
   "execution_count": 25,
   "metadata": {},
   "outputs": [
    {
     "name": "stdout",
     "output_type": "stream",
     "text": [
      "      Location July (°F) July (°C) January (°F) January (°C)\n",
      "0  Minneapolis     83/64     28/18         23/7       −4/−13\n",
      "1   Saint Paul     83/63     28/17         23/6       −5/−14\n",
      "2    Rochester     82/63     28/17         23/3       −5/−16\n",
      "3       Duluth     76/55     24/13         19/1       −7/−17\n",
      "4    St. Cloud     81/58     27/14        18/−1       −7/−18\n"
     ]
    }
   ],
   "source": [
    "# Without a marcher we will get a list of all tables in the \n",
    "# page. To make a table selection, pass table title to the \n",
    "# match parameter\n",
    "table = pd.read_html(\n",
    "    \"https://en.wikipedia.org/wiki/Minnesota\", \n",
    "    match=\"Average daily\"\n",
    ")\n",
    "\n",
    "print(table[0].head())"
   ]
  },
  {
   "cell_type": "markdown",
   "metadata": {},
   "source": [
    "## Ranking "
   ]
  },
  {
   "cell_type": "code",
   "execution_count": 27,
   "metadata": {},
   "outputs": [
    {
     "name": "stdout",
     "output_type": "stream",
     "text": [
      "  Students  Marks\n",
      "0     John     80\n",
      "1    Smith     56\n",
      "2  Patrick     95\n",
      "3      Bob     75\n",
      "4     Jose     45\n",
      "  Students  Marks  Rank\n",
      "0     John     80     2\n",
      "1    Smith     56     4\n",
      "2  Patrick     95     1\n",
      "3      Bob     75     3\n",
      "4     Jose     45     5\n"
     ]
    }
   ],
   "source": [
    "df = pd.DataFrame({'Students': ['John', 'Smith', 'Patrick', 'Bob', 'Jose'],\n",
    "                   'Marks': [80, 56, 95, 75, 45]})\n",
    "print(df)\n",
    "\n",
    "df[\"Rank\"] = df[\"Marks\"].rank(ascending=False).astype(int)\n",
    "print(df)"
   ]
  },
  {
   "cell_type": "markdown",
   "metadata": {},
   "source": [
    "## Color Values in DataFrame"
   ]
  },
  {
   "cell_type": "code",
   "execution_count": 28,
   "metadata": {},
   "outputs": [],
   "source": [
    "df = pd.DataFrame({'Students': ['John', 'Smith', 'Patrick', 'Bob', 'Jose'],\n",
    "                   'Physics': [80, 56, 95, 75, 45], \n",
    "                   'Mathematics': [90, 85, 55, 65, 75]})\n",
    "df.set_index('Students', inplace=True)\n",
    "\n",
    "\n"
   ]
  },
  {
   "cell_type": "code",
   "execution_count": 30,
   "metadata": {},
   "outputs": [
    {
     "data": {
      "text/html": [
       "<style type=\"text/css\">\n",
       "#T_836e1_row0_col0, #T_836e1_row0_col1, #T_836e1_row1_col1, #T_836e1_row2_col0, #T_836e1_row3_col0, #T_836e1_row4_col1 {\n",
       "  background-color: blue;\n",
       "}\n",
       "#T_836e1_row1_col0, #T_836e1_row2_col1, #T_836e1_row3_col1, #T_836e1_row4_col0 {\n",
       "  background-color: red;\n",
       "}\n",
       "</style>\n",
       "<table id=\"T_836e1\">\n",
       "  <thead>\n",
       "    <tr>\n",
       "      <th class=\"blank level0\" >&nbsp;</th>\n",
       "      <th id=\"T_836e1_level0_col0\" class=\"col_heading level0 col0\" >Physics</th>\n",
       "      <th id=\"T_836e1_level0_col1\" class=\"col_heading level0 col1\" >Mathematics</th>\n",
       "    </tr>\n",
       "    <tr>\n",
       "      <th class=\"index_name level0\" >Students</th>\n",
       "      <th class=\"blank col0\" >&nbsp;</th>\n",
       "      <th class=\"blank col1\" >&nbsp;</th>\n",
       "    </tr>\n",
       "  </thead>\n",
       "  <tbody>\n",
       "    <tr>\n",
       "      <th id=\"T_836e1_level0_row0\" class=\"row_heading level0 row0\" >John</th>\n",
       "      <td id=\"T_836e1_row0_col0\" class=\"data row0 col0\" >80</td>\n",
       "      <td id=\"T_836e1_row0_col1\" class=\"data row0 col1\" >90</td>\n",
       "    </tr>\n",
       "    <tr>\n",
       "      <th id=\"T_836e1_level0_row1\" class=\"row_heading level0 row1\" >Smith</th>\n",
       "      <td id=\"T_836e1_row1_col0\" class=\"data row1 col0\" >56</td>\n",
       "      <td id=\"T_836e1_row1_col1\" class=\"data row1 col1\" >85</td>\n",
       "    </tr>\n",
       "    <tr>\n",
       "      <th id=\"T_836e1_level0_row2\" class=\"row_heading level0 row2\" >Patrick</th>\n",
       "      <td id=\"T_836e1_row2_col0\" class=\"data row2 col0\" >95</td>\n",
       "      <td id=\"T_836e1_row2_col1\" class=\"data row2 col1\" >55</td>\n",
       "    </tr>\n",
       "    <tr>\n",
       "      <th id=\"T_836e1_level0_row3\" class=\"row_heading level0 row3\" >Bob</th>\n",
       "      <td id=\"T_836e1_row3_col0\" class=\"data row3 col0\" >75</td>\n",
       "      <td id=\"T_836e1_row3_col1\" class=\"data row3 col1\" >65</td>\n",
       "    </tr>\n",
       "    <tr>\n",
       "      <th id=\"T_836e1_level0_row4\" class=\"row_heading level0 row4\" >Jose</th>\n",
       "      <td id=\"T_836e1_row4_col0\" class=\"data row4 col0\" >45</td>\n",
       "      <td id=\"T_836e1_row4_col1\" class=\"data row4 col1\" >75</td>\n",
       "    </tr>\n",
       "  </tbody>\n",
       "</table>\n"
      ],
      "text/plain": [
       "<pandas.io.formats.style.Styler at 0x2091fb331d0>"
      ]
     },
     "execution_count": 30,
     "metadata": {},
     "output_type": "execute_result"
    }
   ],
   "source": [
    "def pass_condition(val):\n",
    "    color = 'blue' if val > 70 else 'red'\n",
    "    return f\"background-color: {color}\"\n",
    "\n",
    "df.style.map(pass_condition)"
   ]
  },
  {
   "cell_type": "code",
   "execution_count": null,
   "metadata": {},
   "outputs": [],
   "source": []
  }
 ],
 "metadata": {
  "kernelspec": {
   "display_name": "Python 3",
   "language": "python",
   "name": "python3"
  },
  "language_info": {
   "codemirror_mode": {
    "name": "ipython",
    "version": 3
   },
   "file_extension": ".py",
   "mimetype": "text/x-python",
   "name": "python",
   "nbconvert_exporter": "python",
   "pygments_lexer": "ipython3",
   "version": "3.12.0"
  }
 },
 "nbformat": 4,
 "nbformat_minor": 2
}
