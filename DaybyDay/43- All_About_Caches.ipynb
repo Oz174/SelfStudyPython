{
 "cells": [
  {
   "cell_type": "code",
   "execution_count": 65,
   "id": "5392ad88",
   "metadata": {},
   "outputs": [],
   "source": [
    "from functools import cache , lru_cache\n",
    "import random\n",
    "import string\n",
    "import tracemalloc"
   ]
  },
  {
   "cell_type": "code",
   "execution_count": 66,
   "id": "239334bf",
   "metadata": {},
   "outputs": [],
   "source": [
    "def fib(n):\n",
    "    if n < 2 :\n",
    "        return n \n",
    "    return fib(n-1) + fib(n-2)"
   ]
  },
  {
   "cell_type": "code",
   "execution_count": 67,
   "id": "dd4c1e8a",
   "metadata": {},
   "outputs": [
    {
     "name": "stdout",
     "output_type": "stream",
     "text": [
      "6.58 ms ± 101 µs per loop (mean ± std. dev. of 7 runs, 100 loops each)\n"
     ]
    }
   ],
   "source": [
    "%timeit fib(20)"
   ]
  },
  {
   "cell_type": "code",
   "execution_count": 68,
   "id": "6d7a80fa",
   "metadata": {},
   "outputs": [
    {
     "name": "stdout",
     "output_type": "stream",
     "text": [
      "7.08 ms ± 0 ns per loop (mean ± std. dev. of 1 run, 1 loop each)\n"
     ]
    }
   ],
   "source": [
    "%timeit -r 1 -n 1 fib(20)"
   ]
  },
  {
   "cell_type": "code",
   "execution_count": 69,
   "id": "d1a2d68f",
   "metadata": {},
   "outputs": [],
   "source": [
    "@cache\n",
    "def fib_cache(n):\n",
    "    if n < 2:\n",
    "        return n \n",
    "    return fib_cache(n-1) + fib_cache(n-2)"
   ]
  },
  {
   "cell_type": "code",
   "execution_count": 70,
   "id": "96fcc2e2",
   "metadata": {},
   "outputs": [
    {
     "name": "stdout",
     "output_type": "stream",
     "text": [
      "91.4 ns ± 1.77 ns per loop (mean ± std. dev. of 7 runs, 10,000,000 loops each)\n"
     ]
    }
   ],
   "source": [
    "%timeit fib_cache(20)"
   ]
  },
  {
   "cell_type": "code",
   "execution_count": 71,
   "id": "74cbcf19",
   "metadata": {},
   "outputs": [
    {
     "name": "stdout",
     "output_type": "stream",
     "text": [
      "226 ns ± 45.9 ns per loop (mean ± std. dev. of 7 runs, 100 loops each)\n"
     ]
    }
   ],
   "source": [
    "%timeit -n 100 fib_cache(20)"
   ]
  },
  {
   "cell_type": "code",
   "execution_count": 72,
   "id": "35797677",
   "metadata": {},
   "outputs": [
    {
     "name": "stdout",
     "output_type": "stream",
     "text": [
      "1.2 µs ± 0 ns per loop (mean ± std. dev. of 1 run, 1 loop each)\n"
     ]
    }
   ],
   "source": [
    "%timeit -r 1 -n 1 fib_cache(20)"
   ]
  },
  {
   "cell_type": "code",
   "execution_count": 74,
   "id": "708ffe62",
   "metadata": {},
   "outputs": [],
   "source": [
    "@lru_cache(maxsize=32)\n",
    "def fib_lru_cache(n):\n",
    "    if n < 2:\n",
    "        return n \n",
    "    return fib_lru_cache(n-1) + fib_lru_cache(n-2)"
   ]
  },
  {
   "cell_type": "code",
   "execution_count": 75,
   "id": "f74a3ce1",
   "metadata": {},
   "outputs": [
    {
     "name": "stdout",
     "output_type": "stream",
     "text": [
      "832040\n",
      "CacheInfo(hits=28, misses=31, maxsize=32, currsize=31)\n"
     ]
    }
   ],
   "source": [
    "print(fib_lru_cache(30))\n",
    "print(fib_lru_cache.cache_info())"
   ]
  },
  {
   "cell_type": "code",
   "execution_count": 77,
   "id": "21d532de",
   "metadata": {},
   "outputs": [
    {
     "name": "stdout",
     "output_type": "stream",
     "text": [
      "CacheInfo(hits=0, misses=0, maxsize=32, currsize=0)\n"
     ]
    }
   ],
   "source": [
    "# Clear the cache and check the info again\n",
    "fib_lru_cache.cache_clear()\n",
    "print(fib_lru_cache.cache_info())"
   ]
  },
  {
   "cell_type": "code",
   "execution_count": 78,
   "id": "34cf2407",
   "metadata": {},
   "outputs": [
    {
     "name": "stdout",
     "output_type": "stream",
     "text": [
      "213 ns ± 3.77 ns per loop (mean ± std. dev. of 7 runs, 10,000,000 loops each)\n"
     ]
    }
   ],
   "source": [
    "%timeit fib_lru_cache(20)"
   ]
  },
  {
   "cell_type": "code",
   "execution_count": 79,
   "id": "a802fe7c",
   "metadata": {},
   "outputs": [
    {
     "name": "stdout",
     "output_type": "stream",
     "text": [
      "227 ns ± 46.7 ns per loop (mean ± std. dev. of 7 runs, 100 loops each)\n"
     ]
    }
   ],
   "source": [
    "%timeit -n 100 fib_lru_cache(20)"
   ]
  },
  {
   "cell_type": "code",
   "execution_count": 80,
   "id": "4487e5c5",
   "metadata": {
    "scrolled": true
   },
   "outputs": [
    {
     "name": "stdout",
     "output_type": "stream",
     "text": [
      "1 µs ± 0 ns per loop (mean ± std. dev. of 1 run, 1 loop each)\n"
     ]
    }
   ],
   "source": [
    "%timeit -r 1 -n 1 fib_lru_cache(20)"
   ]
  },
  {
   "cell_type": "markdown",
   "id": "018785d1",
   "metadata": {},
   "source": [
    "## LRU_CACHE vs CACHE in memory usage"
   ]
  },
  {
   "cell_type": "code",
   "execution_count": 81,
   "id": "0cfc2c20",
   "metadata": {},
   "outputs": [],
   "source": [
    "\n",
    "@cache\n",
    "def get_user_data(user_id):\n",
    "    return {\n",
    "        \"user_id\": user_id,\n",
    "        \"name\": \"User \" + str(user_id),\n",
    "        \"email\": f\"user{user_id}@example.com\",\n",
    "        \"age\": random.randint(18, 60),\n",
    "        \"self-introduction\": ''.join(random.choices(string.ascii_letters, k=1000))\n",
    "    }\n",
    "\n",
    "def simulate(n):\n",
    "    tracemalloc.start()\n",
    "    _ = [get_user_data(i) for i in range(n)]\n",
    "    current, peak = tracemalloc.get_traced_memory()\n",
    "    print(f\"Current memory usage: {current/(1024**2):.3f} MB\")\n",
    "    tracemalloc.stop()"
   ]
  },
  {
   "cell_type": "code",
   "execution_count": 82,
   "id": "77ff0e38",
   "metadata": {},
   "outputs": [
    {
     "name": "stdout",
     "output_type": "stream",
     "text": [
      "Current memory usage: 17.857 MB\n"
     ]
    }
   ],
   "source": [
    "simulate(10000)"
   ]
  },
  {
   "cell_type": "code",
   "execution_count": 83,
   "id": "b8b17795",
   "metadata": {},
   "outputs": [
    {
     "name": "stdout",
     "output_type": "stream",
     "text": [
      "Current memory usage: 129.465 MB\n"
     ]
    }
   ],
   "source": [
    "simulate(100000)"
   ]
  },
  {
   "cell_type": "code",
   "execution_count": 84,
   "id": "ed829e66",
   "metadata": {},
   "outputs": [],
   "source": [
    "@lru_cache(maxsize=1000)\n",
    "def get_user_data(user_id):\n",
    "    return {\n",
    "        \"user_id\": user_id,\n",
    "        \"name\": \"User \" + str(user_id),\n",
    "        \"email\": f\"user{user_id}@example.com\",\n",
    "        \"age\": random.randint(18, 60),\n",
    "        \"self-introduction\": ''.join(random.choices(string.ascii_letters, k=1000))\n",
    "    }\n",
    "\n",
    "def simulate(n):\n",
    "    tracemalloc.start()\n",
    "    for i in range(n):\n",
    "        _ = get_user_data(i)\n",
    "        if i % 100 == 0:\n",
    "            current, peak = tracemalloc.get_traced_memory()\n",
    "            print(f\"Iteration {i}: Current memory usage: {current/(1024**2):.3f} MB\")\n",
    "            "
   ]
  },
  {
   "cell_type": "code",
   "execution_count": 85,
   "id": "fb4d717f",
   "metadata": {},
   "outputs": [
    {
     "name": "stdout",
     "output_type": "stream",
     "text": [
      "Iteration 0: Current memory usage: 0.001 MB\n",
      "Iteration 100: Current memory usage: 0.269 MB\n",
      "Iteration 200: Current memory usage: 0.413 MB\n",
      "Iteration 300: Current memory usage: 0.554 MB\n",
      "Iteration 400: Current memory usage: 0.705 MB\n",
      "Iteration 500: Current memory usage: 0.847 MB\n",
      "Iteration 600: Current memory usage: 0.989 MB\n",
      "Iteration 700: Current memory usage: 1.149 MB\n",
      "Iteration 800: Current memory usage: 1.153 MB\n",
      "Iteration 900: Current memory usage: 1.295 MB\n",
      "Iteration 1000: Current memory usage: 1.575 MB\n",
      "Iteration 1100: Current memory usage: 1.578 MB\n",
      "Iteration 1200: Current memory usage: 1.581 MB\n",
      "Iteration 1300: Current memory usage: 1.583 MB\n",
      "Iteration 1400: Current memory usage: 1.618 MB\n",
      "Iteration 1500: Current memory usage: 1.619 MB\n",
      "Iteration 1600: Current memory usage: 1.619 MB\n",
      "Iteration 1700: Current memory usage: 1.619 MB\n",
      "Iteration 1800: Current memory usage: 1.620 MB\n",
      "Iteration 1900: Current memory usage: 1.481 MB\n"
     ]
    }
   ],
   "source": [
    "simulate(2000)"
   ]
  },
  {
   "cell_type": "code",
   "execution_count": null,
   "id": "fb8edd88",
   "metadata": {},
   "outputs": [],
   "source": []
  }
 ],
 "metadata": {
  "kernelspec": {
   "display_name": "Python 3 (ipykernel)",
   "language": "python",
   "name": "python3"
  },
  "language_info": {
   "codemirror_mode": {
    "name": "ipython",
    "version": 3
   },
   "file_extension": ".py",
   "mimetype": "text/x-python",
   "name": "python",
   "nbconvert_exporter": "python",
   "pygments_lexer": "ipython3",
   "version": "3.10.13"
  }
 },
 "nbformat": 4,
 "nbformat_minor": 5
}
