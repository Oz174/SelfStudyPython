{
 "cells": [
  {
   "cell_type": "markdown",
   "metadata": {},
   "source": [
    "# Imports"
   ]
  },
  {
   "cell_type": "code",
   "execution_count": null,
   "metadata": {},
   "outputs": [],
   "source": []
  },
  {
   "cell_type": "markdown",
   "metadata": {},
   "source": [
    "# Topics"
   ]
  },
  {
   "cell_type": "markdown",
   "metadata": {},
   "source": [
    "## format "
   ]
  },
  {
   "cell_type": "code",
   "execution_count": 1,
   "metadata": {},
   "outputs": [
    {
     "name": "stdout",
     "output_type": "stream",
     "text": [
      "Name: Alice, Age: 30\n"
     ]
    }
   ],
   "source": [
    "name = \"Alice\"\n",
    "age = 30\n",
    "formatted_string = \"Name: {}, Age: {}\".format(name, age)\n",
    "print(formatted_string)"
   ]
  },
  {
   "cell_type": "markdown",
   "metadata": {},
   "source": [
    "## maketrans and translate"
   ]
  },
  {
   "cell_type": "code",
   "execution_count": 10,
   "metadata": {},
   "outputs": [
    {
     "name": "stdout",
     "output_type": "stream",
     "text": [
      "{97: 49, 101: 50, 105: 51, 111: 52, 117: 53}\n",
      "{33: None, 44: None, 46: None}\n",
      "H2ll4, w4rld!\n",
      "H2ll4 w4rld\n"
     ]
    }
   ],
   "source": [
    "translation_table = str.maketrans(\"aeiou\", \"12345\")\n",
    "print(translation_table)\n",
    "text = \"Hello, world!\"\n",
    "remove_punctuation = str.maketrans(\"\",\"\",\"!,.\")\n",
    "print(remove_punctuation)\n",
    "translated_text = text.translate(translation_table)\n",
    "print(translated_text)\n",
    "tokentized_text = translated_text.translate(remove_punctuation)\n",
    "print(tokentized_text)"
   ]
  },
  {
   "cell_type": "markdown",
   "metadata": {},
   "source": [
    "### Conditions for maketrans and translate <br>\n",
    "1- the length of the two strings should be the same\n",
    "2- if you want to replace string of variable length, you can use the following code\n",
    "```python\n",
    "import string\n",
    "table = str.maketrans('abc', '123')\n",
    "s = 'abc'\n",
    "s.translate(table)\n",
    "```\n",
    "3- if you want to remove some characters, you can use the following code\n",
    "```python\n",
    "import string\n",
    "table = str.maketrans('', '', 'abc')\n",
    "s = 'abc'\n",
    "s.translate(table)\n",
    "```\n"
   ]
  },
  {
   "cell_type": "code",
   "execution_count": 12,
   "metadata": {},
   "outputs": [
    {
     "name": "stdout",
     "output_type": "stream",
     "text": [
      "d\n"
     ]
    }
   ],
   "source": [
    "table = str.maketrans('','','abc') #removes abc\n",
    "s = 'abcd'\n",
    "print(s.translate(table)) "
   ]
  },
  {
   "cell_type": "markdown",
   "metadata": {},
   "source": [
    "## ljust , rjust and center"
   ]
  },
  {
   "cell_type": "code",
   "execution_count": 14,
   "metadata": {},
   "outputs": [
    {
     "name": "stdout",
     "output_type": "stream",
     "text": [
      "Python----\n",
      "----Python\n",
      "--Python--\n"
     ]
    }
   ],
   "source": [
    "text = 'Python'\n",
    "print(text.ljust(10, '-'))\n",
    "print(text.rjust(10, '-'))\n",
    "print(text.center(10, '-'))"
   ]
  },
  {
   "cell_type": "markdown",
   "metadata": {},
   "source": [
    "## strip, lstrip and rstrip"
   ]
  },
  {
   "cell_type": "code",
   "execution_count": 15,
   "metadata": {},
   "outputs": [
    {
     "name": "stdout",
     "output_type": "stream",
     "text": [
      "Python\n",
      "Python   \n",
      "   Python\n"
     ]
    }
   ],
   "source": [
    "text = \"   Python   \"\n",
    "print(text.strip())\n",
    "print(text.lstrip())\n",
    "print(text.rstrip())"
   ]
  },
  {
   "cell_type": "markdown",
   "metadata": {},
   "source": [
    "## Case Conversion"
   ]
  },
  {
   "cell_type": "code",
   "execution_count": 16,
   "metadata": {},
   "outputs": [
    {
     "name": "stdout",
     "output_type": "stream",
     "text": [
      "PYTHON PROGRAMMING\n",
      "python programming\n",
      "Python Programming\n",
      "Python programming\n"
     ]
    }
   ],
   "source": [
    "text = \"python programming\"\n",
    "print(text.upper())\n",
    "print(text.lower())\n",
    "print(text.title())\n",
    "print(text.capitalize())"
   ]
  },
  {
   "cell_type": "code",
   "execution_count": null,
   "metadata": {},
   "outputs": [],
   "source": []
  }
 ],
 "metadata": {
  "kernelspec": {
   "display_name": "Python 3",
   "language": "python",
   "name": "python3"
  },
  "language_info": {
   "codemirror_mode": {
    "name": "ipython",
    "version": 3
   },
   "file_extension": ".py",
   "mimetype": "text/x-python",
   "name": "python",
   "nbconvert_exporter": "python",
   "pygments_lexer": "ipython3",
   "version": "3.12.0"
  }
 },
 "nbformat": 4,
 "nbformat_minor": 2
}
