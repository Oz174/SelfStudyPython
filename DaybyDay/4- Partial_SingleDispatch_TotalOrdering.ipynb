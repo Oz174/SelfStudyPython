{
 "cells": [
  {
   "cell_type": "markdown",
   "metadata": {},
   "source": [
    "# Imports"
   ]
  },
  {
   "cell_type": "code",
   "execution_count": 1,
   "metadata": {},
   "outputs": [],
   "source": [
    "from functools import partial , total_ordering , singledispatch"
   ]
  },
  {
   "cell_type": "markdown",
   "metadata": {},
   "source": [
    "# Topics "
   ]
  },
  {
   "cell_type": "markdown",
   "metadata": {},
   "source": [
    "## functools.partial"
   ]
  },
  {
   "cell_type": "code",
   "execution_count": 2,
   "metadata": {},
   "outputs": [
    {
     "name": "stdout",
     "output_type": "stream",
     "text": [
      "1.301029995663981\n",
      "3.0\n"
     ]
    }
   ],
   "source": [
    "# used to make predefined functions with predefined arguments\n",
    "from math import log\n",
    "\n",
    "def logab(a, base=10):\n",
    "    return log(a, base)\n",
    "\n",
    "log20b10 = partial(logab, 20)\n",
    "log8b2 = partial(logab,8,2)\n",
    "\n",
    "print(log20b10())\n",
    "print(log8b2())\n",
    "\n"
   ]
  },
  {
   "cell_type": "markdown",
   "metadata": {},
   "source": [
    "## functools.singledispatch"
   ]
  },
  {
   "cell_type": "code",
   "execution_count": 5,
   "metadata": {},
   "outputs": [
    {
     "name": "stdout",
     "output_type": "stream",
     "text": [
      "[1, 2, 3, 4, 5, 6]\n",
      "{1: 2, 3: 4, 5: 6, 7: 8}\n",
      "{1, 2, 3, 4, 5, 6}\n",
      "Unsuported type\n",
      "12\n"
     ]
    }
   ],
   "source": [
    "@singledispatch\n",
    "def append(obj , x):\n",
    "    return \"Unsuported type\"    \n",
    "\n",
    "@append.register\n",
    "def _(obj: list , x:list):\n",
    "    return obj + x\n",
    "\n",
    "@append.register\n",
    "def _(obj: dict , x:dict):\n",
    "    obj.update(x)\n",
    "    return obj\n",
    "\n",
    "@append.register\n",
    "def _(obj: set , x:set):\n",
    "    return obj.union(x)\n",
    "\n",
    "print(append([1,2,3],[4,5,6]))\n",
    "print(append({1:2,3:4},{5:6,7:8}))\n",
    "print(append({1,2,3},{4,5,6}))\n",
    "print(append(1,2))\n",
    "    \n",
    "@append.register\n",
    "def _(obj: int , x:int):\n",
    "    return str(obj) + str(x)\n",
    "\n",
    "print(append(1,2))"
   ]
  },
  {
   "cell_type": "markdown",
   "metadata": {},
   "source": [
    "## functools.total_ordering"
   ]
  },
  {
   "cell_type": "code",
   "execution_count": 11,
   "metadata": {},
   "outputs": [
    {
     "name": "stdout",
     "output_type": "stream",
     "text": [
      "True\n",
      "False\n",
      "False\n",
      "True\n",
      "False\n",
      "True\n"
     ]
    }
   ],
   "source": [
    "# without total_ordering\n",
    "class Circle:\n",
    "    def __init__(self, radius):\n",
    "        self.radius = radius\n",
    "\n",
    "    def __le__(self, other):\n",
    "        return self.radius <= other.radius\n",
    "    \n",
    "    def __eq__(self, other):\n",
    "        return self.radius == other.radius\n",
    "    \n",
    "    def __lt__(self, other):\n",
    "        return self.radius < other.radius\n",
    "\n",
    "circle1 = Circle(2)\n",
    "circle2 = Circle(3)\n",
    "\n",
    "print(circle1 < circle2)\n",
    "print(circle1 > circle2)\n",
    "print(circle1 == circle2)\n",
    "print(circle1 <= circle2)\n",
    "print(circle1 >= circle2)\n",
    "print(circle1 != circle2)"
   ]
  },
  {
   "cell_type": "code",
   "execution_count": 7,
   "metadata": {},
   "outputs": [
    {
     "name": "stdout",
     "output_type": "stream",
     "text": [
      "True\n",
      "False\n",
      "False\n",
      "True\n",
      "False\n",
      "True\n"
     ]
    }
   ],
   "source": [
    "\n",
    "@total_ordering\n",
    "class Circle:\n",
    "    def __init__(self, radius):\n",
    "        self.radius = radius\n",
    "\n",
    "    # only one is enough\n",
    "    def __lt__(self, other):\n",
    "        return self.radius < other.radius\n",
    "    \n",
    "\n",
    "\n",
    "circle1 = Circle(2)\n",
    "circle2 = Circle(4)\n",
    "\n",
    "print(circle1 < circle2)\n",
    "print(circle1 > circle2)\n",
    "print(circle1 == circle2)\n",
    "print(circle1 <= circle2)\n",
    "print(circle1 >= circle2)\n",
    "print(circle1 != circle2)\n"
   ]
  },
  {
   "cell_type": "markdown",
   "metadata": {},
   "source": [
    "comment : we notice that total_ordering helps to implement the other comparison methods"
   ]
  }
 ],
 "metadata": {
  "kernelspec": {
   "display_name": "Python 3",
   "language": "python",
   "name": "python3"
  },
  "language_info": {
   "codemirror_mode": {
    "name": "ipython",
    "version": 3
   },
   "file_extension": ".py",
   "mimetype": "text/x-python",
   "name": "python",
   "nbconvert_exporter": "python",
   "pygments_lexer": "ipython3",
   "version": "3.12.0"
  }
 },
 "nbformat": 4,
 "nbformat_minor": 2
}
