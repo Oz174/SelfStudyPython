{
 "cells": [
  {
   "cell_type": "code",
   "execution_count": 7,
   "metadata": {},
   "outputs": [
    {
     "name": "stdout",
     "output_type": "stream",
     "text": [
      "Request distributed to server: server1\n",
      "Request distributed to server: server2\n",
      "Request distributed to server: server3\n",
      "Selecting a random server2 in Least Connection Strategy\n",
      "Request distributed to server: server2\n",
      "Request distributed to server: server1\n",
      "Request distributed to server: server3\n",
      "Selecting a random server1 in Least Connection Strategy\n",
      "Request distributed to server: server1\n",
      "Request distributed to server: server2\n",
      "Request distributed to server: server3\n",
      "Request distributed to server: server1\n"
     ]
    }
   ],
   "source": [
    "from abc import ABC, abstractmethod\n",
    "import random\n",
    "\n",
    "class Server:\n",
    "    def __init__(self, name):\n",
    "        self.name = name\n",
    "        self.connections = 0\n",
    "\n",
    "    def increment_connections(self):\n",
    "        self.connections += 1\n",
    "\n",
    "    def decrement_connections(self):\n",
    "        self.connections -= 1\n",
    "\n",
    "class LoadBalancer(ABC):\n",
    "    def __init__(self, strategy):\n",
    "        self.strategy = strategy\n",
    "\n",
    "    def distribute_request(self):\n",
    "        server = self.strategy.select_server()\n",
    "        server.increment_connections()\n",
    "        # Process the request on the selected server\n",
    "        print(f\"Request distributed to server: {server.name}\")\n",
    "\n",
    "class Strategy(ABC):\n",
    "    @abstractmethod\n",
    "    def select_server(self):\n",
    "        pass\n",
    "\n",
    "class RoundRobinStrategy(Strategy):\n",
    "    def __init__(self, servers):\n",
    "        self.servers = servers\n",
    "        self.current_index = 0\n",
    "\n",
    "    def select_server(self):\n",
    "        if random.random() < 0.2:\n",
    "            choice = random.randrange(0,len(self.servers))\n",
    "            print(f\"Selecting a random server{choice} in Round Robin\")\n",
    "            return self.servers[choice]\n",
    "        \n",
    "        server = self.servers[self.current_index]\n",
    "        self.current_index = (self.current_index + 1) % len(self.servers)\n",
    "        return server\n",
    "\n",
    "\n",
    "class LeastConnectionsStrategy(Strategy):\n",
    "    def __init__(self, servers):\n",
    "        self.servers = servers\n",
    "\n",
    "    def select_server(self):\n",
    "        if random.random() < 0.2:\n",
    "            choice = random.randrange(0,len(self.servers))\n",
    "            print(f\"Selecting a random server{choice+1} in Least Connection Strategy\")\n",
    "            return self.servers[choice]\n",
    "        \n",
    "        min_connections = float('inf')\n",
    "        least_connected_server = None\n",
    "        for server in self.servers:\n",
    "            if server.connections < min_connections:\n",
    "                min_connections = server.connections\n",
    "                least_connected_server = server\n",
    "        return least_connected_server\n",
    "\n",
    "# Example usage\n",
    "servers = [Server(\"server1\"), Server(\"server2\"), Server(\"server3\")]\n",
    "strategy = LeastConnectionsStrategy(servers)  # Use Least Connections Strategy\n",
    "load_balancer = LoadBalancer(strategy)\n",
    "\n",
    "for _ in range(10):\n",
    "    load_balancer.distribute_request()"
   ]
  },
  {
   "cell_type": "code",
   "execution_count": null,
   "metadata": {},
   "outputs": [],
   "source": []
  }
 ],
 "metadata": {
  "kernelspec": {
   "display_name": "Python 3",
   "language": "python",
   "name": "python3"
  },
  "language_info": {
   "codemirror_mode": {
    "name": "ipython",
    "version": 3
   },
   "file_extension": ".py",
   "mimetype": "text/x-python",
   "name": "python",
   "nbconvert_exporter": "python",
   "pygments_lexer": "ipython3",
   "version": "3.12.0"
  }
 },
 "nbformat": 4,
 "nbformat_minor": 2
}
