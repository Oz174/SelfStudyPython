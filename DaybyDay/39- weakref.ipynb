{
 "cells": [
  {
   "cell_type": "code",
   "execution_count": 2,
   "metadata": {},
   "outputs": [],
   "source": [
    "import sys \n",
    "import weakref\n",
    "import gc"
   ]
  },
  {
   "cell_type": "markdown",
   "metadata": {},
   "source": [
    "The usage of the weakref library is for creating weak references to objects\n",
    "\n",
    "what is a weak reference?\n",
    "A weak reference is a reference that does not prevent the object it points to from being garbage collected.\n",
    "\n",
    "why use weak references?\n",
    "1. To avoid circular references\n",
    "2. To avoid memory leaks\n",
    "\n",
    "When to use weak references?\n",
    "1. When you want to store a reference to an object that should not prevent the object from being garbage collected.\n"
   ]
  },
  {
   "cell_type": "code",
   "execution_count": 9,
   "metadata": {},
   "outputs": [
    {
     "name": "stderr",
     "output_type": "stream",
     "text": [
      "Exception ignored in: <function C.__del__ at 0x000001F759A6FBA0>\n",
      "Traceback (most recent call last):\n",
      "  File \"C:\\Users\\Oreo\\AppData\\Local\\Temp\\ipykernel_17240\\3161450261.py\", line 7, in __del__\n",
      "Exception: del\n",
      "Exception ignored in: <function C.__del__ at 0x000001F759A6E7A0>\n",
      "Traceback (most recent call last):\n",
      "  File \"C:\\Users\\Oreo\\AppData\\Local\\Temp\\ipykernel_17240\\3161450261.py\", line 7, in __del__\n",
      "Exception: del\n",
      "Exception ignored in: <function C.__del__ at 0x000001F759A6FBA0>\n",
      "Traceback (most recent call last):\n",
      "  File \"C:\\Users\\Oreo\\AppData\\Local\\Temp\\ipykernel_17240\\3161450261.py\", line 7, in __del__\n",
      "Exception: del\n"
     ]
    },
    {
     "name": "stdout",
     "output_type": "stream",
     "text": [
      "delete\n",
      "delete\n",
      "3\n",
      "2\n",
      "delete\n",
      "2\n"
     ]
    }
   ],
   "source": [
    "class C:\n",
    "    def meow(self):\n",
    "        print('meow')\n",
    "\n",
    "    def __del__(self):\n",
    "        print('delete')\n",
    "        raise Exception('del')\n",
    "\n",
    "C()\n",
    "1 # C is deleted here\n",
    "c = C()\n",
    "d = c \n",
    "print(sys.getrefcount(c)) # 3\n",
    "d  = None\n",
    "print(sys.getrefcount(c)) # 2\n",
    "c = None\n",
    "\n",
    "gc.collect()\n",
    "\n",
    "c = C()\n",
    "d= weakref.ref(c)\n",
    "print(sys.getrefcount(c)) # 2\n",
    "\n"
   ]
  },
  {
   "cell_type": "code",
   "execution_count": 11,
   "metadata": {},
   "outputs": [
    {
     "name": "stdout",
     "output_type": "stream",
     "text": [
      "meow\n"
     ]
    }
   ],
   "source": [
    "d.__call__().meow()"
   ]
  },
  {
   "cell_type": "code",
   "execution_count": 12,
   "metadata": {},
   "outputs": [
    {
     "name": "stderr",
     "output_type": "stream",
     "text": [
      "Exception ignored in: <function C.__del__ at 0x000001F759A6FBA0>\n",
      "Traceback (most recent call last):\n",
      "  File \"C:\\Users\\Oreo\\AppData\\Local\\Temp\\ipykernel_17240\\3161450261.py\", line 7, in __del__\n",
      "Exception: del\n"
     ]
    },
    {
     "name": "stdout",
     "output_type": "stream",
     "text": [
      "delete\n"
     ]
    },
    {
     "data": {
      "text/plain": [
       "<weakref at 0x000001F7599C6430; dead>"
      ]
     },
     "execution_count": 12,
     "metadata": {},
     "output_type": "execute_result"
    }
   ],
   "source": [
    "c = None\n",
    "gc.collect()\n",
    "d"
   ]
  },
  {
   "cell_type": "code",
   "execution_count": 13,
   "metadata": {},
   "outputs": [
    {
     "ename": "AttributeError",
     "evalue": "'NoneType' object has no attribute 'meow'",
     "output_type": "error",
     "traceback": [
      "\u001b[1;31m---------------------------------------------------------------------------\u001b[0m",
      "\u001b[1;31mAttributeError\u001b[0m                            Traceback (most recent call last)",
      "Cell \u001b[1;32mIn[13], line 1\u001b[0m\n\u001b[1;32m----> 1\u001b[0m \u001b[43md\u001b[49m\u001b[38;5;241;43m.\u001b[39;49m\u001b[38;5;21;43m__call__\u001b[39;49m\u001b[43m(\u001b[49m\u001b[43m)\u001b[49m\u001b[38;5;241;43m.\u001b[39;49m\u001b[43mmeow\u001b[49m()\n",
      "\u001b[1;31mAttributeError\u001b[0m: 'NoneType' object has no attribute 'meow'"
     ]
    }
   ],
   "source": [
    "d.__call__().meow()   # this will raise an exception because the object is deleted"
   ]
  },
  {
   "cell_type": "code",
   "execution_count": null,
   "metadata": {},
   "outputs": [],
   "source": []
  }
 ],
 "metadata": {
  "kernelspec": {
   "display_name": "Python 3",
   "language": "python",
   "name": "python3"
  },
  "language_info": {
   "codemirror_mode": {
    "name": "ipython",
    "version": 3
   },
   "file_extension": ".py",
   "mimetype": "text/x-python",
   "name": "python",
   "nbconvert_exporter": "python",
   "pygments_lexer": "ipython3",
   "version": "3.12.0"
  }
 },
 "nbformat": 4,
 "nbformat_minor": 2
}
