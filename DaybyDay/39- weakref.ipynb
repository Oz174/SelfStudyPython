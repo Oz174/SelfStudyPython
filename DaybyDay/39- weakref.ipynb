{
 "cells": [
  {
   "cell_type": "code",
   "execution_count": 3,
   "metadata": {},
   "outputs": [],
   "source": [
    "import sys \n",
    "import weakref\n",
    "import gc"
   ]
  },
  {
   "cell_type": "markdown",
   "metadata": {},
   "source": [
    "The usage of the weakref library is for creating weak references to objects\n",
    "\n",
    "what is a weak reference?\n",
    "A weak reference is a reference that does not prevent the object it points to from being garbage collected.\n",
    "\n",
    "why use weak references?\n",
    "1. To avoid circular references\n",
    "2. To avoid memory leaks\n",
    "\n",
    "When to use weak references?\n",
    "1. When you want to store a reference to an object that should not prevent the object from being garbage collected.\n"
   ]
  },
  {
   "cell_type": "code",
   "execution_count": 17,
   "metadata": {},
   "outputs": [
    {
     "name": "stderr",
     "output_type": "stream",
     "text": [
      "Exception ignored in: <function C.__del__ at 0x000001E0403F0860>\n",
      "Traceback (most recent call last):\n",
      "  File \"C:\\Users\\Oreo\\AppData\\Local\\Temp\\ipykernel_7048\\1279366217.py\", line 4, in __del__\n",
      "Exception: del\n"
     ]
    },
    {
     "name": "stdout",
     "output_type": "stream",
     "text": [
      "delete\n"
     ]
    }
   ],
   "source": [
    "class C:\n",
    "    def __del__(self):\n",
    "        print('delete')\n",
    "        raise Exception('del')\n",
    "\n",
    "C()\n",
    "1 # C is deleted here\n",
    "c = C()"
   ]
  },
  {
   "cell_type": "code",
   "execution_count": 15,
   "metadata": {},
   "outputs": [
    {
     "data": {
      "text/plain": [
       "1"
      ]
     },
     "execution_count": 15,
     "metadata": {},
     "output_type": "execute_result"
    }
   ],
   "source": []
  },
  {
   "cell_type": "code",
   "execution_count": null,
   "metadata": {},
   "outputs": [],
   "source": []
  }
 ],
 "metadata": {
  "kernelspec": {
   "display_name": "Python 3",
   "language": "python",
   "name": "python3"
  },
  "language_info": {
   "codemirror_mode": {
    "name": "ipython",
    "version": 3
   },
   "file_extension": ".py",
   "mimetype": "text/x-python",
   "name": "python",
   "nbconvert_exporter": "python",
   "pygments_lexer": "ipython3",
   "version": "3.12.0"
  }
 },
 "nbformat": 4,
 "nbformat_minor": 2
}
