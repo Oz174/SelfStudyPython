{
 "cells": [
  {
   "cell_type": "code",
   "execution_count": 1,
   "metadata": {},
   "outputs": [
    {
     "name": "stdout",
     "output_type": "stream",
     "text": [
      "John\n",
      "175\n"
     ]
    }
   ],
   "source": [
    "class Person:\n",
    "    name = 'John'\n",
    "    age = 30\n",
    "\n",
    "person = Person()\n",
    "print(getattr(person, 'name'))  # Outputs: John\n",
    "print(getattr(person, 'height', 175))  # Outputs: 175 since 'height' is not an attribute"
   ]
  },
  {
   "cell_type": "markdown",
   "metadata": {},
   "source": [
    " ```__getattribute__``` offers more control (and responsibility) over attribute access and can intercept every attempt to access instance attributes, making it powerful but tricky to handle correctly due to the risk of infinite recursion"
   ]
  },
  {
   "cell_type": "code",
   "execution_count": 2,
   "metadata": {},
   "outputs": [
    {
     "name": "stdout",
     "output_type": "stream",
     "text": [
      "John\n",
      "Hidden\n"
     ]
    }
   ],
   "source": [
    "class Person:\n",
    "    name = 'John'\n",
    "    age = 30\n",
    "    def __getattribute__(self, item):\n",
    "        if item == 'age':\n",
    "            return 'Hidden'\n",
    "        else:\n",
    "            return object.__getattribute__(self, item)\n",
    "\n",
    "person = Person()\n",
    "print(person.name)  # Outputs: John\n",
    "print(person.age)  # Outputs: Hidden"
   ]
  },
  {
   "cell_type": "markdown",
   "metadata": {},
   "source": [
    "Function vs. Method: ```getattr``` and ```setattr``` are built-in functions that you call with specific parameters. ```__getattribute__``` is a special method in a class's definition that Python calls automatically when any attribute is accessed."
   ]
  },
  {
   "cell_type": "code",
   "execution_count": 3,
   "metadata": {},
   "outputs": [
    {
     "name": "stdout",
     "output_type": "stream",
     "text": [
      "John\n",
      "Alice\n"
     ]
    }
   ],
   "source": [
    "class Person:\n",
    "    name = 'John'\n",
    "\n",
    "person = Person()\n",
    "print(person.name)  # Outputs: John\n",
    "setattr(person, 'name', 'Alice')\n",
    "print(person.name)  # Outputs: Alice"
   ]
  }
 ],
 "metadata": {
  "kernelspec": {
   "display_name": "Python 3",
   "language": "python",
   "name": "python3"
  },
  "language_info": {
   "codemirror_mode": {
    "name": "ipython",
    "version": 3
   },
   "file_extension": ".py",
   "mimetype": "text/x-python",
   "name": "python",
   "nbconvert_exporter": "python",
   "pygments_lexer": "ipython3",
   "version": "3.12.0"
  }
 },
 "nbformat": 4,
 "nbformat_minor": 2
}
