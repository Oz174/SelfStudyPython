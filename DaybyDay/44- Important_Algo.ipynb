{
 "cells": [
  {
   "cell_type": "code",
   "execution_count": 1,
   "metadata": {},
   "outputs": [],
   "source": [
    "import algorithms"
   ]
  },
  {
   "cell_type": "code",
   "execution_count": 6,
   "metadata": {},
   "outputs": [
    {
     "name": "stdout",
     "output_type": "stream",
     "text": [
      "['b', 'd', 'c', 'a']\n"
     ]
    }
   ],
   "source": [
    "# perform topological sort on a graph using algorithms.topological_sort\n",
    "def topological_sort(graph):\n",
    "    return algorithms.topological_sort(graph)\n",
    "\n",
    "graph = {\n",
    "    'a': [],\n",
    "    'b': ['a','c'],\n",
    "    'c': ['a'],\n",
    "    'd': ['a']\n",
    "}\n",
    "\n",
    "print(topological_sort(graph))"
   ]
  },
  {
   "cell_type": "code",
   "execution_count": null,
   "metadata": {},
   "outputs": [],
   "source": []
  }
 ],
 "metadata": {
  "kernelspec": {
   "display_name": "Python 3",
   "language": "python",
   "name": "python3"
  },
  "language_info": {
   "codemirror_mode": {
    "name": "ipython",
    "version": 3
   },
   "file_extension": ".py",
   "mimetype": "text/x-python",
   "name": "python",
   "nbconvert_exporter": "python",
   "pygments_lexer": "ipython3",
   "version": "3.12.0"
  }
 },
 "nbformat": 4,
 "nbformat_minor": 2
}
