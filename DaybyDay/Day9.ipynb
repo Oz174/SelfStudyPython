{
 "cells": [
  {
   "cell_type": "markdown",
   "metadata": {},
   "source": [
    "# Imports"
   ]
  },
  {
   "cell_type": "code",
   "execution_count": 1,
   "metadata": {},
   "outputs": [],
   "source": [
    "# None"
   ]
  },
  {
   "cell_type": "markdown",
   "metadata": {},
   "source": [
    "# Topics"
   ]
  },
  {
   "cell_type": "markdown",
   "metadata": {},
   "source": [
    "## Warlus Operator"
   ]
  },
  {
   "cell_type": "code",
   "execution_count": 10,
   "metadata": {},
   "outputs": [
    {
     "name": "stdout",
     "output_type": "stream",
     "text": [
      "0 1 4 9 16 25 36 49 64 81 "
     ]
    }
   ],
   "source": [
    "def extract_val():\n",
    "    for i in range(10):\n",
    "        yield i\n",
    "    yield -1\n",
    "\n",
    "def raise_to_2(val):\n",
    "    return val ** 2\n",
    "\n",
    "\"\"\"\n",
    "gen_obj = extract_val()\n",
    "val = next(gen_obj)\n",
    "while val != -1:\n",
    "    some_func(val)\n",
    "    val = next(gen_obj)\n",
    "\"\"\"\n",
    "\n",
    "gen_obj = extract_val()\n",
    "while (val := next(gen_obj)) != -1:\n",
    "    print(raise_to_2(val) , end = \" \")\n",
    "\n",
    "# now you can iterate while using the value of the generator"
   ]
  },
  {
   "cell_type": "markdown",
   "metadata": {},
   "source": [
    "## Flattening List of Lists"
   ]
  },
  {
   "cell_type": "code",
   "execution_count": 11,
   "metadata": {},
   "outputs": [
    {
     "data": {
      "text/plain": [
       "[1, 2, 3, 4, 5, 6, 7, 8, 9, 10]"
      ]
     },
     "execution_count": 11,
     "metadata": {},
     "output_type": "execute_result"
    }
   ],
   "source": [
    "big_list = [[1] , [2] , [3] , [4] , [5] , [6] , [7] , [8] , [9] , [10]]\n",
    "\n",
    "# empty list acts as an initiliazer\n",
    "flattened = sum(big_list , [])\n",
    "\n",
    "#instead of \n",
    "# flattened = [val for sublist in big_list for val in sublist]\n",
    "flattened"
   ]
  },
  {
   "cell_type": "code",
   "execution_count": 13,
   "metadata": {},
   "outputs": [
    {
     "data": {
      "text/plain": [
       "21"
      ]
     },
     "execution_count": 13,
     "metadata": {},
     "output_type": "execute_result"
    }
   ],
   "source": [
    "sum([1,2,3,4,5],6)"
   ]
  },
  {
   "cell_type": "code",
   "execution_count": 30,
   "metadata": {},
   "outputs": [
    {
     "data": {
      "text/plain": [
       "[1, 2, 3, 4, 5, 6, 7, 8, 9, 10]"
      ]
     },
     "execution_count": 30,
     "metadata": {},
     "output_type": "execute_result"
    }
   ],
   "source": [
    "#But, There’s another method as well using itertools.chain(). This approach is memory-efficient as it avoids creating intermediate lists and is suitable for handling large datasets.\n",
    "from itertools import chain\n",
    "\n",
    "flattened = list(chain(*big_list)) \n",
    "# chain.from_iterable(big_list) is equivalent to chain(*big_list)\n",
    "flattened"
   ]
  },
  {
   "cell_type": "markdown",
   "metadata": {},
   "source": [
    "## Unpacking dicts in-depth"
   ]
  },
  {
   "cell_type": "code",
   "execution_count": 43,
   "metadata": {},
   "outputs": [
    {
     "name": "stdout",
     "output_type": "stream",
     "text": [
      "1 b\n",
      "{'key': 1, 'value': 'b'}\n"
     ]
    }
   ],
   "source": [
    "my_dict = {'key': 1 , 'value': 'b'}\n",
    "\n",
    "def some_func(key,value):\n",
    "    print(key,value)\n",
    "\n",
    "# you should map the aguments names to the dict keys\n",
    "some_func(**my_dict)\n",
    "\n",
    "def another_func(**kwargs):\n",
    "    print(kwargs)\n",
    "\n",
    "another_func(**my_dict)\n"
   ]
  },
  {
   "cell_type": "code",
   "execution_count": null,
   "metadata": {},
   "outputs": [],
   "source": []
  }
 ],
 "metadata": {
  "kernelspec": {
   "display_name": "Python 3",
   "language": "python",
   "name": "python3"
  },
  "language_info": {
   "codemirror_mode": {
    "name": "ipython",
    "version": 3
   },
   "file_extension": ".py",
   "mimetype": "text/x-python",
   "name": "python",
   "nbconvert_exporter": "python",
   "pygments_lexer": "ipython3",
   "version": "3.12.0"
  }
 },
 "nbformat": 4,
 "nbformat_minor": 2
}
