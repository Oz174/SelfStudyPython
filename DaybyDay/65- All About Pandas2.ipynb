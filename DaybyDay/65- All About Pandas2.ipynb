{
 "cells": [
  {
   "cell_type": "markdown",
   "metadata": {},
   "source": [
    "# Imports"
   ]
  },
  {
   "cell_type": "code",
   "execution_count": 2,
   "metadata": {},
   "outputs": [],
   "source": [
    "import pandas as pd\n",
    "import numpy as np "
   ]
  },
  {
   "cell_type": "markdown",
   "metadata": {},
   "source": [
    "this notebook is powered by these websites : \n",
    "- https://www.machinelearningplus.com/python/101-pandas-exercises-python/\n",
    "- https://freedium.cfd/https://python.plainenglish.io/mastering-pandas-pivot-table-cd6c8e745077\n"
   ]
  },
  {
   "cell_type": "markdown",
   "metadata": {},
   "source": [
    "## Check the version "
   ]
  },
  {
   "cell_type": "code",
   "execution_count": 3,
   "metadata": {},
   "outputs": [
    {
     "name": "stdout",
     "output_type": "stream",
     "text": [
      "2.2.3\n",
      "{\n",
      "  \"system\": {\n",
      "    \"commit\": \"0691c5cf90477d3503834d983f69350f250a6ff7\",\n",
      "    \"python\": \"3.13.0\",\n",
      "    \"python-bits\": 64,\n",
      "    \"OS\": \"Windows\",\n",
      "    \"OS-release\": \"11\",\n",
      "    \"Version\": \"10.0.22631\",\n",
      "    \"machine\": \"AMD64\",\n",
      "    \"processor\": \"Intel64 Family 6 Model 142 Stepping 12, GenuineIntel\",\n",
      "    \"byteorder\": \"little\",\n",
      "    \"LC_ALL\": null,\n",
      "    \"LANG\": null,\n",
      "    \"LOCALE\": {\n",
      "      \"language-code\": \"English_United States\",\n",
      "      \"encoding\": \"1252\"\n",
      "    }\n",
      "  },\n",
      "  \"dependencies\": {\n",
      "    \"pandas\": \"2.2.3\",\n",
      "    \"numpy\": \"2.1.2\",\n",
      "    \"pytz\": \"2024.2\",\n",
      "    \"dateutil\": \"2.9.0.post0\",\n",
      "    \"pip\": \"24.3.1\",\n",
      "    \"Cython\": null,\n",
      "    \"sphinx\": null,\n",
      "    \"IPython\": \"8.29.0\",\n",
      "    \"adbc-driver-postgresql\": null,\n",
      "    \"adbc-driver-sqlite\": null,\n",
      "    \"bs4\": \"4.12.3\",\n",
      "    \"blosc\": null,\n",
      "    \"bottleneck\": null,\n",
      "    \"dataframe-api-compat\": null,\n",
      "    \"fastparquet\": null,\n",
      "    \"fsspec\": \"2024.10.0\",\n",
      "    \"html5lib\": null,\n",
      "    \"hypothesis\": null,\n",
      "    \"gcsfs\": null,\n",
      "    \"jinja2\": null,\n",
      "    \"lxml.etree\": \"5.3.0\",\n",
      "    \"matplotlib\": \"3.9.2\",\n",
      "    \"numba\": null,\n",
      "    \"numexpr\": null,\n",
      "    \"odfpy\": null,\n",
      "    \"openpyxl\": \"3.1.5\",\n",
      "    \"pandas_gbq\": null,\n",
      "    \"psycopg2\": null,\n",
      "    \"pymysql\": \"1.4.6\",\n",
      "    \"pyarrow\": null,\n",
      "    \"pyreadstat\": null,\n",
      "    \"pytest\": null,\n",
      "    \"python-calamine\": null,\n",
      "    \"pyxlsb\": null,\n",
      "    \"s3fs\": null,\n",
      "    \"scipy\": \"1.14.1\",\n",
      "    \"sqlalchemy\": \"2.0.36\",\n",
      "    \"tables\": null,\n",
      "    \"tabulate\": null,\n",
      "    \"xarray\": null,\n",
      "    \"xlrd\": null,\n",
      "    \"xlsxwriter\": null,\n",
      "    \"zstandard\": null,\n",
      "    \"tzdata\": \"2024.2\",\n",
      "    \"qtpy\": null,\n",
      "    \"pyqt5\": null\n",
      "  }\n",
      "}None\n"
     ]
    }
   ],
   "source": [
    "print(pd.__version__)\n",
    "print(pd.show_versions(as_json=True))"
   ]
  },
  {
   "cell_type": "markdown",
   "metadata": {},
   "source": [
    "## Create a Series from list , numpy array and dict"
   ]
  },
  {
   "cell_type": "code",
   "execution_count": 4,
   "metadata": {},
   "outputs": [
    {
     "name": "stdout",
     "output_type": "stream",
     "text": [
      "0    a\n",
      "1    b\n",
      "2    c\n",
      "3    e\n",
      "4    d\n",
      "dtype: object\n",
      "0    0\n",
      "1    1\n",
      "2    2\n",
      "3    3\n",
      "4    4\n",
      "dtype: int64\n",
      "a    0\n",
      "b    1\n",
      "c    2\n",
      "e    3\n",
      "d    4\n",
      "dtype: int64\n"
     ]
    }
   ],
   "source": [
    "mylist = list('abcedfghijklmnopqrstuvwxyz')\n",
    "myarr = np.arange(26)\n",
    "mydict = dict(zip(mylist, myarr))\n",
    "\n",
    "# Solution\n",
    "ser1 = pd.Series(mylist)\n",
    "print(ser1.head())\n",
    "ser2 = pd.Series(myarr)\n",
    "print(ser2.head())\n",
    "ser3 = pd.Series(mydict)\n",
    "print(ser3.head())"
   ]
  },
  {
   "cell_type": "markdown",
   "metadata": {},
   "source": [
    "## Convert Index to Column"
   ]
  },
  {
   "cell_type": "code",
   "execution_count": 5,
   "metadata": {},
   "outputs": [
    {
     "name": "stdout",
     "output_type": "stream",
     "text": [
      "  index  0\n",
      "0     a  0\n",
      "1     b  1\n",
      "2     c  2\n",
      "3     e  3\n",
      "4     d  4\n"
     ]
    }
   ],
   "source": [
    "mylist = list('abcedfghijklmnopqrstuvwxyz')\n",
    "myarr = np.arange(26)\n",
    "mydict = dict(zip(mylist, myarr))\n",
    "ser = pd.Series(mydict)\n",
    "\n",
    "# Solution\n",
    "df = ser.to_frame().reset_index()\n",
    "print(df.head())"
   ]
  },
  {
   "cell_type": "markdown",
   "metadata": {},
   "source": [
    "## Concat Series to DF "
   ]
  },
  {
   "cell_type": "code",
   "execution_count": 7,
   "metadata": {},
   "outputs": [
    {
     "name": "stdout",
     "output_type": "stream",
     "text": [
      "   0  1\n",
      "0  a  0\n",
      "1  b  1\n",
      "2  c  2\n",
      "3  e  3\n",
      "4  d  4\n",
      "  col1  col2\n",
      "0    a     0\n",
      "1    b     1\n",
      "2    c     2\n",
      "3    e     3\n",
      "4    d     4\n"
     ]
    }
   ],
   "source": [
    "ser1 = pd.Series(list('abcedfghijklmnopqrstuvwxyz'))\n",
    "ser2 = pd.Series(np.arange(26))\n",
    "\n",
    "# Solution 1\n",
    "df = pd.concat([ser1, ser2], axis=1)\n",
    "print(df.head())\n",
    "# Solution 2\n",
    "df = pd.DataFrame({'col1': ser1, 'col2': ser2})\n",
    "print(df.head())"
   ]
  },
  {
   "cell_type": "markdown",
   "metadata": {},
   "source": [
    "## How to get the items of series A not present in series B?"
   ]
  },
  {
   "cell_type": "code",
   "execution_count": 8,
   "metadata": {},
   "outputs": [
    {
     "name": "stdout",
     "output_type": "stream",
     "text": [
      "0    1\n",
      "1    2\n",
      "2    3\n",
      "dtype: int64\n"
     ]
    }
   ],
   "source": [
    "serA = pd.Series([1, 2, 3, 4, 5])\n",
    "serB = pd.Series([4, 5, 6, 7, 8])\n",
    "\n",
    "print(serA[~serA.isin(serB)])"
   ]
  },
  {
   "cell_type": "markdown",
   "metadata": {},
   "source": [
    "## How to get the items not common to both series A and series B?"
   ]
  },
  {
   "cell_type": "code",
   "execution_count": 10,
   "metadata": {},
   "outputs": [
    {
     "name": "stdout",
     "output_type": "stream",
     "text": [
      "0    1\n",
      "1    2\n",
      "2    3\n",
      "5    6\n",
      "6    7\n",
      "7    8\n",
      "dtype: int64\n"
     ]
    }
   ],
   "source": [
    "serA = pd.Series([1, 2, 3, 4, 5])\n",
    "serB = pd.Series([4, 5, 6, 7, 8])\n",
    "\n",
    "unionAB = pd.Series(np.union1d(serA, serB))  # union\n",
    "intersectAB = pd.Series(np.intersect1d(serA, serB))  # intersect\n",
    "notcommonAB = unionAB[~unionAB.isin(intersectAB)]\n",
    "\n",
    "print(notcommonAB)"
   ]
  },
  {
   "cell_type": "markdown",
   "metadata": {},
   "source": [
    "## Get top two "
   ]
  },
  {
   "cell_type": "code",
   "execution_count": 22,
   "metadata": {},
   "outputs": [
    {
     "name": "stdout",
     "output_type": "stream",
     "text": [
      "0     2\n",
      "1     4\n",
      "2     2\n",
      "3     1\n",
      "4     1\n",
      "5     4\n",
      "6     1\n",
      "7     1\n",
      "8     1\n",
      "9     4\n",
      "10    2\n",
      "11    4\n",
      "dtype: int32\n",
      "Value Counts: \n",
      "1    5\n",
      "4    4\n",
      "2    3\n",
      "Name: count, dtype: int64\n",
      "Value Counts Index : \n",
      "Index([1, 4, 2], dtype='int32')\n",
      "Top 2 Counts Values : \n"
     ]
    },
    {
     "data": {
      "text/plain": [
       "Index([1, 4], dtype='int32')"
      ]
     },
     "execution_count": 22,
     "metadata": {},
     "output_type": "execute_result"
    }
   ],
   "source": [
    "# Input\n",
    "np.random.RandomState(100)\n",
    "ser = pd.Series(np.random.randint(1, 5, 12))\n",
    "print(ser)\n",
    "\n",
    "# Solution\n",
    "print(\"Value Counts: \")\n",
    "print(ser.value_counts())\n",
    "\n",
    "print(\"Value Counts Index : \")\n",
    "print(ser.value_counts().index)\n",
    "\n",
    "print(\"Top 2 Counts Values : \")\n",
    "ser.value_counts().index[:2]"
   ]
  },
  {
   "cell_type": "markdown",
   "metadata": {},
   "source": [
    "## Find the indices of numbers that are multiples of 3"
   ]
  },
  {
   "cell_type": "code",
   "execution_count": 24,
   "metadata": {},
   "outputs": [
    {
     "name": "stdout",
     "output_type": "stream",
     "text": [
      "0    4\n",
      "1    2\n",
      "2    9\n",
      "3    9\n",
      "4    2\n",
      "5    6\n",
      "6    5\n",
      "dtype: int32\n"
     ]
    },
    {
     "data": {
      "text/plain": [
       "array([2, 3, 5])"
      ]
     },
     "execution_count": 24,
     "metadata": {},
     "output_type": "execute_result"
    }
   ],
   "source": [
    "ser = pd.Series(np.random.randint(1, 10, 7))\n",
    "\n",
    "# Solution\n",
    "print(ser)\n",
    "np.argwhere(ser % 3==0).squeeze()"
   ]
  },
  {
   "cell_type": "markdown",
   "metadata": {},
   "source": [
    "for more details check the first link for more wrangling operations to be done"
   ]
  },
  {
   "cell_type": "markdown",
   "metadata": {},
   "source": [
    "## What is a Pivot Table?\n",
    "A pivot table is a data summarization tool used to reorganize, sort, group, count, total, or average data stored in a database or spreadsheet. It allows you to transform columns into rows and rows into columns, creating a new table that displays the summarized data in a more digestible format.\n",
    "\n",
    "## Key features of pivot tables include:\n",
    "\n",
    "- Data Aggregation: Pivot tables can quickly summarize large amounts of data, performing calculations like sum, average, count, etc.\n",
    "- Dynamic Layout: They allow for easy rearrangement of data fields, enabling different perspectives on the same dataset.\n",
    "- Filtering: Users can filter out specific data points to focus on particular subsets of the data.\n",
    "- Grouping: Related data can be grouped together, revealing hierarchies and relationships within the dataset."
   ]
  },
  {
   "cell_type": "markdown",
   "metadata": {},
   "source": [
    "The notebook has been completed elsewhere : \n",
    "Here's the directory of the pivot_table notebook : \n",
    "[Pivot Table Notebook](../Colab%20Notebooks/Mastering%20Pivot%20Tables%20+%20Profiling.ipynb)"
   ]
  },
  {
   "cell_type": "code",
   "execution_count": null,
   "metadata": {},
   "outputs": [],
   "source": []
  }
 ],
 "metadata": {
  "kernelspec": {
   "display_name": "Python 3",
   "language": "python",
   "name": "python3"
  },
  "language_info": {
   "codemirror_mode": {
    "name": "ipython",
    "version": 3
   },
   "file_extension": ".py",
   "mimetype": "text/x-python",
   "name": "python",
   "nbconvert_exporter": "python",
   "pygments_lexer": "ipython3",
   "version": "3.13.0"
  }
 },
 "nbformat": 4,
 "nbformat_minor": 2
}
