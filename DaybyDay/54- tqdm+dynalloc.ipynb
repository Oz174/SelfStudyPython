{
 "cells": [
  {
   "cell_type": "markdown",
   "metadata": {},
   "source": [
    "# Imports"
   ]
  },
  {
   "cell_type": "code",
   "execution_count": null,
   "metadata": {},
   "outputs": [],
   "source": [
    "from tqdm import tqdm\n",
    "import pandas as pd\n",
    "import requests\n",
    "import time"
   ]
  },
  {
   "cell_type": "markdown",
   "metadata": {},
   "source": [
    "# Topics"
   ]
  },
  {
   "cell_type": "markdown",
   "metadata": {},
   "source": [
    "## TQDM"
   ]
  },
  {
   "cell_type": "markdown",
   "metadata": {},
   "source": [
    "### Basic Usage"
   ]
  },
  {
   "cell_type": "code",
   "execution_count": null,
   "metadata": {},
   "outputs": [
    {
     "name": "stderr",
     "output_type": "stream",
     "text": [
      "100%|██████████| 100/100 [00:10<00:00,  9.78it/s]\n"
     ]
    }
   ],
   "source": [
    "for i in tqdm(range(100)):\n",
    "    time.sleep(0.1)  # Simulating a task that takes fewpy time"
   ]
  },
  {
   "cell_type": "markdown",
   "metadata": {},
   "source": [
    "### Customizing the progress bar (adding a description)"
   ]
  },
  {
   "cell_type": "code",
   "execution_count": null,
   "metadata": {},
   "outputs": [
    {
     "name": "stderr",
     "output_type": "stream",
     "text": [
      "Processing: 100%|██████████| 100/100 [00:10<00:00,  9.82it/s]\n"
     ]
    }
   ],
   "source": [
    "for i in tqdm(range(100), desc=\"Processing\"):\n",
    "    time.sleep(0.1)"
   ]
  },
  {
   "cell_type": "markdown",
   "metadata": {},
   "source": [
    "### Adjust Bar Length "
   ]
  },
  {
   "cell_type": "code",
   "execution_count": null,
   "metadata": {},
   "outputs": [
    {
     "name": "stderr",
     "output_type": "stream",
     "text": [
      "Processing: 100%|████████████████████████| 100/100 [00:10<00:00,  9.80it/s]\n"
     ]
    }
   ],
   "source": [
    "for i in tqdm(range(100), desc=\"Processing\", ncols=75):\n",
    "    time.sleep(0.1)"
   ]
  },
  {
   "cell_type": "markdown",
   "metadata": {},
   "source": [
    "### Changing the update interval "
   ]
  },
  {
   "cell_type": "code",
   "execution_count": null,
   "metadata": {},
   "outputs": [
    {
     "name": "stderr",
     "output_type": "stream",
     "text": [
      "Processing: 100%|██████████| 100/100 [00:10<00:00,  9.90it/s]\n"
     ]
    }
   ],
   "source": [
    "for i in tqdm(range(100), desc=\"Processing\", mininterval=0.5):\n",
    "    time.sleep(0.1)"
   ]
  },
  {
   "cell_type": "markdown",
   "metadata": {},
   "source": [
    "### TQDM with functions"
   ]
  },
  {
   "cell_type": "code",
   "execution_count": null,
   "metadata": {},
   "outputs": [
    {
     "name": "stderr",
     "output_type": "stream",
     "text": [
      "Processing Items: 100%|██████████| 100/100 [00:10<00:00,  9.79it/s]\n"
     ]
    }
   ],
   "source": [
    "def process_item(item):\n",
    "    time.sleep(0.1)\n",
    "\n",
    "items = range(100)\n",
    "for item in tqdm(items, desc=\"Processing Items\"):\n",
    "    process_item(item)"
   ]
  },
  {
   "cell_type": "markdown",
   "metadata": {},
   "source": [
    "### TQDM with pandas"
   ]
  },
  {
   "cell_type": "code",
   "execution_count": null,
   "metadata": {},
   "outputs": [
    {
     "name": "stderr",
     "output_type": "stream",
     "text": [
      "100%|██████████| 100/100 [00:00<?, ?it/s]\n"
     ]
    }
   ],
   "source": [
    "tqdm.pandas()\n",
    "\n",
    "df = pd.DataFrame({\"A\": range(100)})\n",
    "df['B'] = df['A'].progress_apply(lambda x: x**2)"
   ]
  },
  {
   "cell_type": "markdown",
   "metadata": {},
   "source": [
    "### Nested progress bar "
   ]
  },
  {
   "cell_type": "code",
   "execution_count": null,
   "metadata": {},
   "outputs": [
    {
     "name": "stderr",
     "output_type": "stream",
     "text": [
      "Inner For Loop: 100%|██████████| 100/100 [00:01<00:00, 91.87it/s]\n",
      "Inner For Loop: 100%|██████████| 100/100 [00:01<00:00, 91.29it/s]\n",
      "Inner For Loop: 100%|██████████| 100/100 [00:01<00:00, 92.56it/s]\n",
      "Inner For Loop: 100%|██████████| 100/100 [00:01<00:00, 92.09it/s]\n",
      "Inner For Loop: 100%|██████████| 100/100 [00:01<00:00, 91.78it/s]\n",
      "Inner For Loop: 100%|██████████| 100/100 [00:01<00:00, 92.22it/s]\n",
      "Inner For Loop: 100%|██████████| 100/100 [00:01<00:00, 92.78it/s]\n",
      "Inner For Loop: 100%|██████████| 100/100 [00:01<00:00, 91.79it/s]\n",
      "Inner For Loop: 100%|██████████| 100/100 [00:01<00:00, 93.29it/s]\n",
      "Inner For Loop: 100%|██████████| 100/100 [00:01<00:00, 94.51it/s]\n",
      "Outer Loop: 100%|██████████| 10/10 [00:10<00:00,  1.09s/it]\n"
     ]
    }
   ],
   "source": [
    "for i in tqdm(range(10), desc=\"Outer Loop\"):\n",
    "    for j in tqdm(range(100), desc=\"Inner For Loop\", leave=True):\n",
    "        time.sleep(0.01)\n",
    "\n",
    "# leave=True shows the inner loop progress \n",
    "# leave=False shows only the outerloop "
   ]
  },
  {
   "cell_type": "markdown",
   "metadata": {},
   "source": [
    "### with requests"
   ]
  },
  {
   "cell_type": "code",
   "execution_count": null,
   "metadata": {},
   "outputs": [],
   "source": [
    "\n",
    "url = \"https://example.com/largefile.zip\"\n",
    "response = requests.get(url, stream=True)\n",
    "\n",
    "total_size = int(response.headers.get('content-length', 0))\n",
    "block_size = 1024  # 1 Kibibyte\n",
    "\n",
    "with open(\"largefile.zip\", \"wb\") as file, tqdm(\n",
    "    desc=\"Downloading\",\n",
    "    total=total_size,\n",
    "    unit='iB',\n",
    "    unit_scale=True,\n",
    "    unit_divisor=1024,\n",
    ") as bar:\n",
    "    for data in response.iter_content(block_size):\n",
    "        bar.update(len(data))\n",
    "        file.write(data)"
   ]
  },
  {
   "cell_type": "markdown",
   "metadata": {},
   "source": [
    "## Dynamic Allocation with ```globals()```"
   ]
  },
  {
   "cell_type": "code",
   "execution_count": 8,
   "metadata": {},
   "outputs": [
    {
     "name": "stdout",
     "output_type": "stream",
     "text": [
      "{'__name__': '__main__', '__doc__': 'Automatically created module for IPython interactive environment', '__package__': None, '__loader__': None, '__spec__': None, '__builtin__': <module 'builtins' (built-in)>, '__builtins__': <module 'builtins' (built-in)>, '_ih': ['', 'x = 3 \\ny = 4 \\nz = 5 \\n\\n# all of these are global variabls , but statically assigned \\n\\n# another way of doing so is using the following \\n\\nglobals()[\\'nour\\'] = \"sanity\"\\nnour', '_', 'nour', 'x = 3 \\ny = 4 \\nz = 5 \\nprint(globals())\\n# all of these are global variabls , but statically assigned \\n\\n# another way of doing so is using the following \\n\\nglobals()[\\'nour\\'] = \"sanity\"\\n\\nprint(globals())', 'x = 3 \\ny = 4 \\nz = 5 \\nprint(globals()[-4:])\\n# all of these are global variabls , but statically assigned \\n\\n# another way of doing so is using the following \\n\\nglobals()[\\'nour\\'] = \"sanity\"', 'x = 3 \\ny = 4 \\nz = 5 \\nprint(globals()[-1:])\\n# all of these are global variabls , but statically assigned \\n\\n# another way of doing so is using the following \\n\\nglobals()[\\'nour\\'] = \"sanity\"', 'x = 3 \\ny = 4 \\nz = 5 \\nprint(globals()[:-1])\\n# all of these are global variabls , but statically assigned \\n\\n# another way of doing so is using the following \\n\\nglobals()[\\'nour\\'] = \"sanity\"', 'x = 3 \\ny = 4 \\nz = 5 \\nprint(globals())\\n# all of these are global variabls , but statically assigned \\n\\n# another way of doing so is using the following \\n\\nglobals()[\\'nour\\'] = \"sanity\"'], '_oh': {1: 'sanity', 2: 'sanity', 3: 'sanity'}, '_dh': [WindowsPath('c:/Users/Oreo/Documents/lonely_steps_and_random_stuff/My Learning Journey from Articles/DaybyDay')], 'In': ['', 'x = 3 \\ny = 4 \\nz = 5 \\n\\n# all of these are global variabls , but statically assigned \\n\\n# another way of doing so is using the following \\n\\nglobals()[\\'nour\\'] = \"sanity\"\\nnour', '_', 'nour', 'x = 3 \\ny = 4 \\nz = 5 \\nprint(globals())\\n# all of these are global variabls , but statically assigned \\n\\n# another way of doing so is using the following \\n\\nglobals()[\\'nour\\'] = \"sanity\"\\n\\nprint(globals())', 'x = 3 \\ny = 4 \\nz = 5 \\nprint(globals()[-4:])\\n# all of these are global variabls , but statically assigned \\n\\n# another way of doing so is using the following \\n\\nglobals()[\\'nour\\'] = \"sanity\"', 'x = 3 \\ny = 4 \\nz = 5 \\nprint(globals()[-1:])\\n# all of these are global variabls , but statically assigned \\n\\n# another way of doing so is using the following \\n\\nglobals()[\\'nour\\'] = \"sanity\"', 'x = 3 \\ny = 4 \\nz = 5 \\nprint(globals()[:-1])\\n# all of these are global variabls , but statically assigned \\n\\n# another way of doing so is using the following \\n\\nglobals()[\\'nour\\'] = \"sanity\"', 'x = 3 \\ny = 4 \\nz = 5 \\nprint(globals())\\n# all of these are global variabls , but statically assigned \\n\\n# another way of doing so is using the following \\n\\nglobals()[\\'nour\\'] = \"sanity\"'], 'Out': {1: 'sanity', 2: 'sanity', 3: 'sanity'}, 'get_ipython': <bound method InteractiveShell.get_ipython of <ipykernel.zmqshell.ZMQInteractiveShell object at 0x000001ADBF49CFB0>>, 'exit': <IPython.core.autocall.ZMQExitAutocall object at 0x000001ADBF49D730>, 'quit': <IPython.core.autocall.ZMQExitAutocall object at 0x000001ADBF49D730>, 'open': <function open at 0x000001ADBD5B9F80>, '_': 'sanity', '__': 'sanity', '___': 'sanity', '__vsc_ipynb_file__': 'c:\\\\Users\\\\Oreo\\\\Documents\\\\lonely_steps_and_random_stuff\\\\My Learning Journey from Articles\\\\DaybyDay\\\\54- tqdm+dynalloc.ipynb', '_i': 'x = 3 \\ny = 4 \\nz = 5 \\nprint(globals()[:-1])\\n# all of these are global variabls , but statically assigned \\n\\n# another way of doing so is using the following \\n\\nglobals()[\\'nour\\'] = \"sanity\"', '_ii': 'x = 3 \\ny = 4 \\nz = 5 \\nprint(globals()[-1:])\\n# all of these are global variabls , but statically assigned \\n\\n# another way of doing so is using the following \\n\\nglobals()[\\'nour\\'] = \"sanity\"', '_iii': 'x = 3 \\ny = 4 \\nz = 5 \\nprint(globals()[-4:])\\n# all of these are global variabls , but statically assigned \\n\\n# another way of doing so is using the following \\n\\nglobals()[\\'nour\\'] = \"sanity\"', '_i1': 'x = 3 \\ny = 4 \\nz = 5 \\n\\n# all of these are global variabls , but statically assigned \\n\\n# another way of doing so is using the following \\n\\nglobals()[\\'nour\\'] = \"sanity\"\\nnour', 'x': 3, 'y': 4, 'z': 5, 'nour': 'sanity', '_1': 'sanity', '_i2': '_', '_2': 'sanity', '_i3': 'nour', '_3': 'sanity', '_i4': 'x = 3 \\ny = 4 \\nz = 5 \\nprint(globals())\\n# all of these are global variabls , but statically assigned \\n\\n# another way of doing so is using the following \\n\\nglobals()[\\'nour\\'] = \"sanity\"\\n\\nprint(globals())', '_i5': 'x = 3 \\ny = 4 \\nz = 5 \\nprint(globals()[-4:])\\n# all of these are global variabls , but statically assigned \\n\\n# another way of doing so is using the following \\n\\nglobals()[\\'nour\\'] = \"sanity\"', '_i6': 'x = 3 \\ny = 4 \\nz = 5 \\nprint(globals()[-1:])\\n# all of these are global variabls , but statically assigned \\n\\n# another way of doing so is using the following \\n\\nglobals()[\\'nour\\'] = \"sanity\"', '_i7': 'x = 3 \\ny = 4 \\nz = 5 \\nprint(globals()[:-1])\\n# all of these are global variabls , but statically assigned \\n\\n# another way of doing so is using the following \\n\\nglobals()[\\'nour\\'] = \"sanity\"', '_i8': 'x = 3 \\ny = 4 \\nz = 5 \\nprint(globals())\\n# all of these are global variabls , but statically assigned \\n\\n# another way of doing so is using the following \\n\\nglobals()[\\'nour\\'] = \"sanity\"'}\n"
     ]
    }
   ],
   "source": [
    "x = 3 \n",
    "y = 4 \n",
    "z = 5 \n",
    "print(globals())\n",
    "# all of these are global variabls , but statically assigned \n",
    "\n",
    "# another way of doing so is using the following \n",
    "\n",
    "globals()['nour'] = \"sanity\"\n"
   ]
  },
  {
   "cell_type": "code",
   "execution_count": 11,
   "metadata": {},
   "outputs": [
    {
     "name": "stdout",
     "output_type": "stream",
     "text": [
      "1 2 3 26\n"
     ]
    }
   ],
   "source": [
    "# automation \n",
    "n = 1\n",
    "for i in 'abcdefghijklmnopqrztuvwxyz':\n",
    "  globals()[i] = n\n",
    "  n += 1\n",
    "\n",
    "print(a, b, c, z)    # 1 2 3 26"
   ]
  },
  {
   "cell_type": "markdown",
   "metadata": {},
   "source": [
    "### why ? "
   ]
  },
  {
   "cell_type": "code",
   "execution_count": 10,
   "metadata": {},
   "outputs": [
    {
     "name": "stdout",
     "output_type": "stream",
     "text": [
      "0\n",
      "0\n"
     ]
    }
   ],
   "source": [
    "x = 100 \n",
    "\n",
    "def magic():\n",
    "    global x \n",
    "    x = 0 \n",
    "    return\n",
    "\n",
    "magic()\n",
    "print(x)\n",
    "\n",
    "\n",
    "def magic2():\n",
    "    globals()['x'] = 0\n",
    "\n",
    "magic2()\n",
    "print(x)"
   ]
  }
 ],
 "metadata": {
  "kernelspec": {
   "display_name": "Python 3",
   "language": "python",
   "name": "python3"
  },
  "language_info": {
   "codemirror_mode": {
    "name": "ipython",
    "version": 3
   },
   "file_extension": ".py",
   "mimetype": "text/x-python",
   "name": "python",
   "nbconvert_exporter": "python",
   "pygments_lexer": "ipython3",
   "version": "3.12.0"
  }
 },
 "nbformat": 4,
 "nbformat_minor": 2
}
