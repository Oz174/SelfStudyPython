{
 "cells": [
  {
   "cell_type": "markdown",
   "metadata": {},
   "source": [
    "# Imports"
   ]
  },
  {
   "cell_type": "code",
   "execution_count": 6,
   "metadata": {},
   "outputs": [],
   "source": [
    "from decimal import Decimal"
   ]
  },
  {
   "cell_type": "markdown",
   "metadata": {},
   "source": [
    "# Topics"
   ]
  },
  {
   "cell_type": "markdown",
   "metadata": {},
   "source": [
    "## Numbers in python ~ Article 1 "
   ]
  },
  {
   "cell_type": "code",
   "execution_count": 9,
   "metadata": {},
   "outputs": [
    {
     "name": "stdout",
     "output_type": "stream",
     "text": [
      "Writing numbers with scientific notation\n",
      "1000.0\n",
      "0.001\n",
      "Underscores in numbers\n",
      "1000000\n",
      "Complex numbers\n",
      "(1+2j)\n",
      "(1-2j)\n",
      "(2+0j)\n",
      "Rounding numbers to negative decimal places\n",
      "Original number: 123456\n",
      " Rounding to nearest thousand 123000\n",
      " Rounding to nearest hundred 123500\n",
      " Rounding to nearest ten 123460\n",
      "Decimal Module\n",
      "Without Decimal\n",
      "1.3333333333333333\n",
      "Using Decimal\n",
      "1.333333333333333333333333333\n"
     ]
    }
   ],
   "source": [
    "# 1 - Writing numbers with scientific notation\n",
    "print(\"Writing numbers with scientific notation\")\n",
    "x : float = 1.0e3\n",
    "print(x)\n",
    "y : float = 1.0e-3\n",
    "print(y)\n",
    "\n",
    "print(\"Underscores in numbers\")\n",
    "# 2 - Underscores in numbers\n",
    "z : int = 1_000_000\n",
    "print(z)\n",
    "\n",
    "print(\"Complex numbers\")\n",
    "# 3 - Complex numbers\n",
    "a : complex = 1 + 2j\n",
    "print(a)\n",
    "b : complex = a.conjugate()\n",
    "print(b)\n",
    "c : complex = a + b\n",
    "print(c)\n",
    "\n",
    "print(\"Rounding numbers to negative decimal places\")\n",
    "# 4 - Rounding to negative decimal places\n",
    "d : int = 123456\n",
    "print(f\"Original number: {d}\")\n",
    "print(f\" Rounding to nearest thousand {round(d, -3)}\") # rounding to nearest thousand\n",
    "print(f\" Rounding to nearest hundred {round(d, -2)}\") # rounding to nearest hundred\n",
    "print(f\" Rounding to nearest ten {round(d, -1)}\") # rounding to nearest ten\n",
    "\n",
    "# 5 - Decimal Module \n",
    "print(\"Decimal Module\")\n",
    "print(\"Without Decimal\")\n",
    "print(4/3)\n",
    "print(\"Using Decimal\")\n",
    "e : Decimal = Decimal(4) / Decimal(3)\n",
    "print(e) # more precise \n",
    "\n",
    "del x, y, z, a, b, c, d, e\n"
   ]
  },
  {
   "cell_type": "markdown",
   "metadata": {},
   "source": [
    "## Higher Order Functions\n",
    "\n",
    "Simply , these are functions that: \n",
    "- take other functions as arguments\n",
    "- return functions as results\n"
   ]
  },
  {
   "cell_type": "code",
   "execution_count": 19,
   "metadata": {},
   "outputs": [
    {
     "name": "stdout",
     "output_type": "stream",
     "text": [
      "[1, 4, 9, 16, 25]\n",
      "15\n"
     ]
    }
   ],
   "source": [
    "from typing import List, Callable\n",
    "\n",
    "# 1 - Using a function as an argument\n",
    "def apply_all(your_list: List[int], your_function: Callable):\n",
    "    out = []\n",
    "\n",
    "    for integer in your_list:\n",
    "        x = your_function(integer)\n",
    "        out.append(x)\n",
    "\n",
    "    return out\n",
    "\n",
    "def square(x: int) -> int:\n",
    "    return x*x\n",
    "\n",
    "squares = apply_all([1,2,3,4,5], square)\n",
    "print(squares) # [1, 4, 9, 16, 25]\n",
    "\n",
    "# 2 - Using a function as a return value\n",
    "def get_add_x(x: int) -> Callable:\n",
    "\n",
    "    def func(n: int) -> int:\n",
    "        return n + x\n",
    "\n",
    "    return func\n",
    "\n",
    "add_5 = get_add_x(5)\n",
    "print(add_5(10)) # 15"
   ]
  },
  {
   "cell_type": "code",
   "execution_count": null,
   "metadata": {},
   "outputs": [],
   "source": []
  },
  {
   "cell_type": "markdown",
   "metadata": {},
   "source": []
  }
 ],
 "metadata": {
  "kernelspec": {
   "display_name": "Python 3",
   "language": "python",
   "name": "python3"
  },
  "language_info": {
   "codemirror_mode": {
    "name": "ipython",
    "version": 3
   },
   "file_extension": ".py",
   "mimetype": "text/x-python",
   "name": "python",
   "nbconvert_exporter": "python",
   "pygments_lexer": "ipython3",
   "version": "3.12.0"
  }
 },
 "nbformat": 4,
 "nbformat_minor": 2
}
