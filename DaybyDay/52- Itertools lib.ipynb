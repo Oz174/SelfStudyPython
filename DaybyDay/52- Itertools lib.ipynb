{
 "cells": [
  {
   "cell_type": "markdown",
   "metadata": {},
   "source": [
    "# Imports"
   ]
  },
  {
   "cell_type": "code",
   "execution_count": 1,
   "metadata": {},
   "outputs": [],
   "source": [
    "import itertools"
   ]
  },
  {
   "cell_type": "markdown",
   "metadata": {},
   "source": [
    "# Topics"
   ]
  },
  {
   "cell_type": "markdown",
   "metadata": {},
   "source": [
    "## Infinite Iterators\n",
    "\n",
    "- Count\n",
    "- Cycle\n",
    "- Tee"
   ]
  },
  {
   "cell_type": "code",
   "execution_count": 26,
   "metadata": {},
   "outputs": [
    {
     "name": "stdout",
     "output_type": "stream",
     "text": [
      "5\n",
      "10\n",
      "15\n",
      "100\n",
      "200\n",
      "300\n",
      "400\n",
      "100\n",
      "0\n",
      "1\n",
      "2\n",
      "3\n",
      "4\n",
      "0\n",
      "1\n",
      "2\n",
      "3\n",
      "4\n"
     ]
    }
   ],
   "source": [
    "# 1) Count \n",
    "count_ = itertools.count(start=5, step=5)\n",
    "print(next(count_))\n",
    "print(next(count_))\n",
    "print(next(count_))\n",
    "\n",
    "# 2) Cycle \n",
    "data = [100, 200, 300, 400]\n",
    "cycle_ = itertools.cycle(data)\n",
    "print(next(cycle_))\n",
    "print(next(cycle_))\n",
    "print(next(cycle_))\n",
    "print(next(cycle_))\n",
    "print(next(cycle_))\n",
    "\n",
    "# 3) tee (for sharing the same iterator)\n",
    "# Create an iterator that yields the first 10 numbers\n",
    "numbers = (x for x in range(5))\n",
    "# Create two iterators that share the same underlying iterator\n",
    "iter1, iter2 = itertools.tee(numbers)\n",
    "# Iterate over the first iterator\n",
    "for num in iter1:\n",
    "    print(num)\n",
    "# Iterate over the second iterator\n",
    "for num in iter2:\n",
    "    print(num)"
   ]
  },
  {
   "cell_type": "markdown",
   "metadata": {},
   "source": [
    "## Iterators that filter elements\n",
    "\n",
    "- filterfalse\n",
    "- takewhile\n",
    "- dropwhile\n",
    "- islice"
   ]
  },
  {
   "cell_type": "code",
   "execution_count": 29,
   "metadata": {},
   "outputs": [
    {
     "name": "stdout",
     "output_type": "stream",
     "text": [
      "1\n",
      "3\n",
      "5\n",
      "7\n",
      "9\n",
      "#########################################################################\n",
      "1\n",
      "2\n",
      "3\n",
      "4\n",
      "#########################################################################\n",
      "[{'id': 3, 'active': True}, {'id': 4, 'active': True}]\n",
      "*************************************************************************\n",
      "[{'id': 4, 'active': True}, {'id': 5, 'active': True}]\n",
      "#########################################################################\n",
      "[1, 2, 3]\n",
      "[4, 5, 6]\n",
      "[7, 8, 9]\n",
      "[10]\n"
     ]
    }
   ],
   "source": [
    "# 1) filterfalse : opposite of filter\n",
    "def is_even(x):\n",
    "    return x % 2 == 0\n",
    "\n",
    "filterfalse_ = itertools.filterfalse(is_even, [1, 2, 3, 4, 5, 6, 7, 8, 9, 10])\n",
    "for i in filterfalse_:\n",
    "    print(i)\n",
    "\n",
    "print(\"#########################################################################\")\n",
    "# 2) takewhile\n",
    "def less_than_5(x):\n",
    "    return x < 5\n",
    "\n",
    "takewhile_ = itertools.takewhile(less_than_5, [1, 2, 3, 4, 5, 6, 7, 8, 9, 10])\n",
    "for i in takewhile_:\n",
    "    print(i)\n",
    "\n",
    "print(\"#########################################################################\")\n",
    "\n",
    "# 3) dropwhile\n",
    "data = [\n",
    "    {'id': 1, 'active': False},\n",
    "    {'id': 2, 'active': False},\n",
    "    {'id': 3, 'active': True},\n",
    "    {'id': 4, 'active': True},\n",
    "    {'id': 5, 'active': False}\n",
    "]\n",
    "\n",
    "# Define a predicate function that returns True for inactive dictionary entries\n",
    "def is_inactive(x):\n",
    "    return not x['active']\n",
    "\n",
    "# Use dropwhile to drop all inactive elements, then filter the remaining active elements\n",
    "dropwhile_ = itertools.dropwhile(is_inactive, data)\n",
    "result = list(filter(lambda x: x['active'], dropwhile_))\n",
    "\n",
    "for i in dropwhile_:\n",
    "    print(i)\n",
    "\n",
    "# we notice that id 5 shows up although it is inactive,\n",
    "# this is because dropwhile stops dropping elements as soon as the predicate returns False for the first time.\n",
    "print(result)\n",
    "\n",
    "# let's tamper the data \n",
    "\n",
    "print(\"*************************************************************************\")\n",
    "data = [\n",
    "    {'id': 1, 'active': False},\n",
    "    {'id': 2, 'active': False},\n",
    "    {'id': 3, 'active': False},\n",
    "    {'id': 4, 'active': True},\n",
    "    {'id': 5, 'active': True}\n",
    "]\n",
    "\n",
    "dropwhile_ = itertools.dropwhile(is_inactive, data)\n",
    "result = list(filter(lambda x: x['active'], dropwhile_))\n",
    "\n",
    "for i in dropwhile_:\n",
    "    print(i)\n",
    "\n",
    "\n",
    "\n",
    "print(result)\n",
    "print(\"#########################################################################\")\n",
    "\n",
    "# 4) islice\n",
    "my_list = [1, 2, 3, 4, 5, 6, 7, 8, 9, 10]\n",
    "# Define the chunk size\n",
    "chunk_size = 3\n",
    "# Create an iterator over my_list\n",
    "iterator = iter(my_list)\n",
    "\n",
    "# Iterate over the iterator in chunks\n",
    "while True:\n",
    "    chunk = list(itertools.islice(iterator, chunk_size))\n",
    "    if not chunk:\n",
    "        break\n",
    "    print(chunk)  # Print each chunk as it's sliced"
   ]
  },
  {
   "cell_type": "markdown",
   "metadata": {},
   "source": [
    "## Iterators that transform elements"
   ]
  },
  {
   "cell_type": "code",
   "execution_count": 7,
   "metadata": {},
   "outputs": [
    {
     "name": "stdout",
     "output_type": "stream",
     "text": [
      "1\n",
      "4\n",
      "9\n",
      "16\n",
      "25\n",
      "3\n",
      "7\n",
      "11\n"
     ]
    }
   ],
   "source": [
    "# 1) map \n",
    "def square(x):\n",
    "    return x * x\n",
    "\n",
    "map_ = map(square, [1, 2, 3, 4, 5])\n",
    "for i in map_:\n",
    "    print(i)\n",
    "\n",
    "# 2) starmap\n",
    "def add(x, y):\n",
    "    return x + y\n",
    "\n",
    "starmap_ = itertools.starmap(add, [(1, 2), (3, 4), (5, 6)])\n",
    "for i in starmap_:\n",
    "    print(i)\n",
    "\n"
   ]
  },
  {
   "cell_type": "markdown",
   "metadata": {},
   "source": [
    "## Combining Elements"
   ]
  },
  {
   "cell_type": "code",
   "execution_count": 25,
   "metadata": {},
   "outputs": [
    {
     "name": "stdout",
     "output_type": "stream",
     "text": [
      "[1, 2, 3, 4, 5, 6, 7, 8, 9]\n",
      "**************************************************\n",
      "(0, 0)\n",
      "(0, 1)\n",
      "(1, 0)\n",
      "(1, 1)\n",
      "**************************************************\n",
      "(1, 'a')\n",
      "(2, 'b')\n",
      "(3, 'c')\n",
      "('NA', 'd')\n",
      "**************************************************\n",
      "(1, 2, 3)\n",
      "(1, 3, 2)\n",
      "(2, 1, 3)\n",
      "(2, 3, 1)\n",
      "(3, 1, 2)\n",
      "(3, 2, 1)\n",
      "(1, 2)\n",
      "(1, 3)\n",
      "(2, 1)\n",
      "(2, 3)\n",
      "(3, 1)\n",
      "(3, 2)\n"
     ]
    }
   ],
   "source": [
    "# 1) chain \n",
    "list_of_lists = [[1, 2, 3], [4, 5], [6, 7, 8, 9]]\n",
    "\n",
    "flattened = list(itertools.chain.from_iterable(list_of_lists))\n",
    "print(flattened)\n",
    "\n",
    "print(\"*\"*50)\n",
    "\n",
    "# 2) product \n",
    "product_ = itertools.product([0, 1], [0, 1], repeat=1) # 4**repeat max count\n",
    "for i in product_:\n",
    "    print(i)\n",
    "\n",
    "print(\"*\"*50)\n",
    "# 3) zip_longest\n",
    "list1 = [1, 2, 3]\n",
    "list2 = ['a', 'b', 'c', 'd']\n",
    "zipped = itertools.zip_longest(list1, list2, fillvalue='NA')\n",
    "for item in zipped:\n",
    "    print(item)\n",
    "\n",
    "print(\"*\"*50)\n",
    "\n",
    "# 4) permutations\n",
    "input_list = [1, 2, 3]\n",
    "permutations = itertools.permutations(input_list)\n",
    "for permutation in permutations:\n",
    "    print(permutation)\n",
    "\n",
    "input_list = [1, 2, 3]\n",
    "permutations = itertools.permutations(input_list,2)\n",
    "for permutation in permutations:\n",
    "    print(permutation)\n",
    "\n"
   ]
  },
  {
   "cell_type": "markdown",
   "metadata": {},
   "source": [
    "## Grouping Elements"
   ]
  },
  {
   "cell_type": "code",
   "execution_count": 27,
   "metadata": {},
   "outputs": [
    {
     "name": "stdout",
     "output_type": "stream",
     "text": [
      "Grade: A\n",
      "Alice\n",
      "Charlie\n",
      "Grade: B\n",
      "Bob\n"
     ]
    }
   ],
   "source": [
    "# 1) General Grouping \n",
    "\n",
    "students = [\n",
    "    {'name': 'Alice', 'grade': 'A'},\n",
    "    {'name': 'Bob', 'grade': 'B'},\n",
    "    {'name': 'Charlie', 'grade': 'A'}\n",
    "]\n",
    "\n",
    "# Sort the students by grade first\n",
    "students_sorted = sorted(students, key=lambda x: x['grade'])\n",
    "\n",
    "# Then group by the grade\n",
    "grouped = itertools.groupby(students_sorted, key=lambda x: x['grade'])\n",
    "\n",
    "for grade, group in grouped:\n",
    "    print(f\"Grade: {grade}\")\n",
    "    for student in group:\n",
    "        print(f\"{student['name']}\")"
   ]
  },
  {
   "cell_type": "code",
   "execution_count": 28,
   "metadata": {},
   "outputs": [
    {
     "name": "stdout",
     "output_type": "stream",
     "text": [
      "Group: A, Mean X: 2.6666666666666665, Mean Y: 3.6666666666666665\n",
      "Group: B, Mean X: 3.5, Mean Y: 4.5\n"
     ]
    }
   ],
   "source": [
    "# Aggregating Grouped Data\n",
    "data_points = [\n",
    "    {'x': 1, 'y': 2, 'group': 'A'},\n",
    "    {'x': 2, 'y': 3, 'group': 'A'},\n",
    "    {'x': 3, 'y': 4, 'group': 'B'},\n",
    "    {'x': 4, 'y': 5, 'group': 'B'},\n",
    "    {'x': 5, 'y': 6, 'group': 'A'}\n",
    "]\n",
    "\n",
    "data_points.sort(key=lambda x: x['group'])\n",
    "\n",
    "grouped_data_points = itertools.groupby(data_points, lambda x: x['group'])\n",
    "\n",
    "for group, group_data in grouped_data_points:\n",
    "    group_data1, group_data2 = itertools.tee(group_data)  # Create two iterators from the group_data\n",
    "    \n",
    "    x_values = [x['x'] for x in group_data1]\n",
    "    y_values = [x['y'] for x in group_data2]\n",
    "\n",
    "    # Calculate the mean and avoid division by zero\n",
    "    mean_x = sum(x_values) / len(x_values) if x_values else 0\n",
    "    mean_y = sum(y_values) / len(y_values) if y_values else 0\n",
    "\n",
    "    print(f\"Group: {group}, Mean X: {mean_x}, Mean Y: {mean_y}\")"
   ]
  },
  {
   "cell_type": "code",
   "execution_count": null,
   "metadata": {},
   "outputs": [],
   "source": []
  }
 ],
 "metadata": {
  "kernelspec": {
   "display_name": "Python 3",
   "language": "python",
   "name": "python3"
  },
  "language_info": {
   "codemirror_mode": {
    "name": "ipython",
    "version": 3
   },
   "file_extension": ".py",
   "mimetype": "text/x-python",
   "name": "python",
   "nbconvert_exporter": "python",
   "pygments_lexer": "ipython3",
   "version": "3.12.0"
  }
 },
 "nbformat": 4,
 "nbformat_minor": 2
}
