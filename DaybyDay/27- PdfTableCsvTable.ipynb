{
 "cells": [
  {
   "cell_type": "markdown",
   "metadata": {},
   "source": [
    "# Imports"
   ]
  },
  {
   "cell_type": "code",
   "execution_count": 2,
   "metadata": {},
   "outputs": [],
   "source": [
    "from spire.pdf import *\n",
    "from spire.xls import *"
   ]
  },
  {
   "cell_type": "markdown",
   "metadata": {},
   "source": [
    "# Topic"
   ]
  },
  {
   "cell_type": "markdown",
   "metadata": {},
   "source": [
    "## Extract table from pdf to text "
   ]
  },
  {
   "cell_type": "code",
   "execution_count": 3,
   "metadata": {},
   "outputs": [
    {
     "name": "stdout",
     "output_type": "stream",
     "text": [
      "Table data saved to 'table_data.txt' successfully.\n"
     ]
    }
   ],
   "source": [
    "# Define an extract_table_data function to extract table data from PDF\n",
    "def extract_table_data(pdf_path):\n",
    "    # Create an instance of the PdfDocument class\n",
    "    doc = PdfDocument()\n",
    "    \n",
    "    try:\n",
    "        # Load a PDF document\n",
    "        doc.LoadFromFile(pdf_path)\n",
    "        # Create a list to store the extracted table data\n",
    "        table_data = []\n",
    "\n",
    "        # Create an instance of the PdfTableExtractor class\n",
    "        extractor = PdfTableExtractor(doc)\n",
    "\n",
    "        # Iterate through the pages in the PDF document\n",
    "        for page_index in range(doc.Pages.Count):\n",
    "            # Get tables within each page\n",
    "            tables = extractor.ExtractTable(page_index)\n",
    "            if tables is not None and len(tables) > 0:\n",
    "\n",
    "                # Iterate through the tables\n",
    "                for table_index, table in enumerate(tables):\n",
    "                    row_count = table.GetRowCount()\n",
    "                    col_count = table.GetColumnCount()\n",
    "\n",
    "                    table_data.append(f\"Table {table_index + 1} of Page {page_index + 1}:\\n\")\n",
    "\n",
    "                    # Extract data from each table and append the data to the table_data list\n",
    "                    for row_index in range(row_count):\n",
    "                        row_data = []\n",
    "                        for column_index in range(col_count):\n",
    "                            data = table.GetText(row_index, column_index)\n",
    "                            row_data.append(data.strip())\n",
    "                        table_data.append(\"  \".join(row_data))\n",
    "\n",
    "                    table_data.append(\"\\n\")\n",
    "\n",
    "        return table_data\n",
    "\n",
    "    except Exception as e:\n",
    "        print(f\"Error occurred: {str(e)}\")\n",
    "        return None\n",
    "\n",
    "# Define a save_table_data_to_text function to save the table data extracted from a PDF to a text file\n",
    "def save_table_data_to_text(table_data, output_path):\n",
    "    try:\n",
    "        with open(output_path, \"w\", encoding=\"utf-8\") as file:\n",
    "            file.write(\"\\n\".join(table_data))\n",
    "        print(f\"Table data saved to '{output_path}' successfully.\")\n",
    "    except Exception as e:\n",
    "        print(f\"Error occurred while saving table data: {str(e)}\")\n",
    "\n",
    "# Example usage\n",
    "pdf_path = \"Tables.pdf\"\n",
    "output_path = \"table_data.txt\"\n",
    "\n",
    "data = extract_table_data(pdf_path)\n",
    "if data:\n",
    "    save_table_data_to_text(data, output_path)"
   ]
  },
  {
   "cell_type": "markdown",
   "metadata": {},
   "source": [
    "## Extract table from pdf to excel "
   ]
  },
  {
   "cell_type": "code",
   "execution_count": null,
   "metadata": {},
   "outputs": [],
   "source": [
    "# Define a function to extract data from PDF tables to Excel\n",
    "def extract_table_data_to_excel(pdf_path, xls_path):\n",
    "    # Create an instance of the PdfDocument class\n",
    "    doc = PdfDocument()\n",
    "\n",
    "    try:\n",
    "        # Load a PDF document\n",
    "        doc.LoadFromFile(pdf_path)\n",
    "\n",
    "        # Create an instance of the PdfTableExtractor class\n",
    "        extractor = PdfTableExtractor(doc)\n",
    "\n",
    "        # Create an instance of the Workbook class\n",
    "        workbook = Workbook()\n",
    "        # Remove the default 3 worksheets\n",
    "        workbook.Worksheets.Clear()\n",
    "        \n",
    "        # Iterate through the pages in the PDF document\n",
    "        for page_index in range(doc.Pages.Count):\n",
    "            # Extract tables from each page\n",
    "            tables = extractor.ExtractTable(page_index)\n",
    "            if tables is not None and len(tables) > 0:\n",
    "                # Iterate through the extracted tables\n",
    "                for table_index, table in enumerate(tables):\n",
    "                    # Create a new worksheet for each table\n",
    "                    worksheet = workbook.CreateEmptySheet()  \n",
    "                    # Set the worksheet name\n",
    "                    worksheet.Name = f\"Table {table_index + 1} of Page {page_index + 1}\"  \n",
    "                    \n",
    "                    row_count = table.GetRowCount()\n",
    "                    col_count = table.GetColumnCount()\n",
    "\n",
    "                    # Extract data from the table and populate the worksheet\n",
    "                    for row_index in range(row_count):\n",
    "                        for column_index in range(col_count):\n",
    "                            data = table.GetText(row_index, column_index)\n",
    "                            worksheet.Range[row_index + 1, column_index + 1].Value = data.strip()\n",
    "                    \n",
    "                    # Auto adjust column widths of the worksheet\n",
    "                    worksheet.Range.AutoFitColumns()\n",
    "\n",
    "        # Save the workbook to the specified Excel file\n",
    "        workbook.SaveToFile(xls_path, ExcelVersion.Version2013)\n",
    "\n",
    "    except Exception as e:\n",
    "        print(f\"Error occurred: {str(e)}\")\n",
    "\n",
    "# Example usage\n",
    "pdf_path = \"Tables.pdf\"\n",
    "xls_path = \"table_data.xlsx\"\n",
    "extract_table_data_to_excel(pdf_path, xls_path)"
   ]
  },
  {
   "cell_type": "markdown",
   "metadata": {},
   "source": [
    "## Extract table from pdf to csv"
   ]
  },
  {
   "cell_type": "code",
   "execution_count": null,
   "metadata": {},
   "outputs": [],
   "source": [
    "# Define a function to extract data from PDF tables to CSV\n",
    "def extract_table_data_to_csv(pdf_path, csv_directory):\n",
    "    # Create an instance of the PdfDocument class\n",
    "    doc = PdfDocument()\n",
    "\n",
    "    try:\n",
    "        # Load a PDF document\n",
    "        doc.LoadFromFile(pdf_path)\n",
    "\n",
    "        # Create an instance of the PdfTableExtractor class\n",
    "        extractor = PdfTableExtractor(doc)\n",
    "\n",
    "        # Create an instance of the Workbook class\n",
    "        workbook = Workbook()\n",
    "        # Remove the default 3 worksheets\n",
    "        workbook.Worksheets.Clear()\n",
    "        \n",
    "        # Iterate through the pages in the PDF document\n",
    "        for page_index in range(doc.Pages.Count):\n",
    "            # Extract tables from each page\n",
    "            tables = extractor.ExtractTable(page_index)\n",
    "            if tables is not None and len(tables) > 0:\n",
    "                # Iterate through the extracted tables\n",
    "                for table_index, table in enumerate(tables):\n",
    "                    # Create a new worksheet for each table\n",
    "                    worksheet = workbook.CreateEmptySheet()  \n",
    " \n",
    "                    row_count = table.GetRowCount()\n",
    "                    col_count = table.GetColumnCount()\n",
    "\n",
    "                    # Extract data from the table and populate the worksheet\n",
    "                    for row_index in range(row_count):\n",
    "                        for column_index in range(col_count):\n",
    "                            data = table.GetText(row_index, column_index)\n",
    "                            worksheet.Range[row_index + 1, column_index + 1].Value = data.strip()\n",
    "                    \n",
    "                    csv_name = csv_directory + f\"Table {table_index + 1} of Page {page_index + 1}\" + \".csv\"\n",
    "\n",
    "                    # Save each worksheet to a separate CSV file\n",
    "                    worksheet.SaveToFile(csv_name, \",\", Encoding.get_UTF8())\n",
    "\n",
    "    except Exception as e:\n",
    "        print(f\"Error occurred: {str(e)}\")\n",
    "\n",
    "# Example usage\n",
    "pdf_path = \"Tables.pdf\"\n",
    "csv_directory = \"CSV/\"\n",
    "extract_table_data_to_csv(pdf_path, csv_directory)"
   ]
  }
 ],
 "metadata": {
  "kernelspec": {
   "display_name": "Python 3",
   "language": "python",
   "name": "python3"
  },
  "language_info": {
   "codemirror_mode": {
    "name": "ipython",
    "version": 3
   },
   "file_extension": ".py",
   "mimetype": "text/x-python",
   "name": "python",
   "nbconvert_exporter": "python",
   "pygments_lexer": "ipython3",
   "version": "3.12.0"
  }
 },
 "nbformat": 4,
 "nbformat_minor": 2
}
