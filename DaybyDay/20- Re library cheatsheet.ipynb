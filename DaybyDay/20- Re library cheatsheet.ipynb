{
 "cells": [
  {
   "cell_type": "markdown",
   "metadata": {},
   "source": [
    "# Imports"
   ]
  },
  {
   "cell_type": "code",
   "execution_count": 6,
   "metadata": {},
   "outputs": [],
   "source": [
    "import re"
   ]
  },
  {
   "cell_type": "markdown",
   "metadata": {},
   "source": [
    "# Topics"
   ]
  },
  {
   "cell_type": "markdown",
   "metadata": {},
   "source": [
    "## re module "
   ]
  },
  {
   "cell_type": "markdown",
   "metadata": {},
   "source": [
    "### matching and substitution"
   ]
  },
  {
   "cell_type": "markdown",
   "metadata": {},
   "source": [
    "#### re.match"
   ]
  },
  {
   "cell_type": "code",
   "execution_count": 7,
   "metadata": {},
   "outputs": [
    {
     "name": "stdout",
     "output_type": "stream",
     "text": [
      "Matched: 123\n"
     ]
    }
   ],
   "source": [
    "# 1 - re.match : finds a match at the beginning of the string\n",
    "pattern = r'\\d+'\n",
    "text = \"123abc\"\n",
    "match = re.match(pattern, text)\n",
    "if match:\n",
    "    print(f\"Matched: {match.group()}\")\n",
    "else:\n",
    "    print(\"No match\")"
   ]
  },
  {
   "cell_type": "markdown",
   "metadata": {},
   "source": [
    "#### re.search"
   ]
  },
  {
   "cell_type": "code",
   "execution_count": 8,
   "metadata": {},
   "outputs": [
    {
     "name": "stdout",
     "output_type": "stream",
     "text": [
      "Matched: 123\n"
     ]
    }
   ],
   "source": [
    "# 2- re.search : finds a match anywhere in the string\n",
    "pattern = r'\\d+'\n",
    "text = \"abc123xyz567\"\n",
    "match = re.search(pattern, text)\n",
    "if match:\n",
    "    print(f\"Matched: {match.group()}\")\n",
    "else:\n",
    "    print(\"No match\")"
   ]
  },
  {
   "cell_type": "markdown",
   "metadata": {},
   "source": [
    "#### re.findall vs re.finditer"
   ]
  },
  {
   "cell_type": "code",
   "execution_count": 9,
   "metadata": {},
   "outputs": [
    {
     "name": "stdout",
     "output_type": "stream",
     "text": [
      "FINDALL\n",
      "Matches: ['123', '567']\n",
      "FINDITER\n",
      "Matched: 123\n",
      "Start: 3\n",
      "End: 6\n",
      "Span: (3, 6)\n",
      "\n",
      "Matched: 567\n",
      "Start: 9\n",
      "End: 12\n",
      "Span: (9, 12)\n",
      "\n"
     ]
    }
   ],
   "source": [
    "# 3- re.findall : finds all the matches and returns them as a list of strings\n",
    "print(\"FINDALL\")\n",
    "\n",
    "pattern = r'\\d+'\n",
    "text = \"abc123xyz567\"\n",
    "matches = re.findall(pattern, text)\n",
    "if match:\n",
    "    print(f\"Matches: {matches}\")\n",
    "else:\n",
    "    print(\"No match\")\n",
    "\n",
    "print(\"FINDITER\")\n",
    "# 4- re.finditer : finds all the matches and returns them as an iterator of match objects\n",
    "pattern = r'\\d+'\n",
    "text = \"abc123xyz567\"\n",
    "matches = re.finditer(pattern, text)\n",
    "for match in matches:\n",
    "    print(f\"Matched: {match.group()}\")\n",
    "    print(f\"Start: {match.start()}\")\n",
    "    print(f\"End: {match.end()}\")\n",
    "    print(f\"Span: {match.span()}\")\n",
    "    print()"
   ]
  },
  {
   "cell_type": "markdown",
   "metadata": {},
   "source": [
    "#### re.sub"
   ]
  },
  {
   "cell_type": "code",
   "execution_count": 10,
   "metadata": {},
   "outputs": [
    {
     "name": "stdout",
     "output_type": "stream",
     "text": [
      "Result: abc?xyz?\n"
     ]
    }
   ],
   "source": [
    "# 5- re.sub : replaces the matches with a string\n",
    "pattern = r'\\d+'\n",
    "replacement = '?'\n",
    "text = \"abc123xyz456\"\n",
    "result = re.sub(pattern, replacement, text)\n",
    "print(f\"Result: {result}\")"
   ]
  },
  {
   "cell_type": "markdown",
   "metadata": {},
   "source": [
    "### splitting"
   ]
  },
  {
   "cell_type": "code",
   "execution_count": 11,
   "metadata": {},
   "outputs": [
    {
     "name": "stdout",
     "output_type": "stream",
     "text": [
      "Split result: ['abc', 'xyz', '']\n"
     ]
    }
   ],
   "source": [
    "# 6- re.split : splits the string where there is a match and returns a list of strings\n",
    "pattern = r'\\d+'\n",
    "text = \"abc123xyz456\"\n",
    "split_result = re.split(pattern, text)\n",
    "print(f\"Split result: {split_result}\")"
   ]
  },
  {
   "cell_type": "markdown",
   "metadata": {},
   "source": [
    "### grouping and capturing"
   ]
  },
  {
   "cell_type": "code",
   "execution_count": 12,
   "metadata": {},
   "outputs": [
    {
     "name": "stdout",
     "output_type": "stream",
     "text": [
      "Group 1: 123\n",
      "Group 2: abc\n",
      "Group 3: !!!\n"
     ]
    }
   ],
   "source": [
    "pattern = r'(\\d+)-(\\w+)-(\\W+)'\n",
    "text = \"123-abc-!!!\"\n",
    "match = re.search(pattern, text)\n",
    "if match:\n",
    "    print(f\"Group 1: {match.group(1)}\")\n",
    "    print(f\"Group 2: {match.group(2)}\")\n",
    "    print(f\"Group 3: {match.group(3)}\")"
   ]
  },
  {
   "cell_type": "markdown",
   "metadata": {},
   "source": [
    "### lookahead and lookbehind (with their negatives)\n",
    "Lookahead and lookbehind assertions allow for more complex patterns without consuming characters in the string"
   ]
  },
  {
   "cell_type": "code",
   "execution_count": 13,
   "metadata": {},
   "outputs": [
    {
     "name": "stdout",
     "output_type": "stream",
     "text": [
      "Lookahead match: 123\n",
      "Lookbehind match: 456\n",
      "Negative lookahead match: ['12', '456']\n",
      "Negative lookbehind match: ['123', '56']\n"
     ]
    }
   ],
   "source": [
    "# 7- lookahead (?=...)\n",
    "pattern = r'\\d+(?=abc)'\n",
    "text = \"123abc456\"\n",
    "match = re.search(pattern, text)\n",
    "if match:\n",
    "    print(f\"Lookahead match: {match.group()}\")\n",
    "\n",
    "# 8- lookbehind (?<=...)\n",
    "pattern = r'(?<=abc)\\d+'\n",
    "text = \"123abc456\"\n",
    "match = re.search(pattern, text)\n",
    "if match:\n",
    "    print(f\"Lookbehind match: {match.group()}\")\n",
    "\n",
    "# 9- negative lookahead (?!...)\n",
    "pattern = r'\\d+(?!abc)'\n",
    "text = \"123abc456\"\n",
    "matches = re.findall(pattern, text)\n",
    "if matches:\n",
    "    print(f\"Negative lookahead match: {matches}\")\n",
    "else:\n",
    "    print(\"No match\")\n",
    "\n",
    "\n",
    "# 10- negative lookbehind (?<!...)\n",
    "pattern = r'(?<!abc)\\d+'\n",
    "text = \"123abc456\"\n",
    "matches = re.findall(pattern, text)\n",
    "if matches:\n",
    "    print(f\"Negative lookbehind match: {matches}\")\n",
    "else:\n",
    "    print(\"No match\")\n"
   ]
  },
  {
   "cell_type": "markdown",
   "metadata": {},
   "source": [
    "### Special Sequences and Characters Classes: \n",
    "\n",
    "- \\d: Matches any digit. Equivalent to [0-9].\n",
    "- \\D: Matches any non-digit.\n",
    "- \\w: Matches any alphanumeric character. Equivalent to [a-zA-Z0-9_].\n",
    "- \\W: Matches any non-alphanumeric character.\n",
    "- \\s: Matches any whitespace character.\n",
    "- \\S: Matches any non-whitespace character.\n",
    "- [abc]: Matches any of the characters inside the brackets.\n",
    "- [^abc]: Matches any character not inside the brackets.\n",
    "- a|b: Matches either a or b."
   ]
  },
  {
   "cell_type": "markdown",
   "metadata": {},
   "source": [
    "### Applications"
   ]
  },
  {
   "cell_type": "markdown",
   "metadata": {},
   "source": [
    "#### Email Extraction"
   ]
  },
  {
   "cell_type": "code",
   "execution_count": 14,
   "metadata": {},
   "outputs": [
    {
     "name": "stdout",
     "output_type": "stream",
     "text": [
      "Valid email\n"
     ]
    }
   ],
   "source": [
    "pattern = r'^[a-zA-Z0-9_.+-]+@[a-zA-Z0-9-]+\\.[a-zA-Z0-9-.]+$'\n",
    "text = \"example@example.com\"\n",
    "match = re.match(pattern, text)\n",
    "if match:\n",
    "    print(\"Valid email\")\n",
    "else:\n",
    "    print(\"Invalid email\")"
   ]
  },
  {
   "cell_type": "markdown",
   "metadata": {},
   "source": [
    "#### Phone No Extraction"
   ]
  },
  {
   "cell_type": "code",
   "execution_count": 15,
   "metadata": {},
   "outputs": [
    {
     "name": "stdout",
     "output_type": "stream",
     "text": [
      "Phone numbers: ['123-456-7890', '987.654.3210']\n"
     ]
    }
   ],
   "source": [
    "pattern = r'\\b\\d{3}[-.]?\\d{3}[-.]?\\d{4}\\b'\n",
    "text = \"Contact me at 123-456-7890 or 987.654.3210\"\n",
    "matches = re.findall(pattern, text)\n",
    "print(f\"Phone numbers: {matches}\")"
   ]
  },
  {
   "cell_type": "markdown",
   "metadata": {},
   "source": [
    "#### Parsing Logs"
   ]
  },
  {
   "cell_type": "code",
   "execution_count": 16,
   "metadata": {},
   "outputs": [
    {
     "name": "stdout",
     "output_type": "stream",
     "text": [
      "Date: 2024-06-03\n",
      "Time: 12:34:56\n",
      "Milliseconds: 789\n",
      "Level: INFO\n",
      "Message: This is a log message\n"
     ]
    }
   ],
   "source": [
    "pattern = r'(\\d{4}-\\d{2}-\\d{2}) (\\d{2}:\\d{2}:\\d{2}),(\\d+) - (\\w+) - (.*)'\n",
    "log_entry = \"2024-06-03 12:34:56,789 - INFO - This is a log message\"\n",
    "match = re.match(pattern, log_entry)\n",
    "if match:\n",
    "    print(f\"Date: {match.group(1)}\")\n",
    "    print(f\"Time: {match.group(2)}\")\n",
    "    print(f\"Milliseconds: {match.group(3)}\")\n",
    "    print(f\"Level: {match.group(4)}\")\n",
    "    print(f\"Message: {match.group(5)}\")"
   ]
  },
  {
   "cell_type": "markdown",
   "metadata": {},
   "source": [
    "### Advanced Pattern Matching"
   ]
  },
  {
   "cell_type": "markdown",
   "metadata": {},
   "source": [
    "#### greedy matching vs non-greedy matching"
   ]
  },
  {
   "cell_type": "code",
   "execution_count": 17,
   "metadata": {},
   "outputs": [
    {
     "name": "stdout",
     "output_type": "stream",
     "text": [
      "Greedy match: ['<div>content</div><div>another content</div>']\n",
      "Non-Greedy match: ['<div>content</div>', '<div>another content</div>']\n"
     ]
    }
   ],
   "source": [
    "text = \"<div>content</div><div>another content</div>\"\n",
    "pattern_greedy = r'<div>.*</div>' # match as much as possible\n",
    "pattern_non_greedy = r'<div>.*?</div>' # match as little as possible\n",
    "match_greedy = re.findall(pattern_greedy, text)\n",
    "match_non_greedy = re.findall(pattern_non_greedy, text)\n",
    "print(f\"Greedy match: {match_greedy}\")\n",
    "print(f\"Non-Greedy match: {match_non_greedy}\")"
   ]
  },
  {
   "cell_type": "markdown",
   "metadata": {},
   "source": [
    "#### backreferences"
   ]
  },
  {
   "cell_type": "code",
   "execution_count": 18,
   "metadata": {},
   "outputs": [
    {
     "name": "stdout",
     "output_type": "stream",
     "text": [
      "Backreferences match: ['hello', 'world']\n"
     ]
    }
   ],
   "source": [
    "# Backreferences allow you to reuse part of the matched text. \n",
    "# They are created by capturing groups and then referenced using \\1, \\2, etc\n",
    "\n",
    "pattern = r'(\\b\\w+)\\s+\\1'\n",
    "text = \"hello hello world world\"\n",
    "matches = re.findall(pattern, text)\n",
    "print(f\"Backreferences match: {matches}\")"
   ]
  },
  {
   "cell_type": "markdown",
   "metadata": {},
   "source": [
    "#### conditional matching (expressions)"
   ]
  },
  {
   "cell_type": "code",
   "execution_count": 19,
   "metadata": {},
   "outputs": [
    {
     "name": "stdout",
     "output_type": "stream",
     "text": [
      "Conditional match 1: abc\n",
      "Conditional match 2: bd\n"
     ]
    }
   ],
   "source": [
    "# Conditional expressions in regular expressions allow for more complex logic \n",
    "# by testing for the presence of a specific capturing group.\n",
    "\n",
    "pattern = r'(a)?b(?(1)c|d)'\n",
    "text1 = \"abc\"\n",
    "text2 = \"bd\"\n",
    "match1 = re.match(pattern, text1)\n",
    "match2 = re.match(pattern, text2)\n",
    "print(f\"Conditional match 1: {match1.group() if match1 else 'No match'}\")\n",
    "print(f\"Conditional match 2: {match2.group() if match2 else 'No match'}\")"
   ]
  },
  {
   "cell_type": "markdown",
   "metadata": {},
   "source": [
    "### Compiling Regular Expressions"
   ]
  },
  {
   "cell_type": "code",
   "execution_count": 20,
   "metadata": {},
   "outputs": [
    {
     "name": "stdout",
     "output_type": "stream",
     "text": [
      "Compiled matches: ['123', '456', '789']\n"
     ]
    }
   ],
   "source": [
    "# Compiling a regular expression can improve performance when the same pattern is used multiple times.\n",
    "pattern = re.compile(r'\\d+')\n",
    "text = \"123 456 789\"\n",
    "matches = pattern.findall(text)\n",
    "print(f\"Compiled matches: {matches}\")"
   ]
  },
  {
   "cell_type": "markdown",
   "metadata": {},
   "source": [
    "### Using Raw Strings"
   ]
  },
  {
   "cell_type": "code",
   "execution_count": 21,
   "metadata": {},
   "outputs": [
    {
     "name": "stdout",
     "output_type": "stream",
     "text": [
      "Raw string matches: ['100', '200', '300']\n"
     ]
    }
   ],
   "source": [
    "# Raw strings (prefix r) prevent Python from interpreting backslashes as escape characters\n",
    "# making it easier to write and read regular expressions.\n",
    "\n",
    "pattern = r'\\b\\d{3}\\b'\n",
    "text = \"100 200 300\"\n",
    "matches = re.findall(pattern, text)\n",
    "print(f\"Raw string matches: {matches}\")"
   ]
  },
  {
   "cell_type": "markdown",
   "metadata": {},
   "source": [
    "#### Validating Passwords"
   ]
  },
  {
   "cell_type": "code",
   "execution_count": 22,
   "metadata": {},
   "outputs": [
    {
     "name": "stdout",
     "output_type": "stream",
     "text": [
      "Password: Password1! - Valid\n",
      "Password: pass - Invalid\n",
      "Password: PASSWORD1! - Invalid\n",
      "Password: Pass1! - Invalid\n",
      "Password: ValidPass123! - Valid\n"
     ]
    }
   ],
   "source": [
    "pattern = r'^(?=.*[A-Z])(?=.*[a-z])(?=.*\\d)(?=.*[@$!%*?&])[A-Za-z\\d@$!%*?&]{8,}$'\n",
    "passwords = [\"Password1!\", \"pass\", \"PASSWORD1!\", \"Pass1!\", \"ValidPass123!\"]\n",
    "for pwd in passwords:\n",
    "    match = re.match(pattern, pwd)\n",
    "    print(f\"Password: {pwd} - {'Valid' if match else 'Invalid'}\")"
   ]
  },
  {
   "cell_type": "markdown",
   "metadata": {},
   "source": [
    "#### URL Extraction "
   ]
  },
  {
   "cell_type": "code",
   "execution_count": 23,
   "metadata": {},
   "outputs": [
    {
     "name": "stdout",
     "output_type": "stream",
     "text": [
      "URLs: ['https://www.linkedin.com/in/gaurav-kumar007/', 'https://topmate.io/gaurav_kumar_quant', 'https://docs.python.org/3/howto/regex.html.']\n"
     ]
    }
   ],
   "source": [
    "pattern = r'https?://[^\\s<>\"]+|www\\.[^\\s<>\"]+'\n",
    "text = \"Visit https://www.linkedin.com/in/gaurav-kumar007/ and https://topmate.io/gaurav_kumar_quant for more info. Also check https://docs.python.org/3/howto/regex.html.\"\n",
    "matches = re.findall(pattern, text)\n",
    "print(f\"URLs: {matches}\")"
   ]
  }
 ],
 "metadata": {
  "kernelspec": {
   "display_name": "Python 3",
   "language": "python",
   "name": "python3"
  },
  "language_info": {
   "codemirror_mode": {
    "name": "ipython",
    "version": 3
   },
   "file_extension": ".py",
   "mimetype": "text/x-python",
   "name": "python",
   "nbconvert_exporter": "python",
   "pygments_lexer": "ipython3",
   "version": "3.12.0"
  }
 },
 "nbformat": 4,
 "nbformat_minor": 2
}
