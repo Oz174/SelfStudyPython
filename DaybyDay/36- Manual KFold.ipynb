{
 "cells": [
  {
   "cell_type": "markdown",
   "metadata": {},
   "source": [
    "# Imports"
   ]
  },
  {
   "cell_type": "code",
   "execution_count": 1,
   "metadata": {},
   "outputs": [],
   "source": [
    "from sklearn.model_selection import KFold\n",
    "import numpy as np\n",
    "from sklearn.tree import DecisionTreeClassifier\n"
   ]
  },
  {
   "cell_type": "markdown",
   "metadata": {},
   "source": [
    "# Topics"
   ]
  },
  {
   "cell_type": "markdown",
   "metadata": {},
   "source": [
    "## How KFold Split Work ? (On hand example)"
   ]
  },
  {
   "cell_type": "code",
   "execution_count": 10,
   "metadata": {},
   "outputs": [
    {
     "name": "stdout",
     "output_type": "stream",
     "text": [
      "[0 0 0 0 0 1 1 1 1 1]\n",
      "TRAIN indices: [0 2 3 4 5 6 7 9] VALIDATION indices: [1 8]\n",
      "Validation Score: 1.0\n",
      "TRAIN indices: [1 2 3 4 6 7 8 9] VALIDATION indices: [0 5]\n",
      "Validation Score: 0.5\n",
      "TRAIN indices: [0 1 3 4 5 6 8 9] VALIDATION indices: [2 7]\n",
      "Validation Score: 1.0\n",
      "TRAIN indices: [0 1 2 3 5 6 7 8] VALIDATION indices: [4 9]\n",
      "Validation Score: 1.0\n",
      "TRAIN indices: [0 1 2 4 5 7 8 9] VALIDATION indices: [3 6]\n",
      "Validation Score: 1.0\n"
     ]
    }
   ],
   "source": [
    "# Create a dataset\n",
    "X = np.arange(20).reshape((10, 2))\n",
    "y = np.sort(np.array([0,1] * 5))\n",
    "\n",
    "# Initialize KFold\n",
    "kf = KFold(n_splits=5, shuffle=True, random_state=42)\n",
    "\n",
    "# Retrieve indices and perform training\n",
    "for train_index, val_index in kf.split(X):\n",
    "    X_train, X_val = X[train_index], X[val_index]\n",
    "    y_train, y_val = y[train_index], y[val_index]\n",
    "    \n",
    "    # Print the indices for illustration\n",
    "    print(\"TRAIN indices:\", train_index, \"VALIDATION indices:\", val_index)\n",
    "    \n",
    "    # Training a simple model (DecisionTreeClassifier)\n",
    "    model = DecisionTreeClassifier()\n",
    "    model.fit(X_train, y_train)\n",
    "    \n",
    "    # Validate the model\n",
    "    score = model.score(X_val, y_val)\n",
    "    print(\"Validation Score:\", score)\n"
   ]
  },
  {
   "cell_type": "markdown",
   "metadata": {},
   "source": [
    "One can simply use cross_val score to do the same thing. But I will show you how it works."
   ]
  },
  {
   "cell_type": "code",
   "execution_count": 14,
   "metadata": {},
   "outputs": [
    {
     "name": "stdout",
     "output_type": "stream",
     "text": [
      "Validation Scores: [1.  0.5 1.  1.  1. ]\n",
      "Mean Validation Score: 0.9\n"
     ]
    }
   ],
   "source": [
    "# using cross_val score to achieve some of the above\n",
    "from sklearn.model_selection import cross_val_score\n",
    "\n",
    "model = DecisionTreeClassifier()\n",
    "scores = cross_val_score(model, X, y, cv=KFold(n_splits=5, shuffle=True, random_state=42))\n",
    "print(\"Validation Scores:\", scores)\n",
    "print(\"Mean Validation Score:\", np.mean(scores))\n",
    "\n",
    "\n"
   ]
  },
  {
   "cell_type": "markdown",
   "metadata": {},
   "source": []
  }
 ],
 "metadata": {
  "kernelspec": {
   "display_name": "Python 3",
   "language": "python",
   "name": "python3"
  },
  "language_info": {
   "codemirror_mode": {
    "name": "ipython",
    "version": 3
   },
   "file_extension": ".py",
   "mimetype": "text/x-python",
   "name": "python",
   "nbconvert_exporter": "python",
   "pygments_lexer": "ipython3",
   "version": "3.12.0"
  }
 },
 "nbformat": 4,
 "nbformat_minor": 2
}
