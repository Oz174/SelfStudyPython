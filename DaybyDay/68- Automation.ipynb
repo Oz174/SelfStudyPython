{
 "cells": [
  {
   "cell_type": "markdown",
   "metadata": {},
   "source": [
    "# Imports"
   ]
  },
  {
   "cell_type": "code",
   "execution_count": 4,
   "metadata": {},
   "outputs": [],
   "source": [
    "import hashlib\n",
    "import os\n",
    "from collections import defaultdict\n",
    "import string\n",
    "import random\n",
    "\n",
    "from PIL import Image \n",
    "from captcha.image import ImageCaptcha\n",
    "from captcha.audio import AudioCaptcha\n",
    "from wifi_qrcode_generator import wifi_qrcode\n",
    "\n",
    "\n",
    "import barcode"
   ]
  },
  {
   "cell_type": "markdown",
   "metadata": {},
   "source": [
    "# Topics"
   ]
  },
  {
   "cell_type": "markdown",
   "metadata": {},
   "source": [
    "## Automation Task 1 : Find Duplicate Files in a Folder"
   ]
  },
  {
   "cell_type": "code",
   "execution_count": null,
   "metadata": {},
   "outputs": [],
   "source": [
    "def hash_file(filename):\n",
    "    h = hashlib.md5()\n",
    "    with open(filename, 'rb') as file:\n",
    "        while chunk := file.read(8192):\n",
    "            h.update(chunk)\n",
    "    return h.hexdigest()\n",
    "\n",
    "# this will need to ignore specific folders like libs , git \n",
    "def find_duplicates(folder):\n",
    "    hashes = {}\n",
    "    for dirpath, _, filenames in os.walk(folder):\n",
    "        for f in filenames:\n",
    "            full_path = os.path.join(dirpath, f)\n",
    "            file_hash = hash_file(full_path)\n",
    "            if file_hash in hashes:\n",
    "                print(f\"Duplicate found: {full_path} == {hashes[file_hash]}\")\n",
    "            else:\n",
    "                hashes[file_hash] = full_path"
   ]
  },
  {
   "cell_type": "markdown",
   "metadata": {},
   "source": [
    "## Shutdown PC after download finishes"
   ]
  },
  {
   "cell_type": "code",
   "execution_count": null,
   "metadata": {},
   "outputs": [],
   "source": [
    "while not os.listdir(\"some/empty/folder/foryourdownload/\"):\n",
    "    pass\n",
    "os.system(\"shutdown /s /t 1\") # /s shutdowin in /t (time in seconds) 1 "
   ]
  },
  {
   "cell_type": "markdown",
   "metadata": {},
   "source": [
    "## No More Keys Checking"
   ]
  },
  {
   "cell_type": "code",
   "execution_count": 15,
   "metadata": {},
   "outputs": [
    {
     "name": "stdout",
     "output_type": "stream",
     "text": [
      "Key not found in normal dict\n",
      "defaultdict(<function my_function at 0x0000017429F423E0>, {})\n",
      "apple\n",
      "apple\n",
      "orange\n",
      "defaultdict(<function my_function at 0x0000017429F423E0>, {'key1': 'apple', 'key2': 'apple', 'key3': 'orange'})\n"
     ]
    }
   ],
   "source": [
    "normal_dd = dict()\n",
    "\n",
    "try : \n",
    "    print(normal_dd[\"key1\"])\n",
    "except KeyError:\n",
    "    print(\"Key not found in normal dict\")\n",
    "    del normal_dd\n",
    "\n",
    "\n",
    "def my_function():\n",
    "    return \"apple\"\n",
    "\n",
    "dd = defaultdict(my_function)\n",
    "\n",
    "print(dd)\n",
    "# defaultdict(<function my_function at 0x104934e00>, {})\n",
    "\n",
    "print(dd['key1'])\n",
    "# apple\n",
    "print(dd['key2']) \n",
    "# apple\n",
    "dd[\"key3\"] = \"orange\" # If I assigned a value , it is auto-assigned\n",
    "print(dd['key3'])\n",
    "\n",
    "# whenever a key who is not in dictionairy , \n",
    "# the value will always be the value passed at the creation of the defaultdict\n",
    "\n",
    "print(dd)\n",
    "# defaultdict(<function my_function at 0x104934e00>, {'key1': 'apple', 'key2': 'apple'})"
   ]
  },
  {
   "cell_type": "markdown",
   "metadata": {},
   "source": [
    "Lesson 1 : It isn't a hustle for non-existing keys to be found in default dict , there's always a default value set (This will sure improve scalability and readibility on the behalf of memory)"
   ]
  },
  {
   "cell_type": "code",
   "execution_count": 16,
   "metadata": {},
   "outputs": [
    {
     "name": "stdout",
     "output_type": "stream",
     "text": [
      "{'A': ['Arnold', 'Amy'], 'B': ['Bob', 'Bobby']}\n",
      "defaultdict(<class 'list'>, {'A': ['Arnold', 'Amy'], 'B': ['Bob', 'Bobby']})\n"
     ]
    }
   ],
   "source": [
    "# Comparison Between Dict and DefaultDict \n",
    "\n",
    "students = [\"Arnold\", \"Amy\", \"Bob\", \"Bobby\"]\n",
    "\n",
    "d = {}\n",
    "\n",
    "for student in students:\n",
    "    letter = student[0]\n",
    "\n",
    "    if letter not in d:\n",
    "        d[letter] = []\n",
    "\n",
    "    d[letter].append(student)\n",
    "\n",
    "print(d) # {'A': ['Arnold', 'Amy'], 'B': ['Bob', 'Bobby']}\n",
    "\n",
    "dd = defaultdict(list)\n",
    "\n",
    "for student in students:\n",
    "    letter = student[0]\n",
    "    dd[letter].append(student)\n",
    "\n",
    "print(dd)"
   ]
  },
  {
   "cell_type": "code",
   "execution_count": 17,
   "metadata": {},
   "outputs": [
    {
     "data": {
      "text/plain": [
       "192"
      ]
     },
     "execution_count": 17,
     "metadata": {},
     "output_type": "execute_result"
    }
   ],
   "source": [
    "import sys\n",
    "\n",
    "sys.getsizeof(dd)"
   ]
  },
  {
   "cell_type": "code",
   "execution_count": 18,
   "metadata": {},
   "outputs": [
    {
     "data": {
      "text/plain": [
       "184"
      ]
     },
     "execution_count": 18,
     "metadata": {},
     "output_type": "execute_result"
    }
   ],
   "source": [
    "sys.getsizeof(d)"
   ]
  },
  {
   "cell_type": "markdown",
   "metadata": {},
   "source": [
    "## Generate Written Captcha"
   ]
  },
  {
   "cell_type": "code",
   "execution_count": 13,
   "metadata": {},
   "outputs": [
    {
     "name": "stdout",
     "output_type": "stream",
     "text": [
      "A new captcha image has been generated with text:\n"
     ]
    },
    {
     "data": {
      "text/plain": [
       "'YXSZ333'"
      ]
     },
     "execution_count": 13,
     "metadata": {},
     "output_type": "execute_result"
    }
   ],
   "source": [
    "def generate_captcha_text(length, only_digits=False):\n",
    "    if not only_digits:\n",
    "        return ''.join(random.choices(string.ascii_uppercase + string.digits, k=length))\n",
    "    else:\n",
    "        return ''.join(random.choices(string.digits, k=length))\n",
    "\n",
    "def generate_image_captcha(captcha_length=7 , savepath = 'images\\\\catpcha.png'):\n",
    "    image = ImageCaptcha(width=500,height=100)\n",
    "    captcha_text = generate_captcha_text(captcha_length)\n",
    "    _ = image.generate(captcha_text)\n",
    "    image.write(captcha_text, savepath)\n",
    "    print(\"A new captcha image has been generated with text:\")\n",
    "    return captcha_text\n",
    "\n",
    "generate_image_captcha()"
   ]
  },
  {
   "cell_type": "markdown",
   "metadata": {},
   "source": [
    "## Generate Audio Captcha"
   ]
  },
  {
   "cell_type": "code",
   "execution_count": null,
   "metadata": {},
   "outputs": [],
   "source": [
    "def generate_audio_captcha(captcha_length=4 , savepath = 'images\\\\catpcha.wav'):\n",
    "    audio = AudioCaptcha()\n",
    "    captcha_text = generate_captcha_text(captcha_length,True)\n",
    "    _ = audio.generate(captcha_text)\n",
    "    audio.write(captcha_text, savepath)\n",
    "    print(\"A new captcha audio has been generated with text:\")\n",
    "    return captcha_text\n"
   ]
  },
  {
   "cell_type": "code",
   "execution_count": 17,
   "metadata": {},
   "outputs": [
    {
     "name": "stdout",
     "output_type": "stream",
     "text": [
      "A new captcha audio has been generated with text:\n"
     ]
    },
    {
     "data": {
      "text/plain": [
       "'973'"
      ]
     },
     "execution_count": 17,
     "metadata": {},
     "output_type": "execute_result"
    }
   ],
   "source": [
    "generate_audio_captcha()"
   ]
  },
  {
   "cell_type": "markdown",
   "metadata": {},
   "source": [
    "## Generate Wifi QR Code"
   ]
  },
  {
   "cell_type": "code",
   "execution_count": 22,
   "metadata": {},
   "outputs": [],
   "source": [
    "qr_code = wifi_qrcode(\"WETarek\",hidden=False,authentication_type=\"WPA\",password=\"TS@174309\")\n",
    "qr_code_img = qr_code.make_image()\n",
    "\n",
    "# use pillow to show image \n",
    "qr_code_img.show()\n"
   ]
  },
  {
   "cell_type": "code",
   "execution_count": null,
   "metadata": {},
   "outputs": [
    {
     "ename": "NameError",
     "evalue": "name '__file__' is not defined",
     "output_type": "error",
     "traceback": [
      "\u001b[1;31m---------------------------------------------------------------------------\u001b[0m",
      "\u001b[1;31mNameError\u001b[0m                                 Traceback (most recent call last)",
      "Cell \u001b[1;32mIn[38], line 16\u001b[0m\n\u001b[0;32m      1\u001b[0m \u001b[38;5;66;03m# what does dir() do ?\u001b[39;00m\n\u001b[0;32m      2\u001b[0m \u001b[38;5;66;03m# dir() is a powerful inbuilt function in Python3, which returns list of the attributes and methods of any object (say functions , modules, strings, lists, dictionaries etc.)\u001b[39;00m\n\u001b[0;32m      3\u001b[0m \n\u001b[1;32m   (...)\u001b[0m\n\u001b[0;32m     13\u001b[0m \u001b[38;5;66;03m# what is __file__ ?\u001b[39;00m\n\u001b[0;32m     14\u001b[0m \u001b[38;5;66;03m# __file__ is a built-in variable in python that stores the name of the file in which the module is defined. If the module is a built-in module, __file__ returns None.\u001b[39;00m\n\u001b[1;32m---> 16\u001b[0m \u001b[38;5;18;43m__file__\u001b[39;49m()\n",
      "\u001b[1;31mNameError\u001b[0m: name '__file__' is not defined"
     ]
    }
   ],
   "source": [
    "# what does dir() do ?\n",
    "# dir() is a powerful inbuilt function in Python3, which returns list of the attributes and methods of any object (say functions , modules, strings, lists, dictionaries etc.)\n",
    "\n",
    "# what is __builtins__ ? \n",
    "# __builtins__ is a module in python that contains all the built-in functions, exceptions and attributes.\n",
    "\n",
    "# what is __name__ ?\n",
    "# __name__ is a built-in variable in python that stores the name of the current module. If the module is executed as the main program, the interpreter sets the __name__ variable to have a value “__main__”. If this file is being imported from another module, __name__ will be set to the module’s name.\n",
    "\n",
    "# what is __doc__ ?\n",
    "# __doc__ is a built-in variable in python that stores the documentation string of the object. If the object does not have a docstring, __doc__ returns None.\n",
    "\n",
    "# what is __file__ ?\n",
    "# __file__ is a built-in variable in python that stores the name of the file in which the module is defined. If the module is a built-in module, __file__ returns None."
   ]
  },
  {
   "cell_type": "code",
   "execution_count": null,
   "metadata": {},
   "outputs": [],
   "source": []
  }
 ],
 "metadata": {
  "kernelspec": {
   "display_name": "Python 3",
   "language": "python",
   "name": "python3"
  },
  "language_info": {
   "codemirror_mode": {
    "name": "ipython",
    "version": 3
   },
   "file_extension": ".py",
   "mimetype": "text/x-python",
   "name": "python",
   "nbconvert_exporter": "python",
   "pygments_lexer": "ipython3",
   "version": "3.13.0"
  }
 },
 "nbformat": 4,
 "nbformat_minor": 2
}
