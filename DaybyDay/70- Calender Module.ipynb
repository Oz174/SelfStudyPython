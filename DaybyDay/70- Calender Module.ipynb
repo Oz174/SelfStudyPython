{
 "cells": [
  {
   "cell_type": "markdown",
   "metadata": {},
   "source": [
    "# Imports"
   ]
  },
  {
   "cell_type": "code",
   "execution_count": 1,
   "metadata": {},
   "outputs": [],
   "source": [
    "import calendar"
   ]
  },
  {
   "cell_type": "markdown",
   "metadata": {},
   "source": [
    "# Topic"
   ]
  },
  {
   "cell_type": "markdown",
   "metadata": {},
   "source": [
    "## Why Use the ```calendar``` Module?\n",
    "The ```calendar``` module is particularly useful for:\n",
    "\n",
    "- ### Generating Text and HTML Calendars\n",
    "You can create monthly or yearly calendar layouts as text or HTML.\n",
    "This is helpful for integrating calendar views into applications or generating reports.\n",
    "\n",
    "- ### Finding Day Information\n",
    "\n",
    "Quickly identify the day of the week for any date.\n",
    "Determine weekdays and weekends programmatically.\n",
    "\n",
    "- ### Handling Recurring Events\n",
    "Ideal for setting up recurring schedules (e.g., meetings on the first Monday of every month).\n",
    "\n",
    "- ### Supporting Locale-Specific Customizations\n",
    "Adjust calendar settings to fit specific locales, ensuring compatibility with different regions."
   ]
  },
  {
   "cell_type": "markdown",
   "metadata": {},
   "source": [
    "## 1- Create a simple calender"
   ]
  },
  {
   "cell_type": "code",
   "execution_count": 2,
   "metadata": {},
   "outputs": [
    {
     "name": "stdout",
     "output_type": "stream",
     "text": [
      "   December 2024\n",
      "Mo Tu We Th Fr Sa Su\n",
      "                   1\n",
      " 2  3  4  5  6  7  8\n",
      " 9 10 11 12 13 14 15\n",
      "16 17 18 19 20 21 22\n",
      "23 24 25 26 27 28 29\n",
      "30 31\n",
      "\n"
     ]
    }
   ],
   "source": [
    "# Create a plain text calendar for December 2024\n",
    "cal = calendar.TextCalendar()\n",
    "print(cal.formatmonth(2024, 12))"
   ]
  },
  {
   "cell_type": "markdown",
   "metadata": {},
   "source": [
    "## Key Functions of the calendar Module "
   ]
  },
  {
   "cell_type": "markdown",
   "metadata": {},
   "source": [
    "### monthrange\n",
    "This function returns the first weekday and the number of days in a given month."
   ]
  },
  {
   "cell_type": "code",
   "execution_count": 5,
   "metadata": {},
   "outputs": [
    {
     "name": "stdout",
     "output_type": "stream",
     "text": [
      "December 2024 starts on Sunday and has 31 days.\n"
     ]
    }
   ],
   "source": [
    "first_weekday, num_days = calendar.monthrange(2024, 12)\n",
    "print(f\"December 2024 starts on {calendar.day_name[first_weekday]} and has {num_days} days.\")"
   ]
  },
  {
   "cell_type": "markdown",
   "metadata": {},
   "source": [
    "### weekday"
   ]
  },
  {
   "cell_type": "code",
   "execution_count": 6,
   "metadata": {},
   "outputs": [
    {
     "name": "stdout",
     "output_type": "stream",
     "text": [
      "December 23, 2024 is a Monday.\n"
     ]
    }
   ],
   "source": [
    "day = calendar.weekday(2024, 12, 23)\n",
    "print(f\"December 23, 2024 is a {calendar.day_name[day]}.\")"
   ]
  },
  {
   "cell_type": "markdown",
   "metadata": {},
   "source": [
    "### monthcalendar\n",
    "returns a list of weeks in a month, where each week is a list of integers representing the days"
   ]
  },
  {
   "cell_type": "code",
   "execution_count": 7,
   "metadata": {},
   "outputs": [
    {
     "name": "stdout",
     "output_type": "stream",
     "text": [
      "[0, 0, 0, 0, 0, 0, 1]\n",
      "[2, 3, 4, 5, 6, 7, 8]\n",
      "[9, 10, 11, 12, 13, 14, 15]\n",
      "[16, 17, 18, 19, 20, 21, 22]\n",
      "[23, 24, 25, 26, 27, 28, 29]\n",
      "[30, 31, 0, 0, 0, 0, 0]\n"
     ]
    }
   ],
   "source": [
    "weeks = calendar.monthcalendar(2024, 12)\n",
    "for week in weeks:\n",
    "    print(week)"
   ]
  },
  {
   "cell_type": "markdown",
   "metadata": {},
   "source": [
    "### Setting the first week day \n",
    "This function sets the first day of the week to the specified number."
   ]
  },
  {
   "cell_type": "code",
   "execution_count": 12,
   "metadata": {},
   "outputs": [
    {
     "name": "stdout",
     "output_type": "stream",
     "text": [
      "   December 2024\n",
      "Su Mo Tu We Th Fr Sa\n",
      " 1  2  3  4  5  6  7\n",
      " 8  9 10 11 12 13 14\n",
      "15 16 17 18 19 20 21\n",
      "22 23 24 25 26 27 28\n",
      "29 30 31\n",
      "\n"
     ]
    }
   ],
   "source": [
    "print(calendar.TextCalendar(calendar.SUNDAY).formatmonth(2024, 12))"
   ]
  },
  {
   "cell_type": "markdown",
   "metadata": {},
   "source": [
    "### Setting the locale "
   ]
  },
  {
   "cell_type": "code",
   "execution_count": 13,
   "metadata": {},
   "outputs": [
    {
     "name": "stdout",
     "output_type": "stream",
     "text": [
      "   décembre 2024\n",
      "di lu ma me je ve sa\n",
      " 1  2  3  4  5  6  7\n",
      " 8  9 10 11 12 13 14\n",
      "15 16 17 18 19 20 21\n",
      "22 23 24 25 26 27 28\n",
      "29 30 31\n",
      "\n"
     ]
    }
   ],
   "source": [
    "locale_cal = calendar.LocaleTextCalendar(firstweekday=calendar.SUNDAY, locale='fr_FR')\n",
    "print(locale_cal.formatmonth(2024, 12))"
   ]
  },
  {
   "cell_type": "markdown",
   "metadata": {},
   "source": [
    "### Usage \n",
    "\n",
    "- Scheduling Recurring Events (like every 28th of the month / every 2nd Friday )"
   ]
  },
  {
   "cell_type": "code",
   "execution_count": 19,
   "metadata": {},
   "outputs": [
    {
     "name": "stdout",
     "output_type": "stream",
     "text": [
      "28th of January 2024 is a Sunday.\n",
      "28th of February 2024 is a Wednesday.\n",
      "28th of March 2024 is a Thursday.\n",
      "28th of April 2024 is a Sunday.\n",
      "28th of May 2024 is a Tuesday.\n",
      "28th of June 2024 is a Friday.\n",
      "28th of July 2024 is a Sunday.\n",
      "28th of August 2024 is a Wednesday.\n",
      "28th of September 2024 is a Saturday.\n",
      "28th of October 2024 is a Monday.\n",
      "28th of November 2024 is a Thursday.\n",
      "28th of December 2024 is a Saturday.\n"
     ]
    }
   ],
   "source": [
    "# write a function that returns for a given year what day is 28 \n",
    "\n",
    "def get_28th_every_month(year):\n",
    "    for month in range(1, 13):\n",
    "        day = calendar.weekday(year, month, 28)\n",
    "        print(f\"28th of {calendar.month_name[month]} {year} is a {calendar.day_name[day]}.\")\n",
    "\n",
    "get_28th_every_month(2024)"
   ]
  },
  {
   "cell_type": "code",
   "execution_count": 21,
   "metadata": {},
   "outputs": [
    {
     "name": "stdout",
     "output_type": "stream",
     "text": [
      "                                               2024\n",
      "\n",
      "      January                   February                   March                     April\n",
      "Su Mo Tu We Th Fr Sa      Su Mo Tu We Th Fr Sa      Su Mo Tu We Th Fr Sa      Su Mo Tu We Th Fr Sa\n",
      "    1  2  3  4  5  6                   1  2  3                      1  2          1  2  3  4  5  6\n",
      " 7  8  9 10 11 12 13       4  5  6  7  8  9 10       3  4  5  6  7  8  9       7  8  9 10 11 12 13\n",
      "14 15 16 17 18 19 20      11 12 13 14 15 16 17      10 11 12 13 14 15 16      14 15 16 17 18 19 20\n",
      "21 22 23 24 25 26 27      18 19 20 21 22 23 24      17 18 19 20 21 22 23      21 22 23 24 25 26 27\n",
      "28 29 30 31               25 26 27 28 29            24 25 26 27 28 29 30      28 29 30\n",
      "                                                    31\n",
      "\n",
      "        May                       June                      July                     August\n",
      "Su Mo Tu We Th Fr Sa      Su Mo Tu We Th Fr Sa      Su Mo Tu We Th Fr Sa      Su Mo Tu We Th Fr Sa\n",
      "          1  2  3  4                         1          1  2  3  4  5  6                   1  2  3\n",
      " 5  6  7  8  9 10 11       2  3  4  5  6  7  8       7  8  9 10 11 12 13       4  5  6  7  8  9 10\n",
      "12 13 14 15 16 17 18       9 10 11 12 13 14 15      14 15 16 17 18 19 20      11 12 13 14 15 16 17\n",
      "19 20 21 22 23 24 25      16 17 18 19 20 21 22      21 22 23 24 25 26 27      18 19 20 21 22 23 24\n",
      "26 27 28 29 30 31         23 24 25 26 27 28 29      28 29 30 31               25 26 27 28 29 30 31\n",
      "                          30\n",
      "\n",
      "     September                  October                   November                  December\n",
      "Su Mo Tu We Th Fr Sa      Su Mo Tu We Th Fr Sa      Su Mo Tu We Th Fr Sa      Su Mo Tu We Th Fr Sa\n",
      " 1  2  3  4  5  6  7             1  2  3  4  5                      1  2       1  2  3  4  5  6  7\n",
      " 8  9 10 11 12 13 14       6  7  8  9 10 11 12       3  4  5  6  7  8  9       8  9 10 11 12 13 14\n",
      "15 16 17 18 19 20 21      13 14 15 16 17 18 19      10 11 12 13 14 15 16      15 16 17 18 19 20 21\n",
      "22 23 24 25 26 27 28      20 21 22 23 24 25 26      17 18 19 20 21 22 23      22 23 24 25 26 27 28\n",
      "29 30                     27 28 29 30 31            24 25 26 27 28 29 30      29 30 31\n",
      "\n"
     ]
    }
   ],
   "source": [
    "year_cal = calendar.TextCalendar(firstweekday=6)\n",
    "print(year_cal.formatyear(2024,m=4))"
   ]
  },
  {
   "cell_type": "code",
   "execution_count": null,
   "metadata": {},
   "outputs": [],
   "source": []
  }
 ],
 "metadata": {
  "kernelspec": {
   "display_name": "Python 3",
   "language": "python",
   "name": "python3"
  },
  "language_info": {
   "codemirror_mode": {
    "name": "ipython",
    "version": 3
   },
   "file_extension": ".py",
   "mimetype": "text/x-python",
   "name": "python",
   "nbconvert_exporter": "python",
   "pygments_lexer": "ipython3",
   "version": "3.13.0"
  }
 },
 "nbformat": 4,
 "nbformat_minor": 2
}
