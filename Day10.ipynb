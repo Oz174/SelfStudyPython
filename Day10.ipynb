{
 "cells": [
  {
   "cell_type": "markdown",
   "metadata": {},
   "source": [
    "# Imports"
   ]
  },
  {
   "cell_type": "code",
   "execution_count": 3,
   "metadata": {},
   "outputs": [],
   "source": [
    "import numpy as np \n",
    "import pandas as pd \n",
    "import matplotlib.pyplot as plt #=> maydorresh\n",
    "import seaborn as sns\n",
    "from sklearn.datasets import make_blobs , make_circles\n",
    "# import kmeans clustering and dbsan clustering\n",
    "from sklearn.cluster import KMeans , DBSCAN\n",
    "from sklearn.metrics import silhouette_score , calinski_harabasz_score"
   ]
  },
  {
   "cell_type": "markdown",
   "metadata": {},
   "source": [
    "# Topics for today"
   ]
  },
  {
   "cell_type": "markdown",
   "metadata": {},
   "source": [
    "## The use of / in python functions\n",
    "_This will make it such that function arguments must be all positional arguments._"
   ]
  },
  {
   "cell_type": "code",
   "execution_count": 4,
   "metadata": {},
   "outputs": [],
   "source": [
    "def hi(a,b,c):\n",
    "    print(a,b,c)\n",
    "\n",
    "def hi_with_a_slash(a,b,c,/):\n",
    "    print(a,b,c)"
   ]
  },
  {
   "cell_type": "code",
   "execution_count": 5,
   "metadata": {},
   "outputs": [
    {
     "name": "stdout",
     "output_type": "stream",
     "text": [
      "1 2 3\n",
      "3 2 1\n",
      "1 2 3\n",
      "hi_with_a_slash() got some positional-only arguments passed as keyword arguments: 'a, b, c'\n"
     ]
    }
   ],
   "source": [
    "hi(1,2,3)\n",
    "hi(b=2,c=1,a=3)\n",
    "hi_with_a_slash(1,2,3)\n",
    "try :\n",
    "    hi_with_a_slash(a=1,b=2,c=3)\n",
    "except TypeError as e:\n",
    "    print(e)"
   ]
  },
  {
   "cell_type": "markdown",
   "metadata": {},
   "source": [
    "## Definition of Tuple Immutability"
   ]
  },
  {
   "cell_type": "code",
   "execution_count": 8,
   "metadata": {},
   "outputs": [
    {
     "name": "stdout",
     "output_type": "stream",
     "text": [
      "IDs before appending the list 1909575450688 140720756017720\n",
      "IDs after appending the list 1909575450688 140720756017720\n",
      "'tuple' object does not support item assignment\n",
      "'tuple' object does not support item assignment\n"
     ]
    }
   ],
   "source": [
    "my_tuple = ([1,2,3] , 5)\n",
    "\n",
    "print(\"IDs before appending the list\" , id(my_tuple[0]) , id(my_tuple[1]))\n",
    "\n",
    "my_tuple[0].append(4)\n",
    "\n",
    "# no change in ID of the object\n",
    "print(\"IDs after appending the list\",id(my_tuple[0]) , id(my_tuple[1]))\n",
    "\n",
    "# assignment is prohibited \n",
    "try:\n",
    "    my_tuple[1] = 6\n",
    "except TypeError as e:\n",
    "    print(e)\n",
    "\n",
    "# ordering changing is also prohibited\n",
    "try:\n",
    "    my_tuple[0] , my_tuple[1] = my_tuple[1] , my_tuple[0]\n",
    "except TypeError as e:\n",
    "    print(e)\n",
    "\n"
   ]
  },
  {
   "cell_type": "markdown",
   "metadata": {},
   "source": [
    "## Pivoting in pandas\n",
    "_we aim to convert long data to wide data_"
   ]
  },
  {
   "cell_type": "code",
   "execution_count": null,
   "metadata": {},
   "outputs": [],
   "source": []
  },
  {
   "cell_type": "code",
   "execution_count": null,
   "metadata": {},
   "outputs": [],
   "source": []
  },
  {
   "cell_type": "markdown",
   "metadata": {},
   "source": [
    "## KMeans Vs DBSCAN with blobs and circles (using Matplotlib)"
   ]
  },
  {
   "cell_type": "markdown",
   "metadata": {},
   "source": [
    "### Kmeans with blobs"
   ]
  },
  {
   "cell_type": "code",
   "execution_count": null,
   "metadata": {},
   "outputs": [],
   "source": []
  },
  {
   "cell_type": "markdown",
   "metadata": {},
   "source": [
    "### Kmeans with circles"
   ]
  },
  {
   "cell_type": "code",
   "execution_count": null,
   "metadata": {},
   "outputs": [],
   "source": []
  },
  {
   "cell_type": "markdown",
   "metadata": {},
   "source": [
    "### DBSCAN with blobs"
   ]
  },
  {
   "cell_type": "code",
   "execution_count": null,
   "metadata": {},
   "outputs": [],
   "source": []
  },
  {
   "cell_type": "markdown",
   "metadata": {},
   "source": [
    "### DBSCAN with circles"
   ]
  },
  {
   "cell_type": "code",
   "execution_count": null,
   "metadata": {},
   "outputs": [],
   "source": []
  }
 ],
 "metadata": {
  "kernelspec": {
   "display_name": "Python 3",
   "language": "python",
   "name": "python3"
  },
  "language_info": {
   "codemirror_mode": {
    "name": "ipython",
    "version": 3
   },
   "file_extension": ".py",
   "mimetype": "text/x-python",
   "name": "python",
   "nbconvert_exporter": "python",
   "pygments_lexer": "ipython3",
   "version": "3.12.0"
  }
 },
 "nbformat": 4,
 "nbformat_minor": 2
}
