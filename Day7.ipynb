{
 "cells": [
  {
   "cell_type": "markdown",
   "metadata": {},
   "source": [
    "# Imports"
   ]
  },
  {
   "cell_type": "code",
   "execution_count": 9,
   "metadata": {},
   "outputs": [],
   "source": [
    "import numpy as np\n",
    "from scipy.stats import f_oneway\n",
    "import statsmodels.api as sm "
   ]
  },
  {
   "cell_type": "markdown",
   "metadata": {},
   "source": [
    "# Topics"
   ]
  },
  {
   "cell_type": "markdown",
   "metadata": {},
   "source": [
    "## ANOVA : Analysis of Variance\n",
    "we use this to compare the means of three or more groups. It is a generalization of the t-test, which is used to compare the means of two groups."
   ]
  },
  {
   "cell_type": "code",
   "execution_count": 33,
   "metadata": {},
   "outputs": [],
   "source": [
    "#sample must be > 30 \n",
    "s1 = np.random.normal(3, 2.5, 32)\n",
    "s2 = np.random.normal(1, 2.5, 32)\n",
    "s3 = np.random.normal(4, 2.5, 32)"
   ]
  },
  {
   "cell_type": "code",
   "execution_count": 34,
   "metadata": {},
   "outputs": [
    {
     "name": "stdout",
     "output_type": "stream",
     "text": [
      "sample 1 Mean and Standard Deviation\n",
      "3.4082744256670408 2.6157634242518806\n",
      "sample 2 Mean and Standard Deviation\n",
      "1.4455363349486063 2.5420055421604086\n",
      "sample 3 Mean and Standard Deviation\n",
      "4.398640315125213 2.041746036266934\n"
     ]
    }
   ],
   "source": [
    "print(\"sample 1 Mean and Standard Deviation\")\n",
    "print(np.mean(s1), np.std(s1) )\n",
    "print(\"sample 2 Mean and Standard Deviation\")\n",
    "print(np.mean(s2), np.std(s2) )\n",
    "print(\"sample 3 Mean and Standard Deviation\")\n",
    "print(np.mean(s3), np.std(s3) )\n"
   ]
  },
  {
   "cell_type": "code",
   "execution_count": 35,
   "metadata": {},
   "outputs": [
    {
     "name": "stdout",
     "output_type": "stream",
     "text": [
      "F-statistic:  12.023692567530585\n",
      "P-value:  2.267970066069687e-05\n"
     ]
    }
   ],
   "source": [
    "f_stat , p_val = f_oneway(s1, s2, s3)\n",
    "print(\"F-statistic: \", f_stat)\n",
    "print(\"P-value: \", p_val)\n"
   ]
  },
  {
   "cell_type": "code",
   "execution_count": 36,
   "metadata": {},
   "outputs": [
    {
     "data": {
      "text/plain": [
       "<class 'statsmodels.stats.base.HolderTuple'>\n",
       "statistic = 12.02369256753058\n",
       "pvalue = 2.2679700660697007e-05\n",
       "df = (2.0, 93.0)\n",
       "df_num = 2.0\n",
       "df_denom = 93.0\n",
       "nobs_t = 96.0\n",
       "n_groups = 3\n",
       "means = array([3.40827443, 1.44553633, 4.39864032])\n",
       "nobs = array([32., 32., 32.])\n",
       "vars_ = array([7.06293501, 6.67023709, 4.30320194])\n",
       "use_var = 'equal'\n",
       "welch_correction = True\n",
       "tuple = (12.02369256753058, 2.2679700660697007e-05)"
      ]
     },
     "execution_count": 36,
     "metadata": {},
     "output_type": "execute_result"
    }
   ],
   "source": [
    "sm.stats.anova_oneway(data=(s1, s2, s3),\n",
    "                      groups=None,\n",
    "                      use_var='equal',\n",
    "                      welch_correction=True,\n",
    "                      trim_frac=0)"
   ]
  },
  {
   "cell_type": "markdown",
   "metadata": {},
   "source": [
    "for near means , the p-value is high and for far means, the p-value is low.\n",
    "if p > alpha , we fail to reject the null hypothesis. which is that all the means are equal."
   ]
  },
  {
   "cell_type": "markdown",
   "metadata": {},
   "source": [
    "## F-Test\n",
    "\n",
    "the F-test is used to compare the variances of two populations. It is used to determine whether the variances of two groups are equal or not."
   ]
  },
  {
   "cell_type": "code",
   "execution_count": 38,
   "metadata": {},
   "outputs": [],
   "source": [
    "from scipy.stats import f"
   ]
  },
  {
   "cell_type": "code",
   "execution_count": 54,
   "metadata": {},
   "outputs": [
    {
     "name": "stdout",
     "output_type": "stream",
     "text": [
      "The F-test for S1 and S2 is 0.5206725586998417\n",
      "The F-test for S2 and S3 is 0.264065065011391\n",
      "The F-test for S1 and S3 is 0.28123557844186203\n"
     ]
    }
   ],
   "source": [
    "s1 = np.random.normal(3, 1.24001, 32)\n",
    "s2 = np.random.normal(1, 1.24001, 32)\n",
    "s3 = np.random.normal(4, 1.24002, 32)\n",
    "\n",
    "var_s1 = np.var(s1)\n",
    "var_s2 = np.var(s2)\n",
    "var_s3 = np.var(s3)\n",
    "f_val_21 = var_s2/var_s1\n",
    "f_val_32 = var_s3/var_s2\n",
    "f_val_31 = var_s3/var_s1\n",
    "\n",
    "print(f\"The F-test for S1 and S2 is {f.cdf(f_val_21, 31, 31)}\")\n",
    "print(f\"The F-test for S2 and S3 is {f.cdf(f_val_32, 31, 31)}\")\n",
    "print(f\"The F-test for S1 and S3 is {f.cdf(f_val_31, 31, 31)}\")\n",
    "\n",
    "#low f-test value mean that the variances are equal\n"
   ]
  },
  {
   "cell_type": "markdown",
   "metadata": {},
   "source": [
    "#"
   ]
  }
 ],
 "metadata": {
  "kernelspec": {
   "display_name": "Python 3",
   "language": "python",
   "name": "python3"
  },
  "language_info": {
   "codemirror_mode": {
    "name": "ipython",
    "version": 3
   },
   "file_extension": ".py",
   "mimetype": "text/x-python",
   "name": "python",
   "nbconvert_exporter": "python",
   "pygments_lexer": "ipython3",
   "version": "3.12.0"
  }
 },
 "nbformat": 4,
 "nbformat_minor": 2
}
