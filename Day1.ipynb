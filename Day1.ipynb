{
 "cells": [
  {
   "cell_type": "markdown",
   "id": "23d303b0",
   "metadata": {},
   "source": [
    "# Automation"
   ]
  },
  {
   "cell_type": "markdown",
   "id": "938f7b95-b16b-4e93-9864-4f075f41fca3",
   "metadata": {},
   "source": [
    "## Automation 1 : Proofreading with Python "
   ]
  },
  {
   "cell_type": "code",
   "execution_count": null,
   "id": "acba0433-7b49-4132-bd29-3dd6c9dda863",
   "metadata": {},
   "outputs": [],
   "source": [
    "## Importing Library\n",
    "import lmproof as lm\n",
    "## Function for proofreading \n",
    "def Proofread(text):\n",
    "    proof = lm.load(\"en\") #=> requires internet connection \n",
    "    error_free_text = proof.proofread(text)\n",
    "    return error_free_text\n",
    "\n",
    "## Sample Text\n",
    "TEXT = 'The varialbe was initilized with an invald value, causing the progam to throw a runtime erro.'\n",
    "## Function Call \n",
    "print(Proofread(TEXT))"
   ]
  },
  {
   "cell_type": "markdown",
   "id": "b8a18fe4-ba48-44ec-8f5b-c19adbbd720b",
   "metadata": {},
   "source": [
    "## Automation 2 : Pseudo Data Generation"
   ]
  },
  {
   "cell_type": "code",
   "execution_count": 2,
   "id": "5f80e81e-564c-4335-8839-69bfc56c3a8f",
   "metadata": {},
   "outputs": [
    {
     "data": {
      "text/html": [
       "<div>\n",
       "<style scoped>\n",
       "    .dataframe tbody tr th:only-of-type {\n",
       "        vertical-align: middle;\n",
       "    }\n",
       "\n",
       "    .dataframe tbody tr th {\n",
       "        vertical-align: top;\n",
       "    }\n",
       "\n",
       "    .dataframe thead th {\n",
       "        text-align: right;\n",
       "    }\n",
       "</style>\n",
       "<table border=\"1\" class=\"dataframe\">\n",
       "  <thead>\n",
       "    <tr style=\"text-align: right;\">\n",
       "      <th></th>\n",
       "      <th>Name</th>\n",
       "      <th>Address</th>\n",
       "      <th>Email</th>\n",
       "      <th>Phone Number</th>\n",
       "      <th>Date of Birth</th>\n",
       "      <th>Random Number</th>\n",
       "      <th>Job Title</th>\n",
       "      <th>Company</th>\n",
       "      <th>Lorem Ipsum Text</th>\n",
       "    </tr>\n",
       "  </thead>\n",
       "  <tbody>\n",
       "    <tr>\n",
       "      <th>0</th>\n",
       "      <td>Christopher Bowers DDS</td>\n",
       "      <td>4837 Paul Spur Apt. 074\\nAguilarfort, CA 39061</td>\n",
       "      <td>perrylove@example.net</td>\n",
       "      <td>500.675.1365x9837</td>\n",
       "      <td>1992-04-05</td>\n",
       "      <td>96</td>\n",
       "      <td>Programmer, multimedia</td>\n",
       "      <td>Garcia, Hoffman and Brown</td>\n",
       "      <td>Wall language yard. Newspaper audience can civ...</td>\n",
       "    </tr>\n",
       "    <tr>\n",
       "      <th>1</th>\n",
       "      <td>Kathy Smith</td>\n",
       "      <td>753 Hector Avenue Apt. 751\\nMichellefort, MA 9...</td>\n",
       "      <td>oyoung@example.org</td>\n",
       "      <td>(619)561-8096x10085</td>\n",
       "      <td>1991-06-24</td>\n",
       "      <td>86</td>\n",
       "      <td>Psychotherapist, dance movement</td>\n",
       "      <td>Taylor, Mcdowell and Rowe</td>\n",
       "      <td>Weight southern everything well begin writer a...</td>\n",
       "    </tr>\n",
       "  </tbody>\n",
       "</table>\n",
       "</div>"
      ],
      "text/plain": [
       "                     Name                                            Address  \\\n",
       "0  Christopher Bowers DDS     4837 Paul Spur Apt. 074\\nAguilarfort, CA 39061   \n",
       "1             Kathy Smith  753 Hector Avenue Apt. 751\\nMichellefort, MA 9...   \n",
       "\n",
       "                   Email         Phone Number Date of Birth  Random Number  \\\n",
       "0  perrylove@example.net    500.675.1365x9837    1992-04-05             96   \n",
       "1     oyoung@example.org  (619)561-8096x10085    1991-06-24             86   \n",
       "\n",
       "                         Job Title                    Company  \\\n",
       "0           Programmer, multimedia  Garcia, Hoffman and Brown   \n",
       "1  Psychotherapist, dance movement  Taylor, Mcdowell and Rowe   \n",
       "\n",
       "                                    Lorem Ipsum Text  \n",
       "0  Wall language yard. Newspaper audience can civ...  \n",
       "1  Weight southern everything well begin writer a...  "
      ]
     },
     "execution_count": 2,
     "metadata": {},
     "output_type": "execute_result"
    }
   ],
   "source": [
    "import pandas as pd\n",
    "from faker import Faker\n",
    "import random\n",
    "\n",
    "fake = Faker()\n",
    "\n",
    "def generate_fake_data(num_entries=2):\n",
    "    data = []\n",
    "\n",
    "    for _ in range(num_entries):\n",
    "        entry = {\n",
    "            \"Name\": fake.name(),\n",
    "            \"Address\": fake.address(),\n",
    "            \"Email\": fake.email(),\n",
    "            \"Phone Number\": fake.phone_number(),\n",
    "            \"Date of Birth\": fake.date_of_birth(minimum_age=18, maximum_age=65).strftime(\"%Y-%m-%d\"),\n",
    "            \"Random Number\": random.randint(1, 100),\n",
    "            \"Job Title\": fake.job(),\n",
    "            \"Company\": fake.company(),\n",
    "            \"Lorem Ipsum Text\": fake.text(),\n",
    "        }\n",
    "        data.append(entry)\n",
    "\n",
    "    return pd.DataFrame(data)\n",
    "\n",
    "fake_data_df = generate_fake_data()\n",
    "## Dataframe with Fake Data\n",
    "fake_data_df"
   ]
  },
  {
   "cell_type": "markdown",
   "id": "ece1e21e-a52d-4ddd-8bb5-0c53764c1942",
   "metadata": {},
   "source": [
    "## Automation 3 : Python automation script Notifo."
   ]
  },
  {
   "cell_type": "code",
   "execution_count": null,
   "id": "f9b977a8-39b5-4b11-abe1-577f24cfaae9",
   "metadata": {},
   "outputs": [],
   "source": [
    "from win10toast import ToastNotifier\n",
    "import time\n",
    "\n",
    "toaster = ToastNotifier()\n",
    "\n",
    "def set_reminder():\n",
    "    reminder_header = input(\"What would you like me to remember?\\n\")\n",
    "    related_message = input(\"Related Message:\\n\")\n",
    "    time_minutes = float(input(\"In how many minutes?\\n\"))\n",
    "\n",
    "    time_seconds = time_minutes * 60\n",
    "\n",
    "    print(\"Setting up reminder...\")\n",
    "    time.sleep(2)\n",
    "    print(\"All set!\")\n",
    "\n",
    "    time.sleep(time_seconds)\n",
    "\n",
    "    toaster.show_toast(\n",
    "        title=f\"{reminder_header}\",\n",
    "        msg=f\"{related_message}\",\n",
    "        duration=10,\n",
    "        threaded=True\n",
    "    )\n",
    "\n",
    "    while toaster.notification_active():\n",
    "        time.sleep(0.005)\n",
    "\n",
    "set_reminder()"
   ]
  },
  {
   "cell_type": "markdown",
   "id": "6c3c3de7-3ff8-43e3-85e4-743bc76426b7",
   "metadata": {},
   "source": [
    "## Automation 4 : Remove BG "
   ]
  },
  {
   "cell_type": "code",
   "execution_count": null,
   "id": "2c309db8-2b97-4a3d-835b-f49e44cd9da0",
   "metadata": {},
   "outputs": [],
   "source": [
    "from rembg import remove \n",
    "from PIL import Image\n",
    "\n",
    "## Path for input and output image\n",
    "input_img = 'monkey.jpg'\n",
    "output_img = 'monkey_rmbg.png'\n",
    "\n",
    "## loading and removing background\n",
    "inp = Image.open(input_img)\n",
    "output = remove(inp)\n",
    "\n",
    "## Saving background removed image to same location as input image\n",
    "output.save(output_img)"
   ]
  },
  {
   "cell_type": "markdown",
   "id": "9d396e3f-6e54-482e-b7cc-fa815de7e96c",
   "metadata": {},
   "source": [
    "## Automation 5 : Filtering (Regex) "
   ]
  },
  {
   "cell_type": "code",
   "execution_count": null,
   "id": "bb10a8c4-8451-4e3d-89f5-e0c1fbe5936b",
   "metadata": {},
   "outputs": [],
   "source": [
    "import re\n",
    "\n",
    "def filter_text(text):\n",
    "    # Filter email addresses\n",
    "    emails = re.findall(r'\\b[A-Za-z0-9._%+-]+@[A-Za-z0-9.-]+\\.[A-Z|a-z]{2,}\\b', text)\n",
    "\n",
    "    # Filter mentions (Twitter-style)\n",
    "    mentions = re.findall(r'@\\w+', text)\n",
    "\n",
    "    # Filter hashtags\n",
    "    hashtags = re.findall(r'#\\w+', text)\n",
    "\n",
    "    # Filter links (HTTP/HTTPS)\n",
    "    links = re.findall(r'http[s]?://(?:[a-zA-Z]|[0-9]|[$-_@.&+]|[!*\\\\(\\\\),]|(?:%[0-9a-fA-F][0-9a-fA-F]))+', text)\n",
    "\n",
    "    # Filter HTML tags\n",
    "    html_tags = re.findall(r'<[^>]+>', text)\n",
    "\n",
    "\n",
    "    return {\n",
    "        'emails': emails,\n",
    "        'mentions': mentions,\n",
    "        'hashtags': hashtags,\n",
    "        'links': links,\n",
    "        'html_tags': html_tags,\n",
    "    }\n",
    "\n",
    "if __name__ == \"__main__\":\n",
    "    # Example text with HTML tags\n",
    "    example_text = \"\"\"\n",
    "    For more information, contact <a href=\"support@example.com\">support@example.com</a>.\n",
    "    Follow us on Twitter: @example_user. Visit our website: https://www.example.com\n",
    "    Join the conversation with #PythonProgramming.\n",
    "    Connect with John Doe at john.doe@example.com.\n",
    "    I love using Python for <b>natural language processing</b> and sentiment analysis!\n",
    "    \"\"\"\n",
    "\n",
    "    # Filter information from the text\n",
    "    filtered_info = filter_text(example_text)\n",
    "\n",
    "    # Display the filtered information\n",
    "    print(\"Emails:\", filtered_info['emails'])\n",
    "    print(\"Mentions:\", filtered_info['mentions'])\n",
    "    print(\"Hashtags:\", filtered_info['hashtags'])\n",
    "    print(\"Links:\", filtered_info['links'])\n",
    "    print(\"HTML Tags:\", filtered_info['html_tags'])"
   ]
  }
 ],
 "metadata": {
  "kernelspec": {
   "display_name": "Python 3 (ipykernel)",
   "language": "python",
   "name": "python3"
  },
  "language_info": {
   "codemirror_mode": {
    "name": "ipython",
    "version": 3
   },
   "file_extension": ".py",
   "mimetype": "text/x-python",
   "name": "python",
   "nbconvert_exporter": "python",
   "pygments_lexer": "ipython3",
   "version": "3.12.0"
  }
 },
 "nbformat": 4,
 "nbformat_minor": 5
}
