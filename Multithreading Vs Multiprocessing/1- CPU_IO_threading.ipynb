{
 "cells": [
  {
   "cell_type": "markdown",
   "metadata": {},
   "source": [
    "# Introductory Notes about Multithreading and Multiprocessing\n",
    "\n",
    "- ## What's a thread and a process?\n",
    "A thread is the basic unit of execution within a process. It is an independent flow of execution that shares the same address space as other independent flows of execution within the same process. A process can have one or more threads, one of them is the main thread, which is the default thread of a Python process\n",
    "\n",
    "- ## What's the difference between multithreading and multiprocessing?\n",
    "- **Multithreading** : Many Threads , One CPU core , Shared memory space\n",
    "- **Multiprocessing** : Many Processes , Many CPU cores , Each process has its own memory space\n",
    "\n",
    "- ## When to use multithreading and multiprocessing?\n",
    "- **Multithreading** : Use when you have I/O bound tasks\n",
    "- **Multiprocessing** : Use when you have CPU bound tasks\n",
    "\n",
    "- ## What's the Global Interpreter Lock (GIL)?\n",
    "The GIL is a mutex that protects access to Python objects, preventing multiple threads from executing Python bytecodes at once. It prevents threads from using multiple CPU cores. It is necessary because CPython is not thread-safe.\n",
    "\n",
    "\n",
    "- ## Benfits of Multithreading \n",
    "![Benefits of Multithreading Over Sequential Execution](./Benefits_of_multithreading.png)"
   ]
  },
  {
   "cell_type": "markdown",
   "metadata": {},
   "source": [
    "## Example 1 : 1 Thread I/O + 1 Thread CPU Bound"
   ]
  },
  {
   "cell_type": "code",
   "execution_count": 1,
   "metadata": {},
   "outputs": [],
   "source": [
    "import os\n",
    "import numpy as np \n",
    "import matplotlib.pyplot as plt\n",
    "\n",
    "# def get_saving_path(path: str) -> str:\n",
    "#     cwd = os.path.dirname(os.path.realpath(__file__))\n",
    "#     return os.path.join(cwd, path)\n",
    "\n",
    "\n",
    "def postprocess_times(times: list[tuple[float]]) -> tuple[list[float]]:\n",
    "    \"\"\"Remove the start time of the first task from all tasks so\n",
    "    that the overall start time is 0. Then split the start and end\n",
    "    points to make it easier to represent later.\"\"\"\n",
    "    init_time = times[0][0]\n",
    "\n",
    "    start_points, end_points = list(), list()\n",
    "    for interval in times:\n",
    "        start_points.append(interval[0] - init_time)\n",
    "        end_points.append(interval[1] - init_time)\n",
    "\n",
    "    return start_points, end_points\n",
    "\n",
    "\n",
    "def flaten_list_of_lists(times: list[list]) -> tuple[list[float]]:\n",
    "    return [time for time_list in times for time in time_list]\n",
    "\n",
    "def barh(\n",
    "    title: str,\n",
    "    start_points: list[float],\n",
    "    end_points: list[float],\n",
    "    path: str,\n",
    "    n: int = 10,\n",
    "    secs: int = 11,\n",
    "    color=(0.2, 0.65, 1, 0.8),\n",
    ") -> None:\n",
    "\n",
    "    with plt.style.context(\"dark_background\"):\n",
    "        plt.figure(figsize=(10, 4.5))\n",
    "\n",
    "        plt.barh(\n",
    "            range(n),\n",
    "            left=start_points,\n",
    "            width=np.array(end_points) - np.array(start_points),\n",
    "            color=color,\n",
    "            align=\"center\",\n",
    "        )\n",
    "\n",
    "        plt.title(title)\n",
    "        plt.ylabel(\"tasks\")\n",
    "        plt.xlabel(\"time (in secs)\")\n",
    "        plt.gca().spines[\"top\"].set_visible(False)\n",
    "        plt.gca().spines[\"right\"].set_visible(False)\n",
    "        plt.yticks(range(n))\n",
    "        plt.xticks(range(secs))\n",
    "\n",
    "    plt.savefig(path)"
   ]
  },
  {
   "cell_type": "code",
   "execution_count": 2,
   "metadata": {},
   "outputs": [],
   "source": [
    "import logging\n",
    "from threading import Thread\n",
    "from time import perf_counter, sleep\n",
    "\n",
    "\n",
    "format = \"%(asctime)s: %(message)s\"\n",
    "logging.basicConfig(format=format, level=logging.INFO, datefmt=\"%H:%M:%S\")\n",
    "\n",
    "\n",
    "shared_list = []  # threads from the same process share data\n",
    "\n",
    "\n",
    "def io_bound_operation(secs: float | int) -> None:\n",
    "    \"\"\"Run 1 I/O-bound task of secs seconds and append the results to shared_list.\"\"\"\n",
    "    start = perf_counter()\n",
    "    sleep(secs)\n",
    "    finish = perf_counter()\n",
    "\n",
    "    shared_list.append([(start, finish)])\n",
    "\n",
    "\n",
    "def cpu_bound_operation(n: int) -> None:\n",
    "    \"\"\"CPU-bound task.\"\"\"\n",
    "    start = perf_counter()\n",
    "    count = 0\n",
    "    for i in range(n):\n",
    "        count += i\n",
    "    finish = perf_counter()\n",
    "\n",
    "    shared_list.append([(start, finish)])"
   ]
  },
  {
   "cell_type": "code",
   "execution_count": 3,
   "metadata": {},
   "outputs": [],
   "source": [
    "def threading_two_threads(save_path: str):\n",
    "    # Create two thread objects\n",
    "    t1 = Thread(target=io_bound_operation, args=(1,))\n",
    "    t2 = Thread(target=cpu_bound_operation, args=(100000000,))\n",
    "\n",
    "    # Start activity -> invokes run() method\n",
    "    t1.start()\n",
    "    sleep(0.1)\n",
    "    t2.start()\n",
    "\n",
    "    # Block the calling thread -> Avoids continuing to run without threads\n",
    "    # being finished\n",
    "    t1.join()\n",
    "    t2.join()\n",
    "\n",
    "    logging.info(f\"shared_list {shared_list}\")\n",
    "     \n",
    "    # Just some processing for chart\n",
    "    start_points, end_points = postprocess_times(flaten_list_of_lists(shared_list))\n",
    "    \n",
    "    barh(\n",
    "        title=\"Concurrent execution, 2 threads, 1 I/O-bound task of 1s + 1 \\\n",
    "               CPU-task of 3.5s approx\",\n",
    "        start_points=start_points,\n",
    "        end_points=end_points,\n",
    "        path=save_path,\n",
    "        n=2,\n",
    "    )"
   ]
  },
  {
   "cell_type": "code",
   "execution_count": 4,
   "metadata": {},
   "outputs": [
    {
     "name": "stderr",
     "output_type": "stream",
     "text": [
      "16:14:23: Init concurrent tasks\n",
      "16:14:30: shared_list [[(525093.5147012, 525094.5267018)], [(525093.6150777, 525099.72742)]]\n",
      "16:14:30: Finish concurrent tasks\n"
     ]
    },
    {
     "data": {
      "image/png": "[encoded data removed]",
      "text/plain": [
       "<Figure size 1000x450 with 1 Axes>"
      ]
     },
     "metadata": {},
     "output_type": "display_data"
    }
   ],
   "source": [
    "logging.info(\"Init concurrent tasks\")\n",
    "threading_two_threads(\"./Example_1.png\")\n",
    "logging.info(\"Finish concurrent tasks\")"
   ]
  }
 ],
 "metadata": {
  "kernelspec": {
   "display_name": "Python 3",
   "language": "python",
   "name": "python3"
  },
  "language_info": {
   "codemirror_mode": {
    "name": "ipython",
    "version": 3
   },
   "file_extension": ".py",
   "mimetype": "text/x-python",
   "name": "python",
   "nbconvert_exporter": "python",
   "pygments_lexer": "ipython3",
   "version": "3.12.0"
  }
 },
 "nbformat": 4,
 "nbformat_minor": 2
}
