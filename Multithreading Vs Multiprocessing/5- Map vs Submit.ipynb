{
 "cells": [
  {
   "cell_type": "markdown",
   "metadata": {},
   "source": [
    "# The Difference between Map() and Submit()"
   ]
  },
  {
   "cell_type": "markdown",
   "metadata": {},
   "source": [
    "Understanding ThreadPoolExecutor\n",
    "Before diving into the differences, let's briefly recap what ThreadPoolExecutor does. It's a Python tool that allows you to execute tasks concurrently using a pool of threads. This can significantly speed up tasks that can be broken down into smaller, independent units.\n",
    "\n",
    "Mapping (map())\n",
    "Purpose: Applies a function to each item in an iterable and executes these tasks concurrently.\n",
    "Behavior:\n",
    "Takes an iterable (like a list) and a function.\n",
    "Submits each element of the iterable to the executor with the provided function.\n",
    "Returns an iterator that yields the results of each task in the same order as the input iterable.\n",
    "Use Case: When you have a simple task to apply to multiple inputs and the order of results is important.\n",
    "Submitting (submit())\n",
    "Purpose: Submits a callable (function) and its arguments to the executor.\n",
    "Behavior:\n",
    "Returns a Future object immediately.\n",
    "This Future object represents the pending result of the task.\n",
    "You can check the status of the task, retrieve the result when it's ready, or cancel the task.\n",
    "Use Case: When you need more control over tasks, want to handle exceptions individually, or require asynchronous operations."
   ]
  },
  {
   "cell_type": "markdown",
   "metadata": {},
   "source": [
    "Here's a comparison table in markdown to compare between `map()` and `submit()`:\n",
    "\n",
    "| Function | Purpose | Behavior | Use Case |\n",
    "| --- | --- | --- | --- |\n",
    "| `map()` | Applies a function to each item in an iterable and executes these tasks concurrently. | Takes an iterable (like a list) and a function. Submits each element of the iterable to the executor with the provided function. Returns an iterator that yields the results of each task in the same order as the input iterable. | When you have a simple task to apply to multiple inputs and the order of results is important. |\n",
    "| `submit()` | Submits a callable (function) and its arguments to the executor. | Returns a Future object immediately. This Future object represents the pending result of the task. You can check the status of the task, retrieve the result when it's ready, or cancel the task. | When you need more control over tasks, want to handle exceptions individually, or require asynchronous operations. |\n",
    "\n",
    "Please note that the behavior and use cases mentioned above are general guidelines and may vary depending on the specific use case and requirements."
   ]
  },
  {
   "cell_type": "code",
   "execution_count": 13,
   "metadata": {},
   "outputs": [
    {
     "name": "stdout",
     "output_type": "stream",
     "text": [
      "4\n",
      "9\n",
      "16\n",
      "25\n",
      "Using Submitting\n",
      "16\n",
      "9\n",
      "25\n",
      "4\n"
     ]
    }
   ],
   "source": [
    "from concurrent.futures import ThreadPoolExecutor,as_completed\n",
    "import time\n",
    "#import singledispatch from functools\n",
    "\n",
    "def square(x:int):\n",
    "    time.sleep(1)\n",
    "    return x * x\n",
    "\n",
    "\n",
    "def main():\n",
    "    with ThreadPoolExecutor(max_workers=4) as executor:\n",
    "        # Mapping\n",
    "        results = executor.map(square, [2, 3, 4, 5])\n",
    "        for result in results:\n",
    "            print(result)\n",
    "        print(\"Using Submitting\")\n",
    "        # Submitting\n",
    "        futures = [executor.submit(square, i) for i in [2, 3, 4, 5]]\n",
    "        for future in as_completed(futures):\n",
    "            print(future.result())\n",
    "        \n",
    "\n",
    "if __name__ == \"__main__\":\n",
    "    main()\n"
   ]
  }
 ],
 "metadata": {
  "kernelspec": {
   "display_name": "Python 3",
   "language": "python",
   "name": "python3"
  },
  "language_info": {
   "codemirror_mode": {
    "name": "ipython",
    "version": 3
   },
   "file_extension": ".py",
   "mimetype": "text/x-python",
   "name": "python",
   "nbconvert_exporter": "python",
   "pygments_lexer": "ipython3",
   "version": "3.12.0"
  }
 },
 "nbformat": 4,
 "nbformat_minor": 2
}
