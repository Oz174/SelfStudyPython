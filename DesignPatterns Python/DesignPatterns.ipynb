{
 "cells": [
  {
   "cell_type": "markdown",
   "metadata": {},
   "source": [
    "# Topics"
   ]
  },
  {
   "cell_type": "markdown",
   "metadata": {},
   "source": [
    "## Singleton Pattern\n",
    "_This pattern restricts the instantiation of a class to a single_\n",
    "_instance. It is useful when exactly one object is needed to coordinate_\n",
    "_actions across the system._"
   ]
  },
  {
   "cell_type": "code",
   "execution_count": 14,
   "metadata": {},
   "outputs": [],
   "source": [
    "class Singleton:\n",
    "    _instance = None\n",
    "    # the __new__ method is used to create a new instance of a class\n",
    "    # it is called before the __init__ method\n",
    "    # here , it checks if the instance is already created or not\n",
    "    # if not, it creates a new instance and returns it\n",
    "    # if it is already created, it returns the instance\n",
    "    def __new__(cls, *args, **kwargs):\n",
    "        if not cls._instance:\n",
    "            # super() is used to call the __new__ method of the parent class\n",
    "            cls._instance = super(Singleton, cls).__new__(cls)\n",
    "        return cls._instance\n",
    "    \n",
    "    def __init__(self, name):\n",
    "        self.name = name"
   ]
  },
  {
   "cell_type": "code",
   "execution_count": 15,
   "metadata": {},
   "outputs": [
    {
     "name": "stdout",
     "output_type": "stream",
     "text": [
      "a\n",
      "b\n",
      "True\n",
      "b\n"
     ]
    }
   ],
   "source": [
    "# test class Singleton\n",
    "a = Singleton('a')\n",
    "print(a.name)\n",
    "b = Singleton('b')\n",
    "print(b.name)\n",
    "\n",
    "print(a is b)\n",
    "print(a.name)"
   ]
  },
  {
   "cell_type": "markdown",
   "metadata": {},
   "source": [
    "## Factory Method Pattern\n",
    "\n",
    "_This pattern defines an interface for creating an object, but lets_\n",
    "_subclasses alter the type of objects that will be created. It lets a_\n",
    "_class defer instantiation to subclasses._\n"
   ]
  },
  {
   "cell_type": "code",
   "execution_count": 16,
   "metadata": {},
   "outputs": [],
   "source": [
    "class Button:\n",
    "    def render(self):\n",
    "        pass\n",
    "\n",
    "class WindowsButton(Button):\n",
    "    def render(self):\n",
    "        return 'Render a windows button'\n",
    "\n",
    "class MacButton(Button):\n",
    "    def render(self):\n",
    "        return 'Render a mac button'\n",
    "\n",
    "class LinuxButton(Button):\n",
    "    def render(self):\n",
    "        return 'Render a linux button'\n",
    "\n",
    "def get_button(os):\n",
    "    if os == 'Windows':\n",
    "        return WindowsButton()\n",
    "    elif os == 'Mac':\n",
    "        return MacButton()\n",
    "    else:\n",
    "        return LinuxButton()\n",
    "\n",
    " "
   ]
  },
  {
   "cell_type": "code",
   "execution_count": 17,
   "metadata": {},
   "outputs": [
    {
     "data": {
      "text/plain": [
       "'Render a windows button'"
      ]
     },
     "execution_count": 17,
     "metadata": {},
     "output_type": "execute_result"
    }
   ],
   "source": [
    "get_button('Windows').render()"
   ]
  },
  {
   "cell_type": "code",
   "execution_count": 18,
   "metadata": {},
   "outputs": [
    {
     "data": {
      "text/plain": [
       "'Render a mac button'"
      ]
     },
     "execution_count": 18,
     "metadata": {},
     "output_type": "execute_result"
    }
   ],
   "source": [
    "get_button('Mac').render()"
   ]
  },
  {
   "cell_type": "code",
   "execution_count": 19,
   "metadata": {},
   "outputs": [
    {
     "data": {
      "text/plain": [
       "'Render a linux button'"
      ]
     },
     "execution_count": 19,
     "metadata": {},
     "output_type": "execute_result"
    }
   ],
   "source": [
    "get_button('Linux').render()"
   ]
  },
  {
   "cell_type": "markdown",
   "metadata": {},
   "source": [
    "**Result Explained: Depending on the operating system, get_button creates an instance of either WindowsButton or MacOSButton. Each class has its own implementation of the render method, demonstrating polymorphism and factory method usage**"
   ]
  },
  {
   "cell_type": "markdown",
   "metadata": {},
   "source": [
    "## Observer Pattern\n",
    "\n",
    "_This pattern defines a one-to-many dependency between objects so that_\n",
    "_when one object changes state, all its dependents are notified and_\n",
    "_updated automatically._"
   ]
  },
  {
   "cell_type": "code",
   "execution_count": 20,
   "metadata": {},
   "outputs": [],
   "source": [
    "class Subject:\n",
    "    def __init__(self):\n",
    "        self.__observers = []\n",
    "    def register_observer(self, observer):\n",
    "        self.__observers.append(observer)\n",
    "    def notify_observers(self, message):\n",
    "        for observer in self.__observers:\n",
    "            observer.notify(message)\n",
    "class Observer:\n",
    "    def notify(self, message):\n",
    "        pass\n",
    "class EmailAlerts(Observer):\n",
    "    def notify(self, message):\n",
    "        print(f\"Email Alert: {message}\")\n",
    "class SMSAlerts(Observer):\n",
    "    def notify(self, message):\n",
    "        print(f\"SMS Alert: {message}\")"
   ]
  },
  {
   "cell_type": "code",
   "execution_count": 21,
   "metadata": {},
   "outputs": [
    {
     "name": "stdout",
     "output_type": "stream",
     "text": [
      "Email Alert: Server Down!\n",
      "SMS Alert: Server Down!\n"
     ]
    }
   ],
   "source": [
    "# Usage\n",
    "subject = Subject()\n",
    "email_alerts = EmailAlerts()\n",
    "sms_alerts = SMSAlerts()\n",
    "subject.register_observer(email_alerts)\n",
    "subject.register_observer(sms_alerts)\n",
    "subject.notify_observers(\"Server Down!\")"
   ]
  },
  {
   "cell_type": "markdown",
   "metadata": {},
   "source": [
    "**Result Explained: The Subject class maintains a list of observers and notifies them of any changes. EmailAlerts and SMSAlerts are concrete observers that react to notifications. When subject state changes, all registered observers receive the update**"
   ]
  },
  {
   "cell_type": "markdown",
   "metadata": {},
   "source": [
    "## Prototype Pattern\n",
    "_This pattern is used when the type of objects to create is determined by a prototypical instance, which is cloned to produce new objects._\n",
    "\n",
    "_Used mainly for testing purposes, the prototype pattern is a creational design pattern in software development. It is used when the type of objects to create is determined by a prototypical instance, which is cloned to produce new objects. This pattern is used to:_\n",
    "\n",
    "- _Avoid subclasses of an object creator in the client application, like the factory method pattern does._\n",
    "\n",
    "- _Avoid the inherent cost of creating a new object in the standard way (e.g., using the 'new' keyword) when it is prohibitively expensive for a given application._\n"
   ]
  },
  {
   "cell_type": "code",
   "execution_count": 1,
   "metadata": {},
   "outputs": [],
   "source": [
    "from typing import Optional\n",
    "class Shape:\n",
    "    def __init__(self,shape: Optional['Shape']):\n",
    "        if shape is not None:\n",
    "            self.x = shape.x\n",
    "            self.y = shape.y\n",
    "            self.color = shape.color\n",
    "        else:\n",
    "            self.x = 0\n",
    "            self.y = 0\n",
    "            self.color = 'white'\n",
    "    def clone(self):\n",
    "        pass\n",
    "\n",
    "class Rectangle(Shape):\n",
    "    def __init__(self,rectangle: Optional['Rectangle']):\n",
    "        super().__init__(rectangle)\n",
    "        if rectangle is not None:\n",
    "            self.width = rectangle.width\n",
    "            self.height = rectangle.height\n",
    "        else:\n",
    "            self.width = 0\n",
    "            self.height = 0\n",
    "    def clone(self):\n",
    "        return Rectangle(self)\n",
    "\n",
    "class Circle(Shape):\n",
    "    def __init__(self,circle: Optional['Circle']):\n",
    "        super().__init__(circle)\n",
    "        if circle is not None:\n",
    "            self.radius = circle.radius\n",
    "        else:\n",
    "            self.radius = 0\n",
    "    def clone(self):\n",
    "        return Circle(self)\n"
   ]
  },
  {
   "cell_type": "code",
   "execution_count": 2,
   "metadata": {},
   "outputs": [
    {
     "name": "stdout",
     "output_type": "stream",
     "text": [
      "red\n",
      "10\n",
      "10\n",
      "20\n",
      "\n",
      "blue\n",
      "0\n",
      "0\n",
      "10\n",
      "20\n",
      "\n"
     ]
    }
   ],
   "source": [
    "# test Prototype pattern\n",
    "shapes = []\n",
    "circle = Circle(None)\n",
    "circle.x = 10\n",
    "circle.y = 10\n",
    "circle.color = 'red'\n",
    "circle.radius = 20\n",
    "shapes.append(circle.clone())\n",
    "rectangle = Rectangle(None)\n",
    "rectangle.width = 10\n",
    "rectangle.height = 20\n",
    "rectangle.color = 'blue'\n",
    "shapes.append(rectangle.clone())\n",
    "for shape in shapes:\n",
    "    print(shape.color)\n",
    "    print(shape.x)\n",
    "    print(shape.y)\n",
    "    if isinstance(shape, Circle):\n",
    "        print(shape.radius)\n",
    "    else:\n",
    "        print(shape.width)\n",
    "        print(shape.height)\n",
    "    print('')\n",
    "    "
   ]
  },
  {
   "cell_type": "markdown",
   "metadata": {},
   "source": [
    "## Builder Pattern \n",
    "\n",
    "_This pattern is used to construct a complex object step by step and the final step will return the object. This pattern is used when the construction of the object is complex and the same construction process can create different representations of the object._"
   ]
  },
  {
   "cell_type": "code",
   "execution_count": 9,
   "metadata": {},
   "outputs": [],
   "source": [
    "class Node:\n",
    "    def __init__(self, value):\n",
    "        self.value = value\n",
    "        self.left = None\n",
    "        self.right = None\n",
    "\n",
    "class BinaryTree:\n",
    "    def __init__(self):\n",
    "        self.root = None\n",
    "\n",
    "    def insert(self, value):\n",
    "        if self.root is None:\n",
    "            self.root = Node(value)\n",
    "        else:\n",
    "            self._insert(self.root, value)\n",
    "\n",
    "    def _insert(self, node, value):\n",
    "        if value < node.value:\n",
    "            if node.left is None:\n",
    "                node.left = Node(value)\n",
    "            else:\n",
    "                self._insert(node.left, value)\n",
    "        elif value > node.value:\n",
    "            if node.right is None:\n",
    "                node.right = Node(value)\n",
    "            else:\n",
    "                self._insert(node.right, value)\n",
    "        else:\n",
    "            pass\n",
    "\n",
    "    def search(self, value):\n",
    "        return self._search(self.root, value)\n",
    "\n",
    "    def _search(self, node, value):\n",
    "        if node is None:\n",
    "            return False\n",
    "        if value < node.value:\n",
    "            return self._search(node.left, value)\n",
    "        elif value > node.value:\n",
    "            return self._search(node.right, value)\n",
    "        else:\n",
    "            return True\n",
    "\n",
    "    def inorder(self):\n",
    "        print(\"In Order : \", end = '\\n')\n",
    "        self._inorder(self.root)\n",
    "        print('')\n",
    "\n",
    "    def _inorder(self, node):\n",
    "        if node:\n",
    "            self._inorder(node.left)\n",
    "            print(node.value, end = ' ')\n",
    "            self._inorder(node.right)\n",
    "\n",
    "    def preorder(self):\n",
    "        print(\"Pre Order : \" , end = '\\n')\n",
    "        self._preorder(self.root)\n",
    "        print('')\n",
    "\n",
    "    def _preorder(self, node):\n",
    "        if node:\n",
    "            print(node.value, end = ' ')\n",
    "            self._preorder(node.left)\n",
    "            self._preorder(node.right)\n",
    "\n",
    "    def postorder(self):\n",
    "        print(\"Post Order : \", end = '\\n')\n",
    "        self._postorder(self.root)\n",
    "        print('')\n",
    "\n",
    "    def _postorder(self, node):\n",
    "        if node:\n",
    "            self._postorder(node.left)\n",
    "            self._postorder(node.right)\n",
    "            print(node.value, end = ' ')"
   ]
  },
  {
   "cell_type": "code",
   "execution_count": 10,
   "metadata": {},
   "outputs": [
    {
     "name": "stdout",
     "output_type": "stream",
     "text": [
      "True\n",
      "False\n",
      "In Order : \n",
      "1 3 4 5 6 7 8 \n",
      "Pre Order : \n",
      "5 3 1 4 7 6 8 \n",
      "Post Order : \n",
      "1 4 3 6 8 7 5 \n"
     ]
    }
   ],
   "source": [
    "# test binary tree\n",
    "\n",
    "tree = BinaryTree()\n",
    "tree.insert(5)\n",
    "tree.insert(3)\n",
    "tree.insert(7)\n",
    "tree.insert(1)\n",
    "tree.insert(4)\n",
    "tree.insert(6)\n",
    "tree.insert(8)\n",
    "\n",
    "print(tree.search(8))\n",
    "print(tree.search(10))\n",
    "\n",
    "tree.inorder()\n",
    "\n",
    "tree.preorder()\n",
    "\n",
    "tree.postorder()\n"
   ]
  }
 ],
 "metadata": {
  "kernelspec": {
   "display_name": "Python 3",
   "language": "python",
   "name": "python3"
  },
  "language_info": {
   "codemirror_mode": {
    "name": "ipython",
    "version": 3
   },
   "file_extension": ".py",
   "mimetype": "text/x-python",
   "name": "python",
   "nbconvert_exporter": "python",
   "pygments_lexer": "ipython3",
   "version": "3.12.0"
  }
 },
 "nbformat": 4,
 "nbformat_minor": 2
}
